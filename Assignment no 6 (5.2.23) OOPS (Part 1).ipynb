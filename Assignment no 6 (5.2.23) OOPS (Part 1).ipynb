{
 "cells": [
  {
   "cell_type": "markdown",
   "id": "2f2e0c38-b9cc-4218-8baf-56afbacbf92f",
   "metadata": {
    "tags": []
   },
   "source": [
    "# Assignment no 6 on OOPS Part 1"
   ]
  },
  {
   "cell_type": "raw",
   "id": "897d9fb5-d499-4300-93d0-e1c82f666dde",
   "metadata": {},
   "source": [
    "Q1. Explain Class and Object with respect to Object-Oriented Programming. Give a suitable example.\n",
    "\n",
    "Ans - Classes are user-defined data types that act as the blueprint for individual objects,      attributes and methods. \n",
    "\n",
    "Objects are instances of a class created with specifically defined data and can correspond to real-world objects or an abstract entity.\n",
    "\n",
    "e.g.\n",
    "\n",
    "We use the class keyword to create a class in Python. For example, class name:, class number: etc.\n",
    "and within that class we create any entities or instance of a class then they are called as objects of that respective class. The generic format is objectName = ClassName().\n",
    "\n",
    "e.g. krish = name(). integer = number() etc."
   ]
  },
  {
   "cell_type": "raw",
   "id": "fc103d63-6fb7-47d9-8d57-724027f9941b",
   "metadata": {},
   "source": [
    "Q2. Name the four pillars of OOPs.\n",
    "\n",
    "Ans - Four pillars of OOPs are Inheritence, Polymorphism, Encapsulation and Abstraction."
   ]
  },
  {
   "cell_type": "raw",
   "id": "8795ab6b-fca3-41dc-a3e4-e0e9734b65de",
   "metadata": {},
   "source": [
    "Q3. Explain why the __init__() function is used. Give a suitable example.\n",
    "\n",
    "Ans - The __init__  function is called every time an object is created from a class. The __init__ method lets the class initialize the object’s attributes and serves no other purpose. It is only used within classes.\n",
    "\n",
    "class Dog:                   \n",
    " \n",
    "def __init__(self,dogBreed,dogEyeColor):\n",
    "  \n",
    "    self.breed = dogBreed       \n",
    "    self.eyeColor = dogEyeColor"
   ]
  },
  {
   "cell_type": "raw",
   "id": "4f2bac1d-d1c8-4098-8c6d-2cdc4133859d",
   "metadata": {},
   "source": [
    "Q4. Why self is used in OOPs?\n",
    "\n",
    "Ans - Self represents the instance of the class. By using the “self” we can access the attributes and methods of the class in python. It binds the attributes with the given arguments. The reason you need to use self. is because Python does not use the @ syntax to refer to instance attributes."
   ]
  },
  {
   "cell_type": "raw",
   "id": "7bc79fa9-8173-4b5d-acfd-32c90684f500",
   "metadata": {},
   "source": [
    "Q5. What is inheritance? Give an example for each type of inheritance.\n",
    "\n",
    "Ans-\n",
    "    It is a mechanism that allows you to create a hierarchy of classes that share a set of properties and methods by deriving a class from another class. Inheritance is the capability of one class to derive or inherit the properties from another class. \n",
    "    Inheritance allows us to define a class that inherits all the methods and properties from another class.\n",
    "Parent class is the class being inherited from, also called base class.\n",
    "Child class is the class that inherits from another class, also called derived class.\n",
    "\n",
    "Types of inheritance: There are five types of inheritance in python programming:\n",
    "\n",
    "1) Single inheritance\n",
    "2) Multiple inheritances\n",
    "3) Multilevel inheritance\n",
    "4) Hierarchical inheritance\n",
    "5) Hybrid inheritance"
   ]
  },
  {
   "cell_type": "raw",
   "id": "b1bf9512-e1bd-4573-910f-d8693549a05b",
   "metadata": {},
   "source": [
    "Single inheritance:\n",
    "        When child class is derived from only one parent class. This is called single inheritance. The example we did above is the best example for single inheritance in python programming.\n",
    "\n",
    "Syntax of single inheritance:\n",
    "\n",
    "class class1:               #parent_class\n",
    "    pass\n",
    "\n",
    "class class2(class1):       #child_class\n",
    "    pass\n",
    "\n",
    "obj_name = class2()"
   ]
  },
  {
   "cell_type": "raw",
   "id": "afe04d30-0fcd-45c9-a85b-f795f7d7f32b",
   "metadata": {},
   "source": [
    "Multiple Inheritance:\n",
    "        When child class is derived or inherited from more than one parent class. This is called multiple inheritance. In multiple inheritance, we have two parent classes/base classes and one child class that inherits both parent classes properties.\n",
    "\n",
    "Syntax of multiple inheritance:\n",
    "\n",
    "class parent_1:\n",
    "    pass\n",
    "\n",
    "class parent_2:\n",
    "    pass\n",
    "\n",
    "class child(parent_1,parent_2):\n",
    "    pass\n",
    "\n",
    "obj = child()"
   ]
  },
  {
   "cell_type": "raw",
   "id": "bac79469-f38a-4403-95b8-2130717959b3",
   "metadata": {},
   "source": [
    "Multilevel Inheritance:\n",
    "        In multilevel inheritance, we have one parent class and child class that is derived or inherited from that parent class. We have a grand-child class that is derived from the child class. See the below-given flow diagram to understand more clearly.\n",
    "\n",
    "Here A is the parent class for class B and class B is acting as the parent class for grand-child class C.\n",
    "\n",
    "Syntax of multilevel inheritance:\n",
    "\n",
    "class A:\n",
    "    pass\n",
    "\n",
    "class B(A):\n",
    "    pass\n",
    "\n",
    "class C(B):\n",
    "    pass\n",
    "\n",
    "obj = C()"
   ]
  },
  {
   "cell_type": "raw",
   "id": "e9b8fdaf-b8ba-4638-b206-63f9bd4955c1",
   "metadata": {},
   "source": [
    "Hierarchical inheritance:\n",
    "        When we derive or inherit more than one child class from one(same) parent class. Then this type of inheritance is called hierarchical inheritance.\n",
    "\n",
    "Syntax of Hierarchical Inheritance:\n",
    "\n",
    "\n",
    "class A:                  #parent_class\n",
    "    pass\n",
    "    \n",
    "class B(A):               #child_class\n",
    "    pass\n",
    "\n",
    "class C(A):               #child_class\n",
    "    pass\n",
    "\n",
    "class D(A):               #child_class\n",
    "    pass\n",
    "\n",
    "obj_1 = B()       #Object_creation\n",
    "obj_2 = C()\n",
    "obj_3 = D()\n"
   ]
  },
  {
   "cell_type": "raw",
   "id": "4f2ef1e8-4197-4562-ba08-c666d1c49f74",
   "metadata": {},
   "source": [
    "Hybrid Inheritance:\n",
    "        Hybrid inheritance satisfies more than one form of inheritance ie. It may be consists of all types of inheritance that we have done above. It is not wrong if we say Hybrid Inheritance is the combinations of simple, multiple, multilevel and hierarchical inheritance. This type of inheritance is very helpful if we want to use concepts of inheritance without any limitations according to our requirements.\n",
    "\n",
    "Syntax of Hybrid Inheritance:\n",
    "\n",
    "class PC: \n",
    "\tpass\n",
    "\t\n",
    "class Laptop(PC): \n",
    "\tpass\n",
    "\t\n",
    "class Mouse(Laptop): \n",
    "\tpass\n",
    "\t\n",
    "class Student3(Mouse, Laptop): \n",
    "\tpass\n",
    "\t\n",
    "# Driver's code \n",
    "obj = Student3()"
   ]
  }
 ],
 "metadata": {
  "kernelspec": {
   "display_name": "Python 3 (ipykernel)",
   "language": "python",
   "name": "python3"
  },
  "language_info": {
   "codemirror_mode": {
    "name": "ipython",
    "version": 3
   },
   "file_extension": ".py",
   "mimetype": "text/x-python",
   "name": "python",
   "nbconvert_exporter": "python",
   "pygments_lexer": "ipython3",
   "version": "3.10.8"
  }
 },
 "nbformat": 4,
 "nbformat_minor": 5
}
