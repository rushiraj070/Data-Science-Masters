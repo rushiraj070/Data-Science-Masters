{
 "cells": [
  {
   "cell_type": "markdown",
   "id": "8176ca50-1587-4c9d-9abd-7dc06b273a21",
   "metadata": {},
   "source": [
    "# Assignment no 4 on Functions(Part 1) "
   ]
  },
  {
   "cell_type": "code",
   "execution_count": 1,
   "id": "6ae3a63a-afb6-44c9-8d14-b238365613df",
   "metadata": {},
   "outputs": [],
   "source": [
    "'''Q1. Which keyword is used to create a function? Create a function to return a list of odd numbers in the \n",
    "range of 1 to 25.\n",
    "\n",
    "Ans- 'def' keyword is used to create a function in python.\n",
    "'''\n",
    "\n",
    "def odd(n):\n",
    "    odd_list = []\n",
    "    for i in range (0,n+1):\n",
    "        if i%2 != 0:\n",
    "            odd_list.append(i)\n",
    "    return odd_list        \n",
    "    "
   ]
  },
  {
   "cell_type": "code",
   "execution_count": 2,
   "id": "81976fa3-9914-40ab-9c2e-4a1c390bb628",
   "metadata": {},
   "outputs": [
    {
     "data": {
      "text/plain": [
       "[1, 3, 5, 7, 9, 11, 13, 15, 17, 19, 21, 23, 25]"
      ]
     },
     "execution_count": 2,
     "metadata": {},
     "output_type": "execute_result"
    }
   ],
   "source": [
    "odd(25)"
   ]
  },
  {
   "cell_type": "code",
   "execution_count": 3,
   "id": "2a56640d-53c3-41c3-b7b6-cee03833ce13",
   "metadata": {},
   "outputs": [
    {
     "ename": "TypeError",
     "evalue": "args() missing 1 required positional argument: 'b'",
     "output_type": "error",
     "traceback": [
      "\u001b[0;31m---------------------------------------------------------------------------\u001b[0m",
      "\u001b[0;31mTypeError\u001b[0m                                 Traceback (most recent call last)",
      "Cell \u001b[0;32mIn[3], line 14\u001b[0m\n\u001b[1;32m     11\u001b[0m \u001b[38;5;28;01mdef\u001b[39;00m \u001b[38;5;21margs\u001b[39m(a,b):\n\u001b[1;32m     12\u001b[0m     \u001b[38;5;28;01mreturn\u001b[39;00m a,b\n\u001b[0;32m---> 14\u001b[0m \u001b[38;5;28mprint\u001b[39m(\u001b[43margs\u001b[49m\u001b[43m(\u001b[49m\u001b[38;5;241;43m1\u001b[39;49m\u001b[43m)\u001b[49m) \u001b[38;5;66;03m#less argument input, causing error\u001b[39;00m\n",
      "\u001b[0;31mTypeError\u001b[0m: args() missing 1 required positional argument: 'b'"
     ]
    }
   ],
   "source": [
    "'''Q2. Why *args and **kwargs is used in some functions? Create a function each for \n",
    "*args and **kwargs to demonstrate their use.\n",
    "\n",
    "Ans - When we define any function by 'def' keyword, it is mandatory to input exact number \n",
    "of positional arguments. If we input less or more the function will raise an error saying that\n",
    "the function takes  this positional arguments and less/more given respectively.\n",
    "'''\n",
    "\n",
    "#example for arguments\n",
    "\n",
    "def args(a,b):\n",
    "    return a,b\n",
    "\n",
    "print(args(1)) #less argument input, causing error"
   ]
  },
  {
   "cell_type": "code",
   "execution_count": 4,
   "id": "fe24fa2d-ba72-4301-80e1-a4b3cce5ba52",
   "metadata": {},
   "outputs": [
    {
     "ename": "TypeError",
     "evalue": "args() takes 2 positional arguments but 3 were given",
     "output_type": "error",
     "traceback": [
      "\u001b[0;31m---------------------------------------------------------------------------\u001b[0m",
      "\u001b[0;31mTypeError\u001b[0m                                 Traceback (most recent call last)",
      "Cell \u001b[0;32mIn[4], line 1\u001b[0m\n\u001b[0;32m----> 1\u001b[0m \u001b[38;5;28mprint\u001b[39m(\u001b[43margs\u001b[49m\u001b[43m(\u001b[49m\u001b[38;5;241;43m1\u001b[39;49m\u001b[43m,\u001b[49m\u001b[38;5;241;43m2\u001b[39;49m\u001b[43m,\u001b[49m\u001b[38;5;241;43m3\u001b[39;49m\u001b[43m)\u001b[49m) \u001b[38;5;66;03m#more argument input, causing error\u001b[39;00m\n",
      "\u001b[0;31mTypeError\u001b[0m: args() takes 2 positional arguments but 3 were given"
     ]
    }
   ],
   "source": [
    "print(args(1,2,3)) #more argument input, causing error"
   ]
  },
  {
   "cell_type": "code",
   "execution_count": 5,
   "id": "394b0722-7df6-4305-b215-4f16108bce2f",
   "metadata": {},
   "outputs": [],
   "source": [
    "def args(*args):\n",
    "    return args"
   ]
  },
  {
   "cell_type": "code",
   "execution_count": 6,
   "id": "c52ba103-0fc7-486e-ab33-d651b568fdc5",
   "metadata": {},
   "outputs": [
    {
     "data": {
      "text/plain": [
       "(0, 1, [0, 1], (0, 1), {0, 1})"
      ]
     },
     "execution_count": 6,
     "metadata": {},
     "output_type": "execute_result"
    }
   ],
   "source": [
    "args(0,1,[0,1],(0,1),{0,1})"
   ]
  },
  {
   "cell_type": "code",
   "execution_count": 7,
   "id": "4385764d-411c-472f-b3f9-4f795327adbb",
   "metadata": {},
   "outputs": [],
   "source": [
    "set1 = {\"a\" : 0 , \"b\" : 1 , \"c\" : [2,3] , \"d\" : (\"random\" , \"followup\")}"
   ]
  },
  {
   "cell_type": "code",
   "execution_count": 8,
   "id": "e84ac74c-309e-42c3-89aa-0b032ec0ca2a",
   "metadata": {},
   "outputs": [],
   "source": [
    "def kwargs(**kwargs):\n",
    "    for i in set1:\n",
    "        return set1.keys()"
   ]
  },
  {
   "cell_type": "code",
   "execution_count": 9,
   "id": "3c13e2ca-5c87-40b6-a0fa-082b1d20a623",
   "metadata": {},
   "outputs": [
    {
     "data": {
      "text/plain": [
       "dict_keys(['a', 'b', 'c', 'd'])"
      ]
     },
     "execution_count": 9,
     "metadata": {},
     "output_type": "execute_result"
    }
   ],
   "source": [
    "kwargs()"
   ]
  },
  {
   "cell_type": "code",
   "execution_count": 10,
   "id": "41d85903-7f7f-497f-94ff-0cf58d4b72dc",
   "metadata": {},
   "outputs": [],
   "source": [
    "def kwargs(**kwargs):\n",
    "    for i in set1:\n",
    "        return set1.values()"
   ]
  },
  {
   "cell_type": "code",
   "execution_count": 11,
   "id": "c3278ea9-e640-4675-9ed9-71846ad1b688",
   "metadata": {},
   "outputs": [
    {
     "data": {
      "text/plain": [
       "dict_values([0, 1, [2, 3], ('random', 'followup')])"
      ]
     },
     "execution_count": 11,
     "metadata": {},
     "output_type": "execute_result"
    }
   ],
   "source": [
    "kwargs()"
   ]
  },
  {
   "cell_type": "code",
   "execution_count": 12,
   "id": "02f94c33-f748-4be7-a4f2-b4eaee6fae25",
   "metadata": {},
   "outputs": [],
   "source": [
    "'''Q3.  What is an iterator in python? Name the method used to initialise the iterator object \n",
    "and the method used for iteration. Use these methods to print the first five elements of the \n",
    "given list [2, 4, 6, 8, 10, 12, 14, 16, 18, 20].\n",
    "\n",
    "Ans - An iterator is an object that contains a countable number of values. An iterator is an \n",
    "object that can be iterated upon,meaning that you can go through all the values within respective\n",
    "data structures or data types.\n",
    "\n",
    "Following are the methods used for initializing the iterator object in python and are \n",
    "(1) __iter__() and __next__()\n",
    "(2)__init__() , which allows you to do some initializing when the object is being created.\n",
    "\n",
    "for loop is used for iteration.\n",
    "'''\n",
    "\n",
    "list1 = [2, 4, 6, 8, 10, 12, 14, 16, 18, 20]"
   ]
  },
  {
   "cell_type": "code",
   "execution_count": 13,
   "id": "5302439f-200c-4b66-a7b1-1453563367d3",
   "metadata": {},
   "outputs": [
    {
     "name": "stdout",
     "output_type": "stream",
     "text": [
      "2\n",
      "4\n",
      "6\n",
      "8\n",
      "10\n"
     ]
    }
   ],
   "source": [
    "list_iter = iter(list1)\n",
    "\n",
    "print(next(list_iter))\n",
    "print(next(list_iter))\n",
    "print(next(list_iter))\n",
    "print(next(list_iter))\n",
    "print(next(list_iter))"
   ]
  },
  {
   "cell_type": "code",
   "execution_count": 14,
   "id": "14cb89fe-6bd5-4aa5-9047-4814653d5c91",
   "metadata": {},
   "outputs": [
    {
     "name": "stdout",
     "output_type": "stream",
     "text": [
      "2\n",
      "4\n",
      "6\n",
      "8\n",
      "10\n"
     ]
    }
   ],
   "source": [
    "for i in list1[:5]:\n",
    "    print(i)\n",
    "    i+=1"
   ]
  },
  {
   "cell_type": "code",
   "execution_count": 15,
   "id": "75fbe163-30ff-4ac4-9d2e-cc5a0e470cfc",
   "metadata": {},
   "outputs": [
    {
     "data": {
      "text/plain": [
       "[2, 4, 6, 8, 10]"
      ]
     },
     "execution_count": 15,
     "metadata": {},
     "output_type": "execute_result"
    }
   ],
   "source": [
    "[i for index, i in enumerate(list1) if index < 5]"
   ]
  },
  {
   "cell_type": "code",
   "execution_count": 16,
   "id": "6d321f11-372f-4290-abd0-ae1e2055e0d2",
   "metadata": {},
   "outputs": [],
   "source": [
    "'''Q4.  What is a generator function in python? Why yield keyword is used? Give an example of a \n",
    "generator function.\n",
    "\n",
    "Ans - Python Generator functions allow you to declare a function that behaves likes an iterator, \n",
    "    allowing programmers to make an iterator in a fast, easy, and clean way.\n",
    "    Yield keyword is used when we want to iterate over a sequence, but don't want to store the \n",
    "    entire sequence in memory.\n",
    "'''\n",
    "\n",
    "def square(n) :\n",
    "    a = 1\n",
    "    for i in range(n):\n",
    "        a = i**2\n",
    "        yield a\n",
    "        \n",
    "        "
   ]
  },
  {
   "cell_type": "code",
   "execution_count": 17,
   "id": "34e77880-7a83-4b46-8a83-ec5b37848342",
   "metadata": {},
   "outputs": [
    {
     "name": "stdout",
     "output_type": "stream",
     "text": [
      "0\n",
      "1\n",
      "4\n",
      "9\n",
      "16\n"
     ]
    }
   ],
   "source": [
    "for i in square(5) : \n",
    "    print(i)"
   ]
  },
  {
   "cell_type": "code",
   "execution_count": 18,
   "id": "f8d9e0a9-30db-4982-b499-be196225a011",
   "metadata": {},
   "outputs": [],
   "source": [
    "'''Q5. Create a generator function for prime numbers less than 1000. Use the next() method to print the \n",
    "first 20 prime numbers.'''\n",
    "\n",
    "def primenum(num):\n",
    "    primes = []\n",
    "    for i in range(2, num):\n",
    "        for j in range(2, int(i / 2) + 1):\n",
    "            if i % j == 0:\n",
    "                break\n",
    "        else:\n",
    "            primes.append(i)\n",
    "    return primes"
   ]
  },
  {
   "cell_type": "code",
   "execution_count": 19,
   "id": "c6d3cc36-9cb0-4ccc-aeaa-036478621c55",
   "metadata": {},
   "outputs": [
    {
     "name": "stdout",
     "output_type": "stream",
     "text": [
      "2\n",
      "3\n",
      "5\n",
      "7\n",
      "11\n",
      "13\n",
      "17\n",
      "19\n",
      "23\n",
      "29\n",
      "31\n",
      "37\n",
      "41\n",
      "43\n",
      "47\n",
      "53\n",
      "59\n",
      "61\n",
      "67\n",
      "71\n"
     ]
    }
   ],
   "source": [
    "prime_iter = iter(primenum(1000))\n",
    "\n",
    "print(next(prime_iter))\n",
    "print(next(prime_iter))\n",
    "print(next(prime_iter))\n",
    "print(next(prime_iter))\n",
    "print(next(prime_iter))\n",
    "print(next(prime_iter))\n",
    "print(next(prime_iter))\n",
    "print(next(prime_iter))\n",
    "print(next(prime_iter))\n",
    "print(next(prime_iter))\n",
    "print(next(prime_iter))\n",
    "print(next(prime_iter))\n",
    "print(next(prime_iter))\n",
    "print(next(prime_iter))\n",
    "print(next(prime_iter))\n",
    "print(next(prime_iter))\n",
    "print(next(prime_iter))\n",
    "print(next(prime_iter))\n",
    "print(next(prime_iter))\n",
    "print(next(prime_iter))"
   ]
  },
  {
   "cell_type": "code",
   "execution_count": null,
   "id": "57879296-5f07-4fc3-bbdf-87a2ff204655",
   "metadata": {},
   "outputs": [],
   "source": []
  }
 ],
 "metadata": {
  "kernelspec": {
   "display_name": "Python 3 (ipykernel)",
   "language": "python",
   "name": "python3"
  },
  "language_info": {
   "codemirror_mode": {
    "name": "ipython",
    "version": 3
   },
   "file_extension": ".py",
   "mimetype": "text/x-python",
   "name": "python",
   "nbconvert_exporter": "python",
   "pygments_lexer": "ipython3",
   "version": "3.10.8"
  }
 },
 "nbformat": 4,
 "nbformat_minor": 5
}
