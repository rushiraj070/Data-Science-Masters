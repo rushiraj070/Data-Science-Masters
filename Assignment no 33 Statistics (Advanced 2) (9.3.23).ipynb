{
 "cells": [
  {
   "cell_type": "markdown",
   "id": "b8f4393d-eb63-4088-94cb-0d7435a18b3e",
   "metadata": {},
   "source": [
    "# Assignment 33"
   ]
  },
  {
   "cell_type": "markdown",
   "id": "63fd6b71-fb85-4d94-a364-9bb7f9dadda1",
   "metadata": {},
   "source": [
    "### Statistics (Advanced 2)"
   ]
  },
  {
   "cell_type": "code",
   "execution_count": null,
   "id": "dcc5a436-8d81-495d-887b-b79cfac71e53",
   "metadata": {},
   "outputs": [],
   "source": [
    "Q1: What are the Probability Mass Function (PMF) and Probability Density Function (PDF)? Explain with\n",
    "an example.\n",
    "\n",
    "Ans -   A probability mass function (PMF) is a mathematical function that describes a discrete probability distribution.\n",
    "        It gives the probability of every possible value of a variable.\n",
    "        \n",
    "        The probability mass function of the distribution is given by the formula:\n",
    "                               \n",
    "                                        e^(-λ) . λ^x\n",
    "                            P(X = k) = --------------\n",
    "                                             k!\n",
    "            \n",
    "                        Where:\n",
    "                                P(X = k) is the probability\n",
    "                                λ is the mean number λ (λ = 1,2,3,4.... etc )\n",
    "                                e is Euler’s constant (approximately 2.718)\n",
    "            \n",
    "                \n",
    "                e.g. Binomial Distribution, Discrete uniform, Poisson Distribution\n",
    "                \n",
    "        A probability density function (PDF) is a mathematical function that describes a continuous probability \n",
    "        distribution. It provides the probability density of each value of a variable, which can be greater than one.\n",
    "\n",
    "           The probability density function of the normal distribution is given by the formula:\n",
    "                                               2\n",
    "                                  -(1/2)(x-µ/σ)\n",
    "                              1  e\n",
    "                    f(x) =  ------  \n",
    "                            σ√(2π)\n",
    "                    Where:\n",
    "                    f(x) is the probability density\n",
    "                    µ is the mean\n",
    "                    σ is the standard deviation\n",
    "\n",
    "\n",
    "                e.g. Normal distribution, Continuous uniform, Log-normal, Exponential"
   ]
  },
  {
   "cell_type": "code",
   "execution_count": null,
   "id": "fed7cfc4-db0c-4c29-9a7b-9388ae56f417",
   "metadata": {},
   "outputs": [],
   "source": [
    "Q2: What is Cumulative Density Function (CDF)? Explain with an example. Why CDF is used?\n",
    "\n",
    "Ans -The cumulative distribution function (CDF) of a random variable is another method to describe the distribution of \n",
    "     random variables. The advantage of the CDF is that it can be defined for any kind of random variable (discrete, \n",
    "     continuous, and mixed).\n",
    "    \n",
    "    The CDF is a function that describes the probability that a random variable (continuous or discrete) will take on a \n",
    "    value less than or equal to a certain value. It is a mathematical function that describes the probability that a random \n",
    "    variable will fall within a certain range of values, up to and including a specific value.\n",
    "    \n",
    "    The CDF defined for a discrete random variable and is given as\n",
    "            Fx(x) = P(X ≤ x)\n",
    "\n",
    "    Where X is the probability that takes a value less than or equal to x and that lies in the semi-closed interval [a,b], \n",
    "    where a < b.\n",
    "\n",
    "    Therefore the probability within the interval is written as\n",
    "            P(a < X ≤ b) = Fx(b) – Fx(a)\n",
    "\n",
    "    The CDF defined for a continuous random variable is given as;\n",
    "    Cumulative Distribution Function\n",
    "    Here, X is expressed in terms of integration of its probability density function fx.\n",
    "    In case, if the distribution of the random variable X has the discrete component at value b,\n",
    "    P(X = b) = Fx(b) – limx→b- Fx(x)"
   ]
  },
  {
   "cell_type": "code",
   "execution_count": null,
   "id": "6df8585c-0d25-4f42-b00b-fe503edf0421",
   "metadata": {},
   "outputs": [],
   "source": [
    "Q3: What are some examples of situations where the normal distribution might be used as a model?\n",
    "    Explain how the parameters of the normal distribution relate to the shape of the distribution.\n",
    "\n",
    "Ans - Following are some of the examples of situations where the normal distribution might be used as a model\n",
    "            Height of students, Rolling a Fair Dice/es, Tossing a Fair Coin/s, Calculating IQ/'s of Person/s,\n",
    "            Technical Stock Market, Checking Blood Pressure of Patients, Shoe Size, Birth Weight of Infants etc.\n",
    "        \n",
    "     The parameters mainly affect the shape of normal distribution are mean(µ) and standard deviation(σ). Generally the data \n",
    "    follows the normal or Gaussian ditribution curve, generically called as bell curve in which the mean(µ) is at the peak\n",
    "    while the standard deviation(σ) follows the 68-95-99.7% rule also called as 3-Sigma Rule which states that 68% of data\n",
    "    lies between first standard deviation under curve, 95% of data lies between second standard deviation under curve and\n",
    "    99.7% of data lies between third standard deviation under curve."
   ]
  },
  {
   "cell_type": "code",
   "execution_count": null,
   "id": "d7dea0be-e58b-4cad-8741-30879f7736cd",
   "metadata": {},
   "outputs": [],
   "source": [
    "Q4: Explain the importance of Normal Distribution. Give a few real-life examples of Normal Distribution.\n",
    "\n",
    "Ans - The normal distribution is an important probability distribution in math and statistics because many continuous data \n",
    "      in nature and psychology display this bell-shaped curve when compiled and graphed.\n",
    "    \n",
    "    Following are some of the examples of situations where the normal distribution might be used as a model\n",
    "            Height of students, Rolling a Fair Dice/es, Tossing a Fair Coin/s, Calculating IQ/'s of Person/s,\n",
    "            Technical Stock Market, Checking Blood Pressure of Patients, Shoe Size, Birth Weight of Infants etc."
   ]
  },
  {
   "cell_type": "code",
   "execution_count": null,
   "id": "340caf0d-ea30-4cff-b54b-f9bf53e58b91",
   "metadata": {},
   "outputs": [],
   "source": [
    "Q5: What is Bernoulli Distribution? Give an Example. What is the difference between Bernoulli Distribution and Binomial \n",
    "    Distribution?\n",
    "\n",
    "Ans - Bernoulli distribution is a discrete probability distribution. It describes the probability of achieving a “success” \n",
    "    or “failure” from a Bernoulli trial. A Bernoulli trial is an event that has only two possible outcomes (success or \n",
    "    failure). For example, will a coin land on heads (success) or tails (failure)?\n",
    "    \n",
    "    The Bernoulli distribution represents the success or failure of a single Bernoulli trial. \n",
    "    \n",
    "    The Binomial Distribution represents the number of successes and failures in n independent Bernoulli trials for some \n",
    "    given value of n."
   ]
  },
  {
   "cell_type": "code",
   "execution_count": null,
   "id": "f1915bb2-37d6-4fe3-a28c-6d3419bcfe42",
   "metadata": {},
   "outputs": [],
   "source": [
    "Q6. Consider a dataset with a mean of 50 and a standard deviation of 10. If we assume that the dataset\n",
    "is normally distributed, what is the probability that a randomly selected observation will be greater\n",
    "than 60? Use the appropriate formula and show your calculations."
   ]
  },
  {
   "cell_type": "code",
   "execution_count": 13,
   "id": "42e6c945-3a98-480a-ad7e-030a2d098a0a",
   "metadata": {},
   "outputs": [],
   "source": [
    "#Given:\n",
    "    \n",
    "x = 60 \n",
    "µ = 50 \n",
    "σ = 10"
   ]
  },
  {
   "cell_type": "code",
   "execution_count": 17,
   "id": "a94a01c2-91a6-41f9-a552-6958250c5534",
   "metadata": {},
   "outputs": [
    {
     "data": {
      "text/plain": [
       "1.0"
      ]
     },
     "execution_count": 17,
     "metadata": {},
     "output_type": "execute_result"
    }
   ],
   "source": [
    "#Step 1 - Converting Normal/Gaussian Distribution to Standard Distribution by calculating Z-Score.\n",
    "\n",
    "z_score = (x - µ) / σ\n",
    "z_score"
   ]
  },
  {
   "cell_type": "code",
   "execution_count": 21,
   "id": "4574ccd3-bde5-4828-ad16-40c9bc124556",
   "metadata": {},
   "outputs": [],
   "source": [
    "#Step 2 - Checking the Probabilty of calculated Z-Score from Z-table or by scipy.stats function.\n",
    "\n",
    "#from Z -Table\n",
    "Probabilty = 0.8413\n"
   ]
  },
  {
   "cell_type": "code",
   "execution_count": 25,
   "id": "0b186ab2-d7d0-4882-bfdf-1cf8a9fddeaf",
   "metadata": {},
   "outputs": [
    {
     "data": {
      "text/plain": [
       "0.8413447460685429"
      ]
     },
     "execution_count": 25,
     "metadata": {},
     "output_type": "execute_result"
    }
   ],
   "source": [
    "# Checking the Probabilty by scipy.stats function.\n",
    "\n",
    "import scipy.stats as stats\n",
    "\n",
    "stats.norm.cdf(z_score)"
   ]
  },
  {
   "cell_type": "code",
   "execution_count": 27,
   "id": "a96780fe-e929-47a7-841e-cdf21063c7b7",
   "metadata": {},
   "outputs": [
    {
     "name": "stdout",
     "output_type": "stream",
     "text": [
      "0.15869999999999995\n"
     ]
    },
    {
     "data": {
      "text/plain": [
       "0.15865525393145707"
      ]
     },
     "execution_count": 27,
     "metadata": {},
     "output_type": "execute_result"
    }
   ],
   "source": [
    "# Note - If random value is less than mean then probability 1-answer \n",
    "print(1-Probabilty)\n",
    "\n",
    "#If Z score is negative\n",
    "stats.norm.cdf(-z_score)"
   ]
  },
  {
   "cell_type": "code",
   "execution_count": null,
   "id": "4c99c224-a6fd-48a6-866c-7874f1864e6c",
   "metadata": {},
   "outputs": [],
   "source": [
    "Q7: Explain uniform Distribution with an example.\n",
    "\n",
    "Ans - Uniform distribution is a term used to describe a form of probability distribution where every possible outcome has \n",
    "    an equal likelihood of happening. The probability is constant since each variable has equal chances of being the outcome.\n",
    "    \n",
    "    Types of Uniform distribution are as follows:\n",
    "        1. Discrete uniform distributions have a finite number of outcomes. \n",
    "        2. A continuous uniform distribution is a statistical distribution with an infinite number of equally likely \n",
    "            measurable values.\n",
    "    e.g.        \n",
    "    1. A deck of cards also has a uniform distribution. It is because an individual has an equal chance of drawing a spade, \n",
    "        a heart, a club, or a diamond. \n",
    "    \n",
    "    2. Another example of a uniform distribution is when a coin is tossed. The likelihood of getting a tail or head is the \n",
    "        same."
   ]
  },
  {
   "cell_type": "code",
   "execution_count": null,
   "id": "aebb0227-d7f1-4d5e-bf35-2bf6fe27563a",
   "metadata": {},
   "outputs": [],
   "source": [
    "Q8: What is the z score? State the importance of the z score.\n",
    "\n",
    "Ans - Z-score is a statistical measurement that describes a value's relationship to the mean of a group of values. \n",
    "      Z-score is measured in terms of standard deviations from the mean. \n",
    "      If a Z-score is 0, it indicates that the data point's score is identical to the mean score.\n",
    "        \n",
    "      The z-score is particularly important because it tells you not only something about the value \n",
    "      itself, but also where the value lies in the distribution."
   ]
  },
  {
   "cell_type": "code",
   "execution_count": null,
   "id": "07475f19-1153-4d9c-82be-662dafff5804",
   "metadata": {},
   "outputs": [],
   "source": [
    "Q9: What is Central Limit Theorem? State the significance of the Central Limit Theorem.\n",
    "\n",
    "Ans - Central limit theorem is a statistical theory which states that when the large sample size has a finite variance, the\n",
    "    samples will be normally distributed and the mean of samples will be approximately equal to the mean of the whole \n",
    "    population.\n",
    "        In other words, the central limit theorem states that for any population with mean and standard deviation, the \n",
    "    distribution of the sample mean for sample size N has mean μ and standard deviation σ / √n .\n",
    "    \n",
    " Formula\n",
    "        The formula for the central limit theorem is given below:\n",
    "            Central Limit Theorem for Sample Means,\n",
    "                  _\n",
    "                  X - μ\n",
    "             Z = -------\n",
    "                  σ / √n\n",
    "            \n",
    "    Significance of the Central Limit Theorem\n",
    "        As the sample size gets bigger and bigger, the mean of the sample will get closer to the actual population mean. \n",
    "        If the sample size is small, the actual distribution of the data may or may not be normal, but as the sample size \n",
    "        gets bigger, it can be approximated by a normal distribution. This statistical theory is useful in simplifying \n",
    "        analysis while dealing with stock indexes and many more.\n",
    "\n"
   ]
  },
  {
   "cell_type": "code",
   "execution_count": null,
   "id": "898aa8b1-1a82-465c-9dd3-25c974c70292",
   "metadata": {},
   "outputs": [],
   "source": [
    "Q10: State the assumptions of the Central Limit Theorem.\n",
    "\n",
    "Ans - \n",
    "       Assumptions of Central Limit Theorem are:\n",
    "       1. The sample should be drawn randomly following the condition of randomization.\n",
    "       2. The samples drawn should be independent of each other. They should not influence the other samples.\n",
    "       3. When the sampling is done without replacement, the sample size shouldn’t exceed 10% of the total population.\n",
    "       4. The sample size should be sufficiently large.\n",
    "    \n",
    "    "
   ]
  }
 ],
 "metadata": {
  "kernelspec": {
   "display_name": "Python 3 (ipykernel)",
   "language": "python",
   "name": "python3"
  },
  "language_info": {
   "codemirror_mode": {
    "name": "ipython",
    "version": 3
   },
   "file_extension": ".py",
   "mimetype": "text/x-python",
   "name": "python",
   "nbconvert_exporter": "python",
   "pygments_lexer": "ipython3",
   "version": "3.10.8"
  }
 },
 "nbformat": 4,
 "nbformat_minor": 5
}
