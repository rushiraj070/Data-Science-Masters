{
 "cells": [
  {
   "cell_type": "markdown",
   "id": "d002d478-73ec-42cc-a1be-5b7603931bcb",
   "metadata": {},
   "source": [
    "# Assignment on Pandas (Basic)"
   ]
  },
  {
   "cell_type": "code",
   "execution_count": 1,
   "id": "0001aa80-6e8e-4b50-b363-43d3d4fb437c",
   "metadata": {},
   "outputs": [],
   "source": [
    "import pandas as pd"
   ]
  },
  {
   "cell_type": "code",
   "execution_count": 26,
   "id": "87c74205-3905-459b-9951-e41561d5eddb",
   "metadata": {},
   "outputs": [
    {
     "data": {
      "text/plain": [
       "0     4\n",
       "1     8\n",
       "2    15\n",
       "3    16\n",
       "4    23\n",
       "5    42\n",
       "dtype: int64"
      ]
     },
     "execution_count": 26,
     "metadata": {},
     "output_type": "execute_result"
    }
   ],
   "source": [
    "# Q1. Create a Pandas Series that contains the following data: 4, 8, 15, 16, 23, and 42. Then, print the series\n",
    "\n",
    "num_df = pd.Series([4, 8, 15, 16, 23, 42])\n",
    "\n",
    "num_df\n"
   ]
  },
  {
   "cell_type": "code",
   "execution_count": 3,
   "id": "5de00a7c-39b9-48a4-8bbb-a562c9a3c6fe",
   "metadata": {},
   "outputs": [
    {
     "data": {
      "text/plain": [
       "pandas.core.series.Series"
      ]
     },
     "execution_count": 3,
     "metadata": {},
     "output_type": "execute_result"
    }
   ],
   "source": [
    "type(num_df)"
   ]
  },
  {
   "cell_type": "code",
   "execution_count": 4,
   "id": "2c18994d-7da9-49a2-82bf-7115c3a577d3",
   "metadata": {},
   "outputs": [],
   "source": [
    "# Q2. Create a variable of list type containing 10 elements in it, and apply pandas.Series function on the variable print it.\n",
    "\n",
    "random = [\"alpha\", 7 , \"subzero\", \"splendid\", \"data\", 222, \"brsingr\", \"harrypotter\", \"animation\", 96 ]"
   ]
  },
  {
   "cell_type": "code",
   "execution_count": 5,
   "id": "ef37ea90-ea32-46e2-92cc-acbe13850ba4",
   "metadata": {},
   "outputs": [
    {
     "data": {
      "text/plain": [
       "0          alpha\n",
       "1              7\n",
       "2        subzero\n",
       "3       splendid\n",
       "4           data\n",
       "5            222\n",
       "6        brsingr\n",
       "7    harrypotter\n",
       "8      animation\n",
       "9             96\n",
       "dtype: object"
      ]
     },
     "execution_count": 5,
     "metadata": {},
     "output_type": "execute_result"
    }
   ],
   "source": [
    "pd.Series(random)"
   ]
  },
  {
   "cell_type": "code",
   "execution_count": 6,
   "id": "32b2a9f7-ae5e-4321-982f-e0b231b46414",
   "metadata": {},
   "outputs": [
    {
     "data": {
      "text/plain": [
       "pandas.core.series.Series"
      ]
     },
     "execution_count": 6,
     "metadata": {},
     "output_type": "execute_result"
    }
   ],
   "source": [
    "type(pd.Series(random))"
   ]
  },
  {
   "cell_type": "code",
   "execution_count": null,
   "id": "7f91738f-5b09-4c47-9f31-c86db5958b9e",
   "metadata": {},
   "outputs": [],
   "source": [
    "\"\"\"Q3. Create a Pandas DataFrame that contains the following data:\n",
    "\n",
    "    Name   Age  Gender\n",
    "   Alice    25  Female\n",
    "    Bob     30   Male\n",
    "   Claire   27  Female\n",
    "\n",
    "Then, print the DataFrame.\"\"\""
   ]
  },
  {
   "cell_type": "code",
   "execution_count": 22,
   "id": "fdf88fca-e510-4cb4-981e-b258a6e1dd54",
   "metadata": {},
   "outputs": [],
   "source": [
    "df = pd.DataFrame( [[\"Alice\", 25, \"Female\"],[\"Bob\", 30, \"Male\"], [\"Claire\", 27, \"Female\"]])"
   ]
  },
  {
   "cell_type": "code",
   "execution_count": 23,
   "id": "afc96078-03cb-4d19-b4f1-9616b424ae34",
   "metadata": {},
   "outputs": [],
   "source": [
    "df.columns = [\"Name\",\"Age\",\"Gender\"]"
   ]
  },
  {
   "cell_type": "code",
   "execution_count": 24,
   "id": "cb148609-2813-4e0a-a496-f9d1d3280cd9",
   "metadata": {},
   "outputs": [
    {
     "data": {
      "text/html": [
       "<div>\n",
       "<style scoped>\n",
       "    .dataframe tbody tr th:only-of-type {\n",
       "        vertical-align: middle;\n",
       "    }\n",
       "\n",
       "    .dataframe tbody tr th {\n",
       "        vertical-align: top;\n",
       "    }\n",
       "\n",
       "    .dataframe thead th {\n",
       "        text-align: right;\n",
       "    }\n",
       "</style>\n",
       "<table border=\"1\" class=\"dataframe\">\n",
       "  <thead>\n",
       "    <tr style=\"text-align: right;\">\n",
       "      <th></th>\n",
       "      <th>Name</th>\n",
       "      <th>Age</th>\n",
       "      <th>Gender</th>\n",
       "    </tr>\n",
       "  </thead>\n",
       "  <tbody>\n",
       "    <tr>\n",
       "      <th>0</th>\n",
       "      <td>Alice</td>\n",
       "      <td>25</td>\n",
       "      <td>Female</td>\n",
       "    </tr>\n",
       "    <tr>\n",
       "      <th>1</th>\n",
       "      <td>Bob</td>\n",
       "      <td>30</td>\n",
       "      <td>Male</td>\n",
       "    </tr>\n",
       "    <tr>\n",
       "      <th>2</th>\n",
       "      <td>Claire</td>\n",
       "      <td>27</td>\n",
       "      <td>Female</td>\n",
       "    </tr>\n",
       "  </tbody>\n",
       "</table>\n",
       "</div>"
      ],
      "text/plain": [
       "     Name  Age  Gender\n",
       "0   Alice   25  Female\n",
       "1     Bob   30    Male\n",
       "2  Claire   27  Female"
      ]
     },
     "execution_count": 24,
     "metadata": {},
     "output_type": "execute_result"
    }
   ],
   "source": [
    "df"
   ]
  },
  {
   "cell_type": "code",
   "execution_count": 27,
   "id": "3aa2cdf5-7973-4b3b-9d38-9f08618a0bd2",
   "metadata": {},
   "outputs": [],
   "source": [
    "'''Q4. What is ‘DataFrame’ in pandas and how is it different from pandas.series? Explain with an example.\n",
    "\n",
    "Ans - A Pandas DataFrame is a 2 dimensional data structure, like a 2 dimensional array, or a table with rows and columns and be shown by \"[[ ]]\". \n",
    "    Series in pandas contains a single list which can store heterogeneous type of data, because of this, series is also considered as a \n",
    "    1-dimensional data structure and can be shown by \" [ ] \". On the other hand, DataFrame is a 2-dimensional data structure which contains \n",
    "    multiple lists of heterogeneous type of data.\n",
    "    \n",
    "    e. g. \n",
    "\n",
    "'''\n",
    "\n",
    "num_list = [1,2,3,4,5]"
   ]
  },
  {
   "cell_type": "code",
   "execution_count": 30,
   "id": "b90f8f19-b880-4193-bb5a-dd994c4170e4",
   "metadata": {},
   "outputs": [
    {
     "name": "stdout",
     "output_type": "stream",
     "text": [
      "<class 'pandas.core.series.Series'>\n"
     ]
    },
    {
     "data": {
      "text/plain": [
       "0    1\n",
       "1    2\n",
       "2    3\n",
       "3    4\n",
       "4    5\n",
       "dtype: int64"
      ]
     },
     "execution_count": 30,
     "metadata": {},
     "output_type": "execute_result"
    }
   ],
   "source": [
    "num_series = pd.Series(num_list)\n",
    "print(type(num_series))\n",
    "num_series"
   ]
  },
  {
   "cell_type": "code",
   "execution_count": 31,
   "id": "ec441236-05d6-4372-bc38-bcc3bd7dc786",
   "metadata": {},
   "outputs": [
    {
     "name": "stdout",
     "output_type": "stream",
     "text": [
      "<class 'pandas.core.frame.DataFrame'>\n"
     ]
    },
    {
     "data": {
      "text/html": [
       "<div>\n",
       "<style scoped>\n",
       "    .dataframe tbody tr th:only-of-type {\n",
       "        vertical-align: middle;\n",
       "    }\n",
       "\n",
       "    .dataframe tbody tr th {\n",
       "        vertical-align: top;\n",
       "    }\n",
       "\n",
       "    .dataframe thead th {\n",
       "        text-align: right;\n",
       "    }\n",
       "</style>\n",
       "<table border=\"1\" class=\"dataframe\">\n",
       "  <thead>\n",
       "    <tr style=\"text-align: right;\">\n",
       "      <th></th>\n",
       "      <th>0</th>\n",
       "    </tr>\n",
       "  </thead>\n",
       "  <tbody>\n",
       "    <tr>\n",
       "      <th>0</th>\n",
       "      <td>1</td>\n",
       "    </tr>\n",
       "    <tr>\n",
       "      <th>1</th>\n",
       "      <td>2</td>\n",
       "    </tr>\n",
       "    <tr>\n",
       "      <th>2</th>\n",
       "      <td>3</td>\n",
       "    </tr>\n",
       "    <tr>\n",
       "      <th>3</th>\n",
       "      <td>4</td>\n",
       "    </tr>\n",
       "    <tr>\n",
       "      <th>4</th>\n",
       "      <td>5</td>\n",
       "    </tr>\n",
       "  </tbody>\n",
       "</table>\n",
       "</div>"
      ],
      "text/plain": [
       "   0\n",
       "0  1\n",
       "1  2\n",
       "2  3\n",
       "3  4\n",
       "4  5"
      ]
     },
     "execution_count": 31,
     "metadata": {},
     "output_type": "execute_result"
    }
   ],
   "source": [
    "num_df = pd.DataFrame(num_list)\n",
    "print(type(num_df))\n",
    "num_df"
   ]
  },
  {
   "cell_type": "code",
   "execution_count": null,
   "id": "854d498a-8637-4930-ac13-0d8e4253d03e",
   "metadata": {},
   "outputs": [],
   "source": [
    "'''Q5. What are some common functions you can use to manipulate data in a Pandas DataFrame? Can you give an example of when you might use one of \n",
    "    these functions?\n",
    "    Ans - df.head(), df.tail(), df.to_csv, df.to_excel are some of functions to manipulate data within dataframe.\n",
    "    \n",
    "    df.head(n) - Return the first `n` rows. This function returns the first `n` rows for the object based on position. It is useful for quickly \n",
    "    testing if your object has the right type of data in it.\n",
    "    \n",
    "    df.tail(n) - Return the last `n` rows. This function returns last `n` rows from the object based on position. It is useful for quickly \n",
    "    verifying data, for example, after sorting or appending rows.\n",
    "'''\n"
   ]
  },
  {
   "cell_type": "code",
   "execution_count": null,
   "id": "6daba76b-e69b-4fcc-9db4-595f6aee8c01",
   "metadata": {},
   "outputs": [],
   "source": [
    "'''Q6. Which of the following is mutable in nature Series, DataFrame, Panel?\n",
    "\n",
    "Ans - All Pandas data structures are value mutable (can be changed) and except Series all are size mutable. Series is size immutable. \n",
    "    The length of a Series cannot be changed, but, for example, columns can be inserted into a DataFrame.\n",
    "    \n",
    "    '''"
   ]
  },
  {
   "cell_type": "code",
   "execution_count": 40,
   "id": "eb10d72f-bd00-4af0-803a-14117f7a08a4",
   "metadata": {},
   "outputs": [],
   "source": [
    "#Q7. Create a DataFrame using multiple Series. Explain with an example.\n",
    "\n",
    "courses = pd.Series([\"Data Science Masters(English)\",\"Data Science Masters(Hinglish)\"], name = \"Course\")\n",
    "fees = pd.Series([3500,3500], name = \"Fees\")\n",
    "mentors  = pd.Series([[\"Krish Naik\",\"Sudhanshu Kumar\"],[\"Krish Naik\",\"Sudhanshu Kumar\"]], name = \"Mentors\")"
   ]
  },
  {
   "cell_type": "code",
   "execution_count": 41,
   "id": "bfb0b59d-8ae0-444f-9736-e74175b9dab0",
   "metadata": {},
   "outputs": [],
   "source": [
    "df_pwskills = pd.concat([courses,fees,mentors],axis=1)"
   ]
  },
  {
   "cell_type": "code",
   "execution_count": 42,
   "id": "f670e99d-1194-4720-9f5d-eaebdbd7f290",
   "metadata": {},
   "outputs": [
    {
     "data": {
      "text/html": [
       "<div>\n",
       "<style scoped>\n",
       "    .dataframe tbody tr th:only-of-type {\n",
       "        vertical-align: middle;\n",
       "    }\n",
       "\n",
       "    .dataframe tbody tr th {\n",
       "        vertical-align: top;\n",
       "    }\n",
       "\n",
       "    .dataframe thead th {\n",
       "        text-align: right;\n",
       "    }\n",
       "</style>\n",
       "<table border=\"1\" class=\"dataframe\">\n",
       "  <thead>\n",
       "    <tr style=\"text-align: right;\">\n",
       "      <th></th>\n",
       "      <th>Course</th>\n",
       "      <th>Fees</th>\n",
       "      <th>Mentors</th>\n",
       "    </tr>\n",
       "  </thead>\n",
       "  <tbody>\n",
       "    <tr>\n",
       "      <th>0</th>\n",
       "      <td>Data Science Masters(English)</td>\n",
       "      <td>3500</td>\n",
       "      <td>[Krish Naik, Sudhanshu Kumar]</td>\n",
       "    </tr>\n",
       "    <tr>\n",
       "      <th>1</th>\n",
       "      <td>Data Science Masters(Hinglish)</td>\n",
       "      <td>3500</td>\n",
       "      <td>[Krish Naik, Sudhanshu Kumar]</td>\n",
       "    </tr>\n",
       "  </tbody>\n",
       "</table>\n",
       "</div>"
      ],
      "text/plain": [
       "                           Course  Fees                        Mentors\n",
       "0   Data Science Masters(English)  3500  [Krish Naik, Sudhanshu Kumar]\n",
       "1  Data Science Masters(Hinglish)  3500  [Krish Naik, Sudhanshu Kumar]"
      ]
     },
     "execution_count": 42,
     "metadata": {},
     "output_type": "execute_result"
    }
   ],
   "source": [
    "df_pwskills"
   ]
  },
  {
   "cell_type": "code",
   "execution_count": null,
   "id": "a5d95ece-df4f-4ed9-97d6-fa37aea13676",
   "metadata": {},
   "outputs": [],
   "source": []
  }
 ],
 "metadata": {
  "kernelspec": {
   "display_name": "Python 3 (ipykernel)",
   "language": "python",
   "name": "python3"
  },
  "language_info": {
   "codemirror_mode": {
    "name": "ipython",
    "version": 3
   },
   "file_extension": ".py",
   "mimetype": "text/x-python",
   "name": "python",
   "nbconvert_exporter": "python",
   "pygments_lexer": "ipython3",
   "version": "3.10.8"
  }
 },
 "nbformat": 4,
 "nbformat_minor": 5
}
