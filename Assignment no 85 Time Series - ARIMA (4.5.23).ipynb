{
 "cells": [
  {
   "cell_type": "markdown",
   "id": "2ff9529a-f9d3-4180-b629-7bad5f6df405",
   "metadata": {
    "tags": []
   },
   "source": [
    "# Assignment no 85 Time Series - ARIMA (4.5.23)"
   ]
  },
  {
   "cell_type": "code",
   "execution_count": null,
   "id": "9aaf61e6-74ba-4f80-83ea-e3c610ca3fc9",
   "metadata": {},
   "outputs": [],
   "source": []
  },
  {
   "cell_type": "markdown",
   "id": "89bca743",
   "metadata": {},
   "source": [
    "### Q1. What is a time series, and what are some common applications of time series analysis?"
   ]
  },
  {
   "cell_type": "markdown",
   "id": "abb38897",
   "metadata": {},
   "source": [
    "Ans: A time series is a sequence of data points recorded or measured at successive points in time, usually at uniform intervals. Common applications of time series analysis include:\n",
    "- **Financial Market Analysis:** Forecasting stock prices, trading volumes.\n",
    "- **Economic Forecasting:** Predicting GDP growth, unemployment rates.\n",
    "- **Demand Forecasting:** Estimating future product demand or sales.\n",
    "- **Weather Forecasting:** Predicting temperature, rainfall.\n",
    "- **Healthcare Monitoring:** Tracking patient vitals over time."
   ]
  },
  {
   "cell_type": "code",
   "execution_count": null,
   "id": "b6fa3347-8fc9-4fe8-b16b-00c0b3b50e37",
   "metadata": {},
   "outputs": [],
   "source": []
  },
  {
   "cell_type": "markdown",
   "id": "794f171a",
   "metadata": {},
   "source": [
    "### Q2. What are some common time series patterns, and how can they be identified and interpreted?"
   ]
  },
  {
   "cell_type": "markdown",
   "id": "b7df074a",
   "metadata": {},
   "source": [
    "Ans: Common time series patterns include:\n",
    "- **Trend:** Long-term increase or decrease in the data. Identified by observing a persistent upward or downward movement.\n",
    "- **Seasonality:** Regular pattern that repeats over a fixed period, such as monthly or quarterly. Identified by repeating patterns at consistent intervals.\n",
    "- **Cycle:** Long-term fluctuations not tied to a fixed period, such as business cycles. Identified through longer-term oscillations.\n",
    "- **Noise:** Random variability in data. Identified as irregular, unexplained variations."
   ]
  },
  {
   "cell_type": "code",
   "execution_count": null,
   "id": "f384b72c-c388-46a0-a0a9-e17cbae11001",
   "metadata": {},
   "outputs": [],
   "source": []
  },
  {
   "cell_type": "markdown",
   "id": "08273ffa",
   "metadata": {},
   "source": [
    "### Q3. How can time series data be preprocessed before applying analysis techniques?"
   ]
  },
  {
   "cell_type": "markdown",
   "id": "a73dac5b",
   "metadata": {},
   "source": [
    "Ans: Preprocessing steps for time series data include:\n",
    "- **Handling Missing Values:** Imputation or interpolation.\n",
    "- **Decomposition:** Breaking down the series into trend, seasonal, and residual components.\n",
    "- **Normalization/Standardization:** Scaling data for uniformity.\n",
    "- **Stationarity Testing:** Checking for constant mean and variance, and transforming data if needed (e.g., differencing).\n",
    "- **Outlier Detection:** Identifying and addressing anomalies."
   ]
  },
  {
   "cell_type": "code",
   "execution_count": null,
   "id": "9e337b22-147d-462b-9bd3-35d35fd37f36",
   "metadata": {},
   "outputs": [],
   "source": []
  },
  {
   "cell_type": "markdown",
   "id": "09bef7d4",
   "metadata": {},
   "source": [
    "### Q4. How can time series forecasting be used in business decision-making, and what are some common challenges and limitations?"
   ]
  },
  {
   "cell_type": "markdown",
   "id": "3eb0bacc",
   "metadata": {},
   "source": [
    "Ans: Time series forecasting aids in business decision-making by:\n",
    "- **Inventory Management:** Predicting future demand to manage stock levels.\n",
    "- **Financial Planning:** Forecasting revenues and expenses.\n",
    "- **Strategic Planning:** Informing decisions based on anticipated market conditions.\n",
    "\n",
    "**Challenges and Limitations:**\n",
    "- **Data Quality:** Inaccurate or incomplete data can affect forecasts.\n",
    "- **Model Assumptions:** Incorrect assumptions about data patterns can lead to poor predictions.\n",
    "- **Complexity:** Handling multiple influencing factors and seasonality can be complex.\n",
    "- **Overfitting/Underfitting:** Balancing model complexity to avoid overfitting or underfitting."
   ]
  },
  {
   "cell_type": "code",
   "execution_count": null,
   "id": "b8268ded-96ff-4a07-867e-bdf066e55ef0",
   "metadata": {},
   "outputs": [],
   "source": []
  },
  {
   "cell_type": "markdown",
   "id": "db5b9e66",
   "metadata": {},
   "source": [
    "### Q5. What is ARIMA modeling, and how can it be used to forecast time series data?"
   ]
  },
  {
   "cell_type": "markdown",
   "id": "174668c6",
   "metadata": {},
   "source": [
    "Ans: ARIMA (AutoRegressive Integrated Moving Average) modeling is a popular method for forecasting time series data. It combines:\n",
    "- **AutoRegressive (AR) Part:** Uses past values to predict future values.\n",
    "- **Integrated (I) Part:** Differencing of raw observations to make the time series stationary.\n",
    "- **Moving Average (MA) Part:** Uses past forecast errors to predict future values.\n",
    "\n",
    "ARIMA models can be used to capture different aspects of time series data and make forecasts based on historical patterns."
   ]
  },
  {
   "cell_type": "code",
   "execution_count": null,
   "id": "cfcf0281-6a71-42e1-bbb2-ad2f79d21c1f",
   "metadata": {},
   "outputs": [],
   "source": []
  },
  {
   "cell_type": "markdown",
   "id": "5bdfe6f6",
   "metadata": {},
   "source": [
    "### Q6. How do Autocorrelation Function (ACF) and Partial Autocorrelation Function (PACF) plots help in identifying the order of ARIMA models?"
   ]
  },
  {
   "cell_type": "markdown",
   "id": "159348ad",
   "metadata": {},
   "source": [
    "Ans: ACF and PACF plots are tools for identifying the appropriate orders of the ARIMA model components:\n",
    "- **ACF Plot:** Helps in identifying the MA (Moving Average) term. Significant spikes in the ACF plot indicate the number of lags to include.\n",
    "- **PACF Plot:** Helps in identifying the AR (AutoRegressive) term. Significant spikes in the PACF plot indicate the number of lags to include.\n",
    "\n",
    "The intersection of significant spikes with the horizontal line helps determine the parameters \\(p\\) (AR order) and \\(q\\) (MA order)."
   ]
  },
  {
   "cell_type": "code",
   "execution_count": null,
   "id": "e9847571-6ec1-4881-b4b6-870ae965ab9d",
   "metadata": {},
   "outputs": [],
   "source": []
  },
  {
   "cell_type": "markdown",
   "id": "fe773120",
   "metadata": {},
   "source": [
    "### Q7. What are the assumptions of ARIMA models, and how can they be tested for in practice?"
   ]
  },
  {
   "cell_type": "markdown",
   "id": "fc580666",
   "metadata": {},
   "source": [
    "Ans: Assumptions of ARIMA models include:\n",
    "- **Linearity:** The relationship between past values and future values is linear.\n",
    "- **Stationarity:** The statistical properties of the series (mean, variance) remain constant over time.\n",
    "- **Independence of Residuals:** Residuals are uncorrelated with each other.\n",
    "\n",
    "**Testing Methods:**\n",
    "- **Stationarity Tests:** Augmented Dickey-Fuller (ADF) test or KPSS test.\n",
    "- **Residual Analysis:** Checking residuals for autocorrelation using ACF and PACF plots."
   ]
  },
  {
   "cell_type": "code",
   "execution_count": null,
   "id": "ea25a25e-b40b-4669-9b69-d228a032ca01",
   "metadata": {},
   "outputs": [],
   "source": []
  },
  {
   "cell_type": "markdown",
   "id": "ea01cd1f",
   "metadata": {},
   "source": [
    "### Q8. Suppose you have monthly sales data for a retail store for the past three years. Which type of time series model would you recommend for forecasting future sales, and why?"
   ]
  },
  {
   "cell_type": "markdown",
   "id": "adc3b77c",
   "metadata": {},
   "source": [
    "Ans: For monthly sales data over three years, an appropriate model might be:\n",
    "- **ARIMA Model:** If the data exhibits trend and/or seasonality, ARIMA with seasonal components (SARIMA) can be useful. The model can capture trends, seasonality, and residual patterns.\n",
    "- **Exponential Smoothing State Space Model (ETS):** Another option if the focus is on capturing trend and seasonal effects.\n",
    "\n",
    "Choosing the model depends on data patterns, stationarity, and seasonality characteristics."
   ]
  },
  {
   "cell_type": "code",
   "execution_count": null,
   "id": "be399c5b-d595-4c48-84ef-2a41fe512d90",
   "metadata": {},
   "outputs": [],
   "source": []
  },
  {
   "cell_type": "markdown",
   "id": "810de870",
   "metadata": {},
   "source": [
    "### Q9. What are some of the limitations of time series analysis? Provide an example of a scenario where the limitations of time series analysis may be particularly relevant."
   ]
  },
  {
   "cell_type": "markdown",
   "id": "03f5f524",
   "metadata": {},
   "source": [
    "Ans: Limitations of time series analysis include:\n",
    "- **Data Quality:** Poor quality or sparse data can lead to unreliable forecasts.\n",
    "- **Complexity in Seasonality:** Difficulty in modeling multiple or changing seasonal patterns.\n",
    "- **Assumptions of Stationarity:** If the data is not stationary, results can be misleading.\n",
    "\n",
    "**Example Scenario:** In forecasting sales for a new product with limited historical data, time series analysis may struggle due to insufficient data and the absence of established patterns."
   ]
  },
  {
   "cell_type": "code",
   "execution_count": null,
   "id": "1b72021a-03dc-44a1-9c5e-3c636668d3d8",
   "metadata": {},
   "outputs": [],
   "source": []
  },
  {
   "cell_type": "markdown",
   "id": "17a59291",
   "metadata": {},
   "source": [
    "### Q10. Explain the difference between a stationary and non-stationary time series. How does the stationarity of a time series affect the choice of forecasting model?"
   ]
  },
  {
   "cell_type": "markdown",
   "id": "bec904ef",
   "metadata": {},
   "source": [
    "Ans: \n",
    "- **Stationary Time Series:** A series whose statistical properties (mean, variance) are constant over time. It has no trend or seasonality.\n",
    "- **Non-Stationary Time Series:** A series whose statistical properties change over time, often exhibiting trends or seasonal effects.\n",
    "\n",
    "**Impact on Forecasting Models:**\n",
    "- **Stationary Series:** Can be effectively modeled using ARIMA models.\n",
    "- **Non-Stationary Series:** Requires transformation (e.g., differencing) to achieve stationarity before applying ARIMA or other forecasting models."
   ]
  },
  {
   "cell_type": "code",
   "execution_count": null,
   "id": "4ec8684e-d9ab-4a67-ba8c-a5754086c211",
   "metadata": {},
   "outputs": [],
   "source": []
  }
 ],
 "metadata": {
  "kernelspec": {
   "display_name": "Python 3 (ipykernel)",
   "language": "python",
   "name": "python3"
  },
  "language_info": {
   "codemirror_mode": {
    "name": "ipython",
    "version": 3
   },
   "file_extension": ".py",
   "mimetype": "text/x-python",
   "name": "python",
   "nbconvert_exporter": "python",
   "pygments_lexer": "ipython3",
   "version": "3.10.8"
  }
 },
 "nbformat": 4,
 "nbformat_minor": 5
}
