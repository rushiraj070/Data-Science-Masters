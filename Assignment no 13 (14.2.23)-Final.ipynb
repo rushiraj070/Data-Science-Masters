{
 "cells": [
  {
   "cell_type": "markdown",
   "id": "1fa3a8ec-10d0-4df9-b69d-2e179efd5109",
   "metadata": {},
   "source": [
    "# Assignment no 13 on Memory Management (Multithreading)"
   ]
  },
  {
   "cell_type": "code",
   "execution_count": null,
   "id": "e0600e22-ebf0-4753-83bd-51042d83b992",
   "metadata": {},
   "outputs": [],
   "source": [
    "'''Q1. What is multithreading in python? Why is it used? Name the module used to handle threads in python.\n",
    "\n",
    "Ans- Multithreading is a threading technique in Python programming to run multiple threads concurrently by rapidly switching \n",
    "    between threads with a CPU help (called context switching).\n",
    "    \n",
    "    It is used because it allows sharing of its data space with the main threads inside a process that share information and\n",
    "    communication with other threads easier than individual processes also Multithreading aims to perform multiple tasks \n",
    "    simultaneously, which increases performance, speed and improves the rendering of the application.\n",
    "\n",
    "    Threading module is used for creating, controlling and managing threads in python.\n",
    "'''"
   ]
  },
  {
   "cell_type": "code",
   "execution_count": null,
   "id": "4833a1cb-3c15-4193-8bfb-0a53164b1d15",
   "metadata": {},
   "outputs": [],
   "source": [
    "'''Q2. Why threading module used? Write the use of the following functions - \n",
    "\n",
    "Ans- Threading module is used for creating, controlling and managing threads in python.\n",
    "\n",
    "1. activeCount() - It returns the number of Thread objects currently alive. This function is deprecated, use active_count() \n",
    "                instead.The returned count is equal to the length of the list returned by enumerate().\n",
    "                \n",
    "2. currentThread() - Return the current Thread object, corresponding to the caller's thread of control. This function is \n",
    "                deprecated, use current_thread() instead. If the caller's thread of control was not created through the \n",
    "                threading module, a dummy thread object with limited functionality is returned.\n",
    "                \n",
    "3. enumerate() - Return a list of all Thread objects currently alive.\n",
    "                The list includes daemonic threads (The threads which are always going to run in the background that provides\n",
    "                supports to main or non-daemon threads, those background executing threads are considered as Daemon Threads.\n",
    "                The Daemon Thread does not block the main thread from exiting and continues to run in the background), dummy \n",
    "                thread objects created by current_thread(), and the main thread. \n",
    "                It excludes terminated threads and threads that have not yet been started."
   ]
  },
  {
   "cell_type": "code",
   "execution_count": 1,
   "id": "916b16d2-9698-4417-84a9-923a4ff61ae0",
   "metadata": {},
   "outputs": [],
   "source": [
    "import threading"
   ]
  },
  {
   "cell_type": "code",
   "execution_count": null,
   "id": "2e06db91-f3ad-4eba-9a55-cf5aa91566de",
   "metadata": {},
   "outputs": [],
   "source": [
    "'''Q3. Explain the following functions-\n",
    "\n",
    "1. run() - It is one of the method of representing the thread's activity and can be override this method in a subclass. \n",
    "           The standard run() method invokes the callable object passed to the object's constructor as the target argument, \n",
    "           if any, with sequential and keyword arguments taken from the args and kwargs arguments, respectively.\n",
    "           \n",
    "2. start() -It is the method to Start the thread's activity.\n",
    "            It must be called at most once per thread object. It arranges for the object's run() method to be invoked in a \n",
    "            separate thread of control.\n",
    "            This method will raise a RuntimeError if called more than once on the same thread object.\n",
    "\n",
    "3. join() - Wait until the thread terminates.\n",
    "            This blocks the calling thread until the thread whose join() method is called terminates -- either normally or \n",
    "            through an unhandled exception or until the optional timeout occurs.\n",
    "            A thread can be join()ed many times. join() raises a RuntimeError if an attempt is made to join the current \n",
    "            thread as that would cause a deadlock. It is also an error to join() a thread before it has been started and \n",
    "            attempts to do so raises the same exception.\n",
    "            \n",
    "4. isAlive() - Return whether the thread is alive.\n",
    "              This method returns True just before the run() method starts until just after the run() method terminates.\n",
    "              \n",
    "'''"
   ]
  },
  {
   "cell_type": "code",
   "execution_count": 12,
   "id": "62104d9e-5087-4481-a676-3e2808e66950",
   "metadata": {},
   "outputs": [],
   "source": [
    "'''Q4.  Write a python program to create two threads. Thread one must print the list of squares and thread \n",
    "two must print the list of cubes.'''\n",
    "\n",
    "square_list = []\n",
    "cube_list = []\n",
    "\n",
    "def power(num_list):\n",
    "    for i in num_list:\n",
    "        square_list.append(i**2)\n",
    "    for i in num_list:\n",
    "        cube_list.append(i**3)\n",
    "        \n",
    "    print(\"The list of squares for given numbers is: \", square_list)\n",
    "    print(\"The list of cubes for given numbers is: \",cube_list)\n",
    "    \n",
    "    "
   ]
  },
  {
   "cell_type": "code",
   "execution_count": 13,
   "id": "9cf4081f-0538-4fda-8b76-1c44d58ee713",
   "metadata": {},
   "outputs": [],
   "source": [
    "num_list = [i for i in range(1,11)]"
   ]
  },
  {
   "cell_type": "code",
   "execution_count": 14,
   "id": "d7effdc3-4ea5-4b13-80f3-c8a81ec8b7be",
   "metadata": {},
   "outputs": [],
   "source": [
    "power_thread = [threading.Thread(target = power, args = (num_list,))]"
   ]
  },
  {
   "cell_type": "code",
   "execution_count": 15,
   "id": "8c359a55-dd42-4b50-9239-de0e0df24fee",
   "metadata": {},
   "outputs": [
    {
     "name": "stdout",
     "output_type": "stream",
     "text": [
      "The list of squares for given numbers is:  [1, 4, 9, 16, 25, 36, 49, 64, 81, 100]\n",
      "The list of cubes for given numbers is:  [1, 8, 27, 64, 125, 216, 343, 512, 729, 1000]\n"
     ]
    }
   ],
   "source": [
    "for num in power_thread:\n",
    "    num.start()\n",
    "    num.join()"
   ]
  },
  {
   "cell_type": "code",
   "execution_count": null,
   "id": "439915a3-eb2c-4cb4-8676-0ec032967de5",
   "metadata": {},
   "outputs": [],
   "source": []
  },
  {
   "cell_type": "code",
   "execution_count": 19,
   "id": "59fe197d-3985-4b75-8eba-bef0807d763c",
   "metadata": {},
   "outputs": [],
   "source": [
    "'''Q4.  Write a python program to create two threads. Thread one must print the list of squares and thread \n",
    "two must print the list of cubes.'''\n",
    "\n",
    "square_list = []\n",
    "cube_list = []\n",
    "\n",
    "def power(num_list):\n",
    "    for i in num_list:\n",
    "        square_list.append(i**2)\n",
    "    for i in num_list:\n",
    "        cube_list.append(i**3)\n",
    "        \n",
    "    print(\"The list of squares for given numbers is: \", square_list)\n",
    "    print(\"The list of cubes for given numbers is: \",cube_list)\n",
    "    \n",
    "    "
   ]
  },
  {
   "cell_type": "code",
   "execution_count": 20,
   "id": "673bc603-8b84-443d-a3c4-527c92571527",
   "metadata": {},
   "outputs": [],
   "source": [
    "numbers = [1,2,3,4,5]"
   ]
  },
  {
   "cell_type": "code",
   "execution_count": 21,
   "id": "503f3f0f-092c-485a-a065-1ac3ada66aa0",
   "metadata": {},
   "outputs": [],
   "source": [
    "power_thread1 = [threading.Thread(target = power, args = (numbers,))]"
   ]
  },
  {
   "cell_type": "code",
   "execution_count": 22,
   "id": "99fd4719-12f4-4e85-bc50-82c732df8169",
   "metadata": {},
   "outputs": [
    {
     "name": "stdout",
     "output_type": "stream",
     "text": [
      "The list of squares for given numbers is:  [1, 4, 9, 16, 25]\n",
      "The list of cubes for given numbers is:  [1, 8, 27, 64, 125]\n"
     ]
    }
   ],
   "source": [
    "for num in power_thread1:\n",
    "    num.start()\n",
    "    num.join()"
   ]
  },
  {
   "cell_type": "code",
   "execution_count": null,
   "id": "6df2d981-165f-44ac-9923-5cb41ff5ea27",
   "metadata": {},
   "outputs": [],
   "source": [
    "'''Q5. State advantages and disadvantages of multithreading.\n",
    "\n",
    "Ans - \n",
    "    Following are some of the common advantages of multithreading:\n",
    "    1. Enhanced performance by decreased development time.\n",
    "    2. Simplified and streamlined program coding.\n",
    "    3. Improvised GUI responsiveness.\n",
    "    4. Simultaneous and parallelized occurrence of tasks.\n",
    "    5. Better use of cache storage by utilization of resources.\n",
    "    6. Decreased cost of maintenance.\n",
    "    7. Better use of CPU resource.\n",
    "    \n",
    "    Multithreading does not only provide you with benefits, it has its disadvantages too. \n",
    "    Let us go through some common disadvantages:\n",
    "    1. Complex debugging and testing processes.\n",
    "    2. Overhead switching of context.\n",
    "    3. Increased potential for deadlock occurrence.\n",
    "    4. Increased difficulty level in writing a program.\n",
    "    5. Unpredictable results\n",
    "\n",
    "'''"
   ]
  },
  {
   "cell_type": "code",
   "execution_count": null,
   "id": "71b67179-5542-48a8-a6cb-94cc76831c18",
   "metadata": {},
   "outputs": [],
   "source": [
    "'''Q6. Explain deadlocks and race conditions.\n",
    "\n",
    "Ans - deadlock. Two threads hold locks on different resources, each waiting indefinitely for the other to release its lock.\n",
    "    \n",
    "     race condition. Two (or more) threads alter the state of a shared resource concurrently, leaving it in an unpredictable\n",
    "     state.\n",
    "\n",
    "'''"
   ]
  }
 ],
 "metadata": {
  "kernelspec": {
   "display_name": "Python 3 (ipykernel)",
   "language": "python",
   "name": "python3"
  },
  "language_info": {
   "codemirror_mode": {
    "name": "ipython",
    "version": 3
   },
   "file_extension": ".py",
   "mimetype": "text/x-python",
   "name": "python",
   "nbconvert_exporter": "python",
   "pygments_lexer": "ipython3",
   "version": "3.10.8"
  }
 },
 "nbformat": 4,
 "nbformat_minor": 5
}
