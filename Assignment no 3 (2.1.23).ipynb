{
 "cells": [
  {
   "cell_type": "markdown",
   "id": "01799950-e2c0-4d52-8727-a0b4c083ca05",
   "metadata": {},
   "source": [
    "# Assignment on Tuples, Sets and Dictionaries"
   ]
  },
  {
   "cell_type": "raw",
   "id": "e10aba2e-0e60-41af-a6d0-d3c583713ed8",
   "metadata": {},
   "source": [
    "Q1. What are the characteristics of the tuples? Is tuple immutable?\n",
    "\n",
    "Ans- Characteristics of Tuples\n",
    "        1. They are indexed.\n",
    "        2. Tuples are ordered.\n",
    "        3. These are immutable.\n",
    "        4. They can contain duplicate items.\n",
    "        \n",
    "    Yes, tuple is immutable."
   ]
  },
  {
   "cell_type": "code",
   "execution_count": 1,
   "id": "a25db6ce-1c8e-473e-a73d-8a6844066653",
   "metadata": {},
   "outputs": [
    {
     "name": "stdout",
     "output_type": "stream",
     "text": [
      "Count of element 2 in tuple is: 2\n",
      "Index of element 'me' in tuple is: 1\n"
     ]
    }
   ],
   "source": [
    "\"\"\" Q2. What are the two tuple methods in python? Give an example of each method.\n",
    "    Give a reason why tuples have only two in-built methods as compared to Lists.\n",
    "\n",
    "Ans- .count() and .index() are the two methods in python.\n",
    "\n",
    "Reasons behind that tuples have only two methods because  tuples are immutable, \n",
    "meaning you cannot change their contents after they are created. The length of tuples is also fixed. \n",
    "They remain the same length throughout the lifecycle of the program.\"\"\"\n",
    "\n",
    "tuple1 = (1,2,3,2,3)\n",
    "tuple2 = (\"I\", \"me\", \"myself\")\n",
    "\n",
    "print(\"Count of element 2 in tuple is:\", tuple1.count(2))\n",
    "\n",
    "print(\"Index of element 'me' in tuple is:\", tuple2.index(\"me\"))\n",
    "\n"
   ]
  },
  {
   "cell_type": "code",
   "execution_count": 2,
   "id": "31f4a8e5-3a5f-4d1e-8d65-1b30ef619799",
   "metadata": {},
   "outputs": [
    {
     "data": {
      "text/plain": [
       "{1, 2, 3, 4}"
      ]
     },
     "execution_count": 2,
     "metadata": {},
     "output_type": "execute_result"
    }
   ],
   "source": [
    "'''Q3.  Which collection datatypes in python do not allow duplicate items? Write a code using a set to remove \n",
    "duplicates from the given list.\n",
    "\n",
    "Ans - Sets are the datatypes in python who do not allow duplicate items.\n",
    "\n",
    "'''\n",
    "\n",
    "List = [1, 1, 1, 2, 1, 3, 1, 4, 2, 1, 2, 2, 2, 3, 2, 4, 3, 1, 3, 2, 3, 3, 3, 4, 4, 1, 4, 2, 4, 3, 4, 4]\n",
    "\n",
    "list_to_set = set(List)\n",
    "list_to_set"
   ]
  },
  {
   "cell_type": "code",
   "execution_count": 3,
   "id": "8a90138e-a9c3-4da9-9a73-69c7f51fe73a",
   "metadata": {},
   "outputs": [
    {
     "name": "stdout",
     "output_type": "stream",
     "text": [
      "{1, 2, 3, 4}\n"
     ]
    }
   ],
   "source": [
    "List = [1, 1, 1, 2, 1, 3, 1, 4, 2, 1, 2, 2, 2, 3, 2, 4, 3, 1, 3, 2, 3, 3, 3, 4, 4, 1, 4, 2, 4, 3, 4, 4]\n",
    "list_to_set = list( dict.fromkeys(List) )\n",
    "print(set(list_to_set))"
   ]
  },
  {
   "cell_type": "raw",
   "id": "d2806390-b82b-4f93-9809-fd2d9b6b9b27",
   "metadata": {},
   "source": [
    "\"\"\" Q4. Explain the difference between the union() and update() methods for a set. Give an example of \n",
    "each method.\n",
    "\n",
    "Ans - .union() returns the union of sets as a new set i.e. all elements that are in either set while\n",
    "      .update() update a set with the union of itself and others.\n",
    "\"\"\""
   ]
  },
  {
   "cell_type": "code",
   "execution_count": 5,
   "id": "88e54026-26ad-42e7-9246-97191a7bb2b9",
   "metadata": {},
   "outputs": [
    {
     "data": {
      "text/plain": [
       "{4, 5, 6}"
      ]
     },
     "execution_count": 5,
     "metadata": {},
     "output_type": "execute_result"
    }
   ],
   "source": [
    "## Q4 set.union() example with code\n",
    "set1 = {1,2,3,4,5}\n",
    "set2 = {4,5,6}\n",
    "set2.union(set1)\n",
    "set2"
   ]
  },
  {
   "cell_type": "code",
   "execution_count": 6,
   "id": "e3a6949d-7daa-467c-b637-3db2291c1035",
   "metadata": {},
   "outputs": [
    {
     "data": {
      "text/plain": [
       "{1, 2, 3, 4, 5, 6}"
      ]
     },
     "execution_count": 6,
     "metadata": {},
     "output_type": "execute_result"
    }
   ],
   "source": [
    "## Q4 set.update() example with code\n",
    "set1 = {1,2,3,4,5}\n",
    "set2 = {4,5,6}\n",
    "set2.update(set1)\n",
    "set2"
   ]
  },
  {
   "cell_type": "code",
   "execution_count": 7,
   "id": "ae8f9f40-70a9-43fd-9131-54b1966be5b2",
   "metadata": {},
   "outputs": [
    {
     "data": {
      "text/plain": [
       "dict"
      ]
     },
     "execution_count": 7,
     "metadata": {},
     "output_type": "execute_result"
    }
   ],
   "source": [
    "\"\"\"\n",
    "Q5. What is a dictionary? Give an example. Also, state whether a dictionary is ordered or unordered.\n",
    "\n",
    "Ans - A dictionary is a set of combination or pairs of keys and its repective values. \n",
    "        Keys within the dictionary can be strings, integers, floats, boolean\n",
    "        and values within the dictionary can be strings, integers, floats, lists, tuples or sets etc. and divided by colon(:)\n",
    "        A dictionary is a collection which is ordered*, changeable and do not allow duplicates.\n",
    "        (**As of Python version 3.7, dictionaries are ordered. In Python 3.6 and earlier, dictionaries are unordered.)\n",
    "        Dictionaries are written with curly brackets, and have keys and values.\n",
    "        \n",
    "\"\"\"\n",
    "\n",
    "example = {\"key\": \"value\"}\n",
    "type(example)"
   ]
  },
  {
   "cell_type": "code",
   "execution_count": 8,
   "id": "acfe5c12-d8a8-4e8c-a31f-67ef6bd62434",
   "metadata": {},
   "outputs": [
    {
     "data": {
      "text/plain": [
       "dict"
      ]
     },
     "execution_count": 8,
     "metadata": {},
     "output_type": "execute_result"
    }
   ],
   "source": [
    "'''\n",
    "Q6. Can we create a nested dictionary? If so, please give an example by creating a simple one-level \n",
    "nested dictionary.\n",
    "\n",
    "Ans- Yes we can create a nested dictinary.\n",
    "\n",
    "'''\n",
    "dictionary = {\"key\":{\"key0\":\"val0\", \"key1\":\"val1\",\"key2\":\"val2\"}}\n",
    "type(dictionary)"
   ]
  },
  {
   "cell_type": "code",
   "execution_count": 9,
   "id": "63c7ac8c-e3f6-4b7b-8d47-3df697e5b4c8",
   "metadata": {},
   "outputs": [
    {
     "data": {
      "text/plain": [
       "{'language': 'Python',\n",
       " 'course': 'Data Science Masters',\n",
       " 'topics': ['Python', 'Machine Learning', 'Deep Learning']}"
      ]
     },
     "execution_count": 9,
     "metadata": {},
     "output_type": "execute_result"
    }
   ],
   "source": [
    "\"\"\"Q7. Using setdefault() method, create key named topics in the given dictionary and also add the value of \n",
    "the key as this list ['Python', 'Machine Learning’, 'Deep Learning']\"\"\"\n",
    "\n",
    "\n",
    "dict1 = {'language' : 'Python', 'course': 'Data Science Masters'}\n",
    "          \n",
    "dict1.setdefault('topics',['Python', 'Machine Learning', 'Deep Learning'])\n",
    "dict1"
   ]
  },
  {
   "cell_type": "code",
   "execution_count": 10,
   "id": "30c8b931-6088-4976-8e6f-14b83ac5dfa2",
   "metadata": {},
   "outputs": [
    {
     "name": "stdout",
     "output_type": "stream",
     "text": [
      "dict_keys(['Sport', 'Teams'])\n",
      "dict_values(['Cricket', ['India', 'Australia', 'England', 'South Africa', 'Sri Lanka', 'New Zealand']])\n",
      "dict_items([('Sport', 'Cricket'), ('Teams', ['India', 'Australia', 'England', 'South Africa', 'Sri Lanka', 'New Zealand'])])\n"
     ]
    }
   ],
   "source": [
    "'''Q8. What are the three view objects in dictionaries? Use the three in-built methods in python to display \n",
    "these three view objects for the given dictionary.\n",
    "\n",
    "Ans - The main view objects of dictionary in python are keys, values and items.\n",
    "\n",
    "'''\n",
    "\n",
    "\n",
    "dict1 = {'Sport': 'Cricket' , 'Teams': ['India', 'Australia', 'England', 'South Africa', 'Sri Lanka', 'New Zealand']}\n",
    "\n",
    "print(dict1.keys())\n",
    "\n",
    "print(dict1.values())\n",
    "\n",
    "print(dict1.items())\n"
   ]
  },
  {
   "cell_type": "code",
   "execution_count": null,
   "id": "b28e6933-5d39-45d3-90f1-8e48916a9ae9",
   "metadata": {},
   "outputs": [],
   "source": []
  }
 ],
 "metadata": {
  "kernelspec": {
   "display_name": "Python 3 (ipykernel)",
   "language": "python",
   "name": "python3"
  },
  "language_info": {
   "codemirror_mode": {
    "name": "ipython",
    "version": 3
   },
   "file_extension": ".py",
   "mimetype": "text/x-python",
   "name": "python",
   "nbconvert_exporter": "python",
   "pygments_lexer": "ipython3",
   "version": "3.10.8"
  }
 },
 "nbformat": 4,
 "nbformat_minor": 5
}
