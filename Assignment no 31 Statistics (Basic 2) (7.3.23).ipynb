{
 "cells": [
  {
   "cell_type": "markdown",
   "id": "d2d276a7-0dca-4825-a153-869c6d182d06",
   "metadata": {},
   "source": [
    "## Assignment no 31 Statistics (Basic 2)"
   ]
  },
  {
   "cell_type": "code",
   "execution_count": 19,
   "id": "7d64b4b8-e8d3-4c9b-9f99-1ab377a70b3c",
   "metadata": {},
   "outputs": [],
   "source": [
    "from scipy import stats\n",
    "import pandas as pd\n",
    "import numpy as np"
   ]
  },
  {
   "cell_type": "code",
   "execution_count": null,
   "id": "2de46247-1ca5-4c52-a1e6-002e0172d008",
   "metadata": {},
   "outputs": [],
   "source": [
    "Q1. What are the three measures of central tendency?\n",
    "\n",
    "Ans - Mean, Median and Mode are the three merasures for central tendency."
   ]
  },
  {
   "cell_type": "code",
   "execution_count": null,
   "id": "e5f633b7-5dc5-4bd0-bc17-7836e2388737",
   "metadata": {},
   "outputs": [],
   "source": [
    "Q2. What is the difference between the mean, median, and mode? How are they used to measure the\n",
    "central tendency of a dataset?\n",
    "\n",
    "Ans - Mean - It is the the average of all elements in the dataset.\n",
    "\n",
    "      Median - It is the central most element when a particular dataset in sorted in ascending order.\n",
    "        Condition 1 - If the number of datapoint are even then it is an average of two central most elements.\n",
    "        Condition 2 - If the number of datapoint are odd then it is the central most element.\n",
    "        \n",
    "      Mode - It is the frequency or count of repetitive elements in the dataset."
   ]
  },
  {
   "cell_type": "code",
   "execution_count": 4,
   "id": "9559be7c-f542-4644-9707-e27de95ccfde",
   "metadata": {},
   "outputs": [],
   "source": [
    "# Q3. Measure the three measures of central tendency for the given height data:\n",
    "\n",
    "list1 = pd.DataFrame([178,177,176,177,178.2,178,175,179,180,175,178.9,176.2,177,172.5,178,176.5])"
   ]
  },
  {
   "cell_type": "code",
   "execution_count": 8,
   "id": "0d669917-bd28-43e5-ba90-211b04655e70",
   "metadata": {},
   "outputs": [
    {
     "data": {
      "text/plain": [
       "177.01875"
      ]
     },
     "execution_count": 8,
     "metadata": {},
     "output_type": "execute_result"
    }
   ],
   "source": [
    "# mean()\n",
    "\n",
    "list1[0].mean()"
   ]
  },
  {
   "cell_type": "code",
   "execution_count": 10,
   "id": "5cd89cda-5391-4351-83b9-ca3cf9526137",
   "metadata": {},
   "outputs": [
    {
     "data": {
      "text/plain": [
       "177.0"
      ]
     },
     "execution_count": 10,
     "metadata": {},
     "output_type": "execute_result"
    }
   ],
   "source": [
    "# median()\n",
    "\n",
    "list1[0].median()"
   ]
  },
  {
   "cell_type": "code",
   "execution_count": 15,
   "id": "bf59ec5f-bab6-4bca-8452-9e1a6ea70084",
   "metadata": {},
   "outputs": [
    {
     "name": "stderr",
     "output_type": "stream",
     "text": [
      "/tmp/ipykernel_1131/1890828541.py:3: FutureWarning: Unlike other reduction functions (e.g. `skew`, `kurtosis`), the default behavior of `mode` typically preserves the axis it acts along. In SciPy 1.11.0, this behavior will change: the default value of `keepdims` will become False, the `axis` over which the statistic is taken will be eliminated, and the value None will no longer be accepted. Set `keepdims` to True or False to avoid this warning.\n",
      "  stats.mode(list1)\n"
     ]
    },
    {
     "data": {
      "text/plain": [
       "ModeResult(mode=array([[177.]]), count=array([[3]]))"
      ]
     },
     "execution_count": 15,
     "metadata": {},
     "output_type": "execute_result"
    }
   ],
   "source": [
    "# mode()\n",
    "\n",
    "stats.mode(list1)"
   ]
  },
  {
   "cell_type": "code",
   "execution_count": null,
   "id": "827caefe-7d6d-4eaa-9831-9d4687042e47",
   "metadata": {},
   "outputs": [],
   "source": [
    "#Q4. Find the standard deviation for the given data:\n",
    "#[178,177,176,177,178.2,178,175,179,180,175,178.9,176.2,177,172.5,178,176.5]"
   ]
  },
  {
   "cell_type": "code",
   "execution_count": 17,
   "id": "02261620-3dcd-497e-8707-e5d12f15b215",
   "metadata": {},
   "outputs": [
    {
     "data": {
      "text/plain": [
       "1.847238930584419"
      ]
     },
     "execution_count": 17,
     "metadata": {},
     "output_type": "execute_result"
    }
   ],
   "source": [
    "list1[0].std()"
   ]
  },
  {
   "cell_type": "code",
   "execution_count": null,
   "id": "f6905b5a-4047-460f-8cbd-72d7084bd45c",
   "metadata": {},
   "outputs": [],
   "source": [
    "Q5. How are measures of dispersion such as range, variance, and standard deviation used to describe\n",
    "the spread of a dataset? Provide an example.\n",
    "\n",
    "Ans - Range: It is simply the difference between the maximum value and the minimum value given in a data set. \n",
    "      Example: 1, 3,5, 6, 7 => Range = 7 -1= 6\n",
    "    \n",
    "      Variance: Deduct the mean from each data in the set, square each of them and add each square and finally divide them \n",
    "                by the total no of values in the data set to get the variance. \n",
    "                Variance (σ2) = ∑(X−μ)2/N\n",
    "                \n",
    "      Standard Deviation: The square root of the variance is known as the standard deviation i.e. S.D. = √σ.\n"
   ]
  },
  {
   "cell_type": "code",
   "execution_count": 18,
   "id": "246fc7d4-d1da-4ab6-876f-3555c3ecbc69",
   "metadata": {},
   "outputs": [],
   "source": [
    "data = [1, 3, 5, 6, 7]"
   ]
  },
  {
   "cell_type": "code",
   "execution_count": 22,
   "id": "4d1a2c3f-a733-40e0-8c62-7828ff898750",
   "metadata": {},
   "outputs": [],
   "source": [
    "data = pd.DataFrame(data)"
   ]
  },
  {
   "cell_type": "code",
   "execution_count": 29,
   "id": "f3d6d261-f275-436d-a7bf-2fbffb4ca321",
   "metadata": {},
   "outputs": [
    {
     "data": {
      "text/plain": [
       "6"
      ]
     },
     "execution_count": 29,
     "metadata": {},
     "output_type": "execute_result"
    }
   ],
   "source": [
    "range = max(data[0]) - min(data[0])\n",
    "range"
   ]
  },
  {
   "cell_type": "code",
   "execution_count": 24,
   "id": "3581a299-f1f8-4425-a5e4-d6a4e7f58549",
   "metadata": {},
   "outputs": [
    {
     "data": {
      "text/plain": [
       "5.8"
      ]
     },
     "execution_count": 24,
     "metadata": {},
     "output_type": "execute_result"
    }
   ],
   "source": [
    "data[0].var()"
   ]
  },
  {
   "cell_type": "code",
   "execution_count": 25,
   "id": "be46bf29-0a8a-45bc-8e86-8ce5e4d714f9",
   "metadata": {},
   "outputs": [
    {
     "data": {
      "text/plain": [
       "2.4083189157584592"
      ]
     },
     "execution_count": 25,
     "metadata": {},
     "output_type": "execute_result"
    }
   ],
   "source": [
    "data[0].std()"
   ]
  },
  {
   "cell_type": "code",
   "execution_count": null,
   "id": "44c34871-41c1-4c81-90c5-01b66cc45e28",
   "metadata": {},
   "outputs": [],
   "source": [
    "Q6. What is a Venn diagram?\n",
    "\n",
    "Ans - A Venn diagram is an illustration that uses circles to show the relationships among things or finite groups of things.\n",
    "     Circles that overlap have a commonality while circles that do not overlap do not share those traits.\n",
    "     Venn diagrams help to visually represent the similarities and differences between two concepts."
   ]
  },
  {
   "cell_type": "code",
   "execution_count": 30,
   "id": "7a3f575e-491a-4104-9a42-34185fcfca50",
   "metadata": {},
   "outputs": [],
   "source": [
    "#Q7. For the two given sets A = (2,3,4,5,6,7) & B = (0,2,6,8,10). Find:\n",
    "\n",
    "A = (2,3,4,5,6,7)\n",
    "B = (0,2,6,8,10)"
   ]
  },
  {
   "cell_type": "code",
   "execution_count": 31,
   "id": "3ca0b178-d30d-438b-bedd-fcaa25fbff90",
   "metadata": {},
   "outputs": [
    {
     "name": "stdout",
     "output_type": "stream",
     "text": [
      "<class 'tuple'>\n",
      "<class 'tuple'>\n"
     ]
    }
   ],
   "source": [
    "print(type(A))\n",
    "print(type(B))"
   ]
  },
  {
   "cell_type": "code",
   "execution_count": 32,
   "id": "b04eeddb-ec1a-4946-9543-6a6515cde585",
   "metadata": {},
   "outputs": [],
   "source": [
    "A = set(A)\n",
    "B = set(B)"
   ]
  },
  {
   "cell_type": "code",
   "execution_count": 33,
   "id": "9f1f30fb-1279-4d7d-8905-ddaa8dc1d249",
   "metadata": {},
   "outputs": [
    {
     "name": "stdout",
     "output_type": "stream",
     "text": [
      "<class 'set'>\n",
      "<class 'set'>\n"
     ]
    }
   ],
   "source": [
    "print(type(A))\n",
    "print(type(B))"
   ]
  },
  {
   "cell_type": "code",
   "execution_count": 34,
   "id": "ca749e54-9794-43ae-a56f-10b5a10689ae",
   "metadata": {},
   "outputs": [
    {
     "data": {
      "text/plain": [
       "{2, 6}"
      ]
     },
     "execution_count": 34,
     "metadata": {},
     "output_type": "execute_result"
    }
   ],
   "source": [
    "#(i) A ∩ B\n",
    "\n",
    "A.intersection(B)"
   ]
  },
  {
   "cell_type": "code",
   "execution_count": 35,
   "id": "d5a9e41f-9954-450e-addb-4b66c7ac86e6",
   "metadata": {},
   "outputs": [
    {
     "data": {
      "text/plain": [
       "{0, 2, 3, 4, 5, 6, 7, 8, 10}"
      ]
     },
     "execution_count": 35,
     "metadata": {},
     "output_type": "execute_result"
    }
   ],
   "source": [
    "#(ii) A ⋃ B\n",
    "\n",
    "A.union(B)"
   ]
  },
  {
   "cell_type": "code",
   "execution_count": null,
   "id": "b07fa539-3a95-46f0-96ac-ba220af1acb2",
   "metadata": {},
   "outputs": [],
   "source": [
    "Q8. What do you understand about skewness in data?\n",
    "\n",
    "Ans - Skewness is a measurement of the distortion of symmetrical distribution or asymmetry in a data set. Skewness is \n",
    "      demonstrated on a bell curve when data points are not distributed symmetrically to the left and right sides of the \n",
    "      median on a bell curve.\n",
    "        \n",
    "        The three types of skewness are:\n",
    "           1. Right skew (also called positive skew) - \n",
    "                A right-skewed distribution is longer on the right side of its peak than on its left.\n",
    "           2. Left skew (also called negative skew) -  \n",
    "                A left-skewed distribution is longer on the left side of its peak than on its right.\n",
    "           3.  Zero skew - "
   ]
  },
  {
   "cell_type": "code",
   "execution_count": null,
   "id": "fb7e83a6-e162-4582-9508-37959a94b8ad",
   "metadata": {},
   "outputs": [],
   "source": [
    "Q9. If a data is right skewed then what will be the position of median with respect to mean?\n",
    "\n",
    "Ans - If a data is right skewed then the position of median will be to left to the mean, in other words mean \n",
    "    will be greater median (value wise)."
   ]
  },
  {
   "cell_type": "code",
   "execution_count": null,
   "id": "8737ff4e-a61d-48eb-951c-8ac44d263b19",
   "metadata": {},
   "outputs": [],
   "source": [
    "Q10. Explain the difference between covariance and correlation. How are these measures used in statistical analysis?\n",
    "\n",
    "Ans - Covariance is a statistical term that refers to a systematic relationship between two random variables in which a \n",
    "    change in the other reflects a change in one variable.\n",
    "        The covariance value can range from -∞ to +∞, with a negative value indicating a negative relationship and a \n",
    "    positive value indicating a positive relationship.\n",
    "        The greater this number, the more reliant the relationship. Positive covariance denotes a direct relationship \n",
    "    and is represented by a positive number.\n",
    "        A negative number, on the other hand, denotes negative covariance, which indicates an inverse relationship \n",
    "    between the two variables. Covariance is great for defining the type of relationship, but it's terrible for \n",
    "    interpreting the magnitude.\n",
    "\n",
    "    Let Σ(X) and Σ(Y) be the expected values of the variables, the covariance formula can be represented as:\n",
    "                        \n",
    "                         n       _        _\n",
    "        cov(X,Y) = (1/n) Σ (Xi - X) (Yi - Y) \n",
    "                        i=1\n",
    "                \n",
    "                Where,\n",
    "                        xi = data value of x\n",
    "                        yi = data value of y\n",
    "                        x̄ = mean of x\n",
    "                        ȳ = mean of y\n",
    "                        N = number of data values.\n",
    "Types of Covariance\n",
    "Covariance can be either positive or negative. It is classified into two sorts based on this:\n",
    "    1. Positive Covariance\n",
    "            A positive covariance between two variables indicates that they are heading in the same direction. The \n",
    "        variables, in this case, behave similarly. That is, if the values of one variable (more or smaller) correspond \n",
    "        to the values of another variable, they are said to be in positive covariance.\n",
    "\n",
    "    2. Negative Covariance\n",
    "            When two variables have a negative covariance, the variables shift in the opposite direction. It is the \n",
    "        inverse of positive covariance, in which higher values of one variable correlate to lower values of another \n",
    "        and vice versa.\n",
    "        \n",
    "    Correlation is a measure that determines the degree to which two or more random variables move in sequence. \n",
    "    When an equivalent movement of another variable reciprocates the movement of one variable in some way or another \n",
    "    during the study of two variables, the variables are said to be correlated. The formula for correlation is:\n",
    "        \n",
    "                                      cov(X,Y)\n",
    "        ρ(xy) = correlation(X,Y) = ----------------\n",
    "                                   √var(X) √var(Y) \n",
    "       \n",
    "        where,\n",
    "            var(X) = standard deviation of X\n",
    "            var(Y) = standard deviation of Y\n",
    "\n",
    "    Positive correlation occurs when two variables move in the same direction. When variables move in the opposite \n",
    "    direction, they are said to be negatively correlated.\n",
    "\n",
    "    Correlation is of three types:\n",
    "        1. Simple Correlation: \n",
    "            In simple correlation, a single number expresses the degree to which two variables are related.\n",
    "        2. Partial Correlation: \n",
    "            When one variable's effects are removed, the correlation between two variables is revealed in partial \n",
    "            correlation.\n",
    "        3. Multiple correlation: \n",
    "            A statistical technique that uses two or more variables to predict the value of one variable."
   ]
  },
  {
   "cell_type": "code",
   "execution_count": null,
   "id": "0b6f6f10-9ce6-4503-8387-836454b6e433",
   "metadata": {},
   "outputs": [],
   "source": [
    "Q11. What is the formula for calculating the sample mean? Provide an example calculation for a\n",
    "dataset.\n",
    "\n",
    "    Ans -                             n\n",
    "            sample mean (s) = (1/n)   Σ Xi\n",
    "                                     i=1"
   ]
  },
  {
   "cell_type": "code",
   "execution_count": 39,
   "id": "c5e190d7-1e56-43d5-afd0-85403d22fc02",
   "metadata": {},
   "outputs": [],
   "source": [
    "sample = np.array([1,2,3,4,5])"
   ]
  },
  {
   "cell_type": "code",
   "execution_count": 40,
   "id": "22bb4153-8b5f-4cea-8622-9adb099cb722",
   "metadata": {},
   "outputs": [
    {
     "data": {
      "text/plain": [
       "3.0"
      ]
     },
     "execution_count": 40,
     "metadata": {},
     "output_type": "execute_result"
    }
   ],
   "source": [
    "sample.mean()"
   ]
  },
  {
   "cell_type": "code",
   "execution_count": null,
   "id": "96a6956a-e0de-472c-819e-a0bc3a944446",
   "metadata": {},
   "outputs": [],
   "source": [
    "Q12. For a normal distribution data what is the relationship between its measure of central tendency?\n",
    "\n",
    "Ans - Any normal distribution has a graph that is perfectly symmetric about a vertical line through its peak. Therefore, \n",
    "     all measures of central tendency (most commonly, the mean, median, and mode) give the same answer"
   ]
  },
  {
   "cell_type": "code",
   "execution_count": null,
   "id": "796a47d6-f221-42d1-933b-5d1d182452e4",
   "metadata": {},
   "outputs": [],
   "source": [
    "Q13. How is covariance different from correlation?\n",
    "\n",
    "Ans - Covariance is a statistical term that refers to a systematic relationship between two random variables in which a \n",
    "    change in the other reflects a change in one variable where  Correlation is a measure that determines the degree to which \n",
    "    two or more random variables move in sequence."
   ]
  },
  {
   "cell_type": "code",
   "execution_count": null,
   "id": "e8fb4aa6-3b90-4ab7-9ea7-e627c39cbc44",
   "metadata": {},
   "outputs": [],
   "source": [
    "Q14. How do outliers affect measures of central tendency and dispersion? Provide an example.\n",
    "\n",
    "Ans - If the outlier is present in data the mean varies too from the central positon while it doesnt affects the median\n",
    "    and mode that much."
   ]
  },
  {
   "cell_type": "code",
   "execution_count": 52,
   "id": "8c4079c5-cb53-4d98-94ab-017fc726835a",
   "metadata": {},
   "outputs": [],
   "source": [
    "A = [1,2,1,4,2,2,7,2,9,3]"
   ]
  },
  {
   "cell_type": "code",
   "execution_count": 53,
   "id": "5624c5b8-b0ad-42c1-9fef-7af41cfd258d",
   "metadata": {},
   "outputs": [
    {
     "data": {
      "text/plain": [
       "3.3"
      ]
     },
     "execution_count": 53,
     "metadata": {},
     "output_type": "execute_result"
    }
   ],
   "source": [
    "np.mean(A)"
   ]
  },
  {
   "cell_type": "code",
   "execution_count": 54,
   "id": "49a93b42-e856-41e6-aa77-79918079c2cc",
   "metadata": {},
   "outputs": [
    {
     "data": {
      "text/plain": [
       "2.0"
      ]
     },
     "execution_count": 54,
     "metadata": {},
     "output_type": "execute_result"
    }
   ],
   "source": [
    "np.median(A)"
   ]
  },
  {
   "cell_type": "code",
   "execution_count": 55,
   "id": "5be5956a-fa69-4971-b881-b502bae0d9f1",
   "metadata": {},
   "outputs": [
    {
     "name": "stderr",
     "output_type": "stream",
     "text": [
      "/tmp/ipykernel_1131/1235851453.py:1: FutureWarning: Unlike other reduction functions (e.g. `skew`, `kurtosis`), the default behavior of `mode` typically preserves the axis it acts along. In SciPy 1.11.0, this behavior will change: the default value of `keepdims` will become False, the `axis` over which the statistic is taken will be eliminated, and the value None will no longer be accepted. Set `keepdims` to True or False to avoid this warning.\n",
      "  stats.mode(A)\n"
     ]
    },
    {
     "data": {
      "text/plain": [
       "ModeResult(mode=array([2]), count=array([4]))"
      ]
     },
     "execution_count": 55,
     "metadata": {},
     "output_type": "execute_result"
    }
   ],
   "source": [
    "stats.mode(A)"
   ]
  },
  {
   "cell_type": "code",
   "execution_count": 57,
   "id": "4f866d0c-e48d-4ccd-8c39-3e860a66864b",
   "metadata": {},
   "outputs": [],
   "source": [
    "B = [1,2,1,4,2,2,7,2,9,3,777]"
   ]
  },
  {
   "cell_type": "code",
   "execution_count": 58,
   "id": "04ea45c3-0310-4c4d-9bc6-933cc857970c",
   "metadata": {},
   "outputs": [
    {
     "data": {
      "text/plain": [
       "73.63636363636364"
      ]
     },
     "execution_count": 58,
     "metadata": {},
     "output_type": "execute_result"
    }
   ],
   "source": [
    "np.mean(B)"
   ]
  },
  {
   "cell_type": "code",
   "execution_count": 59,
   "id": "b7d9ca92-b034-453a-b88d-c99f7ff3e957",
   "metadata": {},
   "outputs": [
    {
     "data": {
      "text/plain": [
       "2.0"
      ]
     },
     "execution_count": 59,
     "metadata": {},
     "output_type": "execute_result"
    }
   ],
   "source": [
    "np.median(B)"
   ]
  },
  {
   "cell_type": "code",
   "execution_count": 60,
   "id": "389a7386-d4d7-4175-bd08-61406c7d8a05",
   "metadata": {},
   "outputs": [
    {
     "name": "stderr",
     "output_type": "stream",
     "text": [
      "/tmp/ipykernel_1131/2143895044.py:1: FutureWarning: Unlike other reduction functions (e.g. `skew`, `kurtosis`), the default behavior of `mode` typically preserves the axis it acts along. In SciPy 1.11.0, this behavior will change: the default value of `keepdims` will become False, the `axis` over which the statistic is taken will be eliminated, and the value None will no longer be accepted. Set `keepdims` to True or False to avoid this warning.\n",
      "  stats.mode(B)\n"
     ]
    },
    {
     "data": {
      "text/plain": [
       "ModeResult(mode=array([2]), count=array([4]))"
      ]
     },
     "execution_count": 60,
     "metadata": {},
     "output_type": "execute_result"
    }
   ],
   "source": [
    "stats.mode(B)"
   ]
  },
  {
   "cell_type": "code",
   "execution_count": null,
   "id": "06712f2d-b667-4887-8daa-cb029bfafff9",
   "metadata": {},
   "outputs": [],
   "source": []
  }
 ],
 "metadata": {
  "kernelspec": {
   "display_name": "Python 3 (ipykernel)",
   "language": "python",
   "name": "python3"
  },
  "language_info": {
   "codemirror_mode": {
    "name": "ipython",
    "version": 3
   },
   "file_extension": ".py",
   "mimetype": "text/x-python",
   "name": "python",
   "nbconvert_exporter": "python",
   "pygments_lexer": "ipython3",
   "version": "3.10.8"
  }
 },
 "nbformat": 4,
 "nbformat_minor": 5
}
