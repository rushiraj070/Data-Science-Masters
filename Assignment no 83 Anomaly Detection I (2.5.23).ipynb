{
 "cells": [
  {
   "cell_type": "markdown",
   "id": "74615160-7e3b-4268-b90f-380dbd083358",
   "metadata": {},
   "source": [
    "# Assignment no 83 Anomaly Detection I (2.5.23)"
   ]
  },
  {
   "cell_type": "code",
   "execution_count": null,
   "id": "fbdf0b1b-f74a-46c4-8b39-9860548bc06f",
   "metadata": {},
   "outputs": [],
   "source": []
  },
  {
   "cell_type": "markdown",
   "id": "b8359f75-cb04-473c-87e8-8523658c4f83",
   "metadata": {
    "tags": []
   },
   "source": [
    "### Q1. What is anomaly detection and what is its purpose?\n",
    "\n",
    "Ans - \n",
    "\n",
    "**Anomaly detection** is the process of identifying data points that deviate significantly from the majority of the data. These data points are referred to as anomalies, outliers, or exceptions.\n",
    "\n",
    "**Purpose**:\n",
    "- **Detect Fraud**: In financial transactions to spot fraudulent activities.\n",
    "- **Monitor Systems**: In IT and industrial systems to detect unusual patterns that might indicate malfunctions.\n",
    "- **Ensure Quality**: In manufacturing to identify defective products.\n",
    "- **Security**: In cybersecurity to identify potential security breaches."
   ]
  },
  {
   "cell_type": "code",
   "execution_count": null,
   "id": "dbdbd82f-5039-44f9-b72b-14f27582bae1",
   "metadata": {},
   "outputs": [],
   "source": []
  },
  {
   "cell_type": "markdown",
   "id": "c8244ee9-7115-4d3c-b756-37909fc3984a",
   "metadata": {},
   "source": [
    "### Q2. What are the key challenges in anomaly detection?\n",
    "\n",
    "Ans - \n",
    "\n",
    "**Key Challenges**:\n",
    "- **Imbalanced Data**: Anomalies are rare compared to normal instances, making it hard to train models.\n",
    "- **Defining Anomalies**: It can be subjective and context-dependent.\n",
    "- **High Dimensionality**: Increases complexity and computational cost.\n",
    "- **Noise**: Distinguishing between noise and true anomalies can be difficult.\n",
    "- **Dynamic Data**: Changing patterns over time require adaptive models."
   ]
  },
  {
   "cell_type": "code",
   "execution_count": null,
   "id": "e80239c1-cf95-4c05-828e-5783668ac9a6",
   "metadata": {},
   "outputs": [],
   "source": []
  },
  {
   "cell_type": "markdown",
   "id": "5e2288f2-c30b-461b-a8a2-01f4050a5022",
   "metadata": {},
   "source": [
    "### Q3. How does unsupervised anomaly detection differ from supervised anomaly detection?\n",
    "\n",
    "Ans - \n",
    "\n",
    "**Unsupervised Anomaly Detection**:\n",
    "- No labeled data (anomalous vs. normal) is used.\n",
    "- Algorithms detect anomalies based on patterns and structure of the data itself.\n",
    "- Common techniques: clustering (e.g., DBSCAN), statistical methods.\n",
    "\n",
    "**Supervised Anomaly Detection**:\n",
    "- Uses labeled data with known anomalies and normal instances.\n",
    "- Trains a model to classify data points as normal or anomalous.\n",
    "- Common techniques: classification algorithms (e.g., SVM, neural networks)."
   ]
  },
  {
   "cell_type": "code",
   "execution_count": null,
   "id": "c409ee60-c121-4a80-84af-85314ad96cc5",
   "metadata": {},
   "outputs": [],
   "source": []
  },
  {
   "cell_type": "markdown",
   "id": "3443d2a8-1fc0-464e-84ea-d4fb142cf70d",
   "metadata": {},
   "source": [
    "### Q4. What are the main categories of anomaly detection algorithms?\n",
    "\n",
    "Ans - \n",
    "\n",
    "**Main Categories**:\n",
    "1. **Statistical Methods**: Assumes data follows a certain distribution and identifies anomalies as deviations from this distribution.\n",
    "2. **Proximity-Based Methods**: Detect anomalies based on the distance or density of data points (e.g., k-NN, DBSCAN).\n",
    "3. **Clustering-Based Methods**: Identifies anomalies as data points that do not belong to any cluster or belong to small clusters (e.g., k-means, hierarchical clustering).\n",
    "4. **Classification-Based Methods**: Uses supervised learning to classify data points as normal or anomalous (e.g., SVM, neural networks).\n",
    "5. **Isolation-Based Methods**: Isolates anomalies instead of profiling normal data (e.g., Isolation Forest).\n"
   ]
  },
  {
   "cell_type": "code",
   "execution_count": null,
   "id": "6eedb899-5913-4d73-ae1a-9c774c6afedb",
   "metadata": {},
   "outputs": [],
   "source": []
  },
  {
   "cell_type": "markdown",
   "id": "b9092a22-fa00-45b7-a462-cd5c11b9d2c7",
   "metadata": {},
   "source": [
    "### Q5. What are the main assumptions made by distance-based anomaly detection methods?\n",
    "\n",
    "Ans - \n",
    "\n",
    "**Main Assumptions**:\n",
    "- **Distance Consistency**: Normal data points are close to their neighbors, while anomalies are far from them.\n",
    "- **Homogeneity**: The data points follow a consistent pattern or distribution, making deviations identifiable.\n",
    "- **Low-Dimensional Data**: These methods work best when the data is not too high-dimensional as the curse of dimensionality can affect distance calculations.\n"
   ]
  },
  {
   "cell_type": "code",
   "execution_count": null,
   "id": "4d2d8c72-ac3e-4fcb-9902-edd1f0cdaccf",
   "metadata": {},
   "outputs": [],
   "source": []
  },
  {
   "cell_type": "markdown",
   "id": "83594e09-e31b-4eff-9185-49bc8375291d",
   "metadata": {},
   "source": [
    "### Q6. How does the LOF algorithm compute anomaly scores?\n",
    "\n",
    "Ans - \n",
    "\n",
    "The **Local Outlier Factor (LOF)** algorithm computes anomaly scores based on the local density of data points. Here’s how it works:\n",
    "1. **k-Distance**: For each point, find the distance to its k-th nearest neighbor.\n",
    "2. **Reachability Distance**: For each point, calculate the reachability distance from other points within its k-distance.\n",
    "3. **Local Reachability Density (LRD)**: Compute the inverse of the average reachability distance of the point.\n",
    "4. **LOF Score**: The LOF score is the average ratio of the local reachability density of a point and the local reachability densities of its k-nearest neighbors. Higher LOF scores indicate greater likelihood of being an anomaly.\n"
   ]
  },
  {
   "cell_type": "code",
   "execution_count": null,
   "id": "349ffe64-edb8-4da1-b44e-d2e74d37318f",
   "metadata": {},
   "outputs": [],
   "source": []
  },
  {
   "cell_type": "markdown",
   "id": "c88ac54d-7756-4a1d-939d-ba3c4990f04d",
   "metadata": {},
   "source": [
    "### Q7. What are the key parameters of the Isolation Forest algorithm?\n",
    "\n",
    "Ans - \n",
    "\n",
    "**Key Parameters**:\n",
    "- **Number of Trees (n_estimators)**: The number of trees in the forest.\n",
    "- **Subsample Size (max_samples)**: The number of samples used to train each tree.\n",
    "- **Contamination**: The proportion of the data that is expected to be anomalous, used to set the decision threshold.\n"
   ]
  },
  {
   "cell_type": "code",
   "execution_count": null,
   "id": "3cdd9eeb-c481-4079-8624-6d88f818e9eb",
   "metadata": {},
   "outputs": [],
   "source": []
  },
  {
   "cell_type": "markdown",
   "id": "e4bd4dd0-55c7-4d9e-99b0-e69abf8612f4",
   "metadata": {},
   "source": [
    "### Q8. If a data point has only 2 neighbors of the same class within a radius of 0.5, what is its anomaly score using KNN with K=10?\n",
    "\n",
    "Ans - \n",
    "\n",
    "To compute the anomaly score for a data point using KNN (with K=10):\n",
    "- **Anomaly Score**: This score could be the ratio of the number of neighbors within the given radius to K.\n",
    "- Given the data point has only 2 neighbors within a radius of 0.5 out of 10 required neighbors:\n",
    "\\[ \\Anomaly Score = 1 - (2/10) = 0.8 \\]"
   ]
  },
  {
   "cell_type": "code",
   "execution_count": null,
   "id": "5921384c-9565-440a-b0a0-03c0cf8d163e",
   "metadata": {},
   "outputs": [],
   "source": []
  },
  {
   "cell_type": "markdown",
   "id": "a38b5c26-5ee0-4c7b-8847-376fad1a5e39",
   "metadata": {},
   "source": [
    "### Q9. Using the Isolation Forest algorithm with 100 trees and a dataset of 3000 data points, what is the anomaly score for a data point that has an average path length of 5.0 compared to the average path length of the trees?\n",
    "\n",
    "Ans - \n",
    "\n",
    "The anomaly score in the Isolation Forest algorithm is based on the path length. A shorter path length indicates an anomaly. The average path length for a data point can be compared to the expected average path length in a random binary search tree.\n",
    "\n",
    "**Calculation**:\n",
    "- If the average path length for a data point is significantly shorter than the expected average path length, it is considered an anomaly.\n",
    "- The specific formula used in the Isolation Forest to compute the anomaly score is typically given by:\n",
    "\\[ \\Anomaly Score = 2^{-\\(l(x))/(c(n)) \\]\n",
    "where \\( l(x) \\) is the average path length of the point and \\( c(n) \\) is the average path length of unsuccessful search in a Binary Search Tree.\n",
    "\n",
    "Since exact numbers are required for precise calculation, it can be done with software."
   ]
  },
  {
   "cell_type": "code",
   "execution_count": null,
   "id": "456bb4bc-067d-41f1-8341-0e970b845001",
   "metadata": {},
   "outputs": [],
   "source": []
  },
  {
   "cell_type": "code",
   "execution_count": null,
   "id": "19072a08-1952-4e46-85ee-913ee5cb3cad",
   "metadata": {},
   "outputs": [],
   "source": []
  },
  {
   "cell_type": "code",
   "execution_count": null,
   "id": "6bc93c27-0bdb-4e2a-b0aa-b9d3a95ae67e",
   "metadata": {},
   "outputs": [],
   "source": []
  },
  {
   "cell_type": "code",
   "execution_count": null,
   "id": "4e9b5ffb-57ac-41ef-b325-db967e5cc5b5",
   "metadata": {},
   "outputs": [],
   "source": []
  },
  {
   "cell_type": "code",
   "execution_count": null,
   "id": "c00c6892-b95a-4979-b016-9aeb68af59f2",
   "metadata": {},
   "outputs": [],
   "source": []
  },
  {
   "cell_type": "code",
   "execution_count": null,
   "id": "046b69a5-1887-4365-b0ea-8624c3fba0cc",
   "metadata": {},
   "outputs": [],
   "source": []
  },
  {
   "cell_type": "code",
   "execution_count": null,
   "id": "af6305fd-9f97-4fc3-8512-9affdfd3f7ed",
   "metadata": {},
   "outputs": [],
   "source": []
  },
  {
   "cell_type": "code",
   "execution_count": null,
   "id": "601ea2e5-ab2e-4546-bbaa-9d4b2c7dcfaa",
   "metadata": {},
   "outputs": [],
   "source": []
  },
  {
   "cell_type": "code",
   "execution_count": null,
   "id": "25f3c624-670b-4806-9380-90396c6569c0",
   "metadata": {},
   "outputs": [],
   "source": []
  },
  {
   "cell_type": "code",
   "execution_count": null,
   "id": "773676fd-4430-434c-9bd2-9242739c817f",
   "metadata": {},
   "outputs": [],
   "source": []
  },
  {
   "cell_type": "code",
   "execution_count": null,
   "id": "23e020f8-9c2b-4923-855e-3c9d72a8b786",
   "metadata": {},
   "outputs": [],
   "source": []
  }
 ],
 "metadata": {
  "kernelspec": {
   "display_name": "Python 3 (ipykernel)",
   "language": "python",
   "name": "python3"
  },
  "language_info": {
   "codemirror_mode": {
    "name": "ipython",
    "version": 3
   },
   "file_extension": ".py",
   "mimetype": "text/x-python",
   "name": "python",
   "nbconvert_exporter": "python",
   "pygments_lexer": "ipython3",
   "version": "3.10.8"
  }
 },
 "nbformat": 4,
 "nbformat_minor": 5
}
