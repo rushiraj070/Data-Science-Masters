{
 "cells": [
  {
   "cell_type": "markdown",
   "id": "9d13fc7b-ce83-4b28-b11d-9f8af767e5e0",
   "metadata": {},
   "source": [
    "## Assignment no 36"
   ]
  },
  {
   "cell_type": "code",
   "execution_count": 1,
   "id": "b9ae3ab0-944d-49f4-815b-2beca1fc1cc9",
   "metadata": {},
   "outputs": [],
   "source": [
    "import numpy as np\n",
    "from scipy import stats"
   ]
  },
  {
   "cell_type": "code",
   "execution_count": 2,
   "id": "e10c4d74-9f02-4d20-8f8f-c733102c35bc",
   "metadata": {},
   "outputs": [
    {
     "name": "stdout",
     "output_type": "stream",
     "text": [
      "The standard error is 0.5.\n",
      "\n",
      "The degree of freedom is 99.\n",
      "\n",
      "The t statistics value is 1.9842.\n",
      "\n",
      "Interpretation : The 95% confidence interval lies between 49.01 and 50.99\n"
     ]
    }
   ],
   "source": [
    "'''Q1. Calculate the 95% confidence interval for a sample of data with a mean of 50 and a standard deviation\n",
    "of 5 using Python. Interpret the results.'''\n",
    "\n",
    "sample_mean = 50\n",
    "sample_std = 5\n",
    "sample_size = 100\n",
    "confidence_interval = 0.95\n",
    "\n",
    "std_error = sample_std/np.sqrt(sample_size)\n",
    "print(f\"The standard error is {std_error}.\\n\")\n",
    "\n",
    "dof = sample_size - 1\n",
    "print(f\"The degree of freedom is {dof}.\\n\")\n",
    "\n",
    "t_value = stats.t.ppf(0.975, dof)\n",
    "print(f\"The t statistics value is {t_value:.4f}.\\n\")\n",
    "\n",
    "Lower_CI = sample_mean - t_value * std_error\n",
    "Upper_CI = sample_mean + t_value * std_error\n",
    "print(f\"Interpretation : The 95% confidence interval lies between {Lower_CI:.2f} and {Upper_CI:.2f}\")"
   ]
  },
  {
   "cell_type": "code",
   "execution_count": 3,
   "id": "5cb3430d-f279-4a5e-9fd9-3b317ca05766",
   "metadata": {},
   "outputs": [
    {
     "name": "stdout",
     "output_type": "stream",
     "text": [
      "Interpretation : The 95% confidence interval lies between 40.08 and 59.92\n"
     ]
    }
   ],
   "source": [
    "Lower_CI = stats.t.ppf(0.025, sample_size - 1, loc = sample_mean, scale = sample_std)\n",
    "Upper_CI = stats.t.ppf(0.975, sample_size - 1, loc = sample_mean, scale = sample_std)\n",
    "print(f\"Interpretation : The 95% confidence interval lies between {Lower_CI:.2f} and {Upper_CI:.2f}\")"
   ]
  },
  {
   "cell_type": "code",
   "execution_count": 4,
   "id": "401b044c-d3e5-4b4b-a51d-8b599493a271",
   "metadata": {},
   "outputs": [],
   "source": [
    "'''Q2. Conduct a chi-square goodness of fit test to determine if the distribution of colors of M&Ms in a bag\n",
    "matches the expected distribution of 20% blue, 20% orange, 20% green, 10% yellow, 10% red, and 20%\n",
    "brown. Use Python to perform the test with a significance level of 0.05.\n",
    "\n",
    "Ans - There are approximately 255 M&Ms in a cup (8 oz) so we are considering ~300 M&Ms as population. '''\n",
    "\n",
    "significance_value = 0.05\n",
    "confidence_interval = 1 - significance_value"
   ]
  },
  {
   "cell_type": "code",
   "execution_count": 5,
   "id": "2f519ed9-0261-43a7-8d91-2409a83c125e",
   "metadata": {},
   "outputs": [],
   "source": [
    "observed_color_distribution = np.array([56, 44, 47, 62, 53, 38])\n",
    "expected_color_distribution = np.array([0.2, 0.2, 0.2, 0.1, 0.1, 0.2]) * sum(observed_color_distribution)"
   ]
  },
  {
   "cell_type": "code",
   "execution_count": 6,
   "id": "76bc0101-85c2-41ea-8142-a67c922b97e4",
   "metadata": {},
   "outputs": [],
   "source": [
    "chi2, p = stats.chisquare(observed_color_distribution, expected_color_distribution)"
   ]
  },
  {
   "cell_type": "code",
   "execution_count": 7,
   "id": "80b2f662-6535-49dd-9484-92b7adde9680",
   "metadata": {},
   "outputs": [
    {
     "data": {
      "text/plain": [
       "(11.070497693516351, 5)"
      ]
     },
     "execution_count": 7,
     "metadata": {},
     "output_type": "execute_result"
    }
   ],
   "source": [
    "dof= len(expected_color_distribution)-1\n",
    "critical_value=stats.chi2.ppf(confidence_interval,dof)\n",
    "critical_value, dof"
   ]
  },
  {
   "cell_type": "code",
   "execution_count": 8,
   "id": "7b7d6dea-2d96-4f15-8def-27e8d43df223",
   "metadata": {},
   "outputs": [
    {
     "name": "stdout",
     "output_type": "stream",
     "text": [
      "chi-square statistic = 67.18\n",
      "p-value = 0.0000\n"
     ]
    }
   ],
   "source": [
    "print(f\"chi-square statistic = {chi2:.2f}\")\n",
    "print(f\"p-value = {p:.4f}\")"
   ]
  },
  {
   "cell_type": "code",
   "execution_count": 9,
   "id": "84dc2f12-fa0d-4bb5-9c7b-d841b186da6f",
   "metadata": {},
   "outputs": [
    {
     "name": "stdout",
     "output_type": "stream",
     "text": [
      "Reject the null hypothesis\n"
     ]
    }
   ],
   "source": [
    "if chi2 > critical_value:\n",
    "    print(\"Reject the null hypothesis\")\n",
    "else:\n",
    "    print(\"Failed to reject null hypothsis\")"
   ]
  },
  {
   "cell_type": "code",
   "execution_count": 10,
   "id": "8755c89e-bc53-4976-a05e-f9c03e0056c6",
   "metadata": {},
   "outputs": [],
   "source": [
    "'''Q3. Use Python to calculate the chi-square statistic and p-value for a contingency table with the following\n",
    "data:\n",
    "\n",
    "            Group A     Group B\n",
    "\n",
    "Outcome 1      20          15\n",
    "Outcome 2      10          25\n",
    "Outcome 3      15          20\n",
    " \n",
    "Interpret the results of the test.'''\n",
    "\n",
    "group_A = [20,10,15]\n",
    "group_B = [15,25,20]"
   ]
  },
  {
   "cell_type": "code",
   "execution_count": 11,
   "id": "a92c5fed-5b7d-40ff-96e6-fa35196364b8",
   "metadata": {},
   "outputs": [
    {
     "data": {
      "text/plain": [
       "False"
      ]
     },
     "execution_count": 11,
     "metadata": {},
     "output_type": "execute_result"
    }
   ],
   "source": [
    "sum(group_A) == sum(group_B)"
   ]
  },
  {
   "cell_type": "code",
   "execution_count": 12,
   "id": "c95a0b4a-ec08-4f25-b02e-a802f4095c73",
   "metadata": {},
   "outputs": [],
   "source": [
    "observed = np.array([[20, 15], [10, 25], [15, 20]])"
   ]
  },
  {
   "cell_type": "code",
   "execution_count": 13,
   "id": "341e1292-d888-4df9-be16-e7cf933e5ba3",
   "metadata": {},
   "outputs": [],
   "source": [
    "chisquare_test, p_value, dof, expected= stats.chi2_contingency(observed)"
   ]
  },
  {
   "cell_type": "code",
   "execution_count": 14,
   "id": "e8631289-e7cc-47a6-ab26-52c06ae3e8bf",
   "metadata": {},
   "outputs": [
    {
     "name": "stdout",
     "output_type": "stream",
     "text": [
      "Reject the null hypothesis\n"
     ]
    }
   ],
   "source": [
    "if p_value > 0.05:\n",
    "    print(\"Reject the null hypothesis\")\n",
    "else:\n",
    "    print(\"Failed to reject null hypothsis\")        "
   ]
  },
  {
   "cell_type": "code",
   "execution_count": 21,
   "id": "ffcfecd8-c106-470c-883a-61a79346884c",
   "metadata": {},
   "outputs": [
    {
     "name": "stdout",
     "output_type": "stream",
     "text": [
      "The 95% confidence interval for the true proportion of smokers in the population is [0.09, 0.15]\n"
     ]
    }
   ],
   "source": [
    "'''Q4. A study of the prevalence of smoking in a population of 500 individuals found that 60 individuals\n",
    "smoked. Use Python to calculate the 95% confidence interval for the true proportion of individuals in the\n",
    "population who smoke.'''\n",
    "\n",
    "import statsmodels.stats.proportion as proportion\n",
    "\n",
    "#number of individuals who smoked\n",
    "smokers = 60\n",
    "\n",
    "#total number of individuals\n",
    "sample_size = 500\n",
    "\n",
    "# estimate of the proportion of smokers in the population\n",
    "p_hat = smokers / sample_size\n",
    "\n",
    "# calculate the confidence interval\n",
    "conf_int = proportion.proportion_confint(count=smokers, nobs=sample_size, alpha=0.05)\n",
    "\n",
    "# print the results\n",
    "print(f\"The 95% confidence interval for the true proportion of smokers in the population is [{conf_int[0]:.2f}, {conf_int[1]:.2f}]\")"
   ]
  },
  {
   "cell_type": "raw",
   "id": "4d0e777b-17e4-4dfb-bb55-e5769233d174",
   "metadata": {},
   "source": [
    "Translations of prevalence\n",
    "प्रभाव\n",
    "ascendancy, Impact, Importance, prevalence, virtue\n",
    "प्रघात\n",
    "prevalence, practice\n",
    "प्राबल्य\n",
    "prevalence, predominance, ascendency, Dominance, preponderance, Superiority"
   ]
  },
  {
   "cell_type": "code",
   "execution_count": 7,
   "id": "3fe34283-43cf-4cda-8434-b259d77494af",
   "metadata": {},
   "outputs": [
    {
     "name": "stdout",
     "output_type": "stream",
     "text": [
      "The standard error is 1.2.\n",
      "\n",
      "The degree of freedom is 99.\n",
      "\n",
      "The t statistics value is 1.6604.\n",
      "\n",
      "Interpretation : The 90% confidence interval lies between 73.01 and 76.99\n"
     ]
    }
   ],
   "source": [
    "'''Q5. Calculate the 90% confidence interval for a sample of data with a mean of 75 and a standard deviation\n",
    "of 12 using Python. Interpret the results.'''\n",
    "\n",
    "import scipy.stats as stats\n",
    "import numpy as np\n",
    "\n",
    "sample_mean = 75\n",
    "sample_std = 12\n",
    "sample_size = 100 #assumed\n",
    "confidence_interval = 0.90\n",
    "\n",
    "std_error = sample_std/np.sqrt(sample_size)\n",
    "print(f\"The standard error is {std_error}.\\n\")\n",
    "\n",
    "dof = sample_size - 1\n",
    "print(f\"The degree of freedom is {dof}.\\n\")\n",
    "\n",
    "t_value = stats.t.ppf(0.95, dof)\n",
    "print(f\"The t statistics value is {t_value:.4f}.\\n\")\n",
    "\n",
    "Lower_CI = sample_mean - t_value * std_error\n",
    "Upper_CI = sample_mean + t_value * std_error\n",
    "print(f\"Interpretation : The 90% confidence interval lies between {Lower_CI:.2f} and {Upper_CI:.2f}\")"
   ]
  },
  {
   "cell_type": "code",
   "execution_count": 6,
   "id": "1ae20b87-9376-4207-a28c-67fdf7dca973",
   "metadata": {},
   "outputs": [
    {
     "data": {
      "image/png": "[encoded data removed]",
      "text/plain": [
       "<Figure size 640x480 with 1 Axes>"
      ]
     },
     "metadata": {},
     "output_type": "display_data"
    }
   ],
   "source": [
    "'''Q6. Use Python to plot the chi-square distribution with 10 degrees of freedom. Label the axes and shade the\n",
    "area corresponding to a chi-square statistic of 15.'''\n",
    "\n",
    "import numpy as np\n",
    "import matplotlib.pyplot as plt\n",
    "from scipy.stats import chi2\n",
    "\n",
    "df = 10\n",
    "\n",
    "#create the x-axis values for the plot\n",
    "x = np.linspace(0, 30, 500)\n",
    "\n",
    "#create the chi-square distribution\n",
    "chi = chi2(df)\n",
    "\n",
    "plt.plot(x, chi.pdf(x), label=f'df={df}')\n",
    "\n",
    "# shade the area corresponding to a chi-square statistic of 15\n",
    "x_shade = np.linspace(15, 30, 500)\n",
    "y_shade = chi.pdf(x_shade)\n",
    "plt.fill_between(x_shade, y_shade, where=x_shade > 15, color='blue')\n",
    "plt.xlabel('chi-square statistic')\n",
    "plt.ylabel('Probability density')\n",
    "plt.title(f'Chi-square distribution with {df} degrees of freedom')\n",
    "plt.legend()\n",
    "plt.show()"
   ]
  },
  {
   "cell_type": "code",
   "execution_count": 11,
   "id": "f02bc38d-4ead-4473-b798-d086e639a6f6",
   "metadata": {},
   "outputs": [
    {
     "name": "stdout",
     "output_type": "stream",
     "text": [
      "The 99% confidence interval for the true proportion of smokers in the population is [0.479, 0.561]\n"
     ]
    }
   ],
   "source": [
    "'''Q7. A random sample of 1000 people was asked if they preferred Coke or Pepsi. Of the sample, 520\n",
    "preferred Coke. Calculate a 99% confidence interval for the true proportion of people in the population who\n",
    "prefer Coke.'''\n",
    "\n",
    "import statsmodels.stats.proportion as proportion\n",
    "\n",
    "#number of individuals who smoked\n",
    "coke = 520\n",
    "\n",
    "#total number of individuals\n",
    "sample_size = 1000\n",
    "\n",
    "# estimate of the proportion of smokers in the population\n",
    "prob_coke = coke / sample_size\n",
    "\n",
    "# calculate the confidence interval\n",
    "conf_int = proportion.proportion_confint(count=coke, nobs=sample_size, alpha=0.01)\n",
    "\n",
    "# print the results\n",
    "print(f\"The 99% confidence interval for the true proportion of smokers in the population is [{conf_int[0]:.3f}, {conf_int[1]:.3f}]\")"
   ]
  },
  {
   "cell_type": "code",
   "execution_count": null,
   "id": "34fd0a7f-a199-4da5-ad55-617e27152761",
   "metadata": {},
   "outputs": [],
   "source": [
    "Q8. A researcher hypothesizes that a coin is biased towards tails. They flip the coin 100 times and observe\n",
    "45 tails. Conduct a chi-square goodness of fit test to determine if the observed frequencies match the\n",
    "expected frequencies of a fair coin. Use a significance level of 0.05.\n",
    "\n",
    "Ans - n = 100, categories = 2\n",
    "\n",
    "1. Null Hypothesis Ho : Coin is Fair\n",
    "   Alternate Hypothesis Ha : Coin is Biased towards Tail (One tailed test)\n",
    "    \n",
    "2. α = 0.05 , C.I. = 1 - α = 0.95\n",
    "\n",
    "3. Degree of Freedom = categories - 1 = 2 - 1 = 1\n",
    "\n",
    "4. Decision Boundary:\n",
    "        From chi-square table, critical value = 3.841\n",
    "\n",
    "5. Calculating X**2 statistics-\n",
    "    X**2 = Σ(Observed - Expected)**2 / Expected\n",
    "         = (55-50)**2/50 + (45-50)**2/50\n",
    "         = 1\n",
    "            \n",
    "6. X**2 < critical value, HEnce we fail to reject the NUll Hypothesis Ho."
   ]
  },
  {
   "cell_type": "code",
   "execution_count": null,
   "id": "08119b8b-72f2-4399-9add-81d98f126580",
   "metadata": {},
   "outputs": [],
   "source": [
    "Q9. A study was conducted to determine if there is an association between smoking status (smoker or\n",
    "non-smoker) and lung cancer diagnosis (yes or no). The results are shown in the contingency table below.\n",
    "Conduct a chi-square test for independence to determine if there is a significant association between\n",
    "smoking status and lung cancer diagnosis.\n",
    "\n",
    "            Lung Cancer: Yes         Lung Cancer: No\n",
    "\n",
    "Smoker             60                       140\n",
    "Non-smoker         30                       170\n",
    "\n",
    "\n",
    "Use a significance level of 0.05.\n",
    "\n",
    "Ans - n = 100, categories = 2\n",
    "\n",
    "1. Null Hypothesis Ho : No association between smoking and cancer.\n",
    "   Alternate Hypothesis Ha : Association between smoking and cancer. (One tailed test)\n",
    "    \n",
    "2. α = 0.05 , C.I. = 1 - α = 0.95\n",
    "\n",
    "3. Observed values - \n",
    "                    Lung Cancer: Yes         Lung Cancer: No\n",
    "\n",
    "        Smoker             60                       140            = 200\n",
    "        Non-smoker         30                       170            = 200 \n",
    "                        ---------                ----------       ----------\n",
    "                           90                        310            400\n",
    "            \n",
    "   Expected values - \n",
    "                    Lung Cancer: Yes         Lung Cancer: No\n",
    "\n",
    "        Smoker             45                       155            = 200\n",
    "        Non-smoker         45                       155            = 200\n",
    "                        ---------                ----------       ----------\n",
    "                           90                        310            400\n",
    "            \n",
    "\n",
    "4. Degree of Freedom = (rows - 1) * (columns - 1) = (2 - 1) * (2 - 1)= 1\n",
    "\n",
    "5. Decision Boundary:\n",
    "        From chi-square table, critical value = 3.841\n",
    "\n",
    "6. Calculating X**2 statistics-\n",
    "    X**2 = Σ(Observed - Expected)**2 / Expected\n",
    "         = (60-45)**2/45 + (140-155)**2/155 + (30-45)**2/45 + (170-155)**2/155\n",
    "         = 12.9\n",
    "            \n",
    "6. X**2 > critical value, Hence we reject the Null Hypothesis Ho."
   ]
  },
  {
   "cell_type": "code",
   "execution_count": null,
   "id": "f959958f-8bf5-4e5d-a27a-e36a0b8f9aa0",
   "metadata": {},
   "outputs": [],
   "source": [
    "Q10. A study was conducted to determine if the proportion of people who prefer milk chocolate, dark\n",
    "chocolate, or white chocolate is different in the U.S. versus the U.K. A random sample of 500 people from\n",
    "the U.S. and a random sample of 500 people from the U.K. were surveyed. The results are shown in the\n",
    "contingency table below. Conduct a chi-square test for independence to determine if there is a significant\n",
    "association between chocolate preference and country of origin.\n",
    "\n",
    "             Milk Chocolate   Dark Chocolate   White Chocolate\n",
    "\n",
    "U.S. (n=500)      200              150               150\n",
    "U.K. (n=500)      225              175               100\n",
    "\n",
    "\n",
    "Use a significance level of 0.01.\n",
    "\n",
    "Ans - n = 500,\n",
    "\n",
    "1. Null Hypothesis Ho : No association between smoking and cancer.\n",
    "   Alternate Hypothesis Ha : Association between smoking and cancer. (One tailed test)\n",
    "    \n",
    "2. α = 0.05 , C.I. = 1 - α = 0.95\n",
    "\n",
    "3. Observed values - \n",
    "                             Milk Chocolate   Dark Chocolate   White Chocolate\n",
    "\n",
    "                U.S. (n=500)      200              150               150         = 500\n",
    "                U.K. (n=500)      225              175               100         = 500\n",
    "                               ---------        ----------       ----------     -------\n",
    "                                  425              325               250          1000\n",
    "   Expected values - \n",
    "                             Milk Chocolate   Dark Chocolate   White Chocolate\n",
    "\n",
    "                U.S. (n=500)      212.5           162.5             125          = 500\n",
    "                U.K. (n=500)      212.5           162.5             125         = 500\n",
    "                               ---------        ----------       ----------     -------\n",
    "                                  425              325               250          1000\n",
    "              \n",
    "\n",
    "4. Degree of Freedom = (rows - 1) * (columns - 1) = (2 - 1) * (3 - 1)= 2\n",
    "\n",
    "5. Decision Boundary:\n",
    "        From chi-square table, critical value = 9.210\n",
    "\n",
    "6. Calculating X**2 statistics-\n",
    "    X**2 = Σ(Observed - Expected)**2 / Expected\n",
    "         = 13.394\n",
    "            \n",
    "6. X**2 > critical value, Hence we reject the Null Hypothesis Ho."
   ]
  },
  {
   "cell_type": "code",
   "execution_count": null,
   "id": "58d4a777-04db-4220-8fe8-8934d922e50a",
   "metadata": {},
   "outputs": [],
   "source": [
    "Q11. A random sample of 30 people was selected from a population with an unknown mean and standard\n",
    "deviation. The sample mean was found to be 72 and the sample standard deviation was found to be 10.\n",
    "Conduct a hypothesis test to determine if the population mean is significantly different from 70. Use a\n",
    "significance level of 0.05.\n",
    "\n",
    "Ans - n = 30 , \n",
    "\n",
    "1. Null Hypothesis Ho : μ = 70\n",
    "   Alternate Hypothesis Ha : μ != 70 (Two tailed test)\n",
    "    \n",
    "2. α = 0.05 , C.I. = 1 - α = 0.95\n",
    "\n",
    "3. t-value = 1.095\n",
    "\n",
    "4. Degree of Freedom = n - 1 = 30 - 1 = 29\n",
    "\n",
    "5. Decision Boundary:\n",
    "        From t-table, critical value = +/- 2.045\n",
    "            \n",
    "6. t-value < critical value, Hence we fail to reject the Null Hypothesis Ho."
   ]
  }
 ],
 "metadata": {
  "kernelspec": {
   "display_name": "Python 3 (ipykernel)",
   "language": "python",
   "name": "python3"
  },
  "language_info": {
   "codemirror_mode": {
    "name": "ipython",
    "version": 3
   },
   "file_extension": ".py",
   "mimetype": "text/x-python",
   "name": "python",
   "nbconvert_exporter": "python",
   "pygments_lexer": "ipython3",
   "version": "3.10.8"
  }
 },
 "nbformat": 4,
 "nbformat_minor": 5
}
