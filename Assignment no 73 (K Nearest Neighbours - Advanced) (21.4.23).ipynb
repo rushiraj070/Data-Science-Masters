{
 "cells": [
  {
   "cell_type": "markdown",
   "id": "babb3791-df25-45d3-9f2f-c1c7ab5cfae6",
   "metadata": {},
   "source": [
    "# Assignment no 73 (K Nearest Neighbours - Advanced) (21.4.23)"
   ]
  },
  {
   "attachments": {
    "02db1f3a-489a-4e1e-a391-6fbcb656bd90.png": {
     "image/png": "[encoded data removed]"
    },
    "8ba08101-b496-40b5-a119-5ad0c0721599.webp": {
     "image/webp": "[encoded data removed]"
    }
   },
   "cell_type": "markdown",
   "id": "b5ef6f2c-4726-4a93-9b4f-7a21283029d8",
   "metadata": {},
   "source": [
    "### Q1. What is the main difference between the Euclidean distance metric and the Manhattan distance metric in KNN? How might this difference affect the performance of a KNN classifier or regressor?\n",
    "\n",
    "**Ans-**\n",
    "\n",
    "The main difference between the Euclidean distance metric and the Manhattan distance metric in k-Nearest Neighbor (kNN) algorithm is the way they calculate the distance between two data points. Euclidean distance calculates the straight-line distance between two points, while Manhattan distance calculates the sum of the absolute differences between their coordinates.\n",
    "\n",
    "![download.png](attachment:02db1f3a-489a-4e1e-a391-6fbcb656bd90.png)\n",
    "\n",
    "![download.webp](attachment:8ba08101-b496-40b5-a119-5ad0c0721599.webp)\n",
    "\n",
    "This difference can affect the performance of a kNN classifier or regressor in several ways. For example, **if the data is distributed in a grid-like pattern, then Manhattan distance may be a better choice, as it more accurately reflects the true distance between points. On the other hand, if the data is distributed more randomly, then Euclidean distance may be a better choice.**\n",
    "\n",
    "In summary, the main difference between Euclidean and Manhattan distances in kNN is the way they calculate the distance between data points. This difference can affect the performance of a kNN classifier or regressor, and it is important to choose the appropriate distance metric for a given problem."
   ]
  },
  {
   "cell_type": "code",
   "execution_count": null,
   "id": "1c323728-6dca-4067-9908-7386249af72e",
   "metadata": {},
   "outputs": [],
   "source": []
  },
  {
   "cell_type": "markdown",
   "id": "ed397bb4-ca9d-4ced-a58e-d241f1faf440",
   "metadata": {},
   "source": [
    "### Q2. How do you choose the optimal value of k for a KNN classifier or regressor? What techniques can be used to determine the optimal k value?\n",
    "\n",
    "**Ans-** The optimal value of k for a k-Nearest Neighbor (kNN) classifier or regressor depends on the specific problem and dataset being used. There is no one-size-fits-all answer to this question, and the optimal value of k must be determined through experimentation.\n",
    "\n",
    "One common technique for determining the optimal value of k is to use cross-validation. Cross-validation involves splitting the dataset into several subsets, training the kNN algorithm on some of these subsets, and then evaluating its performance on the remaining subsets. This process is repeated for different values of k, and the value that results in the best performance is chosen as the optimal value.\n",
    "\n",
    "Another technique for determining the optimal value of k is to use a validation set. A validation set is a subset of the dataset that is set aside and not used for training. The kNN algorithm is trained on the remaining data, and its performance is evaluated on the validation set. This process is repeated for different values of k, and the value that results in the best performance on the validation set is chosen as the optimal value.\n",
    "\n",
    "In summary, there are several techniques that can be used to determine the optimal value of k for a kNN classifier or regressor, including cross-validation and using a validation set. The optimal value of k must be determined through experimentation, as it depends on the specific problem and dataset being used."
   ]
  },
  {
   "cell_type": "code",
   "execution_count": null,
   "id": "899a2bdb-a50f-4805-a08f-60a025bcd5a0",
   "metadata": {},
   "outputs": [],
   "source": []
  },
  {
   "cell_type": "markdown",
   "id": "4d980b98-e1ab-40d3-a466-65b8b80eb98a",
   "metadata": {},
   "source": [
    "### Q3. How does the choice of distance metric affect the performance of a KNN classifier or regressor? In what situations might you choose one distance metric over the other?\n",
    "\n",
    "**Ans-** The choice of distance metric can significantly affect the performance of a k-Nearest Neighbor (kNN) classifier or regressor. The distance metric determines how the algorithm calculates the distance between data points, which in turn affects how the algorithm determines the nearest neighbors of a given data point.\n",
    "\n",
    "Different distance metrics may be more appropriate for different types of data and problems. For example, if the data is distributed in a grid-like pattern, then Manhattan distance may be a better choice, as it more accurately reflects the true distance between points. On the other hand, if the data is distributed more randomly, then Euclidean distance may be a better choice.\n",
    "\n",
    "In summary, the choice of distance metric can affect the performance of a kNN classifier or regressor. It is important to choose an appropriate distance metric for the specific problem and dataset being used."
   ]
  },
  {
   "cell_type": "code",
   "execution_count": null,
   "id": "c1b8567c-a4ec-42ca-8bda-8b3a0770c9bc",
   "metadata": {},
   "outputs": [],
   "source": []
  },
  {
   "cell_type": "markdown",
   "id": "333a6c90-0ae3-46c7-9a6d-52633542db86",
   "metadata": {},
   "source": [
    "### Q4. What are some common hyperparameters in KNN classifiers and regressors, and how do they affect the performance of the model? How might you go about tuning these hyperparameters to improve model performance?\n",
    "\n",
    "**Ans-** Some common hyperparameters in k-Nearest Neighbor (kNN) classifiers and regressors include the number of nearest neighbors (k), the distance metric, and the weighting function. These hyperparameters can significantly affect the performance of the model, and it is important to choose appropriate values for them.\n",
    "\n",
    "The number of nearest neighbors (k) determines how many of the closest data points are used to make a prediction. **A small value of k can result in a model that is sensitive to noise and outliers, while a large value of k can result in a model that is less sensitive to noise but may not capture the underlying structure of the data as well.**\n",
    "\n",
    "The distance metric determines how the algorithm calculates the distance between data points. Different distance metrics may be more appropriate for different types of data and problems. For example, **if the data is distributed in a grid-like pattern, then Manhattan distance may be a better choice, as it more accurately reflects the true distance between points. On the other hand, if the data is distributed more randomly, then Euclidean distance may be a better choice.**\n",
    "\n",
    "The weighting function determines how much weight is given to each of the nearest neighbors when making a prediction. A common weighting function is inverse distance weighting, where closer neighbors are given more weight than farther neighbors.\n",
    "\n",
    "To tune these hyperparameters and improve model performance, one approach is to use cross-validation or other techniques to systematically evaluate different combinations of hyperparameter values. This can help to identify the combination of hyperparameter values that results in the best performance on the validation set.\n",
    "\n",
    "In summary, there are several common hyperparameters in kNN classifiers and regressors that can affect model performance. These include the number of nearest neighbors, the distance metric, and the weighting function. To improve model performance, these hyperparameters can be tuned using techniques such as cross-validation."
   ]
  },
  {
   "cell_type": "code",
   "execution_count": null,
   "id": "6a7ea2be-350a-4f57-96c1-003d9ee29951",
   "metadata": {},
   "outputs": [],
   "source": []
  },
  {
   "cell_type": "markdown",
   "id": "86d69819-08c2-4787-8639-9634795f67d1",
   "metadata": {
    "tags": []
   },
   "source": [
    "### Q5. How does the size of the training set affect the performance of a KNN classifier or regressor? What techniques can be used to optimize the size of the training set?\n",
    "\n",
    "**Ans-** The size of the training set can significantly affect the performance of a k-Nearest Neighbor (kNN) classifier or regressor. A larger training set generally results in better performance, as it provides more data for the algorithm to learn from. However, there is a trade-off between the size of the training set and the computational cost of the algorithm. As the size of the training set increases, the computational cost of the kNN algorithm also increases.\n",
    "\n",
    "To optimize the size of the training set, several techniques can be used. One approach is to use a technique called **ACTIVE LEARNING**, where the algorithm actively selects which data points to add to the training set. This can help to reduce the size of the training set while still maintaining good performance.\n",
    "\n",
    "Another approach is to use a technique called **INSTANCE SELECTION**, where the algorithm selects a subset of the training data that is most informative for learning. This can help to reduce the size of the training set while still maintaining good performance.\n",
    "\n",
    "In summary, the size of the training set can affect the performance of a kNN classifier or regressor. Several techniques, such as active learning and instance selection, can be used to optimize the size of the training set and improve performance."
   ]
  },
  {
   "cell_type": "code",
   "execution_count": null,
   "id": "ff405983-5060-421f-b32d-d0786f286ffd",
   "metadata": {},
   "outputs": [],
   "source": []
  },
  {
   "cell_type": "markdown",
   "id": "31f0a885-d2ec-4fb6-bdc3-ff9e1db8a07c",
   "metadata": {
    "tags": []
   },
   "source": [
    "### Q6. What are some potential drawbacks of using KNN as a classifier or regressor? How might you overcome these drawbacks to improve the performance of the model?\n",
    "\n",
    "**Ans-** The k-Nearest Neighbor (kNN) algorithm is a simple and effective machine learning algorithm that can be used for both classification and regression tasks. However, like any other machine learning algorithm, it has its own set of potential drawbacks that can affect its performance.\n",
    "\n",
    "One potential drawback of using kNN as a classifier or regressor is that it can be computationally expensive, especially when dealing with large datasets. This is because the algorithm needs to calculate the distance between each data point and all other data points in the dataset to determine the nearest neighbors. This can be time-consuming and may not be feasible for very large datasets.\n",
    "\n",
    "Another potential drawback of kNN is that it can be sensitive to the choice of hyperparameters, such as the number of nearest neighbors (k) and the distance metric used. Choosing inappropriate values for these hyperparameters can result in suboptimal performance.\n",
    "\n",
    "To overcome these drawbacks and improve the performance of kNN, several techniques can be used. One approach is to use dimensionality reduction techniques to reduce the computational cost of the algorithm. Another approach is to use cross-validation or other methods to select the optimal values for the hyperparameters.\n",
    "\n",
    "In summary, while kNN has several potential drawbacks, these can be addressed through various techniques and modifications to improve its performance."
   ]
  },
  {
   "cell_type": "code",
   "execution_count": null,
   "id": "b2489b00-cbad-4a5c-8b31-1291a0d31ae8",
   "metadata": {},
   "outputs": [],
   "source": []
  }
 ],
 "metadata": {
  "kernelspec": {
   "display_name": "Python 3 (ipykernel)",
   "language": "python",
   "name": "python3"
  },
  "language_info": {
   "codemirror_mode": {
    "name": "ipython",
    "version": 3
   },
   "file_extension": ".py",
   "mimetype": "text/x-python",
   "name": "python",
   "nbconvert_exporter": "python",
   "pygments_lexer": "ipython3",
   "version": "3.10.8"
  }
 },
 "nbformat": 4,
 "nbformat_minor": 5
}
