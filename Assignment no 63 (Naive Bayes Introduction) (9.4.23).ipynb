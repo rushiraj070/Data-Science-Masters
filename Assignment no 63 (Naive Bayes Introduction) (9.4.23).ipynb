{
 "cells": [
  {
   "cell_type": "markdown",
   "id": "c90eb0a5-fc1f-473b-a1ef-202bedc29337",
   "metadata": {},
   "source": [
    "# Assignment no 63 (Naive Bayes Introduction) (9.4.23)"
   ]
  },
  {
   "cell_type": "markdown",
   "id": "b8be4984-280e-4a90-a980-e510e9c739ae",
   "metadata": {},
   "source": [
    "#### Q1. What is Bayes' theorem?\n",
    "\n",
    "**Ans -** Bayes' theorem, named after Thomas Bayes, is a mathematical formula used in probability theory and statistics to calculate the probability of an event based on prior knowledge of conditions that might be related to the event."
   ]
  },
  {
   "cell_type": "code",
   "execution_count": null,
   "id": "54742aa9-e685-4b9b-b6f9-43d9749d5784",
   "metadata": {},
   "outputs": [],
   "source": []
  },
  {
   "cell_type": "markdown",
   "id": "e0558ac6-fcbe-4e0a-a8aa-779716c23026",
   "metadata": {},
   "source": [
    "### Q2. What is the formula for Bayes' theorem?\n",
    "\n",
    "**Ans -** The theorem is stated mathematically as follows:\n",
    "\n",
    "$$P(A|B) = \\frac{P(B|A)P(A)}{P(B)}$$\n",
    "\n",
    "where $A$ and $B$ are events and $P(B) \\neq 0$. $P(A|B)$ is a conditional probability: the probability of event $A$ occurring given that $B$ is true. It is also called the posterior probability of $A$ given $B$."
   ]
  },
  {
   "cell_type": "code",
   "execution_count": null,
   "id": "ee34946f-5d44-4cab-90e7-9fdece9e87e8",
   "metadata": {},
   "outputs": [],
   "source": []
  },
  {
   "cell_type": "markdown",
   "id": "465d1bac-79fa-4f83-b0b7-5a6f6b776529",
   "metadata": {
    "tags": []
   },
   "source": [
    "### Q3. How is Bayes' theorem used in practice?\n",
    "\n",
    "**Ans -** Bayes' theorem has many applications, including Bayesian inference, a particular approach to statistical inference. When applied, the probabilities involved in the theorem may have different probability interpretations. With Bayesian probability interpretation, the theorem expresses how a degree of belief, expressed as a probability, should rationally change to account for the availability of related evidence.\n",
    "\n",
    "Bayes' theorem has many practical applications in various fields. One of the most common applications is in medical diagnosis, where the probability of a particular disease or condition given certain symptoms or test results is calculated. It helps physicians assess the likelihood of a disease based on prior knowledge and test outcomes.\n",
    "\n",
    "Another application of Bayes' theorem is in machine learning, where it is used to model hypotheses and establish relationships between data and models.\n",
    "\n",
    "Bayes' theorem can also be used in finance, marketing, engineering, and many other fields to make decisions based on prior knowledge and new information."
   ]
  },
  {
   "cell_type": "code",
   "execution_count": null,
   "id": "3b549e30-c093-4b43-be5f-403f03ce6606",
   "metadata": {},
   "outputs": [],
   "source": []
  },
  {
   "cell_type": "markdown",
   "id": "2f3d3fe4-c4c3-45d5-b9f3-88e5fd454976",
   "metadata": {},
   "source": [
    "#### Q4. What is the relationship between Bayes' theorem and conditional probability?\n",
    "\n",
    "**Ans -** Bayes' theorem is a mathematical formula that describes the relationship between conditional probabilities. Conditional probability is the probability of an event occurring given that another event has already occurred.\n",
    "\n",
    "The theorem is stated mathematically as follows:\n",
    "\n",
    "$$P(A|B) = \\frac{P(B|A)P(A)}{P(B)}$$\n",
    "\n",
    "where $A$ and $B$ are events and $P(B) \\neq 0$. $P(A|B)$ is a conditional probability: the probability of event $A$ occurring given that $B$ is true. It is also called the posterior probability of $A$ given $B$.\n",
    "\n",
    "In other words, Bayes' theorem allows us to update our beliefs or probabilities based on new evidence or information. It provides a way to calculate the probability of an event based on prior knowledge of conditions that might be related to the event."
   ]
  },
  {
   "cell_type": "code",
   "execution_count": null,
   "id": "cc6545b4-3298-4f0a-a70b-47c3cd79baea",
   "metadata": {},
   "outputs": [],
   "source": []
  },
  {
   "cell_type": "markdown",
   "id": "a8994fa9-2ba3-4e6e-891f-6dfcc625c422",
   "metadata": {
    "tags": []
   },
   "source": [
    "#### Q5. How do you choose which type of Naive Bayes classifier to use for any given problem?\n",
    "\n",
    "**Ans -** There are several types of Naive Bayes classifiers, and the choice of which one to use depends on the distribution of the data and the type of problem being solved.\n",
    "\n",
    "Some popular types of Naive Bayes classifiers include:\n",
    "\n",
    "- **Gaussian Naive Bayes**: This is used when the features have continuous values and are assumed to follow a Gaussian (normal) distribution³.\n",
    "- **Multinomial Naive Bayes**: This is used when the features represent the frequencies with which certain events have been generated by a multinomial distribution. It is often used for text classification problems, where the features represent the frequency of occurrence of words in a document¹.\n",
    "- **Bernoulli Naive Bayes**: This is used when the features are binary (e.g., present or absent) and are assumed to follow a Bernoulli distribution¹.\n",
    "\n",
    "The choice of which type of Naive Bayes classifier to use depends on the characteristics of the data and the problem being solved. It's important to understand the underlying assumptions of each type of classifier and choose the one that best fits the data."
   ]
  },
  {
   "cell_type": "code",
   "execution_count": null,
   "id": "1ba7df40-ed2d-4a03-8d49-17c3c2819866",
   "metadata": {},
   "outputs": [],
   "source": []
  },
  {
   "cell_type": "markdown",
   "id": "f612944b-1d63-4071-9f39-9e94b51d8fa2",
   "metadata": {
    "tags": []
   },
   "source": [
    "### Q6. Assignment:\n",
    "You have a dataset with two features, X1 and X2, and two possible classes, A and B. You want to use Naive\n",
    "Bayes to classify a new instance with features X1 = 3 and X2 = 4. The following table shows the frequency of\n",
    "each feature value for each class:\n",
    "\n",
    "Class  X1=1  X1=2  X1=3  X2=1  X2=2  X2=3  X2=4\n",
    "\n",
    "   A   3     3     4      4     3     3    3\n",
    "    \n",
    "   B   2     2     1      2     2     2    3\n",
    "\n",
    "Assuming equal prior probabilities for each class, which class would Naive Bayes predict the new instance\n",
    "to belong to?"
   ]
  },
  {
   "cell_type": "markdown",
   "id": "dcf3571b-5d5a-43f4-b1ae-33f66b745cfe",
   "metadata": {},
   "source": [
    "**Ans -** Given the frequency table, we can calculate the likelihood of the new instance belonging to each class using the Naive Bayes formula. Since we are assuming equal prior probabilities for each class, the prior probabilities for classes A and B are both 0.5.\n",
    "\n",
    "The likelihood of the new instance belonging to class A is calculated as follows:\n",
    "\n",
    "P(X1=3|A) = 4 / (3+3+4) = 4/10\n",
    "\n",
    "P(X2=4|A) = 3 / (4+3+3+3) = 3/13\n",
    "\n",
    "P(A|X1=3,X2=4) = P(X1=3|A) * P(X2=4|A) * P(A) = (4/10) * (3/13) * 0.5 = 0.023\n",
    "\n",
    "The likelihood of the new instance belonging to class B is calculated as follows:\n",
    "\n",
    "P(X1=3|B) = 1 / (2+2+1) = 1/5\n",
    "\n",
    "P(X2=4|B) = 3 / (2+2+2+3) = 3/9\n",
    "\n",
    "P(B|X1=3,X2=4) = P(X1=3|B) * P(X2=4|B) * P(B) = (1/5) * (3/9) * 0.5 = 0.033\n",
    "\n",
    "Since P(B|X1=3,X2=4) > P(A|X1=3,X2=4), Naive Bayes would predict that the new instance belongs to class B."
   ]
  },
  {
   "cell_type": "markdown",
   "id": "e37b7223-129e-4f8c-919e-4d310f0d1d59",
   "metadata": {},
   "source": []
  },
  {
   "cell_type": "markdown",
   "id": "0c6a5c82-d6ae-4476-bdee-06da5a6ae1bc",
   "metadata": {},
   "source": []
  }
 ],
 "metadata": {
  "kernelspec": {
   "display_name": "Python 3 (ipykernel)",
   "language": "python",
   "name": "python3"
  },
  "language_info": {
   "codemirror_mode": {
    "name": "ipython",
    "version": 3
   },
   "file_extension": ".py",
   "mimetype": "text/x-python",
   "name": "python",
   "nbconvert_exporter": "python",
   "pygments_lexer": "ipython3",
   "version": "3.10.8"
  }
 },
 "nbformat": 4,
 "nbformat_minor": 5
}
