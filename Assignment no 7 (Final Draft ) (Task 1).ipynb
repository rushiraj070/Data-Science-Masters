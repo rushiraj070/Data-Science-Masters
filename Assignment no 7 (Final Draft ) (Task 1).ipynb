{
 "cells": [
  {
   "cell_type": "markdown",
   "id": "f852a695-6b87-439d-bf1b-cc2318038abf",
   "metadata": {},
   "source": [
    "# Assignment no 7 (Python task 1)"
   ]
  },
  {
   "cell_type": "code",
   "execution_count": 1,
   "id": "4489d6bc-6a8d-4ee5-84c0-ffd36631d6ad",
   "metadata": {},
   "outputs": [],
   "source": [
    "'''Q1. Create a function which will take a list as an argument and return the product of all the \n",
    "numbers after creating a flat list.\n",
    "\n",
    "Use the below-given list as an argument for your function.\n",
    "\n",
    "Note: you must extract numeric keys and values of the dictionary also.\n",
    "'''\n",
    "\n",
    "list1 = [1,2,3,4, [44,55,66, True], False, (34,56,78,89,34), {1,2,3,3,2,1}, \n",
    "         {1:34, \"key2\": [55, 67, 78, 89], 4: (45,22, 61, 34)}, [56, 'data science'], \n",
    "         'Machine Learning']"
   ]
  },
  {
   "cell_type": "code",
   "execution_count": 2,
   "id": "d44d17f0-755f-4ef2-9c69-a4d9fb4c9ab6",
   "metadata": {},
   "outputs": [],
   "source": [
    "from functools import reduce\n",
    "\n",
    "num_list = []\n",
    "\n",
    "def product(list1):\n",
    "    \n",
    "    for i in list1:\n",
    "\n",
    "        if type(i) == int:\n",
    "            num_list.append(i)\n",
    "\n",
    "        elif type(i) == list:\n",
    "            for j in i:\n",
    "                if type(j) == int:\n",
    "                    num_list.append(j)\n",
    "\n",
    "        elif type(i) == tuple:\n",
    "            for j in i:\n",
    "                if type(j) == int:\n",
    "                    num_list.append(j)\n",
    "\n",
    "        elif type(i) == set:\n",
    "            for j in i:\n",
    "                if type(j) == int:\n",
    "                    num_list.append(j)\n",
    "\n",
    "        elif type(i) == dict:\n",
    "            for k,v in i.items():\n",
    "                if type(k) == int:\n",
    "                    num_list.append(k)\n",
    "                if type(v) == int:\n",
    "                    num_list.append(v)\n",
    "\n",
    "                elif type(k) == list or type(v) == list:\n",
    "                    for key in k:\n",
    "                        if type(key) == int:\n",
    "                            num_list.append(key)\n",
    "                    for val in v:\n",
    "                        if type(val) == int:\n",
    "                            num_list.append(val)\n",
    "\n",
    "                elif type(v) == tuple:\n",
    "                    for val in v:\n",
    "                        if type(val) == int:\n",
    "                            num_list.append(val)\n",
    "\n",
    "    return reduce(lambda x,y:x*y,num_list)"
   ]
  },
  {
   "cell_type": "code",
   "execution_count": 3,
   "id": "d146c81f-070b-4b30-a0c2-0853989c5115",
   "metadata": {},
   "outputs": [
    {
     "data": {
      "text/plain": [
       "4134711838987085478833841242112000"
      ]
     },
     "execution_count": 3,
     "metadata": {},
     "output_type": "execute_result"
    }
   ],
   "source": [
    "product(list1)"
   ]
  },
  {
   "cell_type": "code",
   "execution_count": 4,
   "id": "fadc045b-21a9-4ef1-aeb3-42b1b6aae3d2",
   "metadata": {},
   "outputs": [],
   "source": [
    "'''\n",
    "\n",
    "Q2. Write a python program for encrypting a message sent to you by your friend. The logic of encryption \n",
    "should be such that, for a the output should be z. For b, the output should be y. For c, the output should \n",
    "be x respectively. Also, the whitespace should be replaced with a dollar sign. Keep the punctuation \n",
    "marks unchanged.\n",
    "\n",
    "\n",
    "Input Sentence: I want to become a Data Scientist.\n",
    "\n",
    "\n",
    "Encrypt the above input sentence using the program you just created.\n",
    "\n",
    "\n",
    "Note: Convert the given input sentence into lowercase before encrypting. The final output should be \n",
    "lowercase.\n",
    "'''\n",
    "sentence = \"I want to become a Data Scientist.\"\n",
    "\n",
    "alphabets = \"abcdefghijklmnopqrstuvwxyz\""
   ]
  },
  {
   "cell_type": "code",
   "execution_count": 5,
   "id": "e83015e6-bdd9-4601-80da-33277cba144a",
   "metadata": {},
   "outputs": [],
   "source": [
    "def encrypt(sentence):\n",
    "    sentence = sentence.lower()\n",
    "    translation_table = sentence.maketrans(alphabets,alphabets[::-1] )\n",
    "    encrypted_sentence = sentence.translate(translation_table)\n",
    "    encrypted_sentence = encrypted_sentence.replace(\" \",\"$\")\n",
    "    return encrypted_sentence"
   ]
  },
  {
   "cell_type": "code",
   "execution_count": 6,
   "id": "db64093a-2bd4-47a2-992c-8f090fb59550",
   "metadata": {},
   "outputs": [
    {
     "data": {
      "text/plain": [
       "'r$dzmg$gl$yvxlnv$z$wzgz$hxrvmgrhg.'"
      ]
     },
     "execution_count": 6,
     "metadata": {},
     "output_type": "execute_result"
    }
   ],
   "source": [
    "encrypt(sentence)"
   ]
  },
  {
   "cell_type": "code",
   "execution_count": 9,
   "id": "4fab8adf-82aa-40ce-bfb5-de957315d00e",
   "metadata": {},
   "outputs": [
    {
     "data": {
      "text/plain": [
       "'ifhsr$pvhs'"
      ]
     },
     "execution_count": 9,
     "metadata": {},
     "output_type": "execute_result"
    }
   ],
   "source": [
    "encrypt(\"rushi kesh\")"
   ]
  },
  {
   "cell_type": "code",
   "execution_count": null,
   "id": "39d8fc7e-338c-4fdf-a917-04f6c5125d4c",
   "metadata": {},
   "outputs": [],
   "source": []
  }
 ],
 "metadata": {
  "kernelspec": {
   "display_name": "Python 3 (ipykernel)",
   "language": "python",
   "name": "python3"
  },
  "language_info": {
   "codemirror_mode": {
    "name": "ipython",
    "version": 3
   },
   "file_extension": ".py",
   "mimetype": "text/x-python",
   "name": "python",
   "nbconvert_exporter": "python",
   "pygments_lexer": "ipython3",
   "version": "3.10.8"
  }
 },
 "nbformat": 4,
 "nbformat_minor": 5
}
