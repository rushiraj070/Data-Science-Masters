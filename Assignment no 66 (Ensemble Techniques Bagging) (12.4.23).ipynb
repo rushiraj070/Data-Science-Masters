{
 "cells": [
  {
   "cell_type": "markdown",
   "id": "cfe7722a-c40d-49ac-92d4-03823e4dfb22",
   "metadata": {},
   "source": [
    "# Assignment no 66 (Ensemble Techniques Bagging) (12.4.23)"
   ]
  },
  {
   "cell_type": "markdown",
   "id": "03659b63-c977-438d-9f28-aec0f681eb95",
   "metadata": {
    "tags": []
   },
   "source": [
    "#### Q1. How does bagging reduce overfitting in decision trees?\n",
    "\n",
    "**Ans-** Bagging, also known as **Bootstrap Aggregation**, is an ensemble learning method that is commonly used to reduce variance within a noisy dataset. In bagging, a random sample of data in a training set is selected with replacement—meaning that the individual data points can be chosen more than once. After several data samples are generated, these weak models are then trained independently, and depending on the type of task—regression or classification, for example—the average or majority of those predictions yield a more accurate estimate.\n",
    "\n",
    "Bagging is used with decision trees, where it significantly raises the stability of models in improving accuracy and reducing variance, which eliminates the challenge of overfitting. By combining multiple models, bagging helps reduce the model’s variance and can prevent overfitting by introducing diversity into the training process."
   ]
  },
  {
   "cell_type": "raw",
   "id": "1d26d843-6f08-4059-ab7c-898b61e06c08",
   "metadata": {},
   "source": [
    "Source: Conversation with Bing, 20/7/2023\n",
    "(1) What is Bagging? | IBM. https://www.ibm.com/topics/bagging.\n",
    "(2) Bagging (Bootstrap Aggregation) - Overview, How It Works, Advantages. https://corporatefinanceinstitute.com/resources/data-science/bagging-bootstrap-aggregation/.\n",
    "(3) Bagging - Meaning, Types, Examples, Vs Boosting , How it Works?. https://www.wallstreetmojo.com/bagging/.\n",
    "(4) How does one decide when to use boosting over bagging algorithm?. https://datascience.stackexchange.com/questions/58269/how-does-one-decide-when-to-use-boosting-over-bagging-algorithm.\n",
    "(5) Ensemble Techniques— Bagging (Bootstrap aggregating). https://medium.datadriveninvestor.com/ensemble-techniques-bagging-bootstrap-aggregating-c7a7e26bdc13."
   ]
  },
  {
   "cell_type": "code",
   "execution_count": null,
   "id": "880c40b0-f20b-4d33-a177-c12fae296688",
   "metadata": {},
   "outputs": [],
   "source": []
  },
  {
   "cell_type": "markdown",
   "id": "8feeabfc-bca3-48e5-b0ec-a0b719509538",
   "metadata": {},
   "source": [
    "#### Q2. What are the advantages and disadvantages of using different types of base learners in bagging?\n",
    "\n",
    "**Ans-** \n",
    "#### Avantages:\n",
    "1. The biggest advantage of bagging is that multiple weak learners can work better than a single strong learner. \n",
    "2. It provides stability and increases the machine learning algorithm’s accuracy that is used in statistical classification and regression. \n",
    "3. It helps in reducing variance, i.e. it avoids overfitting.\n",
    "\n",
    "One disadvantage of bagging is that it introduces a loss of interpretability of a model."
   ]
  },
  {
   "cell_type": "raw",
   "id": "495db3e3-332b-45aa-9c9a-3522d30338ee",
   "metadata": {},
   "source": [
    "Source: Conversation with Bing, 20/7/2023\n",
    "(1) Bagging and Boosting | Most Used Techniques of Ensemble Learning - EDUCBA. https://www.educba.com/bagging-and-boosting/.\n",
    "(2) Bagging (Bootstrap Aggregation) - Overview, How It Works, Advantages. https://corporatefinanceinstitute.com/resources/data-science/bagging-bootstrap-aggregation/.\n",
    "(3) Ensemble Learning: The Pros and Cons of Combining Multiple ... - MEMBER. https://www.soa.org/globalassets/assets/files/e-business/pd/events/2020/predictive-analytics-4-0/pd-2020-09-pas-session-014.pdf.\n",
    "(4) Introduction to Bagging and Ensemble Methods - Paperspace Blog. https://blog.paperspace.com/bagging-ensemble-methods/.\n",
    "(5) Bagging and Boosting in Machine Learning | DataTrained. https://datatrained.com/post/bagging-and-boosting/."
   ]
  },
  {
   "cell_type": "code",
   "execution_count": null,
   "id": "657934c1-c45e-4bcb-b298-1c3408c77d3e",
   "metadata": {},
   "outputs": [],
   "source": []
  },
  {
   "cell_type": "markdown",
   "id": "ce42057d-00c5-4e3a-a55c-5339bfac11d5",
   "metadata": {},
   "source": [
    "#### Q3. How does the choice of base learner affect the bias-variance tradeoff in bagging?\n",
    "\n",
    "**Ans-** The choice of base learner can affect the bias-variance tradeoff in bagging. When we use bagging (with replacement), we are more likely to learn from the same training instances and have an underfit result in the end. Thus, the model would be less sensitive to small variances in the training data (since the chances are less likely to be selected by a particular predictor).\n",
    "\n",
    "The parametrisation and hyperparameter tuning and optimisation of machine learning affect the bias-variance trade-off. Reducing data dimensionality and altering its features can reduce variance, but risk over-simplification. The inverse is to label or engineer more features and noise to decrease bias, thus risking high variance."
   ]
  },
  {
   "cell_type": "raw",
   "id": "42f91835-6960-4cae-b5f2-e06f8bdd8350",
   "metadata": {},
   "source": [
    "Source: Conversation with Bing, 20/7/2023\n",
    "(1) ensemble learning - Bagging vs pasting: bias-variance tradeoff - Cross .... https://stats.stackexchange.com/questions/343481/bagging-vs-pasting-bias-variance-tradeoff.\n",
    "(2) Introduction to the Bias-Variance Trade-Off in Machine Learning. https://understandingdata.com/posts/introduction-to-the-bias-variance-trade-off-in-machine-learning/.\n",
    "(3) Understanding the Ensemble method Bagging and Boosting - Great Learning. https://www.mygreatlearning.com/blog/bagging-boosting/."
   ]
  },
  {
   "cell_type": "code",
   "execution_count": null,
   "id": "f6b4ae98-b9e5-4d83-8dde-2009f8a0134f",
   "metadata": {},
   "outputs": [],
   "source": []
  },
  {
   "cell_type": "markdown",
   "id": "7321c2a4-59be-4654-9a2a-220c62801898",
   "metadata": {},
   "source": [
    "#### Q4. Can bagging be used for both classification and regression tasks? How does it differ in each case?\n",
    "\n",
    "**Ans-** \n",
    "Yes, bagging can be used for both classification and regression tasks. In both cases, the basic idea is the same: multiple models are trained on different subsets of the training data, and their predictions are combined to make a final prediction.\n",
    "\n",
    "The main difference between bagging for classification and regression lies in how the predictions of the individual models are combined. \n",
    "\n",
    "In the case of classification, the most common approach is to use majority voting, where the class that receives the most votes from the individual models is chosen as the final prediction. \n",
    "\n",
    "In the case of regression, the predictions of the individual models are typically averaged to produce a final prediction."
   ]
  },
  {
   "cell_type": "code",
   "execution_count": null,
   "id": "2c8e1639-59a6-4b41-aa27-60743ecc5ab2",
   "metadata": {},
   "outputs": [],
   "source": []
  },
  {
   "cell_type": "markdown",
   "id": "2fdb39a4-6e29-47ba-995b-87102444f401",
   "metadata": {
    "tags": []
   },
   "source": [
    "#### Q5. What is the role of ensemble size in bagging? How many models should be included in the ensemble?\n",
    "\n",
    "**Ans-** The ensemble size, or the number of models included in the ensemble, plays an important role in bagging. As the number of models in the ensemble increases, the variance of the predictions decreases, leading to improved performance. However, there is a trade-off between the ensemble size and computational cost, as training a large number of models can be computationally expensive.\n",
    "\n",
    "There is no fixed rule for determining the optimal ensemble size, as it depends on the specific problem and dataset at hand. In practice, the ensemble size is often chosen through cross-validation, where different ensemble sizes are evaluated on a validation set to determine the one that achieves the best performance."
   ]
  },
  {
   "cell_type": "code",
   "execution_count": null,
   "id": "52dd6270-ee98-40d5-95be-5e814d717e8c",
   "metadata": {},
   "outputs": [],
   "source": []
  },
  {
   "cell_type": "markdown",
   "id": "6112a51f-1ffa-4beb-89af-936fa490602c",
   "metadata": {},
   "source": [
    "#### Q6. Can you provide an example of a real-world application of bagging in machine learning?\n",
    "\n",
    "**Ans-** Bagging is an ensemble learning technique that can be used in machine learning. Some of the real-world applications of bagging include:\n",
    "1. Healthcare: Bagging has been used to form medical data predictions.\n",
    "2. IT: Bagging can also improve the precision and accuracy in IT systems, such as ones network intrusion detection systems.\n",
    "3. Environment: Ensemble methods, such as bagging, have been applied within the field of remote sensing."
   ]
  },
  {
   "cell_type": "raw",
   "id": "d3e9bf3d-5a00-4954-bcfe-765d2955f341",
   "metadata": {},
   "source": [
    "Source: Conversation with Bing, 20/7/2023\n",
    "(1) Bagging in Machine Learning | Scaler Topics. https://www.scaler.com/topics/machine-learning/bagging-in-machine-learning/.\n",
    "(2) What is Bagging? | IBM. https://www.ibm.com/topics/bagging.\n",
    "(3) What is Bagging in Machine Learning And How to Perform Bagging. https://www.simplilearn.com/tutorials/machine-learning-tutorial/bagging-in-machine-learning.\n",
    "(4) Interview Questions on Bagging Algorithms in Machine Learning. https://www.analyticsvidhya.com/blog/2022/12/interview-questions-on-bagging-algorithms-in-machine-learning/."
   ]
  },
  {
   "cell_type": "code",
   "execution_count": null,
   "id": "12b1bf83-58d9-426c-ad1f-ef956022afff",
   "metadata": {},
   "outputs": [],
   "source": []
  }
 ],
 "metadata": {
  "kernelspec": {
   "display_name": "Python 3 (ipykernel)",
   "language": "python",
   "name": "python3"
  },
  "language_info": {
   "codemirror_mode": {
    "name": "ipython",
    "version": 3
   },
   "file_extension": ".py",
   "mimetype": "text/x-python",
   "name": "python",
   "nbconvert_exporter": "python",
   "pygments_lexer": "ipython3",
   "version": "3.10.8"
  }
 },
 "nbformat": 4,
 "nbformat_minor": 5
}
