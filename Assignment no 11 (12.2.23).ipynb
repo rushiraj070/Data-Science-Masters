{
 "cells": [
  {
   "cell_type": "markdown",
   "id": "b2423b3a-def2-49c7-a7aa-c120c782436c",
   "metadata": {},
   "source": [
    "## Assignment Questions\n",
    "\n",
    "### Exception Handling (Part 1)"
   ]
  },
  {
   "cell_type": "code",
   "execution_count": null,
   "id": "6c771313-8832-4fe2-b6d3-12bc1270c3dd",
   "metadata": {},
   "outputs": [],
   "source": [
    "'''Q1. What is an Exception in python? Write the difference between Exceptions and Syntax errors.\n",
    "\n",
    "Ans- An exception is an event, which occurs during the execution of a program that disrupts the normal flow of the \n",
    "    program's instructions. In general, when a Python script encounters a situation that it cannot cope with, it raises \n",
    "    an exception. An exception is a Python object that represents an error.\n",
    "    \n",
    "    Errors cannot be handled, while Python exceptions can be handled at the run time. An error can be a syntax (parsing) \n",
    "    error, while there can be many types of exceptions that could occur during the execution and are not unconditionally \n",
    "    inoperable.\n",
    "'''"
   ]
  },
  {
   "cell_type": "code",
   "execution_count": null,
   "id": "c2443ea7-fc56-401b-8b81-bb338840f252",
   "metadata": {},
   "outputs": [],
   "source": [
    "'''Q2. What happens when an exception is not handled? Explain with an example.\n",
    "\n",
    "Ans - When exception\\s is\\are not handled the runtime system will abort the program and they throw various types of error \n",
    "    with respect to code.\n",
    "'''"
   ]
  },
  {
   "cell_type": "code",
   "execution_count": 1,
   "id": "eb6e202b-2c8b-4c59-905e-88956736bacb",
   "metadata": {},
   "outputs": [
    {
     "ename": "FileNotFoundError",
     "evalue": "[Errno 2] No such file or directory: 'read.txt'",
     "output_type": "error",
     "traceback": [
      "\u001b[0;31m---------------------------------------------------------------------------\u001b[0m",
      "\u001b[0;31mFileNotFoundError\u001b[0m                         Traceback (most recent call last)",
      "Cell \u001b[0;32mIn[1], line 3\u001b[0m\n\u001b[1;32m      1\u001b[0m \u001b[38;5;66;03m#program without exception\u001b[39;00m\n\u001b[0;32m----> 3\u001b[0m a \u001b[38;5;241m=\u001b[39m \u001b[38;5;28;43mopen\u001b[39;49m\u001b[43m(\u001b[49m\u001b[38;5;124;43m\"\u001b[39;49m\u001b[38;5;124;43mread.txt\u001b[39;49m\u001b[38;5;124;43m\"\u001b[39;49m\u001b[43m,\u001b[49m\u001b[38;5;124;43m\"\u001b[39;49m\u001b[38;5;124;43mr\u001b[39;49m\u001b[38;5;124;43m\"\u001b[39;49m\u001b[43m)\u001b[49m\n",
      "File \u001b[0;32m/opt/conda/lib/python3.10/site-packages/IPython/core/interactiveshell.py:282\u001b[0m, in \u001b[0;36m_modified_open\u001b[0;34m(file, *args, **kwargs)\u001b[0m\n\u001b[1;32m    275\u001b[0m \u001b[38;5;28;01mif\u001b[39;00m file \u001b[38;5;129;01min\u001b[39;00m {\u001b[38;5;241m0\u001b[39m, \u001b[38;5;241m1\u001b[39m, \u001b[38;5;241m2\u001b[39m}:\n\u001b[1;32m    276\u001b[0m     \u001b[38;5;28;01mraise\u001b[39;00m \u001b[38;5;167;01mValueError\u001b[39;00m(\n\u001b[1;32m    277\u001b[0m         \u001b[38;5;124mf\u001b[39m\u001b[38;5;124m\"\u001b[39m\u001b[38;5;124mIPython won\u001b[39m\u001b[38;5;124m'\u001b[39m\u001b[38;5;124mt let you open fd=\u001b[39m\u001b[38;5;132;01m{\u001b[39;00mfile\u001b[38;5;132;01m}\u001b[39;00m\u001b[38;5;124m by default \u001b[39m\u001b[38;5;124m\"\u001b[39m\n\u001b[1;32m    278\u001b[0m         \u001b[38;5;124m\"\u001b[39m\u001b[38;5;124mas it is likely to crash IPython. If you know what you are doing, \u001b[39m\u001b[38;5;124m\"\u001b[39m\n\u001b[1;32m    279\u001b[0m         \u001b[38;5;124m\"\u001b[39m\u001b[38;5;124myou can use builtins\u001b[39m\u001b[38;5;124m'\u001b[39m\u001b[38;5;124m open.\u001b[39m\u001b[38;5;124m\"\u001b[39m\n\u001b[1;32m    280\u001b[0m     )\n\u001b[0;32m--> 282\u001b[0m \u001b[38;5;28;01mreturn\u001b[39;00m \u001b[43mio_open\u001b[49m\u001b[43m(\u001b[49m\u001b[43mfile\u001b[49m\u001b[43m,\u001b[49m\u001b[43m \u001b[49m\u001b[38;5;241;43m*\u001b[39;49m\u001b[43margs\u001b[49m\u001b[43m,\u001b[49m\u001b[43m \u001b[49m\u001b[38;5;241;43m*\u001b[39;49m\u001b[38;5;241;43m*\u001b[39;49m\u001b[43mkwargs\u001b[49m\u001b[43m)\u001b[49m\n",
      "\u001b[0;31mFileNotFoundError\u001b[0m: [Errno 2] No such file or directory: 'read.txt'"
     ]
    }
   ],
   "source": [
    "#program without exception\n",
    "\n",
    "a = open(\"read.txt\",\"r\")"
   ]
  },
  {
   "cell_type": "code",
   "execution_count": 2,
   "id": "8bdc347a-083f-42d0-8815-4bf59cd5f2df",
   "metadata": {},
   "outputs": [
    {
     "name": "stdout",
     "output_type": "stream",
     "text": [
      "I think the above line of code can't be executed [Errno 2] No such file or directory: 'read.txt'\n"
     ]
    }
   ],
   "source": [
    "#program with exception\n",
    "\n",
    "try:\n",
    "    a = open(\"read.txt\",\"r\")\n",
    "    \n",
    "except Exception as e:\n",
    "    print(\"I think the above line of code can't be executed\",e)    "
   ]
  },
  {
   "cell_type": "code",
   "execution_count": null,
   "id": "4a94d93d-ba5b-4cea-92d9-043ccf1610b9",
   "metadata": {},
   "outputs": [],
   "source": [
    "'''Q3. Which Python statements are used to catch and handle exceptions? Explain with an example.\n",
    "\n",
    "Ans - Following are the statements used to catch and handle exceptions:\n",
    "        1. try-except\n",
    "        2. try-except-except\n",
    "        3. try-except-else\n",
    "        4. try-except-finally\n",
    "        5. try-except-else-finally\n",
    "'''"
   ]
  },
  {
   "cell_type": "code",
   "execution_count": 14,
   "id": "a8da29c9-ad02-4fe9-ad8d-cf9cc6191269",
   "metadata": {},
   "outputs": [
    {
     "name": "stdout",
     "output_type": "stream",
     "text": [
      "Error: division by zero\n"
     ]
    }
   ],
   "source": [
    "# 1. try-except\n",
    "\n",
    "try:\n",
    "    a = 1\n",
    "    b = 0\n",
    "    \n",
    "    a/b\n",
    "    \n",
    "except Exception as e:\n",
    "    print(\"Error:\",e)"
   ]
  },
  {
   "cell_type": "code",
   "execution_count": 18,
   "id": "7b5b0679-22be-4c14-85be-a3b30ddfdb27",
   "metadata": {},
   "outputs": [
    {
     "name": "stdout",
     "output_type": "stream",
     "text": [
      "Index Out of Bound: list index out of range\n"
     ]
    }
   ],
   "source": [
    "# 2. try-except-except\n",
    "\n",
    "try:\n",
    "    \n",
    "    even_numbers = [2,4,6,8]\n",
    "    print(even_numbers[5])\n",
    "\n",
    "except ZeroDivisionError as e:\n",
    "    print(\"Denominator cannot be 0:\",e)\n",
    "    \n",
    "except IndexError as e:\n",
    "    print(\"Index Out of Bound:\",e)"
   ]
  },
  {
   "cell_type": "code",
   "execution_count": 22,
   "id": "98448691-91a7-4806-b269-239108212d16",
   "metadata": {},
   "outputs": [
    {
     "name": "stdin",
     "output_type": "stream",
     "text": [
      "Enter a number:  10\n"
     ]
    },
    {
     "name": "stdout",
     "output_type": "stream",
     "text": [
      "0.1\n"
     ]
    }
   ],
   "source": [
    "# 3. try-except-else\n",
    "\n",
    "try:\n",
    "    num = int(input(\"Enter a number: \"))\n",
    "    assert num % 2 == 0\n",
    "    \n",
    "except Exception as e:\n",
    "    print(\"Not an even number!:\", e)\n",
    "    \n",
    "else:\n",
    "    reciprocal = 1/num\n",
    "    print(reciprocal)"
   ]
  },
  {
   "cell_type": "code",
   "execution_count": 21,
   "id": "d87a99bb-727f-4a8e-bebb-1f7f050a5a78",
   "metadata": {},
   "outputs": [
    {
     "name": "stdout",
     "output_type": "stream",
     "text": [
      "Error: division by zero\n",
      "This is finally block.\n"
     ]
    }
   ],
   "source": [
    "# 4. try-except-finally\n",
    "\n",
    "try:\n",
    "    numerator = 10\n",
    "    denominator = 0\n",
    "\n",
    "    result = numerator/denominator\n",
    "\n",
    "    print(result)\n",
    "    \n",
    "except ZeroDivisionError as e:\n",
    "    print(\"Error:\",e)\n",
    "    \n",
    "\n",
    "finally:\n",
    "    print(\"This is finally block.\")"
   ]
  },
  {
   "cell_type": "code",
   "execution_count": 25,
   "id": "7814fdae-d722-4e33-a65f-00a436abf1b1",
   "metadata": {},
   "outputs": [
    {
     "name": "stdin",
     "output_type": "stream",
     "text": [
      "Enter a number: 10\n",
      "Enter a number: 1\n"
     ]
    },
    {
     "name": "stdout",
     "output_type": "stream",
     "text": [
      "10.0\n",
      "11\n",
      "This is finally block.\n"
     ]
    }
   ],
   "source": [
    "# 5. try-except-else-finally\n",
    "\n",
    "try:\n",
    "    numerator = int(input(\"Enter a number:\"))\n",
    "    denominator = int(input(\"Enter a number:\"))\n",
    "\n",
    "    result = numerator/denominator\n",
    "\n",
    "    print(result)\n",
    "    \n",
    "except ZeroDivisionError as e:\n",
    "    print(\"Error:\",e)\n",
    "    \n",
    "\n",
    "else:\n",
    "    result = numerator + denominator\n",
    "    print(result)\n",
    "    \n",
    "\n",
    "finally:\n",
    "    print(\"This is finally block.\")"
   ]
  },
  {
   "cell_type": "code",
   "execution_count": null,
   "id": "e27a4d7f-5b67-4c7e-8e2f-eaec36b5f084",
   "metadata": {},
   "outputs": [],
   "source": [
    "# Q4. Explain with an example:"
   ]
  },
  {
   "cell_type": "code",
   "execution_count": 35,
   "id": "5e5c4270-e992-4c26-8514-46e937fdf4d2",
   "metadata": {},
   "outputs": [
    {
     "name": "stdout",
     "output_type": "stream",
     "text": [
      "I am checking whether above line of code is going to execute or not. [Errno 17] File exists: 'file.txt'\n"
     ]
    }
   ],
   "source": [
    "# try and else\n",
    "\n",
    "try:\n",
    "    a = open(\"file.txt\",\"x\")\n",
    "    a.write(\"Include this line in above file.\")\n",
    "    \n",
    "except Exception as e:\n",
    "    print(\"I am checking whether above line of code is going to execute or not.\",e)\n",
    "    \n",
    "else:\n",
    "    a.close()\n",
    "    print(\"Above file is created including above line without exception.\")"
   ]
  },
  {
   "cell_type": "code",
   "execution_count": 34,
   "id": "15db8018-3853-44f3-94fe-092bc0c2ae92",
   "metadata": {},
   "outputs": [
    {
     "name": "stdin",
     "output_type": "stream",
     "text": [
      "Enter a number: 10\n",
      "Enter a number: 0\n"
     ]
    },
    {
     "name": "stdout",
     "output_type": "stream",
     "text": [
      "Error: division by zero\n",
      "This is finally block.\n"
     ]
    }
   ],
   "source": [
    "# finally\n",
    "\n",
    "try:\n",
    "    numerator = int(input(\"Enter a number:\"))\n",
    "    denominator = int(input(\"Enter a number:\"))\n",
    "    print(numerator/denominator)\n",
    "    \n",
    "except ZeroDivisionError as e:\n",
    "    print(\"Error:\",e)\n",
    "    \n",
    "\n",
    "else:\n",
    "    print(numerator + denominator)\n",
    "    \n",
    "\n",
    "finally:\n",
    "    print(\"This is finally block.\")"
   ]
  },
  {
   "cell_type": "code",
   "execution_count": 32,
   "id": "cac5767b-62af-4b1e-8f0d-385a1c337d05",
   "metadata": {},
   "outputs": [
    {
     "ename": "Exception",
     "evalue": "Sorry, no numbers below zero",
     "output_type": "error",
     "traceback": [
      "\u001b[0;31m---------------------------------------------------------------------------\u001b[0m",
      "\u001b[0;31mException\u001b[0m                                 Traceback (most recent call last)",
      "Cell \u001b[0;32mIn[32], line 6\u001b[0m\n\u001b[1;32m      3\u001b[0m x \u001b[38;5;241m=\u001b[39m \u001b[38;5;241m-\u001b[39m\u001b[38;5;241m1\u001b[39m\n\u001b[1;32m      5\u001b[0m \u001b[38;5;28;01mif\u001b[39;00m x \u001b[38;5;241m<\u001b[39m \u001b[38;5;241m0\u001b[39m:\n\u001b[0;32m----> 6\u001b[0m     \u001b[38;5;28;01mraise\u001b[39;00m \u001b[38;5;167;01mException\u001b[39;00m(\u001b[38;5;124m\"\u001b[39m\u001b[38;5;124mSorry, no numbers below zero\u001b[39m\u001b[38;5;124m\"\u001b[39m)\n",
      "\u001b[0;31mException\u001b[0m: Sorry, no numbers below zero"
     ]
    }
   ],
   "source": [
    "# raise\n",
    "\n",
    "x = -1\n",
    "\n",
    "if x < 0:\n",
    "    raise Exception(\"Sorry, no numbers below zero\")"
   ]
  },
  {
   "cell_type": "code",
   "execution_count": 36,
   "id": "3cb91126-42a8-4f79-8973-5239a57050dc",
   "metadata": {},
   "outputs": [
    {
     "data": {
      "text/plain": [
       "'Q5. What are Custom Exceptions in python? Why do we need Custom Exceptions? Explain with an example.\\n\\nAns - Python provides a lot of built-in exception classes that outputs an error when something in your code goes wrong. \\n    The error classes can also be used to handle those specific exceptions using try-except blocks. However, there are times, \\n    when you need to provide more context in exceptions to deal with specific requirements and there comes the Custom \\n    exceptions.\\n    Following are few of the reasons to use custom exceptions: To catch and provide specific treatment to a subset of existing \\n    Java exceptions. \\n    Business logic exceptions: These are the exceptions related to business logic and workflow.\\n'"
      ]
     },
     "execution_count": 36,
     "metadata": {},
     "output_type": "execute_result"
    }
   ],
   "source": [
    "'''Q5. What are Custom Exceptions in python? Why do we need Custom Exceptions? Explain with an example.\n",
    "\n",
    "Ans - Python provides a lot of built-in exception classes that outputs an error when something in your code goes wrong. \n",
    "    The error classes can also be used to handle those specific exceptions using try-except blocks. However, there are times, \n",
    "    when you need to provide more context in exceptions to deal with specific requirements and there comes the Custom \n",
    "    exceptions.\n",
    "    Following are few of the reasons to use custom exceptions: To catch and provide specific treatment to a subset of existing \n",
    "    Java exceptions. \n",
    "    Business logic exceptions: These are the exceptions related to business logic and workflow.\n",
    "'''"
   ]
  },
  {
   "cell_type": "code",
   "execution_count": null,
   "id": "154a2ae5-dc5a-4eae-9ce6-c9ee868bfba0",
   "metadata": {},
   "outputs": [],
   "source": [
    "# Q6. Create a custom exception class. Use this class to handle an exception."
   ]
  },
  {
   "cell_type": "code",
   "execution_count": 7,
   "id": "d597b80e-550a-4fc6-8008-35408a3a42a9",
   "metadata": {},
   "outputs": [],
   "source": [
    "class admission(Exception):\n",
    "    def __init__(self, percentile):\n",
    "        self.percentile = percentile"
   ]
  },
  {
   "cell_type": "code",
   "execution_count": 13,
   "id": "d7a70541-8101-4cc6-aaca-997663c0081f",
   "metadata": {},
   "outputs": [],
   "source": [
    "def validate_admission(percentile):\n",
    "    if percentile < 0:\n",
    "        raise admission (\"Percentile should not be negative.\")\n",
    "    \n",
    "    elif percentile > 0 and percentile < 40:\n",
    "        raise admission (\"You are not qualified for admission.\")\n",
    "    \n",
    "    elif percentile >= 40 and percentile <= 60:\n",
    "        raise admission (\"You are not selected.\")\n",
    "            \n",
    "    \n",
    "    elif percentile > 100:\n",
    "        raise admission (\"Percentile is not valid.\")\n",
    "        \n",
    "    else:\n",
    "        print(\"Congratulations! You are selected.\")\n",
    "        "
   ]
  },
  {
   "cell_type": "code",
   "execution_count": 19,
   "id": "8de7efb4-ff25-4b33-9f95-1d826eeac229",
   "metadata": {},
   "outputs": [
    {
     "name": "stdin",
     "output_type": "stream",
     "text": [
      "Enter your percentile: 20\n"
     ]
    },
    {
     "name": "stdout",
     "output_type": "stream",
     "text": [
      "You are not qualified for admission.\n"
     ]
    }
   ],
   "source": [
    "try : \n",
    "    percentile = float(input(\"Enter your percentile:\"))\n",
    "    validate_admission(percentile)\n",
    "    \n",
    "except admission as e : \n",
    "    print(e)"
   ]
  }
 ],
 "metadata": {
  "kernelspec": {
   "display_name": "Python 3 (ipykernel)",
   "language": "python",
   "name": "python3"
  },
  "language_info": {
   "codemirror_mode": {
    "name": "ipython",
    "version": 3
   },
   "file_extension": ".py",
   "mimetype": "text/x-python",
   "name": "python",
   "nbconvert_exporter": "python",
   "pygments_lexer": "ipython3",
   "version": "3.10.8"
  }
 },
 "nbformat": 4,
 "nbformat_minor": 5
}
