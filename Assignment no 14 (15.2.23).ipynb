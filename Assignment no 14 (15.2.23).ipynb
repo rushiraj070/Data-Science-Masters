{
 "cells": [
  {
   "cell_type": "code",
   "execution_count": null,
   "id": "5d0beb49-33c8-4f90-9281-a1a3978ce00a",
   "metadata": {},
   "outputs": [],
   "source": [
    "'''Q1. What is multiprocessing in python? Why is it useful?\n",
    "\n",
    "Ans - Multiprocessing in Python is the process of running multiple processes simultaneously within a single thread.\n",
    "        It is useful as the primary purpose of multiprocessing in Python is to improve the performance of a program by using \n",
    "    multiple CPUs or CPU cores.\n",
    "        Multiprocessing helps in performing parallel computing. There are several processors in a system, and each of them can \n",
    "    run multiple processes simultaneously. The system's throughput will be significantly increased as a result of this. \n",
    "    Parallel computing is performed by multiprocessing.\n",
    "'''"
   ]
  },
  {
   "cell_type": "code",
   "execution_count": null,
   "id": "154674a8-f510-42b5-ab08-57991e1633a6",
   "metadata": {},
   "outputs": [],
   "source": []
  },
  {
   "cell_type": "code",
   "execution_count": null,
   "id": "28ed129a-075a-4b1c-b2f7-fbb476f9d25e",
   "metadata": {},
   "outputs": [],
   "source": [
    "''' Q2. What are the differences between multiprocessing and multithreading?\n",
    "\n",
    "Ans - While multithreading and multiprocessing can both be used to increase the computing power of a system, there are \n",
    "      some key differences between these approaches.\n",
    "      \n",
    "      Here are some of the primary ways these methods differ from one another:\n",
    "      \n",
    "      1. Multiprocessing uses two or more CPUs to increase computing power, whereas multithreading uses a single process \n",
    "      with multiple code segments to increase computing power.\n",
    "      2. Multithreading focuses on generating computing threads from a single process, whereas multiprocessing increases \n",
    "      computing power by adding CPUs.\n",
    "      3. Multiprocessing is used to create a more reliable system, whereas multithreading is used to create threads that \n",
    "      run parallel to each other.\n",
    "      4. Multithreading is quick to create and requires few resources, whereas multiprocessing requires a significant amount \n",
    "      of time and specific resources to create.\n",
    "      5. Multiprocessing executes many processes simultaneously, whereas multithreading executes many threads simultaneously.\n",
    "      6. Multithreading uses a common address space for all the threads, whereas multiprocessing creates a separate address space\n",
    "      for each process.\n",
    "      \n",
    "'''"
   ]
  },
  {
   "cell_type": "code",
   "execution_count": null,
   "id": "20729dda-a8ff-41cd-b8a2-b90c901800d2",
   "metadata": {},
   "outputs": [],
   "source": []
  },
  {
   "cell_type": "code",
   "execution_count": 1,
   "id": "639300f1-015d-48f0-b614-d11d557ea50e",
   "metadata": {},
   "outputs": [
    {
     "name": "stdout",
     "output_type": "stream",
     "text": [
      "This is my parent program which will execte first.\n",
      "This is my child program which will execute after parent one.\n"
     ]
    }
   ],
   "source": [
    "# Q3. Write a python code to create a process using the multiprocessing module.\n",
    "import multiprocessing\n",
    "\n",
    "def child():\n",
    "    print(\"This is my child program which will execute after parent one.\")\n",
    "    \n",
    "if __name__ == '__main__':\n",
    "    parent = multiprocessing.Process(target=child)\n",
    "    print(\"This is my parent program which will execte first.\")\n",
    "    parent.start() #to start the main program\n",
    "    parent.join() #to stop the main program\n"
   ]
  },
  {
   "cell_type": "code",
   "execution_count": null,
   "id": "a7fe7197-be2a-4695-9b9b-65db581add4e",
   "metadata": {},
   "outputs": [],
   "source": [
    "'''Q4. What is a multiprocessing pool in python? Why is it used?\n",
    "\n",
    "Ans - Python multiprocessing Pool can be used for parallel execution of a function across multiple input values, \n",
    "    distributing the input data across processes (data parallelism).\n",
    "\n",
    "'''"
   ]
  },
  {
   "cell_type": "code",
   "execution_count": null,
   "id": "712f8463-57be-4108-b48f-63d3c159c2f8",
   "metadata": {},
   "outputs": [],
   "source": [
    "'''Q5. How can we create a pool of worker processes in python using the multiprocessing module?\n",
    "\n",
    "Ans - We can create a pool of worker processes in python using the multiprocessing module by putting a value under\n",
    "    multiprocessing.Pool(processes = value), where value can be 1,2,3,4...etc.\n",
    "'''"
   ]
  },
  {
   "cell_type": "code",
   "execution_count": 14,
   "id": "86004100-192f-49c3-9385-daece94eb709",
   "metadata": {},
   "outputs": [
    {
     "name": "stdout",
     "output_type": "stream",
     "text": [
      "[1, 2, 3, 4, 5, 6, 7, 8, 9, 10]\n"
     ]
    }
   ],
   "source": [
    "print([i for i in range(1,11)])"
   ]
  },
  {
   "cell_type": "code",
   "execution_count": 27,
   "id": "6ee02ffb-9a5b-49f4-9299-5a0d2df12e20",
   "metadata": {},
   "outputs": [
    {
     "name": "stdout",
     "output_type": "stream",
     "text": [
      "[1, 8, 27, 64, 125, 216, 343, 512, 729, 1000]\n"
     ]
    }
   ],
   "source": [
    "'''Q6. Write a python program to create 4 processes, each process should print a different number using the\n",
    "multiprocessing module in python.'''\n",
    "\n",
    "def cube(i):\n",
    "    return i**3\n",
    "\n",
    "if __name__ == \"__main__\":\n",
    "    with multiprocessing.Pool(processes=4) as pool:\n",
    "        cube_list = pool.map(cube,[i for i in range(1,11)])\n",
    "        print(cube_list)\n",
    "    "
   ]
  },
  {
   "cell_type": "code",
   "execution_count": null,
   "id": "af29fbe2-440d-4ff1-81c7-f97b086e40b5",
   "metadata": {},
   "outputs": [],
   "source": []
  }
 ],
 "metadata": {
  "kernelspec": {
   "display_name": "Python 3 (ipykernel)",
   "language": "python",
   "name": "python3"
  },
  "language_info": {
   "codemirror_mode": {
    "name": "ipython",
    "version": 3
   },
   "file_extension": ".py",
   "mimetype": "text/x-python",
   "name": "python",
   "nbconvert_exporter": "python",
   "pygments_lexer": "ipython3",
   "version": "3.10.8"
  }
 },
 "nbformat": 4,
 "nbformat_minor": 5
}
