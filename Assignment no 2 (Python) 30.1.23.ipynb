{
 "cells": [
  {
   "cell_type": "markdown",
   "id": "6ed1d6bf-7525-469c-9678-112d442fddac",
   "metadata": {},
   "source": [
    "### Assignment no 2 (Python)"
   ]
  },
  {
   "cell_type": "code",
   "execution_count": 1,
   "id": "50cb9193-25f7-4d15-b72b-9fb6f8d07c02",
   "metadata": {},
   "outputs": [
    {
     "name": "stdin",
     "output_type": "stream",
     "text": [
      "Enter your Marks:  85\n"
     ]
    },
    {
     "name": "stdout",
     "output_type": "stream",
     "text": [
      "Congratulations! You got a 'B'!\n"
     ]
    }
   ],
   "source": [
    "## Question.1. Write a program to accept percentage from the user and display the grade according to criteria.\n",
    "\n",
    "marks = int(input(\"Enter your Marks: \"))\n",
    "\n",
    "if marks > 90:\n",
    "    print(\"Congratulations! You got an 'A'!\")\n",
    "\n",
    "elif marks > 80 and marks <= 90:\n",
    "    print(\"Congratulations! You got a 'B'!\")\n",
    "    \n",
    "elif marks >= 60 and marks <= 80:\n",
    "    print(\"Congratulations! You got a 'C'!\")\n",
    "    \n",
    "else:\n",
    "    print(\"Congratulations! You got a 'D'!\")"
   ]
  },
  {
   "cell_type": "code",
   "execution_count": 2,
   "id": "d9c68fea-1dc5-4679-b9be-19e576eea489",
   "metadata": {},
   "outputs": [
    {
     "name": "stdin",
     "output_type": "stream",
     "text": [
      "Enter your price of a Bike:  50000\n"
     ]
    },
    {
     "name": "stdout",
     "output_type": "stream",
     "text": [
      "You have to pay the road tax of 5%.\n"
     ]
    }
   ],
   "source": [
    "## Question.2. Write a program to accept cost price of a bike and display the road tax to be paid according to criteria.\n",
    "\n",
    "bike_price = int(input(\"Enter your price of a Bike: \"))\n",
    "\n",
    "if bike_price > 100000:\n",
    "    print(\"You have to pay the road tax of 15%.\")\n",
    "\n",
    "elif bike_price > 50000 and bike_price <= 100000:\n",
    "    print(\"You have to pay the road tax of 10%.\")\n",
    "    \n",
    "else:\n",
    "    print(\"You have to pay the road tax of 5%.\")\n"
   ]
  },
  {
   "cell_type": "code",
   "execution_count": 3,
   "id": "58a1e4d2-b520-47fe-b3e0-849eca13f4f9",
   "metadata": {},
   "outputs": [
    {
     "name": "stdin",
     "output_type": "stream",
     "text": [
      "Enter name of your city:  Agra\n"
     ]
    },
    {
     "name": "stdout",
     "output_type": "stream",
     "text": [
      "World famous Architechtural monument in your city is Taj Mahal.\n"
     ]
    }
   ],
   "source": [
    "## Question.3. Accept the city from the user and display the monuments of that city.\n",
    "\n",
    "city_name = input(\"Enter name of your city: \")\n",
    "\n",
    "if city_name == \"Delhi\":\n",
    "    print(\"World famous Architechtural monument in your city is Red Fort.\")\n",
    "\n",
    "elif city_name == \"Agra\":\n",
    "    print(\"World famous Architechtural monument in your city is Taj Mahal.\")\n",
    "    \n",
    "elif city_name == \"Jaipur\":\n",
    "    print(\"World famous Architechtural monument in your city is Jal Mahal.\")\n"
   ]
  },
  {
   "cell_type": "code",
   "execution_count": 4,
   "id": "2343363d-0646-40d9-be4b-6a54815d04b9",
   "metadata": {},
   "outputs": [
    {
     "name": "stdin",
     "output_type": "stream",
     "text": [
      "Enter your Number: 90\n"
     ]
    },
    {
     "name": "stdout",
     "output_type": "stream",
     "text": [
      "Your count to be divided by 3 is exceeding the condition.\n"
     ]
    }
   ],
   "source": [
    "## Question.4. Check how many times a number can be divided by 3 before it is less than or equal to 10.\n",
    "\n",
    "number = int(input(\"Enter your Number:\"))\n",
    "count = int(number/3)\n",
    "\n",
    "if number//3 != 0 and count<=10:\n",
    "    print(\"Your number {} can be divided by 3 for {} times .\".format(number,count))\n",
    "    \n",
    "else:\n",
    "    print(\"Your count to be divided by 3 is exceeding the condition.\")\n",
    "    \n",
    "    "
   ]
  },
  {
   "cell_type": "code",
   "execution_count": 5,
   "id": "5cfa2b5c-808a-4a87-8651-cb0d56c83b17",
   "metadata": {},
   "outputs": [
    {
     "name": "stdout",
     "output_type": "stream",
     "text": [
      "10\n",
      "11\n",
      "12\n",
      "13\n",
      "14\n",
      "15\n",
      "16\n",
      "17\n",
      "18\n",
      "Now you can have your driving license!\n"
     ]
    }
   ],
   "source": [
    "# Question.5. Why and when use While loop in Python. Give a detailed description with example.\n",
    "'''Ans -  Let assume we have multiple datasets which have various datatypes with a huge amount and\n",
    " we have go through it to fulfill our certain or multiple conditional requirements. Now if we try to \n",
    " go through that entire data within datasets it is not possible as we human have certain limitations \n",
    " and here comes the \"WHILE\" loop. With While loop we can execute a set of statements as long as a condition/s \n",
    " is/are true which meet our requirements.'''\n",
    "\n",
    "age=10\n",
    "\n",
    "while age<=18:\n",
    "    print(age)\n",
    "    age = age+1\n",
    "    \n",
    "else:\n",
    "    print(\"Now you can have your driving license!\")\n",
    "\n",
    "    \n",
    "    '''Now in above example a person want to get a driving license, but only after his/her qualifying age. \n",
    "    The loop will go on until it meet the requirements to get a license and then will print a message that \n",
    "    you are qualified to get a driving license.'''"
   ]
  },
  {
   "cell_type": "code",
   "execution_count": 13,
   "id": "98ae4215-f64d-423d-947b-403d9342117f",
   "metadata": {},
   "outputs": [
    {
     "name": "stdin",
     "output_type": "stream",
     "text": [
      "Enter your Yearly Earnings: 3000000\n"
     ]
    },
    {
     "name": "stdout",
     "output_type": "stream",
     "text": [
      "You still not have now enough earnings to give yourself a better and stable life.\n"
     ]
    },
    {
     "name": "stdin",
     "output_type": "stream",
     "text": [
      "Enter your Monthly Salary: 900000\n"
     ]
    },
    {
     "name": "stdout",
     "output_type": "stream",
     "text": [
      "You have achieved your target salary of a LAKH per month.\n",
      "You still not have now enough earnings to give yourself a better and stable life.\n"
     ]
    },
    {
     "name": "stdin",
     "output_type": "stream",
     "text": [
      "Enter your Monthly Salary: 90000\n"
     ]
    },
    {
     "name": "stdout",
     "output_type": "stream",
     "text": [
      "You have to little more hardwork to increase your salary from 90000 to a LAKH per month.\n"
     ]
    },
    {
     "name": "stdin",
     "output_type": "stream",
     "text": [
      "Enter your age: 45\n"
     ]
    },
    {
     "name": "stdout",
     "output_type": "stream",
     "text": [
      "You still can do something marvelous!!\n",
      "You still can do something marvelous!!\n",
      "You have achieved your target salary of a LAKH per month.\n",
      "You have now enough earnings to give yourself a better life.\n"
     ]
    }
   ],
   "source": [
    "# Question.6. Use nested while loop to print three different patterns.\n",
    "\n",
    "earnings = int(input(\"Enter your Yearly Earnings:\"))\n",
    "\n",
    "while earnings < 5000000:\n",
    "    print(\"You still not have now enough earnings to give yourself a better and stable life.\")\n",
    "    earnings +=1000000\n",
    "    \n",
    "    salary = int(input(\"Enter your Monthly Salary:\"))\n",
    "    while salary >=100000:\n",
    "        print(f\"You have to little more hardwork to increase your salary from {salary} to a LAKH per month.\")\n",
    "        salary += 10000\n",
    "        \n",
    "        \n",
    "        age = int(input(\"Enter your age:\"))\n",
    "        while age <60:\n",
    "            print(\"You still can do something marvelous!!\")\n",
    "            age += 10\n",
    "    \n",
    "            \n",
    "    else:\n",
    "        print(\"You have achieved your target salary of a LAKH per month.\")\n",
    "        \n",
    "else:\n",
    "    print(\"You have now enough earnings to give yourself a better life.\")"
   ]
  },
  {
   "cell_type": "code",
   "execution_count": 14,
   "id": "8eb6e9d6-6f1e-435a-a8e9-e851289d08e1",
   "metadata": {},
   "outputs": [
    {
     "name": "stdout",
     "output_type": "stream",
     "text": [
      "10\n",
      "9\n",
      "8\n",
      "7\n",
      "6\n",
      "5\n",
      "4\n",
      "3\n",
      "2\n",
      "1\n"
     ]
    }
   ],
   "source": [
    "# Question.6. Reverse a while loop to display numbers from 10 to 1.\n",
    "\n",
    "n = 10\n",
    "\n",
    "while n!=0:\n",
    "    print(n)\n",
    "    n = n-1\n"
   ]
  },
  {
   "cell_type": "code",
   "execution_count": null,
   "id": "38b2dccd-4de3-4409-a212-6a8771c4b011",
   "metadata": {},
   "outputs": [],
   "source": []
  },
  {
   "cell_type": "code",
   "execution_count": null,
   "id": "f07539ec-b6cf-4a7d-9b6b-28842ffe9f90",
   "metadata": {},
   "outputs": [],
   "source": []
  }
 ],
 "metadata": {
  "kernelspec": {
   "display_name": "Python 3 (ipykernel)",
   "language": "python",
   "name": "python3"
  },
  "language_info": {
   "codemirror_mode": {
    "name": "ipython",
    "version": 3
   },
   "file_extension": ".py",
   "mimetype": "text/x-python",
   "name": "python",
   "nbconvert_exporter": "python",
   "pygments_lexer": "ipython3",
   "version": "3.10.8"
  }
 },
 "nbformat": 4,
 "nbformat_minor": 5
}
