{
 "cells": [
  {
   "cell_type": "markdown",
   "id": "2c229b95-3f47-4687-82be-8db03d8aff2a",
   "metadata": {},
   "source": [
    "# Assignment No 34"
   ]
  },
  {
   "cell_type": "markdown",
   "id": "860488ea-e3b4-4597-915d-4eca2311908f",
   "metadata": {},
   "source": [
    "## Inferential Statistics I"
   ]
  },
  {
   "cell_type": "code",
   "execution_count": null,
   "id": "7dabf6fb-be1d-434f-b4ca-45270807ea21",
   "metadata": {},
   "outputs": [],
   "source": [
    "Q1: What is Estimation Statistics? Explain point estimate and interval estimate.\n",
    "\n",
    "Ans - It is a specified and observed numerical value used to estimate an \"UNKNOWN\" population parmeter.\n",
    "        \n",
    "        Types of Estimation Statistics:\n",
    "            1.  Point estimate - It is a \"SINGLE\" numerical value used to estimate an unknown parameter.\n",
    "                                  _\n",
    "                e.g. Sample mean (x) is a point estimate of Population mean (µ).\n",
    "                \n",
    "            2. Interval estimate  - It is a \"RANGE\" of values used to estimate the unknown population parameter.\n",
    "                                    Confidence interval to calculate sample mean to estimate population parameter."
   ]
  },
  {
   "cell_type": "code",
   "execution_count": 1,
   "id": "6cac3059-3430-4af0-b9db-6753f5144c39",
   "metadata": {},
   "outputs": [],
   "source": [
    "#Q2. Write a Python function to estimate the population mean using a sample mean and standard deviation.\n",
    "\n",
    "def pop_mean(s, σ):\n",
    "    µ = s - (0.5 * σ)\n",
    "    return \"The population mean for given sample mean {} and standard deviation {} is {}\".format(s, σ, µ)"
   ]
  },
  {
   "cell_type": "code",
   "execution_count": 2,
   "id": "f2cfef6e-5ae4-4e1d-b5aa-8f114a91b13f",
   "metadata": {},
   "outputs": [
    {
     "data": {
      "text/plain": [
       "'The population mean for given sample mean 169.5 and standard deviation 3.9 is 167.55'"
      ]
     },
     "execution_count": 2,
     "metadata": {},
     "output_type": "execute_result"
    }
   ],
   "source": [
    "pop_mean(169.5, 3.9)"
   ]
  },
  {
   "cell_type": "code",
   "execution_count": null,
   "id": "a278f4a7-e4ff-4dba-8174-e3f4ba780f4e",
   "metadata": {},
   "outputs": [],
   "source": [
    "Q3: What is Hypothesis testing? Why is it used? State the importance of Hypothesis testing.\n",
    "\n",
    "Ans - Hypothesis testing is a form of statistical inference that uses data from a sample to draw conclusions or inferences\n",
    "    about a population parameter or a population probability distribution.\n",
    "    \n",
    "    It is used because it is a proven method for understanding how reliably one can extrapolate observed findings in a sample\n",
    "    under study to the larger population from which the sample was drawn.\n",
    "    \n",
    "    Hypothesis testing is one of the most important concepts in statistics because it is how you decide if something really \n",
    "    happened, or if certain treatments have positive effects, or if groups differ from each other or if one variable predicts\n",
    "    another. In short, you want to proof if your data is statistically significant and unlikely to have occurred by chance \n",
    "    alone. In essence then, a hypothesis test is a test of significance."
   ]
  },
  {
   "cell_type": "code",
   "execution_count": null,
   "id": "bc7cd7ad-e5a4-4890-98eb-8ebb417b8bdf",
   "metadata": {},
   "outputs": [],
   "source": [
    "Q4. Create a hypothesis that states whether the average weight of male college students is greater than the average weight \n",
    "    of female college students.\n",
    "Ans - Average weight of MALE college students = µ0\n",
    "      Average weight of FEMALE college students = µ1\n",
    "\n",
    "        Null Hypothesis Ho : µ0 > µ1\n",
    "        Alternate Hypothesis Ha: µ0 !> µ1 "
   ]
  },
  {
   "cell_type": "code",
   "execution_count": 3,
   "id": "ab52c061-3c6c-4064-8a45-cb68181e7b27",
   "metadata": {},
   "outputs": [
    {
     "data": {
      "text/plain": [
       "Ttest_indResult(statistic=-0.6337397070250238, pvalue=0.5300471010405257)"
      ]
     },
     "execution_count": 3,
     "metadata": {},
     "output_type": "execute_result"
    }
   ],
   "source": [
    "'''Q5. Write a Python script to conduct a hypothesis test on the difference between two population means, given a sample from \n",
    "    each population.\n",
    "    \n",
    "Ans -  \n",
    "        When we want to check whether the unknown population means of given pair of groups are equal or they differ we use Two Sample T-Test. \n",
    "    This test has another name as the independent samples t-test and it basically allows one to test the null hypothesis that the means of two \n",
    "    groups are equal.\n",
    "     \n",
    "        Before conducting the two-sample t-test using Python let us discuss the assumptions of this parametric test. Basically, there are three \n",
    "    assumptions that we can make regarding the data groups:\n",
    "\n",
    "           1. Whether the two samples data groups are independent.\n",
    "           2. Whether the data elements in respective groups follow any normal distribution.\n",
    "           3. Whether the given two samples have similar variances. This assumption is also known as the homogeneity assumption.\n",
    "           \n",
    "Null Hypothesis Ho => µ1 = µ2 (population mean of dataset1 is equal to dataset2)\n",
    "\n",
    "Lternate Hypothesis Ha => µ1 ≠ µ2 (population mean of dataset1 is different from dataset2)\n",
    "'''\n",
    "\n",
    "import scipy.stats as stats\n",
    "import numpy as np\n",
    " \n",
    "# Creating data groups\n",
    "data_group1 = np.array([14, 15, 15, 16, 13, 8, 14,\n",
    "                        17, 16, 14, 19, 20, 21, 15,\n",
    "                        15, 16, 16, 13, 14, 12])\n",
    " \n",
    "data_group2 = np.array([15, 17, 14, 17, 14, 8, 12,\n",
    "                        19, 19, 14, 17, 22, 24, 16,\n",
    "                        13, 16, 13, 18, 15, 13])\n",
    " \n",
    "# Perform the two sample t-test with equal variances\n",
    "stats.ttest_ind(a=data_group1, b=data_group2, equal_var=True)"
   ]
  },
  {
   "cell_type": "code",
   "execution_count": null,
   "id": "16267335-91b1-405b-b69b-3cd75722cd00",
   "metadata": {},
   "outputs": [],
   "source": [
    "''' Here we can conclude that since the p-value (0.53004) is greater than alpha = 0.05 so we cannot reject the null hypothesis of the test. We \n",
    "do not have sufficient evidence to say that the mean height of students between the two data groups is different.'''"
   ]
  },
  {
   "cell_type": "code",
   "execution_count": null,
   "id": "f630537e-797e-49e3-bec8-4d73f392c234",
   "metadata": {},
   "outputs": [],
   "source": [
    "Q6: What is a null and alternative hypothesis? Give some examples.\n",
    "\n",
    "Ans - Null Hypothesis is a assumption that is made with a condition to begin with and denoted by Ho.µ0 > µ1\n",
    "      Alternate Hypothesis is a assumption that is made opposite to Null Hypothesis and denoted by Ha. µ0 !> µ1\n",
    "    \n",
    "    e.g. 1. Average percentile marks of students in a college are 85.\n",
    "                Thus µ = 85\n",
    "                Then  Null Hypothesis Ho : µ >= 85\n",
    "                      Alternate Hypothesis Ha: µ !>= 85\n",
    "                \n",
    "         2. Average salary of office employees in metro cities is 50000.\n",
    "                Thus µ = 85\n",
    "                Then  Null Hypothesis Ho : µ >= 50000\n",
    "                      Alternate Hypothesis Ha: µ !>= 50000   "
   ]
  },
  {
   "cell_type": "code",
   "execution_count": null,
   "id": "4e81c13e-a302-4660-b541-8ae08ae9bc66",
   "metadata": {},
   "outputs": [],
   "source": [
    "Q7: Write down the steps involved in hypothesis testing.\n",
    "\n",
    "Ans - Following are the steps involved in hypothesis testing :\n",
    "            1. To define the Null Hypothesis (Ho) with given condition.\n",
    "            2. To define the Alternate Hypothesis (Ha) with opposite condition considered in Null Hypothesis (Ho).\n",
    "            3. Apply various statistical analytical techniques or tests for experiments for getting P Value like \n",
    "                Z-test, t-test, Chi-Square test, ANOVA test etc.\n",
    "            4. Conclude the hypothesis based on test outcomes within the experiments."
   ]
  },
  {
   "cell_type": "code",
   "execution_count": null,
   "id": "45990667-901f-4871-b798-9ffe3ca8a9fb",
   "metadata": {},
   "outputs": [],
   "source": [
    "Q8. Define p-value and explain its significance in hypothesis testing.\n",
    "\n",
    "Ans - P-value is a number calculated from a statistical test, which tells that how likely we have found a particular set of\n",
    "    observations if Null Hypothesis were \"True\".\n",
    "    \n",
    "    Its significance is that it is used in hypothesis testing to make a decision either to accept or reject Null Hypothesis\n",
    "    (Ho)."
   ]
  },
  {
   "cell_type": "code",
   "execution_count": 7,
   "id": "20d32e22-4752-4451-9335-5311f95ba7b9",
   "metadata": {},
   "outputs": [
    {
     "data": {
      "image/png": "[encoded data removed]",
      "text/plain": [
       "<Figure size 640x480 with 1 Axes>"
      ]
     },
     "metadata": {},
     "output_type": "display_data"
    }
   ],
   "source": [
    "'''Q9. Generate a Student's t-distribution plot using Python's matplotlib library, with the degrees of freedom parameter set to \n",
    "    10.'''\n",
    "    \n",
    "import numpy\n",
    "from scipy.stats import t\n",
    "from matplotlib import pyplot\n",
    "X = numpy.linspace (-4, 4, 200)\n",
    "# Generate t-distribution graph for a specific degrees of freedom\n",
    "Y = t.pdf(X, df=10)\n",
    "pyplot.plot(X, Y)\n",
    "pyplot.show()"
   ]
  },
  {
   "cell_type": "code",
   "execution_count": null,
   "id": "c537c689-b3e0-4f70-9716-394e7d3e657f",
   "metadata": {},
   "outputs": [],
   "source": [
    "'''Q10. Write a Python program to calculate the two-sample t-test for independent samples, given two random samples of equal size and a null \n",
    "    hypothesis that the population means are equal.\n",
    "\n",
    "            s1 - data sample 1\n",
    "            s2 - data sample 2 \n",
    "            \n",
    "'''\n",
    "# Two-Sample T-Test with Pingouin\n",
    "\n",
    "def tt_test(s1, s2):\n",
    "    from statsmodels.stats.weightstats import ttest_ind\n",
    "    import numpy as np\n",
    "    import pingouin as pg\n",
    "\n",
    "    # Creating data groups\n",
    "    data_group1 = s1\n",
    "    data_group2 = s2\n",
    "    \n",
    "    # Conducting two-sample ttest\n",
    "    result = pg.ttest(data_group1, data_group2, correction=True)\n",
    "    print(result)"
   ]
  },
  {
   "cell_type": "code",
   "execution_count": null,
   "id": "f5cdbce0-8202-4bda-94aa-8e88cbf4ad62",
   "metadata": {},
   "outputs": [],
   "source": [
    "Q11: What is Student’s t distribution? When to use the t-Distribution.\n",
    "\n",
    "Ans - The t-distribution, also known as the Student’s t-distribution, is a type of probability distribution that is similar \n",
    "     to the normal distribution with its bell shape but has heavier tails. \n",
    "    \n",
    "     In most of the scenarios it is very difficult to calculate standard deviations(σ) as there is not entire population set \n",
    "    is available in this case ans also for estimating population parameters for small sample sizes or unknown variances. \n",
    "    T-distributions have a greater chance for extreme values than normal distributions, and as a result have fatter tails.\n"
   ]
  },
  {
   "cell_type": "code",
   "execution_count": null,
   "id": "2a26f25a-9f16-4469-8c63-ff3edc19a541",
   "metadata": {},
   "outputs": [],
   "source": [
    "Q12: What is t-statistic? State the formula for t-statistic.\n",
    "\n",
    "Ans -  The t-statistic is the ratio of the departure of the estimated value of a parameter from its hypothesized value to \n",
    "    its standard error. It is used in hypothesis testing via students t-test. The t-statistic is used in a t-test to \n",
    "    determine whether to support or reject the null hypothesis. It is very similar to the z-score but with the difference \n",
    "    that t-statistic is used when the sample size is small or the population standard deviation is unknown.\n",
    "    \n",
    "    Formula for t-Distribution is as follows:\n",
    "                 _\n",
    "                 x - µ \n",
    "            t = -------\n",
    "                 (s/√n)\n",
    "                \n",
    "        where:\n",
    "            _\n",
    "            x - the sample mean\n",
    "            µ - the hypothesized population mean\n",
    "            s - the sample standard deviation\n",
    "            n - the sample size"
   ]
  },
  {
   "cell_type": "code",
   "execution_count": 7,
   "id": "054020c5-863a-4b82-a838-bc96bdb4d127",
   "metadata": {},
   "outputs": [],
   "source": [
    "'''Q13. A coffee shop owner wants to estimate the average daily revenue for their shop. They take a random sample of 50 days \n",
    "    and find the sample mean revenue to be ₹500 with a standard deviation of ₹50. Estimate the population mean revenue with \n",
    "    a 95% confidence interval.'''\n",
    "\n",
    "def μ(x,σ,s):\n",
    "    import numpy as np\n",
    "    z_score95 = 1.96\n",
    "    std_error =  σ / (np.sqrt(s))\n",
    "    neg_CI = x - (z_score95 * std_error)\n",
    "    pos_CI = x + (z_score95 * std_error)\n",
    "    print(f\" {neg_CI} <= μ <= {pos_CI}\")\n",
    "    return f\"We conclude that with 95% confidence that the true population mean revenue lies between rupees {neg_CI} and rupees {pos_CI} per day.\""
   ]
  },
  {
   "cell_type": "code",
   "execution_count": 8,
   "id": "ceb8769d-b6ae-41c8-abb4-936d4583b9f8",
   "metadata": {},
   "outputs": [
    {
     "name": "stdout",
     "output_type": "stream",
     "text": [
      " 486.1407070887437 <= μ <= 513.8592929112564\n"
     ]
    },
    {
     "data": {
      "text/plain": [
       "'We conclude that with 95% confidence that the true population mean revenue lies between rupees 486.1407070887437 and rupees 513.8592929112564 per day.'"
      ]
     },
     "execution_count": 8,
     "metadata": {},
     "output_type": "execute_result"
    }
   ],
   "source": [
    "μ(500,50,50)"
   ]
  },
  {
   "cell_type": "code",
   "execution_count": null,
   "id": "e6f44a5c-367c-45fa-b684-7d137b309afb",
   "metadata": {},
   "outputs": [],
   "source": [
    "Q14. A researcher hypothesizes that a new drug will decrease blood pressure by 10 mmHg. They conduct a clinical trial with \n",
    "    100 patients and find that the sample mean decrease in blood pressure is 8 mmHg with a standard deviation of 3 mmHg. \n",
    "    Test the hypothesis with a significance level of 0.05.\n",
    "    \n",
    "Sol - \n",
    "        Given - μ = 10, n = 100, x = 8, s = 3, α = 0.05\n",
    "\n",
    "\n",
    "      1. Null Hypothesis (Ho) =>  μ = 10\n",
    "         Alternate Hypothesis (Ha) =>  μ < 10 (One tailed test)\n",
    "     \n",
    "      2. Significance level (α) = 0.05\n",
    "    \n",
    "      3. dof = n-1 => 100 - 1 = 99\n",
    "        \n",
    "      4. Decision Rule -\n",
    "                    By t-table, z-score = -1.660\n",
    "      \n",
    "      5. Calculating T-Statistic -\n",
    "\n",
    "                 x - µ \n",
    "            t = -------\n",
    "                 (s/√n)\n",
    "                \n",
    "              = (8-10)/(3/√100)\n",
    "            \n",
    "              = -6.67 (< z-score = -1.660)\n",
    "                \n",
    "        Hence we reject the Null Hypothesis (Ho)\n",
    "        \n",
    "       6. Conclusion - The new drug will decrease blood pressure by 8 mmHg "
   ]
  },
  {
   "cell_type": "code",
   "execution_count": null,
   "id": "34961c86-6715-45f5-925b-fb0c76227a1b",
   "metadata": {},
   "outputs": [],
   "source": [
    "Q15. An electronics company produces a certain type of product with a mean weight of 5 pounds and a standard deviation of \n",
    "    0.5 pounds. A random sample of 25 products is taken, and the sample mean weight is found to be 4.8 pounds. Test the \n",
    "    hypothesis that the true mean weight of the products is less than 5 pounds with a significance level of 0.01.\n",
    "    \n",
    "Sol - \n",
    "        Given - μ = 5, n = 25, x = 4.8, σ = 0.5 , α = 0.01\n",
    "\n",
    "\n",
    "      1. Null Hypothesis (Ho) =>  μ = 5\n",
    "         Alternate Hypothesis (Ha) =>  μ < 5 (One tailed test)\n",
    "     \n",
    "      2. Significance level (α) = 0.01\n",
    "        \n",
    "      3. Decision Boundary -\n",
    "    \n",
    "                    \n",
    "\n",
    "                 x - µ \n",
    "            z = -------\n",
    "                 (σ/√n)\n",
    "                \n",
    "              = (4.8-5)/(0.5/√25)\n",
    "            \n",
    "              = -2 \n",
    "                \n",
    "        By z-table, p-value = 0.228 ( > 0.01)\n",
    "                \n",
    "        Hence we fail to reject the Null Hypothesis (Ho)\n",
    "        \n",
    "       6. Conclusion - The true mean weight of the products is equal to 5 pounds."
   ]
  },
  {
   "cell_type": "code",
   "execution_count": null,
   "id": "91902a98-3144-464d-9cb1-70008eca8377",
   "metadata": {},
   "outputs": [],
   "source": [
    "Q16. Two groups of students are given different study materials to prepare for a test. The first group (n1 = 30) has a mean \n",
    "    score of 80 with a standard deviation of 10, and the second group (n2 = 40) has a mean score of 75 with a standard \n",
    "    deviation of 8. Test the hypothesis that the population means for the two groups are equal with a significance level of \n",
    "    0.01.\n",
    "    \n",
    "Ans - For Group 1:\n",
    "       x1 = 80, σ1 = 10, n1 = 30 , α = 0.01\n",
    "       z_score99 = 2.58 (By Z Table)\n",
    "       std_error =  σ1 / √n1 = 10/√30 = 1.826\n",
    "       neg_CI = x1 - (z_score99 * std_error) = 80 - (2.58 * 4.711) = 75.289\n",
    "       pos_CI = x1 + (z_score99 * std_error) = 80 + (2.58 * 4.711) = 84.711\n",
    "    \n",
    "    For Group 2:\n",
    "       x2 = 75, σ2 = 8, n2 = 40 , α = 0.01\n",
    "       z_score99 = 2.58 (By Z Table)\n",
    "       std_error =  σ2 / √n2 = 8/√40 = 1.265\n",
    "       neg_CI = x2 - (z_score99 * std_error) = 75 - (2.58 * 1.265) = 71.737\n",
    "       pos_CI = x2 + (z_score99 * std_error) = 75 + (2.58 * 1.265) = 78.263\n",
    "    \n",
    "    99% of students in Group 1 scores between 75.289 to 84.711 while in Group 2 scores between 71.737 to 78.263.\n",
    "    \n",
    "    Hence we Reject the Null Hypothesis that the population means for the two groups are equal."
   ]
  },
  {
   "cell_type": "code",
   "execution_count": null,
   "id": "b4e916a4-c6a6-47f2-845d-48dee6036694",
   "metadata": {},
   "outputs": [],
   "source": [
    "Q17. A marketing company wants to estimate the average number of ads watched by viewers during a TV program. They take a \n",
    "    random sample of 50 viewers and find that the sample mean is 4 with a standard deviation of 1.5. Estimate the population\n",
    "    mean with a 99% confidence interval."
   ]
  },
  {
   "cell_type": "code",
   "execution_count": 3,
   "id": "9e625642-5e68-4cd1-b186-a56ece0af933",
   "metadata": {},
   "outputs": [],
   "source": [
    "def ads(x,σ,s):\n",
    "    import numpy as np\n",
    "    z_score99 = 2.58\n",
    "    std_error =  σ / (np.sqrt(s))\n",
    "    neg_CI = x - (z_score99 * std_error)\n",
    "    pos_CI = x + (z_score99 * std_error)\n",
    "    print(f\" {neg_CI} <= μ <= {pos_CI}\")\n",
    "    return f'''We conclude that with 99% confidence that the average number of ads watched by viewers during a TV program\n",
    "            lies between {neg_CI} and {pos_CI} per program.'''"
   ]
  },
  {
   "cell_type": "code",
   "execution_count": 4,
   "id": "77230105-96d6-4757-a7a6-f67249525200",
   "metadata": {},
   "outputs": [
    {
     "name": "stdout",
     "output_type": "stream",
     "text": [
      " 3.452699351361612 <= μ <= 4.547300648638387\n"
     ]
    },
    {
     "data": {
      "text/plain": [
       "'We conclude that with 99% confidence that the average number of ads watched by viewers during a TV program\\n            lies between 3.452699351361612 and 4.547300648638387 per program.'"
      ]
     },
     "execution_count": 4,
     "metadata": {},
     "output_type": "execute_result"
    }
   ],
   "source": [
    "ads(4,1.5,50)"
   ]
  },
  {
   "cell_type": "code",
   "execution_count": null,
   "id": "a657966c-39cd-4874-8c47-5b047f9b3ff1",
   "metadata": {},
   "outputs": [],
   "source": []
  }
 ],
 "metadata": {
  "kernelspec": {
   "display_name": "Python 3 (ipykernel)",
   "language": "python",
   "name": "python3"
  },
  "language_info": {
   "codemirror_mode": {
    "name": "ipython",
    "version": 3
   },
   "file_extension": ".py",
   "mimetype": "text/x-python",
   "name": "python",
   "nbconvert_exporter": "python",
   "pygments_lexer": "ipython3",
   "version": "3.10.8"
  }
 },
 "nbformat": 4,
 "nbformat_minor": 5
}
