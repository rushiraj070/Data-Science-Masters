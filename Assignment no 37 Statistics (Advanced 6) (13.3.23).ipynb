{
 "cells": [
  {
   "cell_type": "markdown",
   "id": "80cce17b-f1b4-47b9-8b66-4133edab5bf2",
   "metadata": {},
   "source": [
    "## Assignment no 37 Statistics (Advanced 6) (13.3.23)"
   ]
  },
  {
   "cell_type": "code",
   "execution_count": 15,
   "id": "0bc2caab-9e6d-4638-a09e-a81b6c227fca",
   "metadata": {},
   "outputs": [],
   "source": [
    "'''Q1. Write a Python function that takes in two arrays of data and calculates the F-value for a variance ratio\n",
    "test. The function should return the F-value and the corresponding p-value for the test.'''\n",
    "import numpy as np\n",
    "import scipy.stats as stats\n",
    "    \n",
    "def f_test(x, y):\n",
    "    x = np.array(x)\n",
    "    y = np.array(y)\n",
    "    f = np.var(x, ddof=1)/np.var(y, ddof=1) #calculate F test statistic \n",
    "    dfn = x.size-1 #define degrees of freedom numerator \n",
    "    dfd = y.size-1 #define degrees of freedom denominator \n",
    "    p = 1-stats.f.cdf(f, dfn, dfd) #find p-value of F test statistic \n",
    "    return f\"The f-value for input arrays is {f:.3f} and probability i.e p-value is {p:.4f}.\""
   ]
  },
  {
   "cell_type": "code",
   "execution_count": 16,
   "id": "fa1787b4-60d4-48eb-9688-84915bc6d698",
   "metadata": {},
   "outputs": [
    {
     "data": {
      "text/plain": [
       "'The f-value for input arrays is 4.387 and probability i.e p-value is 0.0191.'"
      ]
     },
     "execution_count": 16,
     "metadata": {},
     "output_type": "execute_result"
    }
   ],
   "source": [
    "x = [18, 19, 22, 25, 27, 28, 41, 45, 51, 55]\n",
    "y = [14, 15, 15, 17, 18, 22, 25, 25, 27, 34]\n",
    "\n",
    "f_test(x, y)"
   ]
  },
  {
   "cell_type": "code",
   "execution_count": 20,
   "id": "e60dfde3-5ad8-4cf7-a537-becae68e2bb3",
   "metadata": {},
   "outputs": [],
   "source": [
    "'''Q2. Given a significance level of 0.05 and the degrees of freedom for the numerator and denominator of an\n",
    "F-distribution, write a Python function that returns the critical F-value for a two-tailed test.'''\n",
    "\n",
    "import scipy.stats as stats\n",
    "\n",
    "def critical_value(q, dfn, dfd):\n",
    "    critical_value = stats.f.ppf(q=1-q, dfn=dfn, dfd=dfd)\n",
    "    return f'The Critical Value is {critical_value:.5f}.'"
   ]
  },
  {
   "cell_type": "code",
   "execution_count": 21,
   "id": "d6c801e9-643e-4f1b-b084-7a9c11e25a98",
   "metadata": {},
   "outputs": [
    {
     "data": {
      "text/plain": [
       "'The Critical Value is 3.58058.'"
      ]
     },
     "execution_count": 21,
     "metadata": {},
     "output_type": "execute_result"
    }
   ],
   "source": [
    "critical_value(0.05,6,8)"
   ]
  },
  {
   "cell_type": "code",
   "execution_count": 30,
   "id": "2f89f565-c9d4-4c8b-852d-770c59f82cfd",
   "metadata": {},
   "outputs": [],
   "source": [
    "'''Q3. Write a Python program that generates random samples from two normal distributions with known\n",
    "variances and uses an F-test to determine if the variances are equal. The program should output the F-\n",
    "value, degrees of freedom, and p-value for the test.'''\n",
    "\n",
    "import numpy as np\n",
    "import scipy.stats as stats\n",
    "    \n",
    "def F_test(x, y):\n",
    "    x = np.random.randint(x)\n",
    "    y = np.random.randint(y)\n",
    "    f = np.var(x, ddof=1)/np.var(y, ddof=1) #calculate F test statistic \n",
    "    dfn = x.size-1 #define degrees of freedom numerator \n",
    "    dfd = y.size-1 #define degrees of freedom denominator \n",
    "    p = 1-stats.f.cdf(f, dfn, dfd) #find p-value of F test statistic \n",
    "    return f'For input sample arrays the f-value is {f:.3f}, degrees of freedom for numerator and denominator are {dfn},{dfd} respectively and probability i.e p-value is {p:.4f}.'"
   ]
  },
  {
   "cell_type": "code",
   "execution_count": 32,
   "id": "401c4478-367f-4270-906f-f6659cf8e17e",
   "metadata": {},
   "outputs": [
    {
     "data": {
      "text/plain": [
       "'For input sample arrays the f-value is 4.096, degrees of freedom for numerator and denominator are 9,9 respectively and probability i.e p-value is 0.0237.'"
      ]
     },
     "execution_count": 32,
     "metadata": {},
     "output_type": "execute_result"
    }
   ],
   "source": [
    "F_test(x,y)"
   ]
  },
  {
   "cell_type": "code",
   "execution_count": 23,
   "id": "cf1d169e-33e7-4556-a3bb-fc2c57ce19e2",
   "metadata": {},
   "outputs": [
    {
     "data": {
      "text/plain": [
       "array([ 4, 11, 15,  5, 17,  5, 32, 23, 24, 39])"
      ]
     },
     "execution_count": 23,
     "metadata": {},
     "output_type": "execute_result"
    }
   ],
   "source": [
    "np.random.randint(x)"
   ]
  },
  {
   "cell_type": "code",
   "execution_count": 25,
   "id": "2d641369-64f8-494c-8120-443704fe0dd1",
   "metadata": {},
   "outputs": [
    {
     "data": {
      "text/plain": [
       "array([ 3,  0,  9,  7,  0,  1, 13,  1,  3, 25])"
      ]
     },
     "execution_count": 25,
     "metadata": {},
     "output_type": "execute_result"
    }
   ],
   "source": [
    "np.random.randint(y)"
   ]
  },
  {
   "cell_type": "code",
   "execution_count": null,
   "id": "cf7f3451-7902-4025-8657-9c3eec601d5a",
   "metadata": {},
   "outputs": [],
   "source": [
    "Q4.The variances of two populations are known to be 10 and 15. A sample of 12 observations is taken from\n",
    "each population. Conduct an F-test at the 5% significance level to determine if the variances are\n",
    "significantly different.\n",
    "\n",
    "Ans - n1 = 12, σA**2 = 10, n2 = 12, σB**2 = 15\n",
    "\n",
    "1. Null Hypothesis Ho : σA**2 = σB**2\n",
    "   Alternate Hypothesis Ha : σA**2 != σB**2\n",
    "\n",
    "2. Calculation for F-statistics\n",
    "            F_value = σA**2 / σB**2 = 10/15 = 0.67\n",
    "    \n",
    "3. Decision boundary\n",
    "        dfn = n1-1 = 12-1 = 11\n",
    "        dfd = n2-1 = 12-1 = 11\n",
    "        α = 0.05 \n",
    "      from F table  \n",
    "        critical_value = 2.8179\n",
    "\n",
    "4. Decision:\n",
    "        F_value = 0.67 < critical_value = 2.8179\n",
    "    Hence we fail to reject the Null Hypothesis Ho.\n",
    "            \n",
    "6. Conclusion \n",
    "        Sample variances are EQUAL."
   ]
  },
  {
   "cell_type": "code",
   "execution_count": null,
   "id": "3fee5f2e-a4e6-4516-ad61-75fcd0ab7d1a",
   "metadata": {},
   "outputs": [],
   "source": [
    "Q5. A manufacturer claims that the variance of the diameter of a certain product is 0.005. A sample of 25\n",
    "products is taken, and the sample variance is found to be 0.006. Conduct an F-test at the 1% significance\n",
    "level to determine if the claim is justified.\n",
    "\n",
    "Ans - σ**2 = 0.005, s**2 = 0.006\n",
    "\n",
    "1. Null Hypothesis Ho : σ**2 = 0.005\n",
    "   Alternate Hypothesis Ha : σ**2 != 0.005 (two tailed test)\n",
    "\n",
    "2. Calculation for F-statistics\n",
    "            F_value = s**2 / σ**2 = 0.006/0.005 = 1.2\n",
    "    \n",
    "3. Decision boundary\n",
    "        dfn = n1-1 = 25-1 = 24\n",
    "        dfd = 1\n",
    "        α = 0.01 \n",
    "      from F table  \n",
    "        lower_critical_value = 13.8\n",
    "        upper_critical_value = 1/13.8 = 0.0725\n",
    "        \n",
    "4. Decision:\n",
    "        lower_critical_value = 13.8 !< F_value = 1.25 !< upper_critical_value = 1/13.8 = 0.0725\n",
    "    Hence we fail to reject the Null Hypothesis Ho.\n",
    "            \n",
    "6. Conclusion \n",
    "        Claimed variance is justified."
   ]
  },
  {
   "cell_type": "code",
   "execution_count": 12,
   "id": "8b1ef198-c231-47fd-a3c3-fdb50014dd92",
   "metadata": {},
   "outputs": [],
   "source": [
    "'''Q6. Write a Python function that takes in the degrees of freedom for the numerator and denominator of an\n",
    "F-distribution and calculates the mean and variance of the distribution. The function should return the\n",
    "mean and variance as a tuple.'''\n",
    "\n",
    "import numpy as np\n",
    "\n",
    "def f_dist_mean_var(dfn, dfd):\n",
    "    mean = dfd / (dfd - 2)\n",
    "    variance = (2 * dfd**2 * (dfn + dfd - 2)) / (dfn * (dfd - 2)**2 * (dfd - 4))\n",
    "    return (mean, variance)"
   ]
  },
  {
   "cell_type": "code",
   "execution_count": 13,
   "id": "4f08dbd5-c816-4bfa-b6cb-d92c4ebe3e58",
   "metadata": {},
   "outputs": [
    {
     "data": {
      "text/plain": [
       "(1.6666666666666667, 7.222222222222222)"
      ]
     },
     "execution_count": 13,
     "metadata": {},
     "output_type": "execute_result"
    }
   ],
   "source": [
    "f_dist_mean_var(10,5)"
   ]
  },
  {
   "cell_type": "code",
   "execution_count": 14,
   "id": "ab06312b-b555-4468-bc31-c944a4c4a110",
   "metadata": {},
   "outputs": [
    {
     "data": {
      "text/plain": [
       "tuple"
      ]
     },
     "execution_count": 14,
     "metadata": {},
     "output_type": "execute_result"
    }
   ],
   "source": [
    "type(f_dist_mean_var(10,5))"
   ]
  },
  {
   "cell_type": "code",
   "execution_count": null,
   "id": "603fa39b-c574-4a8c-a7ab-95ce90c72f8d",
   "metadata": {},
   "outputs": [],
   "source": [
    "Q7. A random sample of 10 measurements is taken from a normal population with unknown variance. The\n",
    "sample variance is found to be 25. Another random sample of 15 measurements is taken from another\n",
    "normal population with unknown variance, and the sample variance is found to be 20. Conduct an F-test\n",
    "at the 10% significance level to determine if the variances are significantly different.\n",
    "\n",
    "Ans - n1 = 10, s1**2 = 25, n2 = 15, s2**2 = 20\n",
    "\n",
    "1. Null Hypothesis Ho : s1**2 = s2**2\n",
    "   Alternate Hypothesis Ha : s1**2 != s2**2\n",
    "\n",
    "2. Calculation for F-statistics\n",
    "            F_value = s1**2 / s2**2 = 25/20 = 1.25\n",
    "    \n",
    "3. Decision boundary\n",
    "        dfn = n1-1 = 10-1 = 9\n",
    "        dfd = n2-1 = 15-1 = 14\n",
    "        α = 0.1 \n",
    "      from F table  \n",
    "        critical_value = 2.1219\n",
    "\n",
    "4. Decision:\n",
    "        F_value = 1.25 < critical_value = 2.1219\n",
    "    Hence we fail to reject the Null Hypothesis Ho.\n",
    "            \n",
    "6. Conclusion \n",
    "        Sample variances are EQUAL."
   ]
  },
  {
   "cell_type": "code",
   "execution_count": null,
   "id": "3c07da98-3ed5-4da7-a668-29b0e0d7a1f9",
   "metadata": {},
   "outputs": [],
   "source": [
    "Q8. The following data represent the waiting times in minutes at two different restaurants on a Saturday\n",
    "night: Restaurant A: 24, 25, 28, 23, 22, 20, 27; Restaurant B: 31, 33, 35, 30, 32, 36. Conduct an F-test at the 5%\n",
    "significance level to determine if the variances are significantly different.\n",
    "\n",
    "Ans -\n",
    "\n",
    "1. Null Hypothesis Ho : σA**2 = σB**2\n",
    "   Alternate Hypothesis Ha : σA**2 != σB**2\n",
    "\n",
    "2.  Calculation of variances\n",
    "        nA = 7, σA**2 = 7.81, nB = 6, σB**2 = 5.37\n",
    "\n",
    "3. Calculation for F-statistics\n",
    "            F_value = σA**2/σB**2 = = 7.81/5.37 = 1.45\n",
    "    \n",
    "4. Decision boundary\n",
    "        dfn = nA-1 = 7-1 = 6\n",
    "        dfd = nB-1 = 6-1 = 5\n",
    "        α = 0.05 \n",
    "      from F table  \n",
    "        critical_value = 4.950\n",
    "\n",
    "5. Decision:\n",
    "        F_value = 1.45 < critical_value = 4.950\n",
    "    Hence we fail to reject the Null Hypothesis Ho.\n",
    "            \n",
    "6. Conclusion \n",
    "        Sample variances are EQUAL."
   ]
  },
  {
   "cell_type": "code",
   "execution_count": null,
   "id": "72f1415b-3d64-4340-870e-23e6f9dfabcb",
   "metadata": {},
   "outputs": [],
   "source": [
    "Q9. The following data represent the test scores of two groups of students: Group A: 80, 85, 90, 92, 87, 83;\n",
    "Group B: 75, 78, 82, 79, 81, 84. Conduct an F-test at the 1% significance level to determine if the variances\n",
    "are significantly different.\n",
    "\n",
    "Ans -\n",
    "\n",
    "1. Null Hypothesis Ho : σA**2 = σB**2\n",
    "   Alternate Hypothesis Ha : σA**2 != σB**2\n",
    "\n",
    "2.  Calculation of variances\n",
    "        nA = 6, σA**2 = 19.767, nB = 6, σB**2 = 10.167\n",
    "\n",
    "3. Calculation for F-statistics\n",
    "            F_value = σA**2/σB**2 = = 19.767/10.167 = 1.944\n",
    "    \n",
    "4. Decision boundary\n",
    "        dfn = nA-1 = 6-1 = 5\n",
    "        dfd = nB-1 = 6-1 = 5\n",
    "        α = 0.01 \n",
    "      from F table  \n",
    "        critical_value = 10.967\n",
    "\n",
    "5. Decision:\n",
    "        F_value = 1.944 < critical_value = 10.967\n",
    "    Hence we fail to reject the Null Hypothesis Ho.\n",
    "            \n",
    "6. Conclusion \n",
    "        Sample variances are EQUAL."
   ]
  }
 ],
 "metadata": {
  "kernelspec": {
   "display_name": "Python 3 (ipykernel)",
   "language": "python",
   "name": "python3"
  },
  "language_info": {
   "codemirror_mode": {
    "name": "ipython",
    "version": 3
   },
   "file_extension": ".py",
   "mimetype": "text/x-python",
   "name": "python",
   "nbconvert_exporter": "python",
   "pygments_lexer": "ipython3",
   "version": "3.10.8"
  }
 },
 "nbformat": 4,
 "nbformat_minor": 5
}
