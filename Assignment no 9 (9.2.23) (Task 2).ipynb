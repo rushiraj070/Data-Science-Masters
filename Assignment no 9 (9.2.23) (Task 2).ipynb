{
 "cells": [
  {
   "cell_type": "markdown",
   "id": "bad7a2c5-6ea2-44f3-bcab-6135008b1b8a",
   "metadata": {},
   "source": [
    "# Assignment no 9  OOPs"
   ]
  },
  {
   "cell_type": "code",
   "execution_count": 1,
   "id": "336db0b4-5df9-4bde-ba99-8be5344dee7b",
   "metadata": {},
   "outputs": [],
   "source": [
    "'''Q1, Create a vehicle class with an init method having instance variables as name_of_vehicle, max_speed \n",
    "and average_of_vehicle. '''\n",
    "\n",
    "\n",
    "class vehicle:\n",
    "    \n",
    "    def __init__(self, name_of_vehicle, max_speed, average_of_vehicle):\n",
    "        self.name_of_vehicle = name_of_vehicle\n",
    "        self.max_speed = max_speed\n",
    "        self.average_of_vehicle = average_of_vehicle\n",
    "         "
   ]
  },
  {
   "cell_type": "code",
   "execution_count": 2,
   "id": "d75b665e-2c24-405b-8abd-246d654db3b6",
   "metadata": {},
   "outputs": [],
   "source": [
    "obj_vehicle = vehicle(\"Maserati Ghibli\", \"326 kmph\",\"Diesel-20.41 kmpl,Petrol is 16.94 kmpl\")"
   ]
  },
  {
   "cell_type": "code",
   "execution_count": 3,
   "id": "cb8e0218-a2e7-40cc-bd66-84379e55d15b",
   "metadata": {},
   "outputs": [
    {
     "data": {
      "text/plain": [
       "'Diesel-20.41 kmpl,Petrol is 16.94 kmpl'"
      ]
     },
     "execution_count": 3,
     "metadata": {},
     "output_type": "execute_result"
    }
   ],
   "source": [
    "obj_vehicle.average_of_vehicle"
   ]
  },
  {
   "cell_type": "code",
   "execution_count": 4,
   "id": "8621f680-8290-45e3-89ca-0db93f24db52",
   "metadata": {},
   "outputs": [
    {
     "data": {
      "text/plain": [
       "'Maserati Ghibli'"
      ]
     },
     "execution_count": 4,
     "metadata": {},
     "output_type": "execute_result"
    }
   ],
   "source": [
    "obj_vehicle.name_of_vehicle"
   ]
  },
  {
   "cell_type": "code",
   "execution_count": null,
   "id": "ac98e7c2-6604-4333-a130-5db8ae0ed6f7",
   "metadata": {},
   "outputs": [],
   "source": []
  },
  {
   "cell_type": "code",
   "execution_count": 5,
   "id": "9df459b5-b57b-4f47-9545-95865369ea48",
   "metadata": {},
   "outputs": [],
   "source": [
    "\"\"\"Q2.  Create a child class car from the vehicle class created in Que 1, which will inherit the vehicle class. \n",
    "Create a method named seating_capacity which takes capacity as an argument and returns the name of \n",
    "the vehicle and its seating capacity.\n",
    "\"\"\"\n",
    "class car(vehicle):\n",
    "    \n",
    "    def seating_capacity(self, seating_capacity):\n",
    "        self.seating_capacity = seating_capacity\n",
    "        \n",
    "        return self.name_of_vehicle, self.seating_capacity\n",
    "    \n"
   ]
  },
  {
   "cell_type": "code",
   "execution_count": 6,
   "id": "3e3f8cd8-16ae-4399-a11e-8bd4692884df",
   "metadata": {},
   "outputs": [],
   "source": [
    "obj_car = car(\"Maserati Ghibli\", \"326 kmph\",\"Diesel-20.41 kmpl,Petrol is 16.94 kmpl\")"
   ]
  },
  {
   "cell_type": "code",
   "execution_count": 7,
   "id": "f99567d6-5a15-40d2-b1fb-71c97a9b03d3",
   "metadata": {},
   "outputs": [
    {
     "data": {
      "text/plain": [
       "('Maserati Ghibli', 'Four')"
      ]
     },
     "execution_count": 7,
     "metadata": {},
     "output_type": "execute_result"
    }
   ],
   "source": [
    "obj_car.seating_capacity(\"Four\")"
   ]
  },
  {
   "cell_type": "code",
   "execution_count": 8,
   "id": "b039474b-4e3e-4275-98c9-41350aee1817",
   "metadata": {},
   "outputs": [],
   "source": [
    "obj_car = car(\"Maserati Quattroporte\", \"326 kmph\",\"Diesel-11.76 kmpl,Petrol is 11.76 kmpl\")"
   ]
  },
  {
   "cell_type": "code",
   "execution_count": 9,
   "id": "f20f0e1a-89e2-4826-902b-75dffe8153ec",
   "metadata": {},
   "outputs": [
    {
     "data": {
      "text/plain": [
       "('Maserati Quattroporte', 'Four')"
      ]
     },
     "execution_count": 9,
     "metadata": {},
     "output_type": "execute_result"
    }
   ],
   "source": [
    "obj_car.seating_capacity(\"Four\")"
   ]
  },
  {
   "cell_type": "code",
   "execution_count": 14,
   "id": "1dc4a3c9-f81a-488a-8083-cc2806a013c6",
   "metadata": {},
   "outputs": [],
   "source": [
    "'''Q3. What is multiple inheritance? Write a python code to demonstrate multiple inheritance.\n",
    "\n",
    "Ans - Multiple Inheritance:\n",
    "        When child class is derived or inherited from more than one parent class. This is called multiple inheritance.\n",
    "        In multiple inheritance, we have two parent classes/base classes and one child class that inherits both parent \n",
    "        classes properties.\n",
    "\n",
    "'''\n",
    "class junior:\n",
    "    def employee1(self):\n",
    "        print(\"This person is junior level employee of company. \")\n",
    "\n",
    "class senior:\n",
    "    def employee0(self):\n",
    "        print(\"This person is senior level employee of company. \")\n",
    "        \n",
    "class team_leader(senior, junior):\n",
    "    def Team_head(self):\n",
    "        print(\"This person is team leader of employees of company. \")"
   ]
  },
  {
   "cell_type": "code",
   "execution_count": 15,
   "id": "96fab65f-8a45-47c2-9dbd-260e076d6c51",
   "metadata": {},
   "outputs": [],
   "source": [
    "team_lead = team_leader()"
   ]
  },
  {
   "cell_type": "code",
   "execution_count": 16,
   "id": "15863bb0-75a3-44fd-874a-5f226abbaa75",
   "metadata": {},
   "outputs": [
    {
     "name": "stdout",
     "output_type": "stream",
     "text": [
      "This person is senior level employee of company. \n"
     ]
    }
   ],
   "source": [
    "team_lead.employee0()"
   ]
  },
  {
   "cell_type": "code",
   "execution_count": 18,
   "id": "89e17c1f-e2a2-40f5-bcca-588c5847c15c",
   "metadata": {},
   "outputs": [
    {
     "name": "stdout",
     "output_type": "stream",
     "text": [
      "This person is junior level employee of company. \n"
     ]
    }
   ],
   "source": [
    "team_lead.employee1()"
   ]
  },
  {
   "cell_type": "code",
   "execution_count": 19,
   "id": "6e84a354-edbb-4461-9eb7-7b99e8b0cba3",
   "metadata": {},
   "outputs": [
    {
     "name": "stdout",
     "output_type": "stream",
     "text": [
      "This person is team leader of employees of company. \n"
     ]
    }
   ],
   "source": [
    "team_lead.Team_head()"
   ]
  },
  {
   "cell_type": "code",
   "execution_count": 84,
   "id": "af7335cf-4529-4f5e-a08e-18325af39ce7",
   "metadata": {},
   "outputs": [],
   "source": [
    "'''Q4. What are getter and setter in python? Create a class and create a getter and a setter method in this class.\n",
    "\n",
    "Ans -  Getter and setter are the special type of decorator functions which are used to get or access as well as set or mutate\n",
    "       the values respectively of private or protected variables with the fucntion/s of class/es which are specifically for \n",
    "       external users.\n",
    "\n",
    "'''\n",
    "\n",
    "class full_name:\n",
    "    def __init__(self, first_name, last_name):\n",
    "        self.__first_name = first_name\n",
    "        self.__last_name = last_name\n",
    "        \n",
    "    @property\n",
    "    def full_name_access(self):\n",
    "        return self.__first_name, self.__last_name\n",
    "    \n",
    "    @full_name_access.getter\n",
    "    def full_name_get(self):\n",
    "        return self.__first_name, self.__last_name\n",
    "    \n",
    "    @full_name_access.setter\n",
    "    def full_name_set(self,name):\n",
    "        first_name,last_name = name.split(\" \")\n",
    "        self.__first_name = first_name\n",
    "        self.__last_name = last_name\n",
    "        return self.__first_name, self.__last_name"
   ]
  },
  {
   "cell_type": "code",
   "execution_count": 85,
   "id": "3c61c21c-6ddb-4943-bb39-7a126e6d0bb3",
   "metadata": {},
   "outputs": [],
   "source": [
    "identity = full_name(\"rushikesh\", \"jadhav\")"
   ]
  },
  {
   "cell_type": "code",
   "execution_count": 86,
   "id": "ee314ed7-de77-4a44-ba9d-08ed27ad3d51",
   "metadata": {},
   "outputs": [
    {
     "data": {
      "text/plain": [
       "('rushikesh', 'jadhav')"
      ]
     },
     "execution_count": 86,
     "metadata": {},
     "output_type": "execute_result"
    }
   ],
   "source": [
    "identity.full_name_get"
   ]
  },
  {
   "cell_type": "code",
   "execution_count": 87,
   "id": "9d17eed2-ed4d-4c64-9c0c-757decc8968f",
   "metadata": {},
   "outputs": [],
   "source": [
    "identity.full_name_set = \"rushiraj j\""
   ]
  },
  {
   "cell_type": "code",
   "execution_count": 88,
   "id": "441a11d4-70b1-4f45-8636-2aebc5c0835f",
   "metadata": {},
   "outputs": [
    {
     "data": {
      "text/plain": [
       "('rushiraj', 'j')"
      ]
     },
     "execution_count": 88,
     "metadata": {},
     "output_type": "execute_result"
    }
   ],
   "source": [
    "identity.full_name_get"
   ]
  },
  {
   "cell_type": "code",
   "execution_count": 109,
   "id": "340cc183-2b03-4bda-8b46-680a41734d26",
   "metadata": {},
   "outputs": [],
   "source": [
    "'''Q5.What is method overriding in python? Write a python code to demonstrate method overriding.\n",
    "\n",
    "Ans - \n",
    "         Method Overriding in Python is an OOPs concept closely related to inheritance. When a child class method overrides\n",
    "     (or, provides it's own implementation) the parent class method of the same name, parameters and return type, it is \n",
    "     known as method overriding.\n",
    "         \n",
    "         In this case, the child class's method is called the overriding method and the parent class's method is called the \n",
    "     overriden method.\n",
    "         \n",
    "         Method overriding is completely different from the concept of method overloading. Method overloading occurs when \n",
    "         there are two functions with the same name but different parameters. And, method overloading is not directly \n",
    "         supported in Python.\n",
    "\n",
    "    Parent class: The class being inherited is called the Parent or Superclass.\n",
    "\n",
    "    Child class : The class that inherits the properties and methods of the parent class is called the Child or Subclass.\n",
    "'''\n",
    "\n",
    "class mammalia:\n",
    "    def __init__(self , kingdom , phylum):\n",
    "        \n",
    "        self.kingdom = kingdom\n",
    "        self.phylum = phylum\n",
    "    \n",
    "    @classmethod\n",
    "    def details(cls , kingdom , phylum):\n",
    "        return cls(kingdom , phylum)\n",
    "    \n",
    "    def class_details(self):\n",
    "        print(f\"The kingdom of human class is {self.kingdom} and phylum is {self.phylum}.\")"
   ]
  },
  {
   "cell_type": "code",
   "execution_count": 110,
   "id": "ec56aead-cbb2-4dac-a1f1-4ef07fed9b79",
   "metadata": {},
   "outputs": [],
   "source": [
    "human = mammalia(\"animalia\", \"chordata\")"
   ]
  },
  {
   "cell_type": "code",
   "execution_count": 111,
   "id": "3a9446df-5970-4770-85ff-cd410a60f70c",
   "metadata": {},
   "outputs": [
    {
     "data": {
      "text/plain": [
       "'animalia'"
      ]
     },
     "execution_count": 111,
     "metadata": {},
     "output_type": "execute_result"
    }
   ],
   "source": [
    "human.kingdom"
   ]
  },
  {
   "cell_type": "code",
   "execution_count": 112,
   "id": "3eefcf03-1b7c-4982-abf1-63f587971004",
   "metadata": {},
   "outputs": [
    {
     "name": "stdout",
     "output_type": "stream",
     "text": [
      "The kingdom of human class is animalia and phylum is chordata.\n"
     ]
    }
   ],
   "source": [
    "human.class_details()"
   ]
  },
  {
   "cell_type": "code",
   "execution_count": null,
   "id": "23980981-8e2a-4632-aabb-5359faff714d",
   "metadata": {},
   "outputs": [],
   "source": []
  }
 ],
 "metadata": {
  "kernelspec": {
   "display_name": "Python 3 (ipykernel)",
   "language": "python",
   "name": "python3"
  },
  "language_info": {
   "codemirror_mode": {
    "name": "ipython",
    "version": 3
   },
   "file_extension": ".py",
   "mimetype": "text/x-python",
   "name": "python",
   "nbconvert_exporter": "python",
   "pygments_lexer": "ipython3",
   "version": "3.10.8"
  }
 },
 "nbformat": 4,
 "nbformat_minor": 5
}
