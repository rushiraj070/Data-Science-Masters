{
 "cells": [
  {
   "cell_type": "code",
   "execution_count": null,
   "id": "9d09a25b-1d37-4148-91d2-4340783ad26c",
   "metadata": {},
   "outputs": [],
   "source": [
    "\"\"\"Q1. Which function is used to open a file? What are the different modes of opening a file? Explain each mode\n",
    "of file opening.\n",
    "\n",
    "Ans - Open function having syntax open() is used to open a file in jupyter environment. \n",
    "    \n",
    "        Different modes of are rt(reading text,default), r(reading),w(write,truncate previous data), x(create and write), \n",
    "    a(open the file and append the matter at the end of previously written file), b(binary mode), t(text mode), \n",
    "    +(open disk file for updating), U(universal newline mode)\n",
    "\"\"\""
   ]
  },
  {
   "cell_type": "code",
   "execution_count": null,
   "id": "773b952a-91fa-4691-b50f-3e2d84758e09",
   "metadata": {},
   "outputs": [],
   "source": [
    "'''Q2. Why close() function is used? Why is it important to close a file?\n",
    "\n",
    "Ans - Close function with syntax close() closes an open file. \n",
    "    It is important to close your file/s, in some cases, due to buffering, changes made to a file may not show until \n",
    "    you close the file.\n",
    "'''"
   ]
  },
  {
   "cell_type": "code",
   "execution_count": 1,
   "id": "062255be-0dc0-4a76-bd2c-e376b7b6bcd3",
   "metadata": {},
   "outputs": [],
   "source": [
    "\"\"\"Q3. Write a python program to create a text file. Write ‘I want to become a Data Scientist’ in that file. Then close the \n",
    "file. Open this file and read the content of the file.\n",
    "\"\"\"\n",
    "\n",
    "file = open(\"file.txt\",\"x\")\n"
   ]
  },
  {
   "cell_type": "code",
   "execution_count": 2,
   "id": "f09511fc-703a-4215-9552-2df6ad323da7",
   "metadata": {},
   "outputs": [
    {
     "data": {
      "text/plain": [
       "33"
      ]
     },
     "execution_count": 2,
     "metadata": {},
     "output_type": "execute_result"
    }
   ],
   "source": [
    "file.write(\"I want to become a Data Scientist\")\n"
   ]
  },
  {
   "cell_type": "code",
   "execution_count": 3,
   "id": "9e7eaf12-79ab-4bc3-b4a3-3b35ea145ea9",
   "metadata": {},
   "outputs": [],
   "source": [
    "file.close()\n"
   ]
  },
  {
   "cell_type": "code",
   "execution_count": 4,
   "id": "ba4c51da-9f1c-4a72-b5e7-a30068869821",
   "metadata": {},
   "outputs": [],
   "source": [
    "file = open(\"file.txt\",\"r\")"
   ]
  },
  {
   "cell_type": "code",
   "execution_count": 5,
   "id": "3c1ec8ab-31ad-4588-9f3b-87c0ecc51af6",
   "metadata": {},
   "outputs": [],
   "source": [
    "file.close()"
   ]
  },
  {
   "cell_type": "code",
   "execution_count": 8,
   "id": "e21608df-be92-464c-a520-832e9ff9616d",
   "metadata": {},
   "outputs": [
    {
     "name": "stdout",
     "output_type": "stream",
     "text": [
      "I want to \n"
     ]
    }
   ],
   "source": [
    "\"\"\"Q4. Explain the following with python code: read(), readline() and readlines().\"\"\"\n",
    "\n",
    "#Read at most n characters from stream.\n",
    "file = open(\"file.txt\",\"r\")\n",
    "print(file.read(10)) # n=10\n",
    "file.close()"
   ]
  },
  {
   "cell_type": "code",
   "execution_count": 14,
   "id": "0c0bbdce-2d0d-4b15-af71-06e7c43fd2d4",
   "metadata": {},
   "outputs": [
    {
     "name": "stdout",
     "output_type": "stream",
     "text": [
      "True\n"
     ]
    }
   ],
   "source": [
    "#Return whether object was opened for reading. If False, read() will raise OSError.\n",
    "\n",
    "file = open(\"file.txt\",\"r\")\n",
    "print(file.readable())\n",
    "file.close()"
   ]
  },
  {
   "cell_type": "code",
   "execution_count": 16,
   "id": "4b57b194-3564-4e2a-9c25-e440b040b038",
   "metadata": {},
   "outputs": [
    {
     "name": "stdout",
     "output_type": "stream",
     "text": [
      "['I want to become a Data Scientist']\n"
     ]
    }
   ],
   "source": [
    "'''Prints the values to a stream, or to sys.stdout by default.\n",
    "    The readlines() method returns a list containing each line in the file as a list item. \n",
    "    Use the hint parameter to limit the number of lines returned.'''\n",
    "\n",
    "file = open(\"file.txt\",\"r\")\n",
    "print(file.readlines())\n",
    "file.close()"
   ]
  },
  {
   "cell_type": "code",
   "execution_count": null,
   "id": "4fc7a028-ff23-45c9-ace6-eaeee9fbb2ca",
   "metadata": {},
   "outputs": [],
   "source": [
    "'''Q5. Explain why with statement is used with open(). What is the advantage of using with statement and\n",
    "open() together?\n",
    "\n",
    "Ans - The with statement works with the open() function to open a file. Unlike open() where you have to close the file \n",
    "with the close() method, the with statement closes the file for you without you telling it to. This is because the with \n",
    "statement calls 2 built-in methods behind the scene – __enter()__ and __exit()__ .\n",
    "'''"
   ]
  },
  {
   "cell_type": "code",
   "execution_count": 17,
   "id": "5427ff0b-b0eb-4675-9506-127c28d3e230",
   "metadata": {},
   "outputs": [],
   "source": [
    "'''Q6. Explain the write() and writelines() functions. Give a suitable example.'''\n",
    "\n",
    "#Write string to stream. Returns the number of characters written (which is always equal to the length of the string)\n",
    "with open(\"file1.txt\",\"x\") as r:\n",
    "    r.write(\"This stream is for testing the write function\")"
   ]
  },
  {
   "cell_type": "code",
   "execution_count": 18,
   "id": "e90fd755-746a-4b05-a19f-ce26b1787326",
   "metadata": {},
   "outputs": [],
   "source": [
    "# Write a list of lines to stream. Line separators are not added, so it is usual for each of the lines provided to have \n",
    "# a line separator at the end.\n",
    "\n",
    "with open(\"file2.txt\",\"x\") as r:\n",
    "    r.writelines(\"This stream is for testing the writelines() function.\"\n",
    "                 \"\\n\"\n",
    "                \"In this code multiple streams are written with help the writelines() function.\"\n",
    "                 \"\\n\"\n",
    "                \"With open() is used to open , write as well as to close the file repectively.\"\n",
    "                 \"\\n\")"
   ]
  },
  {
   "cell_type": "code",
   "execution_count": null,
   "id": "806baf59-95ac-45ab-b27e-1cac4c80b14d",
   "metadata": {},
   "outputs": [],
   "source": []
  }
 ],
 "metadata": {
  "kernelspec": {
   "display_name": "Python 3 (ipykernel)",
   "language": "python",
   "name": "python3"
  },
  "language_info": {
   "codemirror_mode": {
    "name": "ipython",
    "version": 3
   },
   "file_extension": ".py",
   "mimetype": "text/x-python",
   "name": "python",
   "nbconvert_exporter": "python",
   "pygments_lexer": "ipython3",
   "version": "3.10.8"
  }
 },
 "nbformat": 4,
 "nbformat_minor": 5
}
