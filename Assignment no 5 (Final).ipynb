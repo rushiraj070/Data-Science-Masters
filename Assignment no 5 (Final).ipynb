{
 "cells": [
  {
   "cell_type": "markdown",
   "id": "80de0400-fcac-459f-ab5c-ed4230c9d499",
   "metadata": {
    "tags": []
   },
   "source": [
    "# Assignment no 5 on Functions Part 2"
   ]
  },
  {
   "cell_type": "code",
   "execution_count": 1,
   "id": "1a065f2c-a881-4ba2-9d0d-f29b5703c77c",
   "metadata": {},
   "outputs": [],
   "source": [
    "\"\"\"Q1. Create a python program to sort the given list of tuples based on integer value using a \n",
    "lambda function. \n",
    "\"\"\"\n",
    "\n",
    "cricket = [('Sachin Tendulkar', 34357), ('Ricky Ponting', 27483), ('Jack Kallis', 25534), \n",
    "           ('Virat Kohli', 24936)]"
   ]
  },
  {
   "cell_type": "code",
   "execution_count": 2,
   "id": "591aa935-a027-42d7-8989-75cde6d60983",
   "metadata": {},
   "outputs": [
    {
     "name": "stdout",
     "output_type": "stream",
     "text": [
      "[('Virat Kohli', 24936), ('Jack Kallis', 25534), ('Ricky Ponting', 27483), ('Sachin Tendulkar', 34357)]\n"
     ]
    }
   ],
   "source": [
    "#By ascending order\n",
    "\n",
    "val_sort_ascend = sorted(cricket, key = lambda x: x[1])\n",
    "print(val_sort_ascend)"
   ]
  },
  {
   "cell_type": "code",
   "execution_count": 8,
   "id": "fe6438c9-5a17-44c9-af61-b03b5ceb4786",
   "metadata": {},
   "outputs": [
    {
     "name": "stdout",
     "output_type": "stream",
     "text": [
      "[('Sachin Tendulkar', 34357), ('Ricky Ponting', 27483), ('Jack Kallis', 25534), ('Virat Kohli', 24936)]\n"
     ]
    }
   ],
   "source": [
    "#By descending order\n",
    "\n",
    "val_sort_descend = sorted(cricket, key = lambda x: x[1],reverse =True)\n",
    "print(val_sort_descend)"
   ]
  },
  {
   "cell_type": "code",
   "execution_count": 33,
   "id": "f46297e4-7cfe-4dfe-914a-419c5a87405a",
   "metadata": {},
   "outputs": [
    {
     "data": {
      "text/plain": [
       "[1, 4, 9, 16, 25, 36, 49, 64, 81, 100]"
      ]
     },
     "execution_count": 33,
     "metadata": {},
     "output_type": "execute_result"
    }
   ],
   "source": [
    "'''Q2. Write a Python Program to find the squares of all the numbers in the given list of integers using \n",
    "lambda and map functions.\n",
    "'''\n",
    "\n",
    "num = [1, 2, 3, 4, 5, 6, 7, 8, 9, 10]\n",
    "\n",
    "squares = lambda x: x**2\n",
    "\n",
    "list(map(squares,num))"
   ]
  },
  {
   "cell_type": "code",
   "execution_count": 34,
   "id": "2cd40ab8-173f-4b68-9182-a5bf6feab7c7",
   "metadata": {},
   "outputs": [
    {
     "data": {
      "text/plain": [
       "('1', '2', '3', '4', '5', '6', '7', '8', '9', '10')"
      ]
     },
     "execution_count": 34,
     "metadata": {},
     "output_type": "execute_result"
    }
   ],
   "source": [
    "'''Q3. Write a python program to convert the given list of integers into a tuple of strings. Use map and \n",
    "lambda functions\n",
    "'''\n",
    "\n",
    "#Given String: [1, 2, 3, 4, 5, 6, 7, 8, 9, 10]\n",
    "#Expected output: ('1', '2', '3', '4', '5', '6', '7', '8', '9', '10')\n",
    "\n",
    "num_list = [1, 2, 3, 4, 5, 6, 7, 8, 9, 10]\n",
    "\n",
    "tuple_string = lambda x: str(x)\n",
    "\n",
    "tuple(map(tuple_string,num_list))"
   ]
  },
  {
   "cell_type": "code",
   "execution_count": 40,
   "id": "dfada9f0-b3cc-41be-a2f8-3796ab6343cd",
   "metadata": {},
   "outputs": [],
   "source": [
    "'''Q4.  Write a python program using reduce function to compute the product of a list containing \n",
    "numbers from 1 to 25.\n",
    "'''\n",
    "num_list = []\n",
    "\n",
    "for i in range(1,26):\n",
    "    num_list.append(i)\n",
    "    "
   ]
  },
  {
   "cell_type": "code",
   "execution_count": 41,
   "id": "173fb4f3-8408-4d3d-ab5a-513e2e0606f2",
   "metadata": {},
   "outputs": [
    {
     "data": {
      "text/plain": [
       "15511210043330985984000000"
      ]
     },
     "execution_count": 41,
     "metadata": {},
     "output_type": "execute_result"
    }
   ],
   "source": [
    "from functools import  reduce\n",
    "\n",
    "product = lambda x,y : x*y\n",
    "\n",
    "reduce(product,num_list)"
   ]
  },
  {
   "cell_type": "code",
   "execution_count": 46,
   "id": "d07554b1-35ae-451b-bfe8-8eda53ddc0e9",
   "metadata": {},
   "outputs": [],
   "source": [
    "'''Q5. Write a python program to filter the numbers in a given list that are divisible by 2 and 3 using the \n",
    "filter function.\n",
    "'''\n",
    "\n",
    "list1 = [2, 3, 6, 9, 27, 60, 90, 120, 55, 46]"
   ]
  },
  {
   "cell_type": "code",
   "execution_count": 47,
   "id": "c2e56d7b-a2b7-4f8e-8c1e-cc0db7f35ae8",
   "metadata": {},
   "outputs": [],
   "source": [
    "div_2 = lambda x: x%2 ==0\n",
    "div_3 = lambda x: x%3 ==0"
   ]
  },
  {
   "cell_type": "code",
   "execution_count": 49,
   "id": "5c61a97f-71ea-4f39-bf2d-cd5e025baec8",
   "metadata": {},
   "outputs": [
    {
     "data": {
      "text/plain": [
       "[2, 6, 60, 90, 120, 46]"
      ]
     },
     "execution_count": 49,
     "metadata": {},
     "output_type": "execute_result"
    }
   ],
   "source": [
    "list(filter(div_2,list1))"
   ]
  },
  {
   "cell_type": "code",
   "execution_count": 50,
   "id": "6efee18b-c006-4894-b5f0-2542657c5f5d",
   "metadata": {},
   "outputs": [
    {
     "data": {
      "text/plain": [
       "[3, 6, 9, 27, 60, 90, 120]"
      ]
     },
     "execution_count": 50,
     "metadata": {},
     "output_type": "execute_result"
    }
   ],
   "source": [
    "list(filter(div_3,list1))"
   ]
  },
  {
   "cell_type": "code",
   "execution_count": 11,
   "id": "6b13a2a6-9eed-4e33-952c-33512a62bd83",
   "metadata": {},
   "outputs": [],
   "source": [
    "'''Q6. Write a python program to find palindromes in the given list of strings using lambda and filter \n",
    "function.\n",
    "'''\n",
    "\n",
    "pal_list = ['python', 'php', 'aba', 'radar', 'level']"
   ]
  },
  {
   "cell_type": "code",
   "execution_count": 12,
   "id": "dd963363-7d5b-4932-8a47-e9fb7613a6f8",
   "metadata": {},
   "outputs": [],
   "source": [
    "pal_check = lambda x : x[0::] == x[::-1]"
   ]
  },
  {
   "cell_type": "code",
   "execution_count": 13,
   "id": "133027a7-2de7-41d7-8f25-60f77bf6f9f1",
   "metadata": {},
   "outputs": [
    {
     "data": {
      "text/plain": [
       "[False, True, True, True, True]"
      ]
     },
     "execution_count": 13,
     "metadata": {},
     "output_type": "execute_result"
    }
   ],
   "source": [
    "list(map(pal_check,pal_list))"
   ]
  },
  {
   "cell_type": "code",
   "execution_count": 15,
   "id": "d4f32f24-561d-4449-be14-a8bebf249a0d",
   "metadata": {},
   "outputs": [
    {
     "data": {
      "text/plain": [
       "['php', 'aba', 'radar', 'level']"
      ]
     },
     "execution_count": 15,
     "metadata": {},
     "output_type": "execute_result"
    }
   ],
   "source": [
    "list(filter(pal_check,pal_list))"
   ]
  },
  {
   "cell_type": "code",
   "execution_count": null,
   "id": "bdef13eb-56b5-4020-9c5e-396ad4b2ae02",
   "metadata": {},
   "outputs": [],
   "source": []
  }
 ],
 "metadata": {
  "kernelspec": {
   "display_name": "Python 3 (ipykernel)",
   "language": "python",
   "name": "python3"
  },
  "language_info": {
   "codemirror_mode": {
    "name": "ipython",
    "version": 3
   },
   "file_extension": ".py",
   "mimetype": "text/x-python",
   "name": "python",
   "nbconvert_exporter": "python",
   "pygments_lexer": "ipython3",
   "version": "3.10.8"
  }
 },
 "nbformat": 4,
 "nbformat_minor": 5
}
