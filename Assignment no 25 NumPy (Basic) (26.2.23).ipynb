{
 "cells": [
  {
   "cell_type": "code",
   "execution_count": 1,
   "id": "681b9118-e43f-4c7a-87d5-118264accc03",
   "metadata": {},
   "outputs": [],
   "source": [
    "#Consider the below code to answer further questions:\n",
    "import numpy as np"
   ]
  },
  {
   "cell_type": "code",
   "execution_count": 2,
   "id": "923d0be6-4e80-4603-a003-eebc2e5d2476",
   "metadata": {},
   "outputs": [],
   "source": [
    "list_ = [ '1' , '2' , '3' , '4' , '5' ]\n",
    "array_list = np.array(object = list_)"
   ]
  },
  {
   "cell_type": "code",
   "execution_count": 3,
   "id": "1b9b24d6-d5ae-4555-b974-d4d4aecd5a8d",
   "metadata": {},
   "outputs": [
    {
     "data": {
      "text/plain": [
       "array(['1', '2', '3', '4', '5'], dtype='<U1')"
      ]
     },
     "execution_count": 3,
     "metadata": {},
     "output_type": "execute_result"
    }
   ],
   "source": [
    "array_list"
   ]
  },
  {
   "cell_type": "code",
   "execution_count": 4,
   "id": "4d1072b3-c81c-4ce8-9140-128200270127",
   "metadata": {},
   "outputs": [
    {
     "data": {
      "text/plain": [
       "list"
      ]
     },
     "execution_count": 4,
     "metadata": {},
     "output_type": "execute_result"
    }
   ],
   "source": [
    "type(list_)"
   ]
  },
  {
   "cell_type": "code",
   "execution_count": 5,
   "id": "bc7a52df-e420-48b3-8d13-e8a5da32c06e",
   "metadata": {},
   "outputs": [
    {
     "data": {
      "text/plain": [
       "numpy.ndarray"
      ]
     },
     "execution_count": 5,
     "metadata": {},
     "output_type": "execute_result"
    }
   ],
   "source": [
    "type(array_list)"
   ]
  },
  {
   "cell_type": "code",
   "execution_count": 6,
   "id": "2051d9b7-adcd-4b60-8352-46536b67a33e",
   "metadata": {},
   "outputs": [
    {
     "data": {
      "text/plain": [
       "numpy.str_"
      ]
     },
     "execution_count": 6,
     "metadata": {},
     "output_type": "execute_result"
    }
   ],
   "source": [
    "type(array_list[0])"
   ]
  },
  {
   "cell_type": "code",
   "execution_count": null,
   "id": "4aacacad-ce3d-44f5-9b6f-7a59826e68dc",
   "metadata": {},
   "outputs": [],
   "source": []
  },
  {
   "cell_type": "code",
   "execution_count": 7,
   "id": "aefd2d73-3737-49a1-a359-ce68c40fb03a",
   "metadata": {},
   "outputs": [
    {
     "name": "stdout",
     "output_type": "stream",
     "text": [
      "<class 'list'>\n",
      "<class 'numpy.ndarray'>\n"
     ]
    }
   ],
   "source": [
    "'''Q1. Is there any difference in the data type of variables list_ and array_list? If there is then write a code\n",
    "to print the data types of both the variables.\n",
    "\n",
    "Ans - \n",
    "    Yes there is difference between variables list_ and array_list.\n",
    "    Variable list_ have list datatype on the other hand array_list is of numpy.ndarray datatype.'''\n",
    "\n",
    "print(type(list_))\n",
    "\n",
    "print(type(array_list))\n",
    "\n"
   ]
  },
  {
   "cell_type": "code",
   "execution_count": 8,
   "id": "6f92f46b-f9d2-4184-8ebb-5ba11e092c98",
   "metadata": {},
   "outputs": [
    {
     "name": "stdout",
     "output_type": "stream",
     "text": [
      "Data type of element '1' in list_ is <class 'str'> and  Data type of element '1' in array_list is <class 'numpy.str_'>\n",
      "\n",
      "Data type of element '2' in list_ is <class 'str'> and  Data type of element '2' in array_list is <class 'numpy.str_'>\n",
      "\n",
      "Data type of element '3' in list_ is <class 'str'> and  Data type of element '3' in array_list is <class 'numpy.str_'>\n",
      "\n",
      "Data type of element '4' in list_ is <class 'str'> and  Data type of element '4' in array_list is <class 'numpy.str_'>\n",
      "\n",
      "Data type of element '5' in list_ is <class 'str'> and  Data type of element '5' in array_list is <class 'numpy.str_'>\n",
      "\n"
     ]
    }
   ],
   "source": [
    "'''Q2. Write a code to print the data type of each and every element of both the variables list_ and\n",
    "array_list.'''\n",
    "\n",
    "for i,j in zip(list_, array_list):\n",
    "    print(f\"Data type of element '{i}' in list_ is {type(i)} and  Data type of element '{j}' in array_list is {type(j)}\\n\")"
   ]
  },
  {
   "cell_type": "code",
   "execution_count": 9,
   "id": "ebff7cd1-173a-4682-9044-81a422f4efc8",
   "metadata": {},
   "outputs": [],
   "source": [
    "'''Q3. Considering the following changes in the variable, array_list: array_list = np.array(object = list_, dtype = int)\n",
    "Will there be any difference in the data type of the elements present in both the variables, list_ and array_list? \n",
    "If so then print the data types of each and every element present in both the variables, list_ and array_list.\n",
    "'''\n",
    "array_list = np.array(object = list_, dtype = int)"
   ]
  },
  {
   "cell_type": "code",
   "execution_count": 10,
   "id": "26af762b-a11e-42ed-a72c-9839ae495093",
   "metadata": {},
   "outputs": [
    {
     "data": {
      "text/plain": [
       "1"
      ]
     },
     "execution_count": 10,
     "metadata": {},
     "output_type": "execute_result"
    }
   ],
   "source": [
    "array_list[0]"
   ]
  },
  {
   "cell_type": "code",
   "execution_count": 11,
   "id": "bc778302-1ffc-4e03-9b58-511f47172188",
   "metadata": {},
   "outputs": [
    {
     "data": {
      "text/plain": [
       "numpy.int32"
      ]
     },
     "execution_count": 11,
     "metadata": {},
     "output_type": "execute_result"
    }
   ],
   "source": [
    "type(array_list[0])"
   ]
  },
  {
   "cell_type": "markdown",
   "id": "5d387e65-f87d-4fca-87f4-c5e0c4c20891",
   "metadata": {},
   "source": [
    "# Ans\n",
    "\n",
    "## Yes there will be difference between the elements in variables list_ and array_list considering the above changes. Elements in variable list_ have \"str\" datatype on the other hand elements in modified variable array_list is of \"numpy.int32\" datatype."
   ]
  },
  {
   "cell_type": "code",
   "execution_count": 12,
   "id": "fcc08e4d-16d3-44b2-ac17-533f0ad9582f",
   "metadata": {},
   "outputs": [
    {
     "name": "stdout",
     "output_type": "stream",
     "text": [
      "Data type of element '1' in list_ is <class 'str'> and  Data type of element '1' in array_list is <class 'numpy.int32'>\n",
      "\n",
      "Data type of element '2' in list_ is <class 'str'> and  Data type of element '2' in array_list is <class 'numpy.int32'>\n",
      "\n",
      "Data type of element '3' in list_ is <class 'str'> and  Data type of element '3' in array_list is <class 'numpy.int32'>\n",
      "\n",
      "Data type of element '4' in list_ is <class 'str'> and  Data type of element '4' in array_list is <class 'numpy.int32'>\n",
      "\n",
      "Data type of element '5' in list_ is <class 'str'> and  Data type of element '5' in array_list is <class 'numpy.int32'>\n",
      "\n"
     ]
    }
   ],
   "source": [
    "for i,j in zip(list_, array_list):\n",
    "    print(f\"Data type of element '{i}' in list_ is {type(i)} and  Data type of element '{j}' in array_list is {type(j)}\\n\")"
   ]
  },
  {
   "cell_type": "code",
   "execution_count": 13,
   "id": "4b1ec718-0990-4646-bcc7-d4616e8a72c1",
   "metadata": {},
   "outputs": [],
   "source": [
    "#Consider the below code to answer further questions:\n",
    "\n",
    "num_list = [ [ 1 , 2 , 3 ] , [ 4 , 5 , 6 ] ]\n",
    "num_array = np.array(object = num_list)"
   ]
  },
  {
   "cell_type": "code",
   "execution_count": 14,
   "id": "28b6ed4f-825f-4b13-b906-32041b3e5f95",
   "metadata": {},
   "outputs": [
    {
     "data": {
      "text/plain": [
       "array([[1, 2, 3],\n",
       "       [4, 5, 6]])"
      ]
     },
     "execution_count": 14,
     "metadata": {},
     "output_type": "execute_result"
    }
   ],
   "source": [
    "'''Q4. Write a code to find the following characteristics of variable, num_array:\n",
    "(i) shape\n",
    "(ii) size'''\n",
    "\n",
    "num_array"
   ]
  },
  {
   "cell_type": "code",
   "execution_count": 15,
   "id": "a5111963-e4e4-4350-af37-67009c436f6f",
   "metadata": {},
   "outputs": [
    {
     "data": {
      "text/plain": [
       "(2, 3)"
      ]
     },
     "execution_count": 15,
     "metadata": {},
     "output_type": "execute_result"
    }
   ],
   "source": [
    "# (i) shape\n",
    "\n",
    "num_array.shape"
   ]
  },
  {
   "cell_type": "code",
   "execution_count": 16,
   "id": "31aa7df7-dd34-4fec-a60c-596d4f473794",
   "metadata": {},
   "outputs": [
    {
     "data": {
      "text/plain": [
       "6"
      ]
     },
     "execution_count": 16,
     "metadata": {},
     "output_type": "execute_result"
    }
   ],
   "source": [
    "# (ii) size\n",
    "\n",
    "num_array.size"
   ]
  },
  {
   "cell_type": "code",
   "execution_count": 17,
   "id": "cf361c48-60ea-426f-a42d-a94b871fae0a",
   "metadata": {},
   "outputs": [
    {
     "data": {
      "text/plain": [
       "'Q5. Write a code to create numpy array of 3*3 matrix containing zeros only, using a numpy array creation function.\\n[Hint: The size of the array will be 9 and the shape will be (3,3).]'"
      ]
     },
     "execution_count": 17,
     "metadata": {},
     "output_type": "execute_result"
    }
   ],
   "source": [
    "'''Q5. Write a code to create numpy array of 3*3 matrix containing zeros only, using a numpy array creation function.\n",
    "[Hint: The size of the array will be 9 and the shape will be (3,3).]'''"
   ]
  },
  {
   "cell_type": "code",
   "execution_count": 18,
   "id": "f48cb106-e49b-4ead-a88f-ba0399d82eed",
   "metadata": {},
   "outputs": [
    {
     "data": {
      "text/plain": [
       "array([[0., 0., 0.],\n",
       "       [0., 0., 0.],\n",
       "       [0., 0., 0.]])"
      ]
     },
     "execution_count": 18,
     "metadata": {},
     "output_type": "execute_result"
    }
   ],
   "source": [
    "np.zeros((3,3))"
   ]
  },
  {
   "cell_type": "code",
   "execution_count": 19,
   "id": "b6acace4-d19b-4e51-b93f-f232c571aa8e",
   "metadata": {},
   "outputs": [
    {
     "data": {
      "text/plain": [
       "array([[1, 0, 0, 0, 0],\n",
       "       [0, 1, 0, 0, 0],\n",
       "       [0, 0, 1, 0, 0],\n",
       "       [0, 0, 0, 1, 0],\n",
       "       [0, 0, 0, 0, 1]])"
      ]
     },
     "execution_count": 19,
     "metadata": {},
     "output_type": "execute_result"
    }
   ],
   "source": [
    "'''Q6. Create an identity matrix of shape (5,5) using numpy functions?\n",
    "[Hint: An identity matrix is a matrix containing 1 diagonally and other elements will be 0.]'''\n",
    "\n",
    "np.eye(5, dtype = int)"
   ]
  }
 ],
 "metadata": {
  "kernelspec": {
   "display_name": "Python 3 (ipykernel)",
   "language": "python",
   "name": "python3"
  },
  "language_info": {
   "codemirror_mode": {
    "name": "ipython",
    "version": 3
   },
   "file_extension": ".py",
   "mimetype": "text/x-python",
   "name": "python",
   "nbconvert_exporter": "python",
   "pygments_lexer": "ipython3",
   "version": "3.8.16"
  }
 },
 "nbformat": 4,
 "nbformat_minor": 5
}
