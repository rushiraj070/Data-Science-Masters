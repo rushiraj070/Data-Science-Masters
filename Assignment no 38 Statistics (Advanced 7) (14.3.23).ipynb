{
 "cells": [
  {
   "cell_type": "markdown",
   "id": "6e47cd14-dda5-4f22-9b4d-292c6cb50293",
   "metadata": {},
   "source": [
    "## Assignment no 38 Statistics (Advanced 7) (14.3.23)"
   ]
  },
  {
   "cell_type": "code",
   "execution_count": null,
   "id": "dff88085-bf68-41f0-87b9-2d6ebe7a8aac",
   "metadata": {},
   "outputs": [],
   "source": [
    "Q1. Explain the assumptions required to use ANOVA and provide examples of violations that could impact \n",
    "    the validity of the results.\n",
    "\n",
    "Ans - \n",
    "    Following are the assumptions in ANOVA:\n",
    "        1. Normality of sampling distribution of Means - \n",
    "                The responses for each factor level have a normal population distribution.\n",
    "        2. Homogeneity of variance -                                 \n",
    "                These distributions have the same variance. i.e. σ1**2 = σ2**2 = σ3**2\n",
    "        3. The data are independent.\n",
    "        4. Absense of Outliers -\n",
    "                Outlying score need to be removed from the data set.\n",
    "\n",
    "        Violations to the first two that are not extreme can be considered not serious. The sampling distribution of the test \n",
    "    statistic is fairly robust, especially as sample size increases and more so if the sample sizes for all factor levels \n",
    "    are equal. If you conduct an ANOVA test, you should always try to keep the same sample sizes for each factor level.\n",
    "    \n",
    "        A general rule of thumb for equal variances is to compare the smallest and largest sample standard deviations. This \n",
    "    is much like the rule of thumb for equal variances for the test for independent means. If the ratio of these two sample \n",
    "    standard deviations falls within 0.5 to 2, then it may be that the assumption is not violated.\n",
    "    \n",
    "      The one-way ANOVA is considered a robust test against the normality assumption. This means that it tolerates violations \n",
    "    to its normality assumption rather well. As regards the normality of group data, the one-way ANOVA can tolerate data that\n",
    "    is non-normal (skewed or kurtotic distributions) with only a small effect on the Type I error rate. However, \n",
    "    platykurtosis can have a profound effect when your group sizes are small. This leaves you with two options: \n",
    "        (1) transform your data using various algorithms so that the shape of your distributions become normally distributed\n",
    "     or (2) choose the nonparametric Kruskal-Wallis H Test which does not require the assumption of normality.\n",
    "      \n",
    "      There are two tests that you can run that are applicable when the assumption of homogeneity of variances has been \n",
    "    violated: (1) Welch or (2) Brown and Forsythe test. Alternatively, you could run a Kruskal-Wallis H Test. For most \n",
    "    situations it has been shown that the Welch test is best. Both the Welch and Brown and Forsythe tests are available in \n",
    "    SPSS Statistics.\n",
    "    \n",
    "        A lack of independence of cases has been stated as the most serious assumption to fail. Often, there is little you \n",
    "    can do that offers a good solution to this problem.\n",
    "\n"
   ]
  },
  {
   "cell_type": "code",
   "execution_count": null,
   "id": "99726cfa-eed9-4ebc-a56b-003a0df4dd4b",
   "metadata": {},
   "outputs": [],
   "source": [
    "Q2. What are the three types of ANOVA, and in what situations would each be used?\n",
    "\n",
    "Ans - 1. One Way ANOVA\n",
    "        A one way ANOVA is used to compare two means from two independent (unrelated) groups using the F-distribution. The null \n",
    "        hypothesis for the test is that the two means are equal. Therefore, a significant result means that the two means are \n",
    "        unequal.\n",
    "\n",
    "    Examples of when to use a one way ANOVA\n",
    "        Situation 1: You have a group of individuals randomly split into smaller groups and completing different tasks. For example,\n",
    "        you might be studying the effects of tea on weight loss and form three groups: green tea, black tea, and no tea.\n",
    "\n",
    "        Situation 2: Similar to situation 1, but in this case the individuals are split into groups based on an attribute they \n",
    "        possess. For example, you might be studying leg strength of people according to weight. You could split participants into weight categories (obese, overweight and normal) and measure their leg strength on a weight machine.\n",
    "\n",
    "    Limitations of the One Way ANOVA\n",
    "        A one way ANOVA will tell you that at least two groups were different from each other. But it won’t tell you which \n",
    "        groups were different. If your test returns a significant f-statistic, you may need to run an ad hoc test (like the\n",
    "        Least Significant Difference test) to tell you exactly which groups had a difference in means.\n",
    "        \n",
    "    2. Two Way ANOVA\n",
    "            A Two Way ANOVA is an extension of the One Way ANOVA. With a One Way, you have one independent variable \n",
    "        affecting a dependent variable. With a Two Way ANOVA, there are two independents. Use a two way ANOVA when you have\n",
    "        one measurement variable (i.e. a quantitative variable) and two nominal variables. In other words, if your \n",
    "        experiment has a quantitative outcome and you have two categorical explanatory variables, a two way ANOVA is \n",
    "        appropriate.\n",
    "            For example, you might want to find out if there is an interaction between income and gender for anxiety level \n",
    "        at job interviews. The anxiety level is the outcome, or the variable that can be measured. Gender and Income are the\n",
    "        two categorical variables. These categorical variables are also the independent variables, which are called factors in\n",
    "        a Two Way ANOVA.\n",
    "            The factors can be split into levels. In the above example, income level could be split into three levels: low, \n",
    "        middle and high income. Gender could be split into three levels: male, female, and transgender. Treatment groups \n",
    "        are all possible combinations of the factors. In this example there would be 3 x 3 = 9 treatment groups.\n",
    "        \n",
    "    3. Factorial ANOVA \n",
    "            A factorial ANOVA is an Analysis of Variance test with more than one independent variable, or “factor“. It can \n",
    "        also refer to more than one Level of Independent Variable. For example, an experiment with a treatment group and a \n",
    "        control group has one factor (the treatment) but two levels (the treatment and the control). The terms “two-way” and\n",
    "        “three-way” refer to the number of factors or the number of levels in your test. Four-way ANOVA and above are rarely \n",
    "        used because the results of the test are complex and difficult to interpret.\n",
    "            A two-way ANOVA has two factors (independent variables) and one dependent variable. For example, time spent \n",
    "        studying and prior knowledge are factors that affect how well you do on a test.\n",
    "            A three-way ANOVA has three factors (independent variables) and one dependent variable. For example, time spent \n",
    "        studying, prior knowledge, and hours of sleep are factors that affect how well you do on a test Factorial ANOVA is an\n",
    "        efficient way of conducting a test. Instead of performing a series of experiments where you test one independent \n",
    "        variable against one dependent variable, you can test all independent variables at the same time.\n",
    "        \n",
    "    4. Repeated Measures (Within Subjects) ANOVA\n",
    "            A repeated measures ANOVA is almost the same as one-way ANOVA, with one main difference: you test related groups,\n",
    "        not independent ones.\n",
    "            It’s called Repeated Measures because the same group of participants is being measured over and over again. \n",
    "        For example, you could be studying the cholesterol levels of the same group of patients at 1, 3, and 6 months after \n",
    "        changing their diet. For this example, the independent variable is “time” and the dependent variable is “cholesterol.” \n",
    "        The independent variable is usually called the within-subjects factor.\n",
    "            Repeated measures ANOVA is similar to a simple multivariate design. In both tests, the same participants are \n",
    "        measured over and over. However, with repeated measures the same characteristic is measured with a different \n",
    "        condition. For example, blood pressure is measured over the condition “time”. For simple multivariate design it is \n",
    "        the characteristic that changes. For example, you could measure blood pressure, heart rate and respiration rate over\n",
    "        time.\n",
    "\n",
    "        Reasons to use Repeated Measures ANOVA\n",
    "            1. When you collect data from the same participants over a period of time, individual differences (a source of \n",
    "        between group differences) are reduced or eliminated.\n",
    "            2. Testing is more powerful because the sample size isn’t divided between groups.\n",
    "            3. The test can be economical, as you’re using the same participants.\n",
    "        \n",
    "        Assumptions for Repeated Measures ANOVA\n",
    "            The results from your repeated measures ANOVA will be valid only if the following assumptions haven’t been \n",
    "        violated:\n",
    "            1. There must be one independent variable and one dependent variable.\n",
    "            2. The dependent variable must be a continuous variable, on an interval scale or a ratio scale.\n",
    "            3. The independent variable must be categorical, either on the nominal scale or ordinal scale.\n",
    "            4. Ideally, levels of dependence between pairs of groups is equal (“sphericity”). Corrections are possible if \n",
    "                this assumption is violated.\n"
   ]
  },
  {
   "cell_type": "code",
   "execution_count": null,
   "id": "56115c38-28b3-4f85-b2ea-8e5cdfa8e0c7",
   "metadata": {},
   "outputs": [],
   "source": [
    "Q3. What is the partitioning of variance in ANOVA, and why is it important to understand this concept?\n",
    "\n",
    "Ans - In ANOVA, the goal is to determine whether there are significant differences among the group means. This is \n",
    "    accomplished by partitioning the Total Variation in the response variable (as measured by the corrected total sum of \n",
    "    squares) into two components, the Between Group Variation (displayed in the ANOVA table as the Model Sum of Squares) and\n",
    "    the Within Group Variation (displayed as the Error Sum of Squares). Comparing the sources of variability enables us to \n",
    "    evaluate the null hypothesis. Are the group means equal?\n",
    "    \n",
    "    It is important to understand this concept as a high-level example of ANOVA, consider testing the equality \n",
    "    of group means with bell-shaped distributions. \n",
    "    \n",
    "    This means that, if we sampled data from each group, the sample mean would be highly similar to its true center. \n",
    "    If the within group variability were instead large, and the distributions overlapped, it's possible that the sampled \n",
    "    means could be highly similar. Then we are less certain of claiming that the means are significantly different. \n",
    "    Thus, in a nut shell, ANOVA simply compares the between group variation to the within group variation to either claim or \n",
    "    reject the equality of population means. "
   ]
  },
  {
   "cell_type": "code",
   "execution_count": null,
   "id": "21e4733a-9e1f-4b21-b681-40c00f789830",
   "metadata": {},
   "outputs": [],
   "source": [
    "Q4. How would you calculate the total sum of squares (SST), explained sum of squares (SSE), and residual \n",
    "sum of squares (SSR) in a one-way ANOVA using Python?\n",
    "\n",
    "Ans-\n",
    "    Sums of Squares\n",
    "        A sum of squares is the sum of squared deviations from a mean score. For example, a one-way analysis of variance \n",
    "    makes use of three sums of squares:\n",
    "        \n",
    "    1. Between-groups sum of squares - \n",
    "            The between-groups sum of squares (SSB) measures variation of group means around the \n",
    "        grand mean. It can be computed from the following formula:\n",
    "                  \n",
    "                  k   nj        2  k           2\n",
    "            SSB = Σ   Σ (Xj - X) = Σ nj (Xj - X)\n",
    "                 j=1 i=1           j=1\n",
    "                \n",
    "    2.Within-groups sum of squares - \n",
    "            The within-groups sum of squares (SSW) measures variation of all scores around their respective group means. \n",
    "        It can be computed from the following formula:\n",
    "            \n",
    "                  k   nj          2\n",
    "            SSW = Σ   Σ (Xij - Xj) \n",
    "                 j=1 i=1           \n",
    "                \n",
    "    3. Total sum of squares -\n",
    "            The total sum of squares (SST) measures variation of all scores around the grand mean. It can be computed from \n",
    "        the following formula:\n",
    "\n",
    "                  k   nj          2\n",
    "            SSW = Σ   Σ (Xij - X) \n",
    "                 j=1 i=1           \n",
    "\n",
    "It turns out that the total sum of squares is equal to the between-groups sum of squares plus the within-groups sum of \n",
    "squares, as shown below:\n",
    "\n",
    "        SST = SSB + SSW"
   ]
  },
  {
   "cell_type": "code",
   "execution_count": 14,
   "id": "07fa91e1-3b01-40c8-9e00-4dd2f7d305f2",
   "metadata": {},
   "outputs": [],
   "source": [
    "import pandas as pd\n",
    "\n",
    "df = pd.DataFrame({'hours': [1, 1, 1, 1, 1, 2, 2, 2, 2, 2, 3, 3,\n",
    "                             3, 3, 3, 4, 4, 4, 4, 4],\n",
    "                   'score': [68, 76, 74, 80, 76, 78, 81, 84, 86, 83,\n",
    "                             88, 85, 89, 94, 93, 94, 96, 89, 92, 97]})"
   ]
  },
  {
   "cell_type": "code",
   "execution_count": 15,
   "id": "224815ad-87e2-4792-930f-345fc7834deb",
   "metadata": {},
   "outputs": [
    {
     "data": {
      "text/html": [
       "<div>\n",
       "<style scoped>\n",
       "    .dataframe tbody tr th:only-of-type {\n",
       "        vertical-align: middle;\n",
       "    }\n",
       "\n",
       "    .dataframe tbody tr th {\n",
       "        vertical-align: top;\n",
       "    }\n",
       "\n",
       "    .dataframe thead th {\n",
       "        text-align: right;\n",
       "    }\n",
       "</style>\n",
       "<table border=\"1\" class=\"dataframe\">\n",
       "  <thead>\n",
       "    <tr style=\"text-align: right;\">\n",
       "      <th></th>\n",
       "      <th>hours</th>\n",
       "      <th>score</th>\n",
       "    </tr>\n",
       "  </thead>\n",
       "  <tbody>\n",
       "    <tr>\n",
       "      <th>0</th>\n",
       "      <td>1</td>\n",
       "      <td>68</td>\n",
       "    </tr>\n",
       "    <tr>\n",
       "      <th>1</th>\n",
       "      <td>1</td>\n",
       "      <td>76</td>\n",
       "    </tr>\n",
       "    <tr>\n",
       "      <th>2</th>\n",
       "      <td>1</td>\n",
       "      <td>74</td>\n",
       "    </tr>\n",
       "    <tr>\n",
       "      <th>3</th>\n",
       "      <td>1</td>\n",
       "      <td>80</td>\n",
       "    </tr>\n",
       "    <tr>\n",
       "      <th>4</th>\n",
       "      <td>1</td>\n",
       "      <td>76</td>\n",
       "    </tr>\n",
       "  </tbody>\n",
       "</table>\n",
       "</div>"
      ],
      "text/plain": [
       "   hours  score\n",
       "0      1     68\n",
       "1      1     76\n",
       "2      1     74\n",
       "3      1     80\n",
       "4      1     76"
      ]
     },
     "execution_count": 15,
     "metadata": {},
     "output_type": "execute_result"
    }
   ],
   "source": [
    "df.head()"
   ]
  },
  {
   "cell_type": "code",
   "execution_count": 16,
   "id": "2bdc1f9a-a58d-4050-a93a-7064e42cad54",
   "metadata": {},
   "outputs": [
    {
     "data": {
      "text/plain": [
       "hours\n",
       "1    74.8\n",
       "2    82.4\n",
       "3    89.8\n",
       "4    93.6\n",
       "Name: score, dtype: float64"
      ]
     },
     "execution_count": 16,
     "metadata": {},
     "output_type": "execute_result"
    }
   ],
   "source": [
    "group_means = df.groupby('hours')['score'].mean()\n",
    "group_means"
   ]
  },
  {
   "cell_type": "code",
   "execution_count": 17,
   "id": "ec0aad8f-35d3-4d14-b3c4-bff309e23a7f",
   "metadata": {},
   "outputs": [
    {
     "data": {
      "text/plain": [
       "85.15"
      ]
     },
     "execution_count": 17,
     "metadata": {},
     "output_type": "execute_result"
    }
   ],
   "source": [
    "grand_mean = df['score'].mean()\n",
    "grand_mean"
   ]
  },
  {
   "cell_type": "code",
   "execution_count": 18,
   "id": "ce248e13-d5b9-4d6a-9aba-65d490e7036a",
   "metadata": {},
   "outputs": [
    {
     "data": {
      "text/plain": [
       "1248.5500000000002"
      ]
     },
     "execution_count": 18,
     "metadata": {},
     "output_type": "execute_result"
    }
   ],
   "source": [
    "SST = ((df['score'] - grand_mean) ** 2).sum()\n",
    "SST"
   ]
  },
  {
   "cell_type": "code",
   "execution_count": 19,
   "id": "162f8d84-c990-429b-b19b-164a28bf9e51",
   "metadata": {},
   "outputs": [
    {
     "data": {
      "text/plain": [
       "1038.5499999999995"
      ]
     },
     "execution_count": 19,
     "metadata": {},
     "output_type": "execute_result"
    }
   ],
   "source": [
    "SSE = ((group_means - grand_mean) ** 2 * df['hours'].value_counts()).sum()\n",
    "SSE"
   ]
  },
  {
   "cell_type": "code",
   "execution_count": 20,
   "id": "e5e4e4ac-cafc-4c2e-8d16-ed1b66a67602",
   "metadata": {},
   "outputs": [
    {
     "data": {
      "text/plain": [
       "210.00000000000068"
      ]
     },
     "execution_count": 20,
     "metadata": {},
     "output_type": "execute_result"
    }
   ],
   "source": [
    "SSR = SST - SSE\n",
    "SSR"
   ]
  },
  {
   "cell_type": "code",
   "execution_count": 9,
   "id": "482cca81-9eee-4910-91b1-f037f882e3ec",
   "metadata": {},
   "outputs": [],
   "source": [
    "#Q5. In a two-way ANOVA, how would you calculate the main effects and interaction effects using Python?\n",
    "\n",
    "import numpy as np\n",
    "import pandas as pd\n",
    "import statsmodels.api as sm\n",
    "from statsmodels.formula.api import ols"
   ]
  },
  {
   "cell_type": "code",
   "execution_count": 92,
   "id": "9e2f1e72-ee64-42dc-97a2-f215496c8691",
   "metadata": {},
   "outputs": [],
   "source": [
    "np.random.seed(123)\n",
    "health_df = pd.DataFrame({'Nutrition': np.repeat(['Morning', 'Evening'], 25),\n",
    "                   'Exercise': np.repeat(['Morning', 'Evening'], 25),\n",
    "                   'Calories': np.random.randint(475, 500, 50)})"
   ]
  },
  {
   "cell_type": "code",
   "execution_count": 95,
   "id": "61efbd8c-f4e9-4d81-b48b-f7cd96d19ed2",
   "metadata": {},
   "outputs": [
    {
     "data": {
      "text/plain": [
       "<statsmodels.regression.linear_model.RegressionResultsWrapper at 0x7f853ad33820>"
      ]
     },
     "execution_count": 95,
     "metadata": {},
     "output_type": "execute_result"
    }
   ],
   "source": [
    "model = ols('Calories ~ C(Nutrition) + C(Exercise) + C(Nutrition):C(Exercise)', data=health_df).fit()\n",
    "model"
   ]
  },
  {
   "cell_type": "code",
   "execution_count": 96,
   "id": "6f1d19e8-4cb2-43da-a455-32f112d493f6",
   "metadata": {},
   "outputs": [
    {
     "data": {
      "text/html": [
       "<div>\n",
       "<style scoped>\n",
       "    .dataframe tbody tr th:only-of-type {\n",
       "        vertical-align: middle;\n",
       "    }\n",
       "\n",
       "    .dataframe tbody tr th {\n",
       "        vertical-align: top;\n",
       "    }\n",
       "\n",
       "    .dataframe thead th {\n",
       "        text-align: right;\n",
       "    }\n",
       "</style>\n",
       "<table border=\"1\" class=\"dataframe\">\n",
       "  <thead>\n",
       "    <tr style=\"text-align: right;\">\n",
       "      <th></th>\n",
       "      <th>sum_sq</th>\n",
       "      <th>df</th>\n",
       "      <th>F</th>\n",
       "      <th>PR(&gt;F)</th>\n",
       "    </tr>\n",
       "  </thead>\n",
       "  <tbody>\n",
       "    <tr>\n",
       "      <th>C(Nutrition)</th>\n",
       "      <td>1572665.08</td>\n",
       "      <td>1.0</td>\n",
       "      <td>25764.500000</td>\n",
       "      <td>3.352075e-67</td>\n",
       "    </tr>\n",
       "    <tr>\n",
       "      <th>C(Exercise)</th>\n",
       "      <td>7.63</td>\n",
       "      <td>1.0</td>\n",
       "      <td>0.125000</td>\n",
       "      <td>7.252218e-01</td>\n",
       "    </tr>\n",
       "    <tr>\n",
       "      <th>C(Nutrition):C(Exercise)</th>\n",
       "      <td>8.00</td>\n",
       "      <td>1.0</td>\n",
       "      <td>0.131062</td>\n",
       "      <td>7.189228e-01</td>\n",
       "    </tr>\n",
       "    <tr>\n",
       "      <th>Residual</th>\n",
       "      <td>2929.92</td>\n",
       "      <td>48.0</td>\n",
       "      <td>NaN</td>\n",
       "      <td>NaN</td>\n",
       "    </tr>\n",
       "  </tbody>\n",
       "</table>\n",
       "</div>"
      ],
      "text/plain": [
       "                              sum_sq    df             F        PR(>F)\n",
       "C(Nutrition)              1572665.08   1.0  25764.500000  3.352075e-67\n",
       "C(Exercise)                     7.63   1.0      0.125000  7.252218e-01\n",
       "C(Nutrition):C(Exercise)        8.00   1.0      0.131062  7.189228e-01\n",
       "Residual                     2929.92  48.0           NaN           NaN"
      ]
     },
     "execution_count": 96,
     "metadata": {},
     "output_type": "execute_result"
    }
   ],
   "source": [
    "anova_table = sm.stats.anova_lm(model, typ=2)\n",
    "anova_table"
   ]
  },
  {
   "cell_type": "code",
   "execution_count": 97,
   "id": "298797cb-8d6e-4513-b41a-cf344ee27489",
   "metadata": {},
   "outputs": [
    {
     "data": {
      "text/html": [
       "<div>\n",
       "<style scoped>\n",
       "    .dataframe tbody tr th:only-of-type {\n",
       "        vertical-align: middle;\n",
       "    }\n",
       "\n",
       "    .dataframe tbody tr th {\n",
       "        vertical-align: top;\n",
       "    }\n",
       "\n",
       "    .dataframe thead th {\n",
       "        text-align: right;\n",
       "    }\n",
       "</style>\n",
       "<table border=\"1\" class=\"dataframe\">\n",
       "  <thead>\n",
       "    <tr style=\"text-align: right;\">\n",
       "      <th></th>\n",
       "      <th>sum_sq</th>\n",
       "      <th>df</th>\n",
       "      <th>F</th>\n",
       "    </tr>\n",
       "  </thead>\n",
       "  <tbody>\n",
       "    <tr>\n",
       "      <th>C(Nutrition)</th>\n",
       "      <td>1572665.08</td>\n",
       "      <td>1.0</td>\n",
       "      <td>25764.500</td>\n",
       "    </tr>\n",
       "    <tr>\n",
       "      <th>C(Exercise)</th>\n",
       "      <td>7.63</td>\n",
       "      <td>1.0</td>\n",
       "      <td>0.125</td>\n",
       "    </tr>\n",
       "  </tbody>\n",
       "</table>\n",
       "</div>"
      ],
      "text/plain": [
       "                  sum_sq   df          F\n",
       "C(Nutrition)  1572665.08  1.0  25764.500\n",
       "C(Exercise)         7.63  1.0      0.125"
      ]
     },
     "execution_count": 97,
     "metadata": {},
     "output_type": "execute_result"
    }
   ],
   "source": [
    "main_effects = anova_table[['sum_sq', 'df', 'F']].iloc[:2]\n",
    "main_effects"
   ]
  },
  {
   "cell_type": "code",
   "execution_count": 98,
   "id": "1ea861ff-329f-422b-ad59-af0d5eefd852",
   "metadata": {},
   "outputs": [
    {
     "data": {
      "text/plain": [
       "sum_sq    8.000000\n",
       "df        1.000000\n",
       "F         0.131062\n",
       "Name: C(Nutrition):C(Exercise), dtype: float64"
      ]
     },
     "execution_count": 98,
     "metadata": {},
     "output_type": "execute_result"
    }
   ],
   "source": [
    "interaction_effect = anova_table[['sum_sq', 'df', 'F']].iloc[2]\n",
    "interaction_effect"
   ]
  },
  {
   "cell_type": "code",
   "execution_count": 99,
   "id": "805126e5-2459-4cc0-bfce-0f98b4d88b88",
   "metadata": {},
   "outputs": [
    {
     "name": "stdout",
     "output_type": "stream",
     "text": [
      "Main Effects:\n",
      "                  sum_sq   df          F\n",
      "C(Nutrition)  1572665.08  1.0  25764.500\n",
      "C(Exercise)         7.63  1.0      0.125\n",
      "\n",
      "Interaction Effect:\n",
      "sum_sq    8.000000\n",
      "df        1.000000\n",
      "F         0.131062\n",
      "Name: C(Nutrition):C(Exercise), dtype: float64\n"
     ]
    }
   ],
   "source": [
    "print('Main Effects:')\n",
    "print(main_effects)\n",
    "print('\\nInteraction Effect:')\n",
    "print(interaction_effect)"
   ]
  },
  {
   "cell_type": "code",
   "execution_count": 8,
   "id": "aefaea03-51ca-4cde-9519-72a7aa5de1d5",
   "metadata": {},
   "outputs": [
    {
     "name": "stdout",
     "output_type": "stream",
     "text": [
      "                             df     sum_sq   mean_sq         F    PR(>F)\n",
      "C(Fertilizer)               1.0   0.033333  0.033333  0.012069  0.913305\n",
      "C(Watering)                 1.0   0.000369  0.000369  0.000133  0.990865\n",
      "C(Fertilizer):C(Watering)   1.0   0.040866  0.040866  0.014796  0.904053\n",
      "Residual                   28.0  77.333333  2.761905       NaN       NaN\n"
     ]
    }
   ],
   "source": [
    "\n",
    "# Importing libraries\n",
    "import statsmodels.api as sm\n",
    "from statsmodels.formula.api import ols\n",
    "  \n",
    "# Create a dataframe\n",
    "dataframe = pd.DataFrame({'Fertilizer': np.repeat(['daily', 'weekly'], 15),\n",
    "                          'Watering': np.repeat(['daily', 'weekly'], 15),\n",
    "                          'height': [14, 16, 15, 15, 16, 13, 12, 11,\n",
    "                                     14, 15, 16, 16, 17, 18, 14, 13, \n",
    "                                     14, 14, 14, 15, 16, 16, 17, 18,\n",
    "                                     14, 13, 14, 14, 14, 15]})\n",
    "  \n",
    "model = ols('height ~ C(Fertilizer) + C(Watering) + C(Fertilizer):C(Watering)', data=dataframe).fit()\n",
    "\n",
    "result = sm.stats.anova_lm(model, type=2)\n",
    "  \n",
    "# Print the result\n",
    "print(result)"
   ]
  },
  {
   "cell_type": "code",
   "execution_count": 66,
   "id": "bb7be7ad-fb4e-4fd4-b200-6b75880e1779",
   "metadata": {},
   "outputs": [
    {
     "data": {
      "text/plain": [
       "pandas.core.series.Series"
      ]
     },
     "execution_count": 66,
     "metadata": {},
     "output_type": "execute_result"
    }
   ],
   "source": [
    "type(dataframe[\"Fertilizer\"])"
   ]
  },
  {
   "cell_type": "code",
   "execution_count": null,
   "id": "c616dcb3-9224-4027-9525-4aec10da131d",
   "metadata": {},
   "outputs": [],
   "source": [
    "Q6. Suppose you conducted a one-way ANOVA and obtained an F-statistic of 5.23 and a p-value of 0.02. \n",
    "What can you conclude about the differences between the groups, and how would you interpret these \n",
    "results?\n",
    "\n",
    "Ans- \n",
    "        If a one-way ANOVA yields an F-statistic of 5.23 and a p-value of 0.02, it means that there is evidence of a significant \n",
    "    difference between the groups. Specifically, it means that the variance between the groups is greater than the variance \n",
    "    within the groups, which suggests that there are significant differences in the means of the groups and we can conclude that\n",
    "    at least one group has a mean that is significantly different from the others.\n",
    "        However, we cannot determine which specific groups are different from each other based solely on the ANOVA results. Further\n",
    "    analysis, such as post-hoc tests or confidence intervals, may be needed to determine the nature of the differences between \n",
    "    the groups."
   ]
  },
  {
   "cell_type": "code",
   "execution_count": null,
   "id": "f3ba9ed6-4d47-4b06-a2fb-1f58fd795d33",
   "metadata": {},
   "outputs": [],
   "source": [
    "Q7. In a repeated measures ANOVA, how would you handle missing data, and what are the potential \n",
    "consequences of using different methods to handle missing data?\n",
    "\n",
    "Ans-\n",
    "    Handling missing data in a repeated measures ANOVA can be challenging, as the repeated nature of the design means that \n",
    "    missing data can have a more profound impact on the analysis than in other designs. There are several methods for handling \n",
    "    missing data in a repeated measures ANOVA, including-\n",
    "\n",
    "    1. Pairwise deletion: \n",
    "            This method involves omitting any cases with missing data for a particular variable, only using cases that have \n",
    "        complete data for that variable. This method is easy to implement, but it can result in a loss of statistical power \n",
    "        and can produce biased estimates if the missing data is not missing completely at random.\n",
    "        \n",
    "    2. Listwise deletion: \n",
    "            This method involves omitting any cases that have missing data for any of the variables included in the analysis.\n",
    "        This method avoids the potential bias of pairwise deletion, but it can also lead to a loss of statistical power if a \n",
    "        substantial portion of the data is missing.\n",
    "        \n",
    "    3. Imputation: \n",
    "            This method involves replacing missing data with estimated values based on the available data. There are several\n",
    "        imputation methods, including mean imputation, regression imputation, and multiple imputation. Imputation can be a \n",
    "        useful method for reducing the impact of missing data, but it can also introduce bias if the imputation model is \n",
    "        misspecified."
   ]
  },
  {
   "cell_type": "code",
   "execution_count": null,
   "id": "09b6b7b5-9c0c-43ae-bd0a-c9281431c7e0",
   "metadata": {},
   "outputs": [],
   "source": [
    "Q8. What are some common post-hoc tests used after ANOVA, and when would you use each one? Provide \n",
    "an example of a situation where a post-hoc test might be necessary.\n",
    "\n",
    "Ans-\n",
    "    Some common post-hoc tests are as follows-\n",
    "\n",
    "    1. Tukey's HSD (honestly significant difference)- \n",
    "            This test compares all possible pairs of means and controls the family-wise error rate, making it a good choice \n",
    "        for situations where multiple comparisons are being made.\n",
    "\n",
    "    2. Bonferroni correction- \n",
    "            This test is a more conservative alternative to Tukey's HSD and adjusts the alpha level for each comparison. It is a\n",
    "        good choice when making a small number of comparisons.\n",
    "\n",
    "    3. Scheffe's test- \n",
    "            This test is a conservative test that can be used when the sample sizes are unequal, and there are more than two \n",
    "        groups.\n",
    "\n",
    "    4. Dunnett's test- \n",
    "            This test is used when there is a control group and the other groups are being compared to the control.\n",
    "\n",
    "    5. Games-Howell test- This test is used when the assumption of equal variances across groups is not met.\n",
    "\n",
    "    A situation where a post-hoc test might be necessary is if an ANOVA indicates a significant difference between at least \n",
    "    two groups, but it is unclear which specific groups are different from each other. For example, a researcher might conduct\n",
    "    an ANOVA to compare the mean scores of three different treatment groups on a measure of anxiety. If the ANOVA shows a \n",
    "    significant difference between the groups, a post-hoc test such as Tukey's HSD or Bonferroni correction can be used to \n",
    "    determine which specific groups differ from each other in terms of their anxiety scores."
   ]
  },
  {
   "cell_type": "code",
   "execution_count": 48,
   "id": "4a42286c-5afe-44c8-b66c-88024b0dbe09",
   "metadata": {},
   "outputs": [],
   "source": [
    "'''Q9. A researcher wants to compare the mean weight loss of three diets: A, B, and C. They collect data from \n",
    "50 participants who were randomly assigned to one of the diets. Conduct a one-way ANOVA using Python \n",
    "to determine if there are any significant differences between the mean weight loss of the three diets. \n",
    "Report the F-statistic and p-value, and interpret the results.'''\n",
    "\n",
    "import numpy as np\n",
    "from scipy import stats"
   ]
  },
  {
   "cell_type": "code",
   "execution_count": 49,
   "id": "2424739e-51af-4173-86b8-14bf76bade52",
   "metadata": {},
   "outputs": [],
   "source": [
    "#generate weight loss data for three diets\n",
    "np.random.seed(123)\n",
    "diet_a = np.random.normal(loc=5.5, scale=1.5, size=50)\n",
    "diet_b = np.random.normal(loc=4.8, scale=1.2, size=50)\n",
    "diet_c = np.random.normal(loc=4.2, scale=1.0, size=50)"
   ]
  },
  {
   "cell_type": "code",
   "execution_count": 50,
   "id": "bb626d0e-f00f-4a2f-bef2-f3cf1e8575cf",
   "metadata": {},
   "outputs": [
    {
     "name": "stdout",
     "output_type": "stream",
     "text": [
      "F-statistic: 9.14\n",
      "p-value: 0.0002\n"
     ]
    }
   ],
   "source": [
    "#conduct one-way ANOVA\n",
    "f_statistic, p_value = stats.f_oneway(diet_a, diet_b, diet_c)\n",
    "print(\"F-statistic: {:.2f}\".format(f_statistic))\n",
    "print(\"p-value: {:.4f}\".format(p_value))"
   ]
  },
  {
   "cell_type": "code",
   "execution_count": 51,
   "id": "654f1dbb-dc56-481c-b229-27e006e5a549",
   "metadata": {},
   "outputs": [
    {
     "name": "stdout",
     "output_type": "stream",
     "text": [
      "There is a significant difference between the mean weight loss of the three diets.\n"
     ]
    }
   ],
   "source": [
    "if p_value < 0.05:\n",
    "    print(\"There is a significant difference between the mean weight loss of the three diets.\")\n",
    "else:\n",
    "    print(\"There is no significant difference between the mean weight loss of the three diets.\")"
   ]
  },
  {
   "cell_type": "code",
   "execution_count": 52,
   "id": "72e3099b-9b78-4b04-84b0-25319639ff5c",
   "metadata": {},
   "outputs": [],
   "source": [
    "'''Q10. A company wants to know if there are any significant differences in the average time it takes to \n",
    "complete a task using three different software programs: Program A, Program B, and Program C. They \n",
    "randomly assign 30 employees to one of the programs and record the time it takes each employee to \n",
    "complete the task. Conduct a two-way ANOVA using Python to determine if there are any main effects or \n",
    "interaction effects between the software programs and employee experience level (novice vs. \n",
    "experienced). Report the F-statistics and p-values, and interpret the results.'''\n",
    "\n",
    "import pandas as pd\n",
    "import statsmodels.api as sm\n",
    "from statsmodels.formula.api import ols"
   ]
  },
  {
   "cell_type": "code",
   "execution_count": 53,
   "id": "4e57e6d1-4e05-4b20-a831-15ff1c427f9e",
   "metadata": {},
   "outputs": [],
   "source": [
    "# create a sample data frame\n",
    "data = {'program': ['A', 'B', 'C'] * 20,\n",
    "        'experience': ['novice'] * 30 + ['experienced'] * 30,\n",
    "        'time': [12, 15, 13, 18, 19, 16, 14, 17, 12, 16, 13, 14, 16, 18, 20, 17, 16, 14, 15, 12] * 3}\n",
    "df = pd.DataFrame(data)"
   ]
  },
  {
   "cell_type": "code",
   "execution_count": 54,
   "id": "f6a860de-9d57-4353-8e0e-21dc75255f2d",
   "metadata": {},
   "outputs": [
    {
     "data": {
      "text/plain": [
       "<statsmodels.regression.linear_model.RegressionResultsWrapper at 0x7f853ad10be0>"
      ]
     },
     "execution_count": 54,
     "metadata": {},
     "output_type": "execute_result"
    }
   ],
   "source": [
    "model = ols('time ~ C(program) + C(experience) + C(program):C(experience)', data=df).fit()\n",
    "model"
   ]
  },
  {
   "cell_type": "code",
   "execution_count": 55,
   "id": "0dd28aec-54c1-4a44-8631-9b374c6fe05b",
   "metadata": {},
   "outputs": [
    {
     "data": {
      "text/html": [
       "<div>\n",
       "<style scoped>\n",
       "    .dataframe tbody tr th:only-of-type {\n",
       "        vertical-align: middle;\n",
       "    }\n",
       "\n",
       "    .dataframe tbody tr th {\n",
       "        vertical-align: top;\n",
       "    }\n",
       "\n",
       "    .dataframe thead th {\n",
       "        text-align: right;\n",
       "    }\n",
       "</style>\n",
       "<table border=\"1\" class=\"dataframe\">\n",
       "  <thead>\n",
       "    <tr style=\"text-align: right;\">\n",
       "      <th></th>\n",
       "      <th>sum_sq</th>\n",
       "      <th>df</th>\n",
       "      <th>F</th>\n",
       "      <th>PR(&gt;F)</th>\n",
       "    </tr>\n",
       "  </thead>\n",
       "  <tbody>\n",
       "    <tr>\n",
       "      <th>C(program)</th>\n",
       "      <td>4.760003e-28</td>\n",
       "      <td>2.0</td>\n",
       "      <td>4.168670e-29</td>\n",
       "      <td>1.000000</td>\n",
       "    </tr>\n",
       "    <tr>\n",
       "      <th>C(experience)</th>\n",
       "      <td>1.500000e-01</td>\n",
       "      <td>1.0</td>\n",
       "      <td>2.627311e-02</td>\n",
       "      <td>0.871840</td>\n",
       "    </tr>\n",
       "    <tr>\n",
       "      <th>C(program):C(experience)</th>\n",
       "      <td>1.120000e+01</td>\n",
       "      <td>2.0</td>\n",
       "      <td>9.808628e-01</td>\n",
       "      <td>0.381568</td>\n",
       "    </tr>\n",
       "    <tr>\n",
       "      <th>Residual</th>\n",
       "      <td>3.083000e+02</td>\n",
       "      <td>54.0</td>\n",
       "      <td>NaN</td>\n",
       "      <td>NaN</td>\n",
       "    </tr>\n",
       "  </tbody>\n",
       "</table>\n",
       "</div>"
      ],
      "text/plain": [
       "                                sum_sq    df             F    PR(>F)\n",
       "C(program)                4.760003e-28   2.0  4.168670e-29  1.000000\n",
       "C(experience)             1.500000e-01   1.0  2.627311e-02  0.871840\n",
       "C(program):C(experience)  1.120000e+01   2.0  9.808628e-01  0.381568\n",
       "Residual                  3.083000e+02  54.0           NaN       NaN"
      ]
     },
     "execution_count": 55,
     "metadata": {},
     "output_type": "execute_result"
    }
   ],
   "source": [
    "anova_table = sm.stats.anova_lm(model, typ=2)\n",
    "anova_table"
   ]
  },
  {
   "cell_type": "code",
   "execution_count": 100,
   "id": "1f8f451f-b959-4be8-88b4-8a25c2a49698",
   "metadata": {},
   "outputs": [],
   "source": [
    "'''Q11. An educational researcher is interested in whether a new teaching method improves student test \n",
    "scores. They randomly assign 100 students to either the control group (traditional teaching method) or the \n",
    "experimental group (new teaching method) and administer a test at the end of the semester. Conduct a \n",
    "two-sample t-test using Python to determine if there are any significant differences in test scores \n",
    "between the two groups. If the results are significant, follow up with a post-hoc test to determine which \n",
    "group(s) differ significantly from each other.'''\n",
    "\n",
    "import numpy as np\n",
    "from scipy import stats\n",
    "import statsmodels.api as sm\n",
    "from statsmodels.formula.api import ols"
   ]
  },
  {
   "cell_type": "code",
   "execution_count": 101,
   "id": "a1b887a6-ae5c-495e-8e6b-c9ab46d2d923",
   "metadata": {},
   "outputs": [
    {
     "data": {
      "text/plain": [
       "array([ 77.98227548,  79.64371328,  76.18221633,  94.43697864,\n",
       "        99.23207289,  62.34691931,  74.73727967,  55.72458028,\n",
       "        80.60802217,  77.4663925 ,  74.88573576,  65.08799183,\n",
       "        71.4381917 ,  59.92877431,  73.74701471,  91.49475521,\n",
       "        68.4892856 ,  83.92062042,  72.96259697,  74.72329237,\n",
       "        87.84116395,  64.19879947,  71.07029061,  81.25123969,\n",
       "        57.95132845,  71.81773381,  69.91699356,  82.46558178,\n",
       "        61.97656858,  76.20603071,  81.87546971,  71.74721808,\n",
       "        74.76223493,  61.62780257,  76.07353502,  60.20572861,\n",
       "        74.90535183,  77.03828587,  75.74445258,  55.35445995,\n",
       "        84.44317234,  67.15420885,  75.29417464,  65.11928608,\n",
       "        74.153421  ,  76.23179197,  84.75423655,  71.23826036,\n",
       "        67.19164863,  90.4183586 ,  69.068015  ,  61.69800307,\n",
       "        95.81173283,  93.0388825 ,  71.20016172,  81.87101486,\n",
       "        68.45491853,  88.01577263,  59.37074142,  78.1314609 ,\n",
       "        73.95878078,  85.07672277,  68.86921874,  65.88202987,\n",
       "        77.42766034,  87.97451766,  85.07427929,  80.79849874,\n",
       "        72.69815439,  85.34534334,  74.65612918,  67.95908594,\n",
       "       100.89206777,  81.7945884 ,  80.17491542,  72.64844033,\n",
       "        62.25603041,  88.13187875,  52.8025879 ,  92.90465633,\n",
       "        65.17158525,  64.51889348,  92.17212522,  80.06574145,\n",
       "        53.14857561,  77.60204074,  84.09706562,  78.23729943,\n",
       "        85.4390874 ,  70.18103617,  69.34586473,  81.94983156,\n",
       "        86.54228119,  43.01675316,  59.59877589,  69.75150689,\n",
       "        87.0542977 ,  70.35341362,  80.82503285,  84.731155  ])"
      ]
     },
     "execution_count": 101,
     "metadata": {},
     "output_type": "execute_result"
    }
   ],
   "source": [
    "# generate data for control and experimental groups\n",
    "control_scores = np.random.normal(loc=75, scale=10, size=100)\n",
    "control_scores"
   ]
  },
  {
   "cell_type": "code",
   "execution_count": 102,
   "id": "6e94287f-10e6-48c1-b730-a00d17d3255a",
   "metadata": {},
   "outputs": [
    {
     "data": {
      "text/plain": [
       "array([ 79.47268551,  66.18445341,  54.36975264,  80.62842917,\n",
       "        65.08096037,  86.6722303 ,  82.14011717,  89.71046958,\n",
       "        67.10332336,  79.11507413,  72.86726283,  60.60720166,\n",
       "        69.74404035,  86.41042621,  86.88676318,  81.88905762,\n",
       "        79.71130704,  71.68959014,  75.00090951,  82.37228201,\n",
       "        78.08803888,  90.54961539,  55.21847583,  47.01286438,\n",
       "        86.7468504 ,  77.93376082,  84.44747574,  89.75931601,\n",
       "       103.89482855,  66.28493485,  63.18244899,  73.95832357,\n",
       "        88.8834346 ,  69.00764749,  83.25326952,  91.71975811,\n",
       "       100.02025729,  76.14058175,  95.55357152,  71.64845549,\n",
       "        81.26075412,  73.67062152,  80.7464177 ,  96.56570209,\n",
       "        77.68834635,  84.95854637,  84.10073259,  79.94014123,\n",
       "        69.9128011 ,  74.2650807 ,  69.57941586,  66.98023264,\n",
       "        76.34303529,  81.47144329,  84.20188287,  92.51394599,\n",
       "        92.4175751 ,  87.78233467,  70.19860902,  80.89341659,\n",
       "        66.99976439,  79.84908269,  83.17903296,  99.61118447,\n",
       "        65.13251   ,  90.07141061,  93.34434452,  79.64614159,\n",
       "        74.43103868,  79.34752942,  72.48692083,  63.45943511,\n",
       "        65.21274601,  68.22039516,  81.22664896,  93.59356913,\n",
       "        69.95343166,  81.41271517,  76.71469364,  94.29383102,\n",
       "        56.40199767, 103.99200533,  73.6118984 ,  77.02468674,\n",
       "        65.32799952,  85.62530318,  64.07085899,  88.52829945,\n",
       "        81.8486433 ,  88.9553396 ,  89.93160022,  91.49352923,\n",
       "        78.59990501,  74.75048428,  69.33022316,  81.85434502,\n",
       "        62.01598543,  87.61549301,  80.4434005 ,  82.83580785])"
      ]
     },
     "execution_count": 102,
     "metadata": {},
     "output_type": "execute_result"
    }
   ],
   "source": [
    "experimental_scores = np.random.normal(loc=80, scale=10, size=100)\n",
    "experimental_scores\n"
   ]
  },
  {
   "cell_type": "code",
   "execution_count": 103,
   "id": "5ba9abe5-a0eb-4fca-92f8-b5419efc19a3",
   "metadata": {},
   "outputs": [
    {
     "name": "stdout",
     "output_type": "stream",
     "text": [
      "Two-sample t-test results:\n",
      "t-statistic = -2.3466529283129987\n",
      "p-value = 0.01993102090257889\n"
     ]
    }
   ],
   "source": [
    "t_stat, p_val = stats.ttest_ind(control_scores, experimental_scores)\n",
    "print(\"Two-sample t-test results:\")\n",
    "print(\"t-statistic =\", t_stat)\n",
    "print(\"p-value =\", p_val)"
   ]
  },
  {
   "cell_type": "code",
   "execution_count": 104,
   "id": "e08f93ab-ced9-4b0d-858c-e1a92bd0ec71",
   "metadata": {},
   "outputs": [
    {
     "name": "stdout",
     "output_type": "stream",
     "text": [
      "Post-hoc test results:\n",
      "   Multiple Comparison of Means - Tukey HSD, FWER=0.05   \n",
      "=========================================================\n",
      " group1    group2    meandiff p-adj  lower  upper  reject\n",
      "---------------------------------------------------------\n",
      "control experimental   3.6604 0.0199 0.5844 6.7364   True\n",
      "---------------------------------------------------------\n"
     ]
    }
   ],
   "source": [
    "if p_val < 0.05:\n",
    "    data = {\"score\": np.concatenate([control_scores, experimental_scores]),\n",
    "            \"group\": np.concatenate([np.repeat(\"control\", 100), np.repeat(\"experimental\", 100)])}\n",
    "    df = sm.stats.multicomp.pairwise_tukeyhsd(data[\"score\"], data[\"group\"])\n",
    "\n",
    "    print(\"Post-hoc test results:\")\n",
    "    print(df.summary())"
   ]
  },
  {
   "cell_type": "code",
   "execution_count": 105,
   "id": "fba42c9a-ddf7-4643-a889-973f8f20bb4b",
   "metadata": {},
   "outputs": [],
   "source": [
    "'''Q12. A researcher wants to know if there are any significant differences in the average daily sales of three \n",
    "retail stores: Store A, Store B, and Store C. They randomly select 30 days and record the sales for each store \n",
    "on those days. Conduct a repeated measures ANOVA using Python to determine if there are any \n",
    "significant differences in sales between the three stores. If the results are significant, follow up with a post￾hoc test to\n",
    "determine which store(s) differ significantly from each other.'''\n",
    "\n",
    "import pandas as pd\n",
    "import numpy as np\n",
    "from scipy.stats import f_oneway\n",
    "from statsmodels.stats.anova import AnovaRM\n",
    "from statsmodels.stats.multicomp import pairwise_tukeyhsd"
   ]
  },
  {
   "cell_type": "code",
   "execution_count": 106,
   "id": "6b291517-9d28-4553-b2f4-e39464ebc156",
   "metadata": {},
   "outputs": [],
   "source": [
    "#generate sample data\n",
    "store_a_sales = np.random.normal(1000, 100, 30)\n",
    "store_b_sales = np.random.normal(1200, 150, 30)\n",
    "store_c_sales = np.random.normal(900, 120, 30)"
   ]
  },
  {
   "cell_type": "code",
   "execution_count": 107,
   "id": "9ebd6e55-97b3-4908-bf64-e68813ecb84b",
   "metadata": {},
   "outputs": [],
   "source": [
    "sales_df = pd.DataFrame({\n",
    "    'Store A': store_a_sales,\n",
    "    'Store B': store_b_sales,\n",
    "    'Store C': store_c_sales\n",
    "    })"
   ]
  },
  {
   "cell_type": "code",
   "execution_count": 108,
   "id": "5f2d9f6c-6cf2-4406-ae82-82694075295e",
   "metadata": {},
   "outputs": [],
   "source": [
    "sales_df_melted = pd.melt(sales_df.reset_index(), id_vars=['index'], value_vars=['Store A', 'Store B', 'Store C'])\n",
    "sales_df_melted.columns = ['day', 'store', 'sales']"
   ]
  },
  {
   "cell_type": "code",
   "execution_count": 109,
   "id": "c885bfa1-8b6d-41c7-8b65-22fff140f523",
   "metadata": {},
   "outputs": [
    {
     "name": "stdout",
     "output_type": "stream",
     "text": [
      "               Anova\n",
      "===================================\n",
      "      F Value Num DF  Den DF Pr > F\n",
      "-----------------------------------\n",
      "store 53.5143 2.0000 58.0000 0.0000\n",
      "===================================\n",
      "\n"
     ]
    }
   ],
   "source": [
    "# Perform repeated measures ANOVA\n",
    "rm_anova = AnovaRM(sales_df_melted, 'sales', 'day', within=['store'])\n",
    "res = rm_anova.fit()\n",
    "print(res)"
   ]
  },
  {
   "cell_type": "code",
   "execution_count": null,
   "id": "941946f8-ff9b-415a-9741-b7f4e04c8435",
   "metadata": {},
   "outputs": [],
   "source": []
  }
 ],
 "metadata": {
  "kernelspec": {
   "display_name": "Python 3 (ipykernel)",
   "language": "python",
   "name": "python3"
  },
  "language_info": {
   "codemirror_mode": {
    "name": "ipython",
    "version": 3
   },
   "file_extension": ".py",
   "mimetype": "text/x-python",
   "name": "python",
   "nbconvert_exporter": "python",
   "pygments_lexer": "ipython3",
   "version": "3.10.8"
  }
 },
 "nbformat": 4,
 "nbformat_minor": 5
}
