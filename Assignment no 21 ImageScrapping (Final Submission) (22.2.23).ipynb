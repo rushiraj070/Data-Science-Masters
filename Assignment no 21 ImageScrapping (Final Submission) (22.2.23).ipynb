{
 "cells": [
  {
   "cell_type": "code",
   "execution_count": 1,
   "id": "ebce42dd",
   "metadata": {},
   "outputs": [],
   "source": [
    "from selenium import webdriver\n",
    "from selenium.webdriver.chrome.service import Service\n",
    "from webdriver_manager.chrome import ChromeDriverManager\n",
    "from selenium.webdriver.common.by import By\n",
    "from bs4 import BeautifulSoup\n",
    "import time"
   ]
  },
  {
   "cell_type": "code",
   "execution_count": 32,
   "id": "d1fd9a9f-ebfb-4973-8a93-6fceb988818f",
   "metadata": {},
   "outputs": [],
   "source": [
    "import pandas as pd"
   ]
  },
  {
   "cell_type": "code",
   "execution_count": 2,
   "id": "8db2ff7c",
   "metadata": {},
   "outputs": [],
   "source": [
    "url = 'https://www.youtube.com/@PW-Foundation/videos'"
   ]
  },
  {
   "cell_type": "code",
   "execution_count": 3,
   "id": "eefa4773",
   "metadata": {},
   "outputs": [],
   "source": [
    "def scroll_to_end(driver, sleep_between_interactions):\n",
    "    \"\"\"\n",
    "    :param wd: give driver name {\"wd = webdriver.Chrome()\" and \"wd = webdriver.FirefoxOptions()\"}\n",
    "    :param sleep_between_interactions: fix the time sleep value according to your network connection\n",
    "    :return: scroll down to the end of your page\n",
    "    \"\"\"\n",
    "    prev_h = 2\n",
    "    while True:\n",
    "        height = driver.execute_script(\"\"\"\n",
    "                    function getActualHeight() {\n",
    "                        return Math.max(\n",
    "                            Math.max(document.body.scrollHeight, document.documentElement.scrollHeight),\n",
    "                            Math.max(document.body.offsetHeight, document.documentElement.offsetHeight),\n",
    "                            Math.max(document.body.clientHeight, document.documentElement.clientHeight)\n",
    "                        );\n",
    "                    }\n",
    "                    return getActualHeight();\n",
    "                \"\"\")\n",
    "        driver.execute_script(f\"window.scrollTo({prev_h},{prev_h + 100})\")\n",
    "        # fix the time sleep value according to your network connection\n",
    "        time.sleep(sleep_between_interactions)\n",
    "        prev_h += 200\n",
    "        if prev_h >= height:\n",
    "            break"
   ]
  },
  {
   "cell_type": "code",
   "execution_count": 4,
   "id": "1c093d34",
   "metadata": {},
   "outputs": [],
   "source": [
    "driver = webdriver.Chrome(service = Service(\"C:\\\\Users\\\\Shree\\\\Downloads\\\\chromedriver.exe\"))\n",
    "driver.get(url)\n",
    "driver.maximize_window()\n",
    "scroll_to_end(driver, 1)\n",
    "content = driver.page_source.strip()\n",
    "driver.close() "
   ]
  },
  {
   "cell_type": "code",
   "execution_count": 5,
   "id": "b06bae41",
   "metadata": {},
   "outputs": [],
   "source": [
    "soup = BeautifulSoup(content,'lxml')"
   ]
  },
  {
   "cell_type": "code",
   "execution_count": 35,
   "id": "96fa82f7-1330-4d96-af28-8854f6381af9",
   "metadata": {},
   "outputs": [
    {
     "name": "stdout",
     "output_type": "stream",
     "text": [
      "https://www.youtube.com/watch?v=PI1obes98Zc\n",
      "https://www.youtube.com/watch?v=16fUsD0M1-I\n",
      "https://www.youtube.com/watch?v=S0RySN5arvk\n",
      "https://www.youtube.com/watch?v=HzBhwxMrt8A\n",
      "https://www.youtube.com/watch?v=60_B3haKADw\n"
     ]
    }
   ],
   "source": [
    "#Q1. Write a python program to extract the video URL of the first five videos.\n",
    "\n",
    "video_url = soup.find_all(\"a\", class_=\"yt-simple-endpoint focus-on-expand style-scope ytd-rich-grid-media\")\n",
    "\n",
    "for urls in video_url[0:5]:\n",
    "    url = \"https://www.youtube.com\"+urls.attrs.get('href')\n",
    "    print(url)"
   ]
  },
  {
   "cell_type": "code",
   "execution_count": 7,
   "id": "753f3628",
   "metadata": {},
   "outputs": [
    {
     "name": "stdout",
     "output_type": "stream",
     "text": [
      "https://i.ytimg.com/vi/PI1obes98Zc/hqdefault.jpg?sqp=-oaymwEcCNACELwBSFXyq4qpAw4IARUAAIhCGAFwAcABBg==&rs=AOn4CLDyWGBtPVQCXcUM1DiCpOeszoKAsQ\n",
      "https://i.ytimg.com/vi/16fUsD0M1-I/hqdefault.jpg?sqp=-oaymwEcCNACELwBSFXyq4qpAw4IARUAAIhCGAFwAcABBg==&rs=AOn4CLByRUwFQYHPXlsq0XinNUla0MZtNw\n",
      "https://i.ytimg.com/vi/S0RySN5arvk/hqdefault.jpg?sqp=-oaymwEcCNACELwBSFXyq4qpAw4IARUAAIhCGAFwAcABBg==&rs=AOn4CLBOhnoOmjXFZyCKcKSm5Q-ZERlrZQ\n",
      "https://i.ytimg.com/vi/HzBhwxMrt8A/hqdefault.jpg?sqp=-oaymwEcCNACELwBSFXyq4qpAw4IARUAAIhCGAFwAcABBg==&rs=AOn4CLDxv8xtxXYKf6Zn58zMFt2mqVTTZw\n",
      "https://i.ytimg.com/vi/60_B3haKADw/hqdefault.jpg?sqp=-oaymwEcCNACELwBSFXyq4qpAw4IARUAAIhCGAFwAcABBg==&rs=AOn4CLA9baY1YtDSZafi5-Ej4K4ehDrL_A\n"
     ]
    }
   ],
   "source": [
    "#Q2. Write a python program to extract the URL of the video thumbnails of the first five videos.\n",
    "thumbnail_url =  soup.find_all(\"img\", class_=\"yt-core-image--fill-parent-height yt-core-image--fill-parent-width yt-core-image yt-core-image--content-mode-scale-aspect-fill yt-core-image--loaded\")\n",
    "\n",
    "for thumbnails in thumbnail_url[0:5]:\n",
    "    thumbnail = thumbnails.attrs.get(\"src\")\n",
    "    print(thumbnail)"
   ]
  },
  {
   "cell_type": "code",
   "execution_count": 8,
   "id": "c9401b7b-1ce2-4a6b-9f9d-5996a744f163",
   "metadata": {},
   "outputs": [
    {
     "name": "stdout",
     "output_type": "stream",
     "text": [
      "How to score 95%+ in class 10th? Complete year Powerful Strategy!!\n",
      "Last 4 Days Left For SST Exam || How To Manage to Score 80/80 in Boards || Class-10th\n",
      "Benefits of Choosing Commerce After 10th | Commerce क्यों लेना चाहिए? | CBSE | ICSE | State Boards\n",
      "Complete 𝗖𝗔𝗥𝗕𝗢𝗡 𝗔𝗡𝗗 𝗜𝗧𝗦 𝗖𝗢𝗠𝗣𝗢𝗨𝗡𝗗𝗦 in 90 Minutes | Class 10th Board Exam\n",
      "Complete 𝗠𝗘𝗧𝗔𝗟𝗦 & 𝗡𝗢𝗡 𝗠𝗘𝗧𝗔𝗟𝗦  in 120 Minutes | Class 10th Board Exam\n"
     ]
    }
   ],
   "source": [
    "#Q3. Write a python program to extract the title of the first five videos.\n",
    "\n",
    "title_url = soup.find_all(\"a\", class_=\"yt-simple-endpoint focus-on-expand style-scope ytd-rich-grid-media\")\n",
    " \n",
    "for titles in title_url[0:5]:\n",
    "    title = titles.attrs.get(\"title\")\n",
    "    print(title)"
   ]
  },
  {
   "cell_type": "code",
   "execution_count": 25,
   "id": "55bdfb80-4eac-406d-8da0-2bfa978c31de",
   "metadata": {},
   "outputs": [
    {
     "name": "stdout",
     "output_type": "stream",
     "text": [
      "75K views\n",
      "65K views\n",
      "25K views\n",
      "40K views\n",
      "22K views\n"
     ]
    }
   ],
   "source": [
    "#Q4. Write a python program to extract the number of views of the first five videos.\n",
    "\n",
    "total_views = soup.find_all(\"span\", class_=\"inline-metadata-item style-scope ytd-video-meta-block\")\n",
    "\n",
    "for views in total_views[0:9:2]:\n",
    "    view = views.get_text()\n",
    "    print(view)"
   ]
  },
  {
   "cell_type": "code",
   "execution_count": 27,
   "id": "5e821b6a-a553-48c5-a885-dd7c3ff7f891",
   "metadata": {},
   "outputs": [
    {
     "name": "stdout",
     "output_type": "stream",
     "text": [
      "2 days ago\n",
      "3 days ago\n",
      "7 days ago\n",
      "9 days ago\n",
      "9 days ago\n"
     ]
    }
   ],
   "source": [
    "#Q5. Write a python program to extract the time of posting of video for the first five videos.\n",
    "\n",
    "posting_time = soup.find_all(\"span\", class_=\"inline-metadata-item style-scope ytd-video-meta-block\")\n",
    "\n",
    "for times in posting_time[1:10:2]:\n",
    "    time = times.get_text()\n",
    "    print(time) "
   ]
  },
  {
   "cell_type": "code",
   "execution_count": 36,
   "id": "045b95d2-00ad-49dd-b58b-ca64b22b2353",
   "metadata": {},
   "outputs": [],
   "source": [
    "data = []\n",
    "\n",
    "for urls, thumbnails, titles, views, times in zip(video_url[0:5], thumbnail_url[0:5], title_url[0:5], total_views[0:9:2], posting_time[1:10:2]):\n",
    "    data.append([\"https://www.youtube.com\"+urls.attrs.get('href'), thumbnails.attrs.get(\"src\"), titles.attrs.get(\"title\"), views.get_text(), times.get_text()])"
   ]
  },
  {
   "cell_type": "code",
   "execution_count": 37,
   "id": "7122013d-b4e6-436c-b70d-ea81a9ba69a0",
   "metadata": {},
   "outputs": [],
   "source": [
    "#Note: Save all the data scraped in the above questions in a CSV file.\n",
    "\n",
    "df = pd.DataFrame (data, columns = [\"Video URL\", \"Thumbnail\", \"Title\", \"Views\", \"Time of Posting\"])\n",
    "\n",
    "df.to_csv(\"PWFoundations_Video_Details.csv\")"
   ]
  },
  {
   "cell_type": "code",
   "execution_count": null,
   "id": "84fdc098",
   "metadata": {},
   "outputs": [],
   "source": []
  },
  {
   "cell_type": "code",
   "execution_count": null,
   "id": "a789cc31",
   "metadata": {},
   "outputs": [],
   "source": []
  },
  {
   "cell_type": "code",
   "execution_count": null,
   "id": "c8094370",
   "metadata": {},
   "outputs": [],
   "source": []
  },
  {
   "cell_type": "code",
   "execution_count": null,
   "id": "b2a93c1e",
   "metadata": {},
   "outputs": [],
   "source": []
  },
  {
   "cell_type": "code",
   "execution_count": null,
   "id": "1a3cfc3d",
   "metadata": {},
   "outputs": [],
   "source": []
  }
 ],
 "metadata": {
  "kernelspec": {
   "display_name": "Python 3 (ipykernel)",
   "language": "python",
   "name": "python3"
  },
  "language_info": {
   "codemirror_mode": {
    "name": "ipython",
    "version": 3
   },
   "file_extension": ".py",
   "mimetype": "text/x-python",
   "name": "python",
   "nbconvert_exporter": "python",
   "pygments_lexer": "ipython3",
   "version": "3.8.16"
  }
 },
 "nbformat": 4,
 "nbformat_minor": 5
}
