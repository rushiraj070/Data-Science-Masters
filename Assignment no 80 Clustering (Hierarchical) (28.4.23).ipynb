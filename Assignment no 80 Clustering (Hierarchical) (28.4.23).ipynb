{
 "cells": [
  {
   "cell_type": "markdown",
   "id": "6f1e31d1-35cd-408d-84ba-ac3f78e53bbe",
   "metadata": {},
   "source": [
    "## Assignment no 80 Clustering (Hierarchical) (28.4.23)"
   ]
  },
  {
   "cell_type": "code",
   "execution_count": null,
   "id": "a864b77c-4be0-4ba8-be4d-3f12354507bc",
   "metadata": {},
   "outputs": [],
   "source": []
  },
  {
   "cell_type": "code",
   "execution_count": null,
   "id": "cc82bfdd-7240-4f09-a005-fd9277d517b3",
   "metadata": {},
   "outputs": [],
   "source": [
    "Q1. **What is hierarchical clustering, and how is it different from other clustering techniques?**\n",
    "\n",
    "Ans - Hierarchical clustering is a clustering algorithm that builds a hierarchy of clusters. It does not require the number of clusters to be \n",
    "      specified in advance. Unlike other clustering techniques like K-means, which require the number of clusters to be predefined, \n",
    "      hierarchical clustering creates a tree-like structure of clusters, which can be visualized using dendrograms."
   ]
  },
  {
   "cell_type": "code",
   "execution_count": null,
   "id": "cb6b0c36-ca33-4199-9b59-99009e6110c5",
   "metadata": {},
   "outputs": [],
   "source": []
  },
  {
   "cell_type": "code",
   "execution_count": null,
   "id": "85f0b622-61e9-437d-a740-50dd1e5c31ec",
   "metadata": {},
   "outputs": [],
   "source": [
    "Q2. **What are the two main types of hierarchical clustering algorithms? Describe each in brief.**\n",
    "\n",
    "Ans - \n",
    "\n",
    "    1. **Agglomerative hierarchical clustering:** \n",
    "                It starts by treating each data point as a single cluster and then merges the closest pairs of clusters iteratively until only \n",
    "        one cluster remains. It is also known as bottom-up clustering.\n",
    "    \n",
    "    2. **Divisive hierarchical clustering:** \n",
    "                It starts with all data points in one cluster and then splits the cluster recursively into smaller clusters until each data \n",
    "        point is in its cluster. It is also known as top-down clustering."
   ]
  },
  {
   "cell_type": "code",
   "execution_count": null,
   "id": "0c101190-5cf4-4aed-b048-da88de2585ab",
   "metadata": {},
   "outputs": [],
   "source": []
  },
  {
   "cell_type": "code",
   "execution_count": null,
   "id": "bd049674-5215-4bed-9715-782e51728ac3",
   "metadata": {},
   "outputs": [],
   "source": [
    "Q3. **How do you determine the distance between two clusters in hierarchical clustering, and what are the common distance metrics used?**\n",
    "Ans - The distance between two clusters in hierarchical clustering is determined based on the distance between their constituent data points.\n",
    "    Common distance metrics used include:\n",
    "     1. Euclidean distance\n",
    "     2. Manhattan distance\n",
    "     3. Cosine similarity\n",
    "     4. Correlation distance\n",
    "     5. Mahalanobis distance"
   ]
  },
  {
   "cell_type": "code",
   "execution_count": null,
   "id": "d2d4da52-bc4c-4e58-b2bd-4f88a01693a0",
   "metadata": {},
   "outputs": [],
   "source": []
  },
  {
   "cell_type": "code",
   "execution_count": null,
   "id": "4b222aa1-6cb7-470a-8c16-e7be89bac8ea",
   "metadata": {},
   "outputs": [],
   "source": [
    "Q4. **How do you determine the optimal number of clusters in hierarchical clustering, and what are some common methods used for this purpose?**\n",
    "Ans - The optimal number of clusters in hierarchical clustering can be determined by visually inspecting dendrograms or by using methods like:\n",
    "     1. **Cutting the dendrogram:** By selecting a threshold distance to cut the dendrogram, resulting in the desired number of clusters.\n",
    "     2. **Gap statistics:** Compares within-cluster dispersion with that expected under a null reference distribution.\n",
    "     3. **Silhouette score:** Measures how similar an object is to its own cluster compared to other clusters."
   ]
  },
  {
   "cell_type": "code",
   "execution_count": null,
   "id": "ced02c5e-38e9-4e41-8668-16c5abb64ec4",
   "metadata": {},
   "outputs": [],
   "source": []
  },
  {
   "cell_type": "code",
   "execution_count": null,
   "id": "a74e8d66-b8e4-4cbe-8800-08384e5472af",
   "metadata": {},
   "outputs": [],
   "source": [
    "Q5. **What are dendrograms in hierarchical clustering, and how are they useful in analyzing the results?**\n",
    "Ans -\n",
    "   - Dendrograms are tree-like diagrams that illustrate the arrangement of the clusters produced by hierarchical clustering.\n",
    "   - They are useful in analyzing the results as they visually represent the merging process and provide insights into the relationships between \n",
    "     clusters."
   ]
  },
  {
   "cell_type": "code",
   "execution_count": null,
   "id": "a99bc740-a57e-48f5-a88e-69ffe221b835",
   "metadata": {},
   "outputs": [],
   "source": []
  },
  {
   "cell_type": "code",
   "execution_count": null,
   "id": "dc992210-6730-412d-a585-e430a9669c4c",
   "metadata": {},
   "outputs": [],
   "source": [
    "Q6. **Can hierarchical clustering be used for both numerical and categorical data? If yes, how are the distance metrics different for each type of data?**\n",
    "Ans -\n",
    "   - Yes, hierarchical clustering can be used for both numerical and categorical data.\n",
    "   - For numerical data, distance metrics like Euclidean distance or Manhattan distance are commonly used.\n",
    "   - For categorical data, different distance metrics such as Jaccard distance or Gower distance, which are suitable for binary or mixed data types, are used."
   ]
  },
  {
   "cell_type": "code",
   "execution_count": null,
   "id": "a95676d2-1e77-44c3-8a32-eac99d36525c",
   "metadata": {},
   "outputs": [],
   "source": []
  },
  {
   "cell_type": "code",
   "execution_count": null,
   "id": "c384f869-ae9f-4a3d-9061-5d83df613061",
   "metadata": {},
   "outputs": [],
   "source": [
    "Q7. **How can you use hierarchical clustering to identify outliers or anomalies in your data?**\n",
    "Ans -Hierarchical clustering can be used to identify outliers by observing clusters with very few data points or clusters that are distant \n",
    "    from the main cluster. Points that do not fit well into any cluster or are far from any cluster centroid can be considered outliers."
   ]
  }
 ],
 "metadata": {
  "kernelspec": {
   "display_name": "Python 3 (ipykernel)",
   "language": "python",
   "name": "python3"
  },
  "language_info": {
   "codemirror_mode": {
    "name": "ipython",
    "version": 3
   },
   "file_extension": ".py",
   "mimetype": "text/x-python",
   "name": "python",
   "nbconvert_exporter": "python",
   "pygments_lexer": "ipython3",
   "version": "3.10.8"
  }
 },
 "nbformat": 4,
 "nbformat_minor": 5
}
