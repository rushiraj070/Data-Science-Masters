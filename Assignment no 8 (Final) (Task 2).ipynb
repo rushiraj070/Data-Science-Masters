{
 "cells": [
  {
   "cell_type": "markdown",
   "id": "278a0dc2-d5a7-403a-9a99-2304d71d07e1",
   "metadata": {},
   "source": [
    "# Assignment no 8 (Python task 2)"
   ]
  },
  {
   "cell_type": "code",
   "execution_count": 1,
   "id": "dbc539e4-4f60-470e-b8ae-279e29486371",
   "metadata": {},
   "outputs": [],
   "source": [
    "'''\n",
    "Q1. You are writing code for a company. The requirement of the company is that you create a python \n",
    "function that will check whether the password entered by the user is correct or not. The function should \n",
    "take the password as input and return the string “Valid Password” if the entered password follows the \n",
    "below-given password guidelines else it should return “Invalid Password”.\n",
    "\n",
    "\n",
    "Note: 1. The Password should contain at least two uppercase letters and at least two lowercase letters.\n",
    "      2. The Password should contain at least a number and three special characters.\n",
    "      3. The length of the password should be 10 characters long.\n",
    "'''\n",
    "\n",
    "def password_check():\n",
    "    \n",
    "    password = input(\"Enter your password:\")\n",
    "    \n",
    "    capital_alphabets= \"ABCDEFGHIJKLMNOPQRSTUVWXYZ\"\n",
    "    small_alphabets= \"abcdefghijklmnopqrstuvwxyz\"\n",
    "    special_chars= \"$@_.#*&^\"\n",
    "    numbers = \"0123456789\"\n",
    "    \n",
    "    upper = 0\n",
    "    lower = 0 \n",
    "    num = 0 \n",
    "    spec_char = 0\n",
    "    \n",
    "    \n",
    "    if len(password) == 10:\n",
    "    \n",
    "        for i in password:\n",
    "            \n",
    "            if (i in capital_alphabets):\n",
    "                upper+=1 \n",
    "                \n",
    "            if (i in small_alphabets):\n",
    "                lower+=1 \n",
    "\n",
    "            if (i in special_chars):\n",
    "                spec_char+=1 \n",
    "\n",
    "            if(i in numbers):\n",
    "                num+=1\n",
    "                \n",
    "            if upper>=2 and lower>=2 and spec_char>=3 and num>=1:\n",
    "                upper+lower+spec_char+num ==len(password)\n",
    "        \n",
    "        print(\"Valid Password\")\n",
    "    \n",
    "    else:\n",
    "        print(\"Invalid Password\")       "
   ]
  },
  {
   "cell_type": "code",
   "execution_count": 2,
   "id": "eac128db-5bf2-47da-a02f-522cf9c0a84a",
   "metadata": {},
   "outputs": [
    {
     "name": "stdin",
     "output_type": "stream",
     "text": [
      "Enter your password: DAta0@#$11\n"
     ]
    },
    {
     "name": "stdout",
     "output_type": "stream",
     "text": [
      "Valid Password\n"
     ]
    }
   ],
   "source": [
    "password_check()"
   ]
  },
  {
   "cell_type": "code",
   "execution_count": 24,
   "id": "d5bb818c-7baf-4153-8181-a9a7299e6921",
   "metadata": {},
   "outputs": [
    {
     "data": {
      "text/plain": [
       "'Q2. Solve the below-given questions using at least one of the following:\\xa0\\n\\n1. Lambda function\\n2. Filter function\\n3. Map function\\n4. List Comprehension\\n- Check if the string starts with a particular letter.\\n- Check if the string is numeric.\\n- Sort a list of tuples having fruit names and their quantity. [(\"mango\",99),(\"orange\",80), (\"grapes\", 1000)-\\n- Find the squares of numbers from 1 to 10Y\\n- Find the cube root of numbers from 1 to 10Y\\n- Check if a given number is evenY\\n- Filter odd numbers from the given list.\\n    [1,2,3,4,5,6,7,8,9,10]\\n    \\n- Sort a list of integers into positive and negative integers lists.\\n    [1,2,3,4,5,6,-1,-2,-3,-4,-5,0]\\n \\n '"
      ]
     },
     "execution_count": 24,
     "metadata": {},
     "output_type": "execute_result"
    }
   ],
   "source": [
    "'''Q2. Solve the below-given questions using at least one of the following: \n",
    "\n",
    "1. Lambda function\n",
    "2. Filter function\n",
    "3. Map function\n",
    "4. List Comprehension\n",
    "- Check if the string starts with a particular letter.\n",
    "- Check if the string is numeric.\n",
    "- Sort a list of tuples having fruit names and their quantity. [(\"mango\",99),(\"orange\",80), (\"grapes\", 1000)-\n",
    "- Find the squares of numbers from 1 to 10Y\n",
    "- Find the cube root of numbers from 1 to 10Y\n",
    "- Check if a given number is evenY\n",
    "- Filter odd numbers from the given list.\n",
    "    [1,2,3,4,5,6,7,8,9,10]\n",
    "    \n",
    "- Sort a list of integers into positive and negative integers lists.\n",
    "    [1,2,3,4,5,6,-1,-2,-3,-4,-5,0]\n",
    " \n",
    " '''"
   ]
  },
  {
   "cell_type": "code",
   "execution_count": 25,
   "id": "4254558a-3e9b-42fc-b7b7-847aa4b4174f",
   "metadata": {},
   "outputs": [],
   "source": [
    "# 1. Check if the string starts with a particular letter.\n",
    "letter_check = lambda x: True if x.startswith('J') else False"
   ]
  },
  {
   "cell_type": "code",
   "execution_count": 26,
   "id": "8b95e293-ac14-4a51-8d9a-230bdee73b57",
   "metadata": {},
   "outputs": [
    {
     "data": {
      "text/plain": [
       "True"
      ]
     },
     "execution_count": 26,
     "metadata": {},
     "output_type": "execute_result"
    }
   ],
   "source": [
    "letter_check(\"Jared\")"
   ]
  },
  {
   "cell_type": "code",
   "execution_count": 27,
   "id": "698432b7-454a-4828-ad0c-01586bfff4ca",
   "metadata": {},
   "outputs": [
    {
     "data": {
      "text/plain": [
       "False"
      ]
     },
     "execution_count": 27,
     "metadata": {},
     "output_type": "execute_result"
    }
   ],
   "source": [
    "letter_check(\"R\")"
   ]
  },
  {
   "cell_type": "code",
   "execution_count": 28,
   "id": "155099dd-d93f-432f-87df-713cfb3a7ede",
   "metadata": {},
   "outputs": [],
   "source": [
    "# 2. Check if the string is numeric.\n",
    "check = lambda x: True if x.isnumeric() else False"
   ]
  },
  {
   "cell_type": "code",
   "execution_count": 29,
   "id": "93132769-6616-4714-a92e-4d27f44350e4",
   "metadata": {},
   "outputs": [
    {
     "data": {
      "text/plain": [
       "True"
      ]
     },
     "execution_count": 29,
     "metadata": {},
     "output_type": "execute_result"
    }
   ],
   "source": [
    "check(\"\\u0030\")"
   ]
  },
  {
   "cell_type": "code",
   "execution_count": 30,
   "id": "fd292c46-6871-49a6-85aa-1b1c27f147a6",
   "metadata": {},
   "outputs": [
    {
     "data": {
      "text/plain": [
       "True"
      ]
     },
     "execution_count": 30,
     "metadata": {},
     "output_type": "execute_result"
    }
   ],
   "source": [
    "check(\"7\")"
   ]
  },
  {
   "cell_type": "code",
   "execution_count": 31,
   "id": "26023f7a-7c50-44c6-82cb-17cb08d7b0d0",
   "metadata": {},
   "outputs": [
    {
     "data": {
      "text/plain": [
       "False"
      ]
     },
     "execution_count": 31,
     "metadata": {},
     "output_type": "execute_result"
    }
   ],
   "source": [
    "check(\"apple\")"
   ]
  },
  {
   "cell_type": "code",
   "execution_count": 32,
   "id": "4b720734-efa2-4464-9f5e-f1832676de63",
   "metadata": {},
   "outputs": [],
   "source": [
    "# 3. Sort a list of tuples having fruit names and their quantity. \n",
    "\n",
    "fruits = [(\"mango\",99),(\"orange\",80), (\"grapes\", 1000)]\n",
    "\n",
    "fruit_name = [j for i in fruits for j in i if type(j)==str]\n",
    "fruit_quantity = [j for i in fruits for j in i if type(j)==int]"
   ]
  },
  {
   "cell_type": "code",
   "execution_count": 33,
   "id": "c4500c91-555e-49fa-be83-7b385d0b73ee",
   "metadata": {},
   "outputs": [
    {
     "data": {
      "text/plain": [
       "[99, 80, 1000]"
      ]
     },
     "execution_count": 33,
     "metadata": {},
     "output_type": "execute_result"
    }
   ],
   "source": [
    "fruit_quantity"
   ]
  },
  {
   "cell_type": "code",
   "execution_count": 34,
   "id": "190860ef-8388-4c42-a42a-9cec7c8d38a7",
   "metadata": {},
   "outputs": [
    {
     "data": {
      "text/plain": [
       "[1, 4, 9, 16, 25, 36, 49, 64, 81, 100]"
      ]
     },
     "execution_count": 34,
     "metadata": {},
     "output_type": "execute_result"
    }
   ],
   "source": [
    "# 4. Find the squares of numbers from 1 to 10.\n",
    "\n",
    "num = [1, 2, 3, 4, 5, 6, 7, 8, 9, 10]\n",
    "\n",
    "squares = lambda x: x**2\n",
    "\n",
    "list(map(squares,num))\n"
   ]
  },
  {
   "cell_type": "code",
   "execution_count": 35,
   "id": "d173fbea-2d32-4480-be50-798a39e69121",
   "metadata": {},
   "outputs": [
    {
     "data": {
      "text/plain": [
       "[1.0,\n",
       " 1.2599210498948732,\n",
       " 1.4422495703074083,\n",
       " 1.5874010519681994,\n",
       " 1.7099759466766968,\n",
       " 1.8171205928321397,\n",
       " 1.912931182772389,\n",
       " 2.0,\n",
       " 2.080083823051904,\n",
       " 2.154434690031884]"
      ]
     },
     "execution_count": 35,
     "metadata": {},
     "output_type": "execute_result"
    }
   ],
   "source": [
    "# 5. Find the cube root of numbers from 1 to 10.\n",
    "\n",
    "num = [1, 2, 3, 4, 5, 6, 7, 8, 9, 10]\n",
    "\n",
    "cube_root = lambda x: x**(1/3)\n",
    "\n",
    "list(map(cube_root,num))"
   ]
  },
  {
   "cell_type": "code",
   "execution_count": 36,
   "id": "7031b735-3ef1-4cc7-8b1a-9b57c2da4e8f",
   "metadata": {},
   "outputs": [],
   "source": [
    "# 6 Check if a given number is even.\n",
    "even = lambda x : x%2 == 0"
   ]
  },
  {
   "cell_type": "code",
   "execution_count": 37,
   "id": "449bda37-60b5-45f7-a975-b8a36fceffb4",
   "metadata": {},
   "outputs": [
    {
     "data": {
      "text/plain": [
       "True"
      ]
     },
     "execution_count": 37,
     "metadata": {},
     "output_type": "execute_result"
    }
   ],
   "source": [
    "even(222)"
   ]
  },
  {
   "cell_type": "code",
   "execution_count": 38,
   "id": "6037074a-4376-4a70-8ce8-1a05f04f5f95",
   "metadata": {},
   "outputs": [
    {
     "data": {
      "text/plain": [
       "False"
      ]
     },
     "execution_count": 38,
     "metadata": {},
     "output_type": "execute_result"
    }
   ],
   "source": [
    "even(3)"
   ]
  },
  {
   "cell_type": "code",
   "execution_count": 39,
   "id": "a973d1b2-6146-4cd1-aca9-c4aebc0089b6",
   "metadata": {},
   "outputs": [],
   "source": [
    "# 7. Filter odd numbers from the given list.\n",
    "num_list =  [1,2,3,4,5,6,7,8,9,10]\n",
    "    \n",
    "even_num = lambda x: x%2 ==0\n",
    "odd_num = lambda x: x%2 !=0"
   ]
  },
  {
   "cell_type": "code",
   "execution_count": 40,
   "id": "05c044f4-8f85-4a25-8a54-9f306fa2917b",
   "metadata": {},
   "outputs": [
    {
     "data": {
      "text/plain": [
       "[2, 4, 6, 8, 10]"
      ]
     },
     "execution_count": 40,
     "metadata": {},
     "output_type": "execute_result"
    }
   ],
   "source": [
    "list(filter(even_num,num_list))"
   ]
  },
  {
   "cell_type": "code",
   "execution_count": 41,
   "id": "ef5359e4-a127-4519-a650-b0cd790bc96b",
   "metadata": {},
   "outputs": [
    {
     "data": {
      "text/plain": [
       "[1, 3, 5, 7, 9]"
      ]
     },
     "execution_count": 41,
     "metadata": {},
     "output_type": "execute_result"
    }
   ],
   "source": [
    "list(filter(odd_num,num_list))"
   ]
  },
  {
   "cell_type": "code",
   "execution_count": 42,
   "id": "e9f24bf1-4a0a-40a9-b166-f38849cc6c7e",
   "metadata": {},
   "outputs": [],
   "source": [
    "# 8. Sort a list of integers into positive and negative integers lists.\n",
    "numbers =  [1,2,3,4,5,6,-1,-2,-3,-4,-5,0]\n",
    "\n",
    "pos_num = lambda x: x > 0\n",
    "neg_num = lambda x: x < 0"
   ]
  },
  {
   "cell_type": "code",
   "execution_count": 43,
   "id": "49080893-3c72-451c-8a9d-32c543f53de1",
   "metadata": {},
   "outputs": [
    {
     "data": {
      "text/plain": [
       "[1, 2, 3, 4, 5, 6]"
      ]
     },
     "execution_count": 43,
     "metadata": {},
     "output_type": "execute_result"
    }
   ],
   "source": [
    "list(filter(pos_num,numbers))"
   ]
  },
  {
   "cell_type": "code",
   "execution_count": 44,
   "id": "5624b7d0-c725-4e28-9048-5bfe53b55c72",
   "metadata": {},
   "outputs": [
    {
     "data": {
      "text/plain": [
       "[-1, -2, -3, -4, -5]"
      ]
     },
     "execution_count": 44,
     "metadata": {},
     "output_type": "execute_result"
    }
   ],
   "source": [
    "list(filter(neg_num,numbers))"
   ]
  },
  {
   "cell_type": "code",
   "execution_count": null,
   "id": "7771368d-2336-4fa9-82f0-ca9b1c9381b5",
   "metadata": {},
   "outputs": [],
   "source": []
  }
 ],
 "metadata": {
  "kernelspec": {
   "display_name": "Python 3 (ipykernel)",
   "language": "python",
   "name": "python3"
  },
  "language_info": {
   "codemirror_mode": {
    "name": "ipython",
    "version": 3
   },
   "file_extension": ".py",
   "mimetype": "text/x-python",
   "name": "python",
   "nbconvert_exporter": "python",
   "pygments_lexer": "ipython3",
   "version": "3.10.8"
  }
 },
 "nbformat": 4,
 "nbformat_minor": 5
}
