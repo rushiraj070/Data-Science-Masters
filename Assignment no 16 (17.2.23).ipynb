{
 "cells": [
  {
   "cell_type": "markdown",
   "id": "2a125bea",
   "metadata": {},
   "source": [
    "# Assignment no 16 on MongoDB"
   ]
  },
  {
   "cell_type": "code",
   "execution_count": null,
   "id": "0ec38de0",
   "metadata": {},
   "outputs": [],
   "source": [
    "\"\"\"\n",
    "\n",
    "    Q1. What is MongoDB? Explain non-relational databases in short. In which scenarios it is preferred to \n",
    "use MongoDB over SQL databases?\n",
    "\n",
    "Ans - MongoDB is a document database with the scalability and flexibility that you want with the \n",
    "     querying and indexing that you need.\n",
    "      It is also a data platform for developers that provides the services and tools necessary to \n",
    "     build distributed applications fast, at the performance and scale users demand.\n",
    "     \n",
    "     A non-relational database is a database that does not use the tabular schema of rows and columns \n",
    "     found in most traditional database systems. Instead, non-relational databases use a storage model\n",
    "     that is optimized for the specific requirements of the type of data being stored.\n",
    "     \n",
    "     In comparison to the SQL server, MongoDB is faster and more scalable. While the SQL server \n",
    "     supports JOIN and Global transactions, MongoDB does not. The MS SQL server does not accommodate \n",
    "     large amounts of data, however MongoDB does. NoSQL databases like MongoDB are a good choice when \n",
    "     your data is document-centric and doesn't fit well into the schema of a relational database, when\n",
    "     you need to accommodate massive scale, when you are rapidly prototyping, and a few other use \n",
    "     cases.\n",
    "\n",
    "\n",
    "\n",
    "\"\"\""
   ]
  },
  {
   "cell_type": "code",
   "execution_count": null,
   "id": "6e535636",
   "metadata": {},
   "outputs": [],
   "source": [
    "\"\"\"Q2. State and Explain the features of MongoDB.\n",
    "\n",
    "Ans - \n",
    "    MongoDB is a scalable, flexible NoSQL document database platform designed to overcome the \n",
    "    relational databases approach and the limitations of other NoSQL solutions. MongoDB is well known\n",
    "    for its horizontal scaling and load balancing capabilities, which has given application developers\n",
    "    an unprecedented level of flexibility and scalability.\n",
    "    \n",
    "    MongoDB’s top five technical features:\n",
    "    \n",
    "    1. Ad-hoc queries for optimized, real-time analytics designing the schema of a database, it is \n",
    "    impossible to know in advance all the queries that will be performed by end users. An ad-hoc \n",
    "    query is a short-lived command whose value depends on a variable. Each time an ad hoc query is \n",
    "    executed, the result may be different, depending on the variables in question.\n",
    "        Optimizing the way in which ad-hoc queries are handled can make a significant difference at scale,\n",
    "    when thousands to millions of variables may need to be considered. This is why MongoDB, a \n",
    "    document-oriented, flexible schema database, stands apart as the cloud database platform of choice\n",
    "    for enterprise applications that require real-time analytics. With ad-hoc query support that \n",
    "    allows developers to update ad-hoc queries in real time, the improvement in performance can be \n",
    "    game-changing.\n",
    "        MongoDB supports field queries, range queries, and regular expression searches. Queries can \n",
    "    return specific fields and also account for user-defined functions. This is made possible because \n",
    "    MongoDB indexes BSON documents and uses the MongoDB Query Language (MQL).\n",
    "    \n",
    "    2. Indexing appropriately for better query executions \n",
    "        In our experience, the number one issue that many technical support teams fail to address \n",
    "    with their users is indexing. Done right, indexes are intended to improve search speed and \n",
    "    performance. A failure to properly define appropriate indices can and usually will lead to a \n",
    "    myriad of accessibility issues, such as problems with query execution and load balancing.\n",
    "        Without the right indices, a database is forced to scan documents one by one to identify the \n",
    "    ones that match the query statement. But if an appropriate index exists for each query, user \n",
    "    requests can be optimally executed by the server. MongoDB offers a broad range of indices and \n",
    "    features with language-specific sort orders that support complex access patterns to datasets.\n",
    "        Notably, MongoDB indices can be created on demand to accommodate real-time, ever-changing \n",
    "    query patterns and application requirements. They can also be declared on any field within any of \n",
    "    your documents, including those nested within arrays.\n",
    "    \n",
    "    3. Replication for better data availability and stability \n",
    "            When your data only resides in a single database, it is exposed to multiple potential \n",
    "        points of failure, such as a server crash, service interruptions, or even good old hardware \n",
    "        failure. Any of these events would make accessing your data nearly impossible.\n",
    "            Replication allows you to sidestep these vulnerabilities by deploying multiple servers for\n",
    "        disaster recovery and backup. Horizontal scaling across multiple servers that house the same \n",
    "        data (or shards of that same data) means greatly increased data availability and stability. \n",
    "        Naturally, replication also helps with load balancing. When multiple users access the same, \n",
    "        the load can be distributed evenly across servers.\n",
    "            In MongoDB, replica sets are employed for this purpose. A primary server or node accepts \n",
    "        all write operations and applies those same operations across secondary servers, replicating \n",
    "        the data. If the primary server should ever experience a critical failure, any one of the \n",
    "        secondary servers can be elected to become the new primary node. And if the former primary node \n",
    "        comes back online, it does so as a secondary server for the new primary node.\n",
    "    \n",
    "    4. Sharding\n",
    "        When dealing with particularly large datasets, sharding—the process of splitting larger \n",
    "    datasets across multiple distributed collections, or “shards”—helps the database distribute \n",
    "    and better execute what might otherwise be problematic and cumbersome queries. Without \n",
    "    sharding, scaling a growing web application with millions of daily users is nearly impossible.\n",
    "        Like replication via replication sets, sharding in MongoDB allows for much greater horizontal \n",
    "    scalability. Horizontal scaling means that each shard in every cluster houses a portion of the \n",
    "    dataset in question, essentially functioning as a separate database. The collection of distributed\n",
    "    server shards forms a single, comprehensive database much better suited to handling the needs of \n",
    "    a popular, growing application with zero downtime.\n",
    "        All operations in a sharding environment are handled through a lightweight process called \n",
    "    mongos. Mongos can direct queries to the correct shard based on the shard key. Naturally, proper \n",
    "    sharding also contributes significantly to better load balancing.\n",
    "    \n",
    "    5. Load balancing\n",
    "        At the end of the day, optimal load balancing remains one of the holy grails of large-scale \n",
    "    database management for growing enterprise applications. Properly distributing millions of client \n",
    "    requests to hundreds or thousands of servers can lead to a noticeable (and much appreciated) \n",
    "    difference in performance.\n",
    "        Fortunately, via horizontal scaling features like replication and sharding, MongoDB supports \n",
    "    large-scale load balancing. The platform can handle multiple concurrent read and write requests \n",
    "    for the same data with best-in-class concurrency control and locking protocols that ensure data \n",
    "    consistency. There’s no need to add an external load balancer—MongoDB ensures that each and every \n",
    "    user has a consistent view and quality experience with the data they need to access.\n",
    "    \n",
    "\"\"\"\n"
   ]
  },
  {
   "cell_type": "code",
   "execution_count": 7,
   "id": "46da252e",
   "metadata": {},
   "outputs": [],
   "source": [
    "# Q3. Write a code to connect MongoDB to Python. Also, create a database and a collection in MongoDB.\n",
    "\n",
    "import pymongo"
   ]
  },
  {
   "cell_type": "code",
   "execution_count": 8,
   "id": "71fe52fc",
   "metadata": {},
   "outputs": [
    {
     "data": {
      "text/plain": [
       "MongoClient(host=['localhost:27017'], document_class=dict, tz_aware=False, connect=True)"
      ]
     },
     "execution_count": 8,
     "metadata": {},
     "output_type": "execute_result"
    }
   ],
   "source": [
    "client = pymongo.MongoClient(\"mongodb://localhost:27017/\")\n",
    "client"
   ]
  },
  {
   "cell_type": "code",
   "execution_count": 9,
   "id": "eb86a4c5",
   "metadata": {},
   "outputs": [
    {
     "data": {
      "text/plain": [
       "Database(MongoClient(host=['localhost:27017'], document_class=dict, tz_aware=False, connect=True), 'Assignment')"
      ]
     },
     "execution_count": 9,
     "metadata": {},
     "output_type": "execute_result"
    }
   ],
   "source": [
    "database = client[\"Assignment\"]\n",
    "database"
   ]
  },
  {
   "cell_type": "code",
   "execution_count": 10,
   "id": "fceac865",
   "metadata": {},
   "outputs": [
    {
     "data": {
      "text/plain": [
       "Collection(Database(MongoClient(host=['localhost:27017'], document_class=dict, tz_aware=False, connect=True), 'Assignment'), 'Question')"
      ]
     },
     "execution_count": 10,
     "metadata": {},
     "output_type": "execute_result"
    }
   ],
   "source": [
    "collection = database[\"Question\"]\n",
    "collection"
   ]
  },
  {
   "cell_type": "code",
   "execution_count": null,
   "id": "4074115a",
   "metadata": {},
   "outputs": [],
   "source": []
  },
  {
   "cell_type": "code",
   "execution_count": null,
   "id": "e7113ae0",
   "metadata": {},
   "outputs": [],
   "source": [
    "\"\"\"Q4. Using the database and the collection created in question number 3, write a code to insert one record, \n",
    "and insert many records. Use the find() and find_one() methods to print the inserted record.\n",
    "\"\"\"\n"
   ]
  },
  {
   "cell_type": "code",
   "execution_count": 13,
   "id": "dd812e87",
   "metadata": {},
   "outputs": [],
   "source": [
    "record1 = {\"First\":\"This is my first record.\"}"
   ]
  },
  {
   "cell_type": "code",
   "execution_count": 14,
   "id": "90bf9b59",
   "metadata": {},
   "outputs": [
    {
     "data": {
      "text/plain": [
       "<pymongo.results.InsertOneResult at 0x1cd43422fd0>"
      ]
     },
     "execution_count": 14,
     "metadata": {},
     "output_type": "execute_result"
    }
   ],
   "source": [
    "collection.insert_one(record1)"
   ]
  },
  {
   "cell_type": "code",
   "execution_count": 15,
   "id": "f4edd1f8",
   "metadata": {},
   "outputs": [],
   "source": [
    "record2 = [{\"Second\":\"This is my second record.\"},{\"Third\":\"This is my third record.\"}]"
   ]
  },
  {
   "cell_type": "code",
   "execution_count": 17,
   "id": "2f60884f",
   "metadata": {},
   "outputs": [
    {
     "data": {
      "text/plain": [
       "<pymongo.results.InsertManyResult at 0x1cd4193a9d0>"
      ]
     },
     "execution_count": 17,
     "metadata": {},
     "output_type": "execute_result"
    }
   ],
   "source": [
    "collection.insert_many(record2)"
   ]
  },
  {
   "cell_type": "code",
   "execution_count": null,
   "id": "aa5df305",
   "metadata": {},
   "outputs": [],
   "source": [
    "\"\"\"Q5. Explain how you can use the find() method to query the MongoDB database. Write a simple code to \n",
    "demonstrate this.\n",
    "\n",
    "Ans - find() method is used to find any document,record or element with in document.\n",
    "\n",
    "    for i in collection.find():\n",
    "    print(i)\n",
    "    \n",
    "\"\"\"\""
   ]
  },
  {
   "cell_type": "code",
   "execution_count": null,
   "id": "3c1a4a9e",
   "metadata": {},
   "outputs": [],
   "source": [
    "\"\"\"Q6. Explain the sort() method. Give an example to demonstrate sorting in MongoDB.\n",
    "\n",
    "Ans - Using the sort() method will increase the readability of a query, which leads to a better understanding of a given dataset.\n",
    "    Not only that, sorted data will be used by developers to write more complex algorithms.\n",
    "        The sort() method consists of two basic building blocks. These building blocks are fields to be sorted and the sort \n",
    "    order.\n",
    "        The sorting order in MongoDB is defined by either a one (1) or a minus (-1). Here the positive one represents the \n",
    "        ascending order, while the negative one represents the descending order.\n",
    "    \n",
    "    db.collection_name.find().sort({field_name: sort order})\n",
    "    \n",
    "\"\"\""
   ]
  },
  {
   "cell_type": "code",
   "execution_count": null,
   "id": "6c6c7b3c",
   "metadata": {},
   "outputs": [],
   "source": [
    "\"\"\"Q7. Explain why delete_one(), delete_many(), and drop() is used.\n",
    "\n",
    "Ans - db.collection.deleteOne() deletes the first document that matches the filter. Use a field that is part of a unique index \n",
    "    such as _id for precise deletions.\n",
    "    \n",
    "      db.collection.deleteMany() deletes documents one at a time. If the primary node fails during a db.collection.deleteMany()\n",
    "    operation, documents that were not yet deleted from secondary nodes are not deleted from the collection.\n",
    "\n",
    "     db.collection.drop() method is used to drop a collection from a database. It completely removes a collection from the \n",
    "     database and does not leave any indexes associated with the dropped collections.\n",
    "\"\"\""
   ]
  }
 ],
 "metadata": {
  "kernelspec": {
   "display_name": "Python 3 (ipykernel)",
   "language": "python",
   "name": "python3"
  },
  "language_info": {
   "codemirror_mode": {
    "name": "ipython",
    "version": 3
   },
   "file_extension": ".py",
   "mimetype": "text/x-python",
   "name": "python",
   "nbconvert_exporter": "python",
   "pygments_lexer": "ipython3",
   "version": "3.8.16"
  }
 },
 "nbformat": 4,
 "nbformat_minor": 5
}
