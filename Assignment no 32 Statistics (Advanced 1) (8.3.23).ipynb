{
 "cells": [
  {
   "cell_type": "markdown",
   "id": "f130a188-2c4b-427b-9dc4-4f5b74add48e",
   "metadata": {},
   "source": [
    "# Assignment No 32"
   ]
  },
  {
   "cell_type": "markdown",
   "id": "33769e77-d531-469a-9e10-3116bfb1d4b9",
   "metadata": {},
   "source": [
    "### Statistics (Advanced 1)"
   ]
  },
  {
   "cell_type": "code",
   "execution_count": 25,
   "id": "fa24f320-2f71-42c7-a64e-75f277b5ddeb",
   "metadata": {},
   "outputs": [],
   "source": [
    "import numpy as np\n",
    "import scipy.stats as stat\n",
    "import matplotlib.pyplot as plt"
   ]
  },
  {
   "cell_type": "code",
   "execution_count": null,
   "id": "1b3b0772-55d1-40b4-973b-8f643af7c6f6",
   "metadata": {},
   "outputs": [],
   "source": [
    "Q1. What is the Probability density function?\n",
    "\n",
    "Ans - The Probability Density Function (PDF) defines the probability function representing the density of a continuous \n",
    "      random variable lying between a specific range of values. In other words, the probability density function produces\n",
    "      the likelihood of values of the continuous random variable. Sometimes it is also called a probability distribution \n",
    "      function or just a probability function."
   ]
  },
  {
   "cell_type": "code",
   "execution_count": null,
   "id": "db564a9d-89d5-4fb3-aec7-13b06ebf6c92",
   "metadata": {},
   "outputs": [],
   "source": [
    "Q2. What are the types of Probability distribution?\n",
    "\n",
    "Ans - There are two types of probability distributions:\n",
    "            1. Discrete probability distributions - \n",
    "                    A discrete probability distribution is a probability distribution of a categorical or discrete variable. \n",
    "                Discrete probability distributions only include the probabilities of values that are possible. In other\n",
    "                words, a discrete probability distribution doesn’t include any values with a probability of zero. For \n",
    "                example, a probability distribution of dice rolls doesn’t include 2.5 since it’s not a possible outcome of \n",
    "                dice rolls.\n",
    "                    The probability of all possible values in a discrete probability distribution add up to one. It’s \n",
    "                certain (i.e., a probability of one) that an observation will have one of the possible values.\n",
    "                \n",
    "                    A probability mass function (PMF) is a mathematical function that describes a discrete probability \n",
    "                distribution. It gives the probability of every possible value of a variable.\n",
    "                    The probability mass function of the distribution is given by the formula:\n",
    "                               \n",
    "                                        e^(-λ) . λ^x\n",
    "                            P(X = k) = --------------\n",
    "                                             k!\n",
    "            \n",
    "                        Where:\n",
    "                                P(X = k) is the probability\n",
    "                                λ is the mean number λ (λ = 1,2,3,4.... etc )\n",
    "                                e is Euler’s constant (approximately 2.718)\n",
    "            \n",
    "                \n",
    "                e.g. Binomial Distribution, Discrete uniform, Poisson Distribution\n",
    "            \n",
    "            2. Continuous probability distributions\n",
    "                    A continuous probability distribution is the probability distribution of a continuous variable.\n",
    "                    A continuous variable can have any value between its lowest and highest values. Therefore, continuous \n",
    "                probability distributions include every number in the variable’s range.\n",
    "                    The probability that a continuous variable will have any specific value is so infinitesimally small \n",
    "                that it’s considered to have a probability of zero. However, the probability that a value will fall within\n",
    "                a certain interval of values within its range is greater than zero.\n",
    "\n",
    "                A probability density function (PDF) is a mathematical function that describes a continuous probability \n",
    "                distribution. It provides the probability density of each value of a variable, which can be greater than\n",
    "                one.\n",
    "\n",
    "                   A cumulative distribution function is another type of function that describes a continuous probability \n",
    "                distribution.\n",
    "\n",
    "                The probability density function of the normal distribution is given by the formula:\n",
    "                                               2\n",
    "                                  -(1/2)(x-µ/σ)\n",
    "                              1  e\n",
    "                    f(x) =  ------  \n",
    "                            σ√(2π)\n",
    "                    Where:\n",
    "                    f(x) is the probability density\n",
    "                    µ is the mean\n",
    "                    σ is the standard deviation\n",
    "\n",
    "\n",
    "                e.g. Normal distribution, Continuous uniform, Log-normal, Exponential"
   ]
  },
  {
   "cell_type": "code",
   "execution_count": 38,
   "id": "025d83da-0c2b-4ed0-9aba-19862f00414c",
   "metadata": {},
   "outputs": [],
   "source": [
    "'''Q3. Write a Python function to calculate the probability density function of a normal distribution with\n",
    "given mean and standard deviation at a given point.'''\n",
    "\n",
    "def norm_dist(x, µ , σ):\n",
    "    e_raise =(-1/2) * np.square((x-µ)/σ)\n",
    "    denom = σ * np.sqrt(2*3.142)\n",
    "    pdf = (np.exp(e_raise))/denom\n",
    "    return f\"The probability density function for given mean and standard deviation at a given point is {pdf}.\""
   ]
  },
  {
   "cell_type": "code",
   "execution_count": 39,
   "id": "1642faf4-b5b3-4ff4-a424-106e23659582",
   "metadata": {},
   "outputs": [
    {
     "data": {
      "text/plain": [
       "'The probability density function for given mean and standard deviation at a given point is 0.07364925344633934.'"
      ]
     },
     "execution_count": 39,
     "metadata": {},
     "output_type": "execute_result"
    }
   ],
   "source": [
    "norm_dist(7,5,5)"
   ]
  },
  {
   "cell_type": "code",
   "execution_count": null,
   "id": "658f95f6-e768-4dae-979a-9fce088c85bb",
   "metadata": {},
   "outputs": [],
   "source": [
    "Q4. What are the properties of Binomial distribution? Give two examples of events where binomial\n",
    "distribution can be applied.\n",
    "\n",
    "Ans - The binomial distribution is the discrete probability distribution that gives only two possible results in an \n",
    "    experiment, either Success or Failure.\n",
    "        There are two parameters n and p used here in a binomial distribution. The variable ‘n’ states the number of times \n",
    "    the experiment runs and the variable ‘p’ tells the probability of any one outcome.\n",
    "        In binomial probability distribution, the number of ‘Success’ in a sequence of n experiments, where each time a \n",
    "    question is asked for yes-no, then the boolean-valued outcome is represented either with success/yes/true/one \n",
    "    (probability p) or failure/no/false/zero (probability q = 1 − p). A single success/failure test is also called a \n",
    "    Bernoulli trial or Bernoulli experiment, and a series of outcomes is called a Bernoulli process. For n = 1, i.e. a \n",
    "    single experiment, the binomial distribution is a Bernoulli distribution. The binomial distribution is the base for the \n",
    "    famous binomial test of statistical importance.\n",
    "        Binomial Distribution Examples\n",
    "            1. Finding the quantity of raw and used materials while making a product.\n",
    "            2. Taking a survey of positive and negative reviews from the public for any specific product or place.\n",
    "            3. By using the YES/ NO survey, we can check whether the number of persons views the particular channel.\n",
    "            4. To find the number of male and female employees in an organisation.\n",
    "            5. The number of votes collected by a candidate in an election is counted based on 0 or 1 probability."
   ]
  },
  {
   "cell_type": "code",
   "execution_count": 28,
   "id": "58588f6e-3b35-4e41-bd05-12903c570c62",
   "metadata": {},
   "outputs": [],
   "source": [
    "'''Q5. Generate a random sample of size 1000 from a binomial distribution with probability of success 0.4\n",
    "and plot a histogram of the results using matplotlib.'''\n",
    "\n",
    "sample = np.random.binomial(10,0.4,1000)"
   ]
  },
  {
   "cell_type": "code",
   "execution_count": 34,
   "id": "a94825ab-6563-45b2-865e-2f27e2f9772e",
   "metadata": {},
   "outputs": [
    {
     "data": {
      "text/plain": [
       "(array([  6.,  42., 133., 207., 245., 194., 125.,  35.,  11.,   2.]),\n",
       " array([0. , 0.9, 1.8, 2.7, 3.6, 4.5, 5.4, 6.3, 7.2, 8.1, 9. ]),\n",
       " <BarContainer object of 10 artists>)"
      ]
     },
     "execution_count": 34,
     "metadata": {},
     "output_type": "execute_result"
    },
    {
     "data": {
      "image/png": "[encoded data removed]",
      "text/plain": [
       "<Figure size 640x480 with 1 Axes>"
      ]
     },
     "metadata": {},
     "output_type": "display_data"
    }
   ],
   "source": [
    "plt.hist(sample, edgecolor='black')"
   ]
  },
  {
   "cell_type": "code",
   "execution_count": 40,
   "id": "cb6e3551-e8d0-406b-ac6b-23c682a16bfb",
   "metadata": {},
   "outputs": [],
   "source": [
    "'''Q6. Write a Python function to calculate the cumulative distribution function of a Poisson distribution\n",
    "with given mean at a given point.'''\n",
    "\n",
    "def poisson_dist(k, µ):\n",
    "    from scipy.stats import poisson\n",
    "    cdf = poisson.cdf(k, µ)\n",
    "    return f\"The cumulative distribution function for given mean at a given point is {cdf}.\""
   ]
  },
  {
   "cell_type": "code",
   "execution_count": 41,
   "id": "e62b9acc-4de2-478a-9b0d-b309a086a692",
   "metadata": {},
   "outputs": [
    {
     "data": {
      "text/plain": [
       "'The cumulative distribution function for given mean at a given point is 0.17299160788207146.'"
      ]
     },
     "execution_count": 41,
     "metadata": {},
     "output_type": "execute_result"
    }
   ],
   "source": [
    "poisson_dist(4,7)"
   ]
  },
  {
   "cell_type": "code",
   "execution_count": null,
   "id": "37d00d49-f706-43a8-a0ea-9bb7d5c917fa",
   "metadata": {},
   "outputs": [],
   "source": []
  },
  {
   "cell_type": "code",
   "execution_count": null,
   "id": "590cdca6-b4d6-4a4d-91c4-9225b66d949c",
   "metadata": {},
   "outputs": [],
   "source": [
    "Q7. How Binomial distribution different from Poisson distribution?\n",
    "\n",
    "Ans - \n",
    "                        Binomial Distribution\t                             Poisson Distribution\n",
    "    1. It is biparametric, i.e. it has 2 parameters n and p.\t  1. It is uniparametric, i.e. it has only 1 parameter m.\n",
    "    2. The number of attempts are fixed.\t                      2. The number of attempts are unlimited.\n",
    "    3. The probability of success is constant.\t                  3. The probability of success is extremely small.\n",
    "    4. There are only two possible outcomes-Success or failure.\t  4. There are unlimited possible outcomes.\n",
    "    5. Mean>Variance\t                                          5. Mean=Variance"
   ]
  },
  {
   "cell_type": "code",
   "execution_count": 44,
   "id": "2fe91182-f5d4-430d-8ca8-668cf141298a",
   "metadata": {},
   "outputs": [],
   "source": [
    "'''Q8. Generate a random sample of size 1000 from a Poisson distribution with mean 5 and calculate the\n",
    "sample mean and variance.'''\n",
    "\n",
    "poi_sample = np.random.poisson(5,1000)"
   ]
  },
  {
   "cell_type": "code",
   "execution_count": 45,
   "id": "f04417f6-8648-4828-8f41-59dbd483c7e6",
   "metadata": {},
   "outputs": [
    {
     "data": {
      "text/plain": [
       "5.034"
      ]
     },
     "execution_count": 45,
     "metadata": {},
     "output_type": "execute_result"
    }
   ],
   "source": [
    "poi_sample.mean()"
   ]
  },
  {
   "cell_type": "code",
   "execution_count": 46,
   "id": "729f5040-6951-4399-843c-4b72eb61d5bb",
   "metadata": {},
   "outputs": [
    {
     "data": {
      "text/plain": [
       "4.698843999999999"
      ]
     },
     "execution_count": 46,
     "metadata": {},
     "output_type": "execute_result"
    }
   ],
   "source": [
    "poi_sample.var()"
   ]
  },
  {
   "cell_type": "code",
   "execution_count": null,
   "id": "20b30ee9-d605-4b32-83ef-a53bfeb825d2",
   "metadata": {},
   "outputs": [],
   "source": [
    "Q9. How mean and variance are related in Binomial distribution and Poisson distribution?\n",
    "\n",
    "Ans - In Binomial distribution Mean>Variance while in Poisson distribution Mean=Variance."
   ]
  },
  {
   "cell_type": "code",
   "execution_count": null,
   "id": "3f75df3f-a14b-4b04-8e1d-b9185c1c393c",
   "metadata": {},
   "outputs": [],
   "source": [
    "Q10. In normal distribution with respect to mean position, where does the least frequent data appear?\n",
    "\n",
    "Ans - In normal distribution with respect to mean position,the least frequent data appears at or after the \n",
    "    third standard deviation in the bell or symmetrical curve."
   ]
  },
  {
   "cell_type": "code",
   "execution_count": null,
   "id": "e8dc605b-8800-4672-8cce-c8f2e0012740",
   "metadata": {},
   "outputs": [],
   "source": []
  }
 ],
 "metadata": {
  "kernelspec": {
   "display_name": "Python 3 (ipykernel)",
   "language": "python",
   "name": "python3"
  },
  "language_info": {
   "codemirror_mode": {
    "name": "ipython",
    "version": 3
   },
   "file_extension": ".py",
   "mimetype": "text/x-python",
   "name": "python",
   "nbconvert_exporter": "python",
   "pygments_lexer": "ipython3",
   "version": "3.10.8"
  }
 },
 "nbformat": 4,
 "nbformat_minor": 5
}
