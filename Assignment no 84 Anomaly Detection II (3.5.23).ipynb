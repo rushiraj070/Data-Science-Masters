{
 "cells": [
  {
   "cell_type": "markdown",
   "id": "8c44604b-16fe-41a1-ab6f-65574631e845",
   "metadata": {},
   "source": [
    "# Assignment no 84 Anomaly Detection II (3.5.23)"
   ]
  },
  {
   "cell_type": "code",
   "execution_count": null,
   "id": "98ada214-fa20-4c22-bdcc-9a1597d3e22c",
   "metadata": {},
   "outputs": [],
   "source": []
  },
  {
   "cell_type": "markdown",
   "id": "adad2831-460f-4017-8a98-a3b61ceb5e8d",
   "metadata": {},
   "source": [
    "### Q1. What is the role of feature selection in anomaly detection?\n",
    "\n",
    "Ans - \n",
    "\n",
    "**Feature selection** plays a crucial role in anomaly detection by:\n",
    "- **Improving Model Accuracy**: By selecting the most relevant features, the model can more accurately distinguish between normal and anomalous data points.\n",
    "- **Reducing Dimensionality**: Helps in minimizing the computational cost and complexity, especially important for high-dimensional datasets.\n",
    "- **Enhancing Interpretability**: Simplifies the model, making it easier to interpret the results and understand the factors contributing to anomalies.\n",
    "- **Preventing Overfitting**: Reduces the risk of overfitting by eliminating irrelevant or redundant features."
   ]
  },
  {
   "cell_type": "code",
   "execution_count": null,
   "id": "d1b52d81-bf73-478a-9e29-953874e9c7d2",
   "metadata": {},
   "outputs": [],
   "source": []
  },
  {
   "cell_type": "markdown",
   "id": "59f98032-5efc-4866-9d78-18ef462af8b8",
   "metadata": {
    "tags": []
   },
   "source": [
    "### Q2. What are some common evaluation metrics for anomaly detection algorithms and how are they computed?\n",
    "\n",
    "Ans - \n",
    "\n",
    "**Common Evaluation Metrics**:\n",
    "- **Accuracy**: Measures the proportion of correctly identified anomalies and normal instances.\n",
    "  \\[ \\text{Accuracy} = \\frac{TP + TN}{TP + TN + FP + FN} \\]\n",
    "- **Precision**: Measures the proportion of true anomalies among the identified anomalies.\n",
    "  \\[ \\text{Precision} = \\frac{TP}{TP + FP} \\]\n",
    "- **Recall**: Measures the proportion of actual anomalies that were correctly identified.\n",
    "  \\[ \\text{Recall} = \\frac{TP}{TP + FN} \\]\n",
    "- **F1 Score**: The harmonic mean of precision and recall, providing a balance between the two.\n",
    "  \\[ \\text{F1 Score} = 2 \\times \\frac{\\text{Precision} \\times \\text{Recall}}{\\text{Precision} + \\text{Recall}} \\]\n",
    "- **ROC-AUC**: The area under the receiver operating characteristic curve, measuring the trade-off between true positive rate and false positive rate."
   ]
  },
  {
   "cell_type": "code",
   "execution_count": null,
   "id": "7630f9b9-7031-4ef7-b626-3d7473889496",
   "metadata": {},
   "outputs": [],
   "source": []
  },
  {
   "cell_type": "markdown",
   "id": "39f93bc5-2590-4439-9d57-611e85d2f6d5",
   "metadata": {},
   "source": [
    "\n",
    "### Q3. What is DBSCAN and how does it work for clustering?\n",
    "\n",
    "Ans - \n",
    "\n",
    "**DBSCAN (Density-Based Spatial Clustering of Applications with Noise)** is a clustering algorithm that identifies clusters based on the density of data points. It works as follows:\n",
    "- **Core Points**: Points with at least `min_samples` neighbors within `epsilon` distance.\n",
    "- **Border Points**: Points that are within `epsilon` distance of a core point but do not have enough neighbors to be core points themselves.\n",
    "- **Noise Points**: Points that are not core points or border points.\n",
    "\n",
    "**Steps**:\n",
    "1. Select a random point.\n",
    "2. Retrieve all points density-reachable from the selected point.\n",
    "3. If the selected point is a core point, a cluster is formed.\n",
    "4. Repeat the process until all points are processed."
   ]
  },
  {
   "cell_type": "code",
   "execution_count": null,
   "id": "7498d25a-d29c-4493-80ec-19cc9d85facd",
   "metadata": {},
   "outputs": [],
   "source": []
  },
  {
   "cell_type": "markdown",
   "id": "a11bcde4-eeb5-494a-8840-038b0c1811c3",
   "metadata": {},
   "source": [
    "### Q4. How does the epsilon parameter affect the performance of DBSCAN in detecting anomalies?\n",
    "\n",
    "Ans - \n",
    "\n",
    "The **epsilon (ε)** parameter defines the radius of the neighborhood around a data point. Its effect on performance includes:\n",
    "- **Smaller ε**: Leads to many small clusters and potentially many noise points, capturing more local patterns but possibly missing global structures.\n",
    "- **Larger ε**: Leads to fewer, larger clusters and fewer noise points, capturing more global patterns but possibly missing local anomalies."
   ]
  },
  {
   "cell_type": "code",
   "execution_count": null,
   "id": "42976b30-2c20-448a-a695-a53abcb61ba8",
   "metadata": {},
   "outputs": [],
   "source": []
  },
  {
   "cell_type": "markdown",
   "id": "999a35f2-b730-4a21-86af-27449511fa92",
   "metadata": {},
   "source": [
    "### Q5. What are the differences between the core, border, and noise points in DBSCAN, and how do they relate to anomaly detection?\n",
    "\n",
    "Ans - \n",
    "\n",
    "- **Core Points**: Points with at least `min_samples` neighbors within `ε`. They form the internal part of a cluster and are not considered anomalies.\n",
    "- **Border Points**: Points within `ε` distance of a core point but with fewer than `min_samples` neighbors. They are on the edge of clusters and may or may not be anomalies.\n",
    "- **Noise Points**: Points that are neither core points nor border points. These are considered anomalies."
   ]
  },
  {
   "cell_type": "code",
   "execution_count": null,
   "id": "c6e6d722-e647-40ab-8cf6-ed4963f39a35",
   "metadata": {},
   "outputs": [],
   "source": []
  },
  {
   "cell_type": "markdown",
   "id": "2462e062-67ac-4f3c-9f81-b422c8ea2999",
   "metadata": {},
   "source": [
    "### Q6. How does DBSCAN detect anomalies and what are the key parameters involved in the process?\n",
    "\n",
    "Ans - \n",
    "\n",
    "**DBSCAN** detects anomalies by identifying noise points:\n",
    "- **Key Parameters**:\n",
    "  - **epsilon (ε)**: The maximum radius of the neighborhood.\n",
    "  - **min_samples**: The minimum number of points required to form a dense region (core point).\n",
    "  \n",
    "**Detection Process**:\n",
    "- Points that do not belong to any cluster (noise points) are detected as anomalies."
   ]
  },
  {
   "cell_type": "code",
   "execution_count": null,
   "id": "69bf6efe-0d11-46ed-99ab-5acecb3454ad",
   "metadata": {},
   "outputs": [],
   "source": []
  },
  {
   "cell_type": "markdown",
   "id": "077e846b-f8c6-4bab-9f7f-ab902a3a15e3",
   "metadata": {},
   "source": [
    "### Q7. What is the make_circles package in scikit-learn used for?\n",
    "\n",
    "Ans - \n",
    "\n",
    "The `make_circles` function in scikit-learn is used for generating a large circle containing a smaller circle in 2-dimensional space. It is often used for testing and visualizing clustering algorithms.\n"
   ]
  },
  {
   "cell_type": "code",
   "execution_count": null,
   "id": "95fd6924-6646-4d08-aefc-d350cf32de6a",
   "metadata": {},
   "outputs": [],
   "source": []
  },
  {
   "cell_type": "markdown",
   "id": "c1f8a6f3-ab8b-4a5f-ae34-95f0e4a5e0dc",
   "metadata": {},
   "source": [
    "### Q8. What are local outliers and global outliers, and how do they differ from each other?\n",
    "\n",
    "Ans-\n",
    "\n",
    "- **Local Outliers**: Data points that deviate significantly from their local neighborhood.\n",
    "- **Global Outliers**: Data points that deviate significantly from the entire dataset.\n",
    "\n",
    "**Difference**:\n",
    "- Local outliers are detected by comparing a point to its nearest neighbors, while global outliers are detected by comparing a point to the overall data distribution."
   ]
  },
  {
   "cell_type": "code",
   "execution_count": null,
   "id": "27d32694-f834-472c-ae9a-e6d34b914b08",
   "metadata": {},
   "outputs": [],
   "source": []
  },
  {
   "cell_type": "markdown",
   "id": "cd9ff057-391d-4b6e-9719-bcd5edcd57ab",
   "metadata": {},
   "source": [
    "### Q9. How can local outliers be detected using the Local Outlier Factor (LOF) algorithm?\n",
    "\n",
    "Ans - \n",
    "\n",
    "The **Local Outlier Factor (LOF)** algorithm detects local outliers by:\n",
    "1. Calculating the local density deviation of a data point with respect to its neighbors.\n",
    "2. Points with a higher LOF score are considered local outliers."
   ]
  },
  {
   "cell_type": "code",
   "execution_count": null,
   "id": "130d6590-1122-4ed0-befb-f3b9efed981e",
   "metadata": {},
   "outputs": [],
   "source": []
  },
  {
   "cell_type": "markdown",
   "id": "58e0db30-0547-4116-9a19-17501b8c4903",
   "metadata": {},
   "source": [
    "### Q10. How can global outliers be detected using the Isolation Forest algorithm?\n",
    "\n",
    "Ans - \n",
    "\n",
    "The **Isolation Forest** algorithm detects global outliers by:\n",
    "1. Constructing random binary trees.\n",
    "2. Isolating points based on the number of splits required to isolate them.\n",
    "3. Points that are isolated with fewer splits (shorter path lengths) are considered global outliers."
   ]
  },
  {
   "cell_type": "code",
   "execution_count": null,
   "id": "fb0827b5-6d94-4915-b3b4-3ebb63f46da8",
   "metadata": {},
   "outputs": [],
   "source": []
  },
  {
   "cell_type": "markdown",
   "id": "3c0fcee6-60e7-40dd-b65e-05707ea27651",
   "metadata": {
    "jp-MarkdownHeadingCollapsed": true,
    "tags": []
   },
   "source": [
    "\n",
    "### Q11. What are some real-world applications where local outlier detection is more appropriate than global outlier detection, and vice versa?\n",
    "\n",
    "Ans - \n",
    "\n",
    "**Local Outlier Detection**:\n",
    "- **Network Security**: Detecting unusual activities in specific network segments.\n",
    "- **Sensor Networks**: Identifying faulty sensors in localized regions.\n",
    "- **Healthcare**: Detecting abnormal patient readings in specific departments.\n",
    "\n",
    "**Global Outlier Detection**:\n",
    "- **Fraud Detection**: Identifying fraudulent transactions across an entire dataset.\n",
    "- **Manufacturing**: Detecting defective products in a production line.\n",
    "- **Finance**: Identifying outlier financial transactions or market anomalies."
   ]
  }
 ],
 "metadata": {
  "kernelspec": {
   "display_name": "Python 3 (ipykernel)",
   "language": "python",
   "name": "python3"
  },
  "language_info": {
   "codemirror_mode": {
    "name": "ipython",
    "version": 3
   },
   "file_extension": ".py",
   "mimetype": "text/x-python",
   "name": "python",
   "nbconvert_exporter": "python",
   "pygments_lexer": "ipython3",
   "version": "3.10.8"
  }
 },
 "nbformat": 4,
 "nbformat_minor": 5
}
