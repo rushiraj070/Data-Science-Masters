{
 "cells": [
  {
   "cell_type": "code",
   "execution_count": 1,
   "id": "b485bfed-a6ca-49b1-907d-d957b6690e67",
   "metadata": {},
   "outputs": [],
   "source": [
    "import pandas as pd\n",
    "import numpy as np"
   ]
  },
  {
   "cell_type": "code",
   "execution_count": 2,
   "id": "c4ab5b52-3bf9-473e-9965-40041fae3a55",
   "metadata": {},
   "outputs": [],
   "source": [
    "#Consider following code to answer further questions:\n",
    "\n",
    "course_name = ['Data Science', 'Machine Learning', 'Big Data', 'Data Engineer']\n",
    "duration = [2,3,6,4]\n"
   ]
  },
  {
   "cell_type": "code",
   "execution_count": 3,
   "id": "d0c98f21-c855-4ba3-af5e-05ea093661f8",
   "metadata": {},
   "outputs": [],
   "source": [
    "df = pd.DataFrame(data = {'course_name' : course_name, 'duration' : duration})"
   ]
  },
  {
   "cell_type": "code",
   "execution_count": 4,
   "id": "febf81bd-609e-4cb9-8632-2cb5fab01a4a",
   "metadata": {},
   "outputs": [
    {
     "data": {
      "text/html": [
       "<div>\n",
       "<style scoped>\n",
       "    .dataframe tbody tr th:only-of-type {\n",
       "        vertical-align: middle;\n",
       "    }\n",
       "\n",
       "    .dataframe tbody tr th {\n",
       "        vertical-align: top;\n",
       "    }\n",
       "\n",
       "    .dataframe thead th {\n",
       "        text-align: right;\n",
       "    }\n",
       "</style>\n",
       "<table border=\"1\" class=\"dataframe\">\n",
       "  <thead>\n",
       "    <tr style=\"text-align: right;\">\n",
       "      <th></th>\n",
       "      <th>course_name</th>\n",
       "      <th>duration</th>\n",
       "    </tr>\n",
       "  </thead>\n",
       "  <tbody>\n",
       "    <tr>\n",
       "      <th>0</th>\n",
       "      <td>Data Science</td>\n",
       "      <td>2</td>\n",
       "    </tr>\n",
       "    <tr>\n",
       "      <th>1</th>\n",
       "      <td>Machine Learning</td>\n",
       "      <td>3</td>\n",
       "    </tr>\n",
       "    <tr>\n",
       "      <th>2</th>\n",
       "      <td>Big Data</td>\n",
       "      <td>6</td>\n",
       "    </tr>\n",
       "    <tr>\n",
       "      <th>3</th>\n",
       "      <td>Data Engineer</td>\n",
       "      <td>4</td>\n",
       "    </tr>\n",
       "  </tbody>\n",
       "</table>\n",
       "</div>"
      ],
      "text/plain": [
       "        course_name  duration\n",
       "0      Data Science         2\n",
       "1  Machine Learning         3\n",
       "2          Big Data         6\n",
       "3     Data Engineer         4"
      ]
     },
     "execution_count": 4,
     "metadata": {},
     "output_type": "execute_result"
    }
   ],
   "source": [
    "df"
   ]
  },
  {
   "cell_type": "code",
   "execution_count": 5,
   "id": "e04a9ea0-de20-470e-a020-39d362606c26",
   "metadata": {},
   "outputs": [
    {
     "data": {
      "text/plain": [
       "course_name    Machine Learning\n",
       "duration                      3\n",
       "Name: 1, dtype: object"
      ]
     },
     "execution_count": 5,
     "metadata": {},
     "output_type": "execute_result"
    }
   ],
   "source": [
    "#Q1. Write a code to print the data present in the second row of the dataframe, df.\n",
    "\n",
    "df.iloc[1]"
   ]
  },
  {
   "cell_type": "markdown",
   "id": "8eee9410-6aec-4d2f-b6bb-b7d1f3b97e35",
   "metadata": {},
   "source": [
    "#Q2. What is the difference between the functions loc and iloc in pandas.DataFrame?\n",
    "\n",
    "df.iloc - Purely integer-location based indexing for selection by position. iloc is integer position-based, so you have to specify \n",
    "        rows and columns by their integer position values (0-based integer position).\n",
    "\n",
    "df.loc - Access a group of rows and columns by label(s) or a boolean array. loc is label-based, which means that you have to specify \n",
    "        rows and columns based on their row and column labels."
   ]
  },
  {
   "cell_type": "code",
   "execution_count": 6,
   "id": "caf91443-6876-4f19-96f1-c4a2d2f5c0ee",
   "metadata": {},
   "outputs": [],
   "source": [
    "'''Q3. Reindex the given dataframe using a variable, reindex = [3,0,1,2] and store it in the variable, new_df \n",
    " then find the output for both new_df.loc[2] and new_df.iloc[2]. Did you observe any difference in both the outputs? If so then \n",
    " explain it.'''\n",
    "\n",
    "new_df = df.reindex([3,0,1,2])"
   ]
  },
  {
   "cell_type": "code",
   "execution_count": 7,
   "id": "f63114e8-f300-4fcd-8108-a7845ddd98d6",
   "metadata": {},
   "outputs": [
    {
     "data": {
      "text/html": [
       "<div>\n",
       "<style scoped>\n",
       "    .dataframe tbody tr th:only-of-type {\n",
       "        vertical-align: middle;\n",
       "    }\n",
       "\n",
       "    .dataframe tbody tr th {\n",
       "        vertical-align: top;\n",
       "    }\n",
       "\n",
       "    .dataframe thead th {\n",
       "        text-align: right;\n",
       "    }\n",
       "</style>\n",
       "<table border=\"1\" class=\"dataframe\">\n",
       "  <thead>\n",
       "    <tr style=\"text-align: right;\">\n",
       "      <th></th>\n",
       "      <th>course_name</th>\n",
       "      <th>duration</th>\n",
       "    </tr>\n",
       "  </thead>\n",
       "  <tbody>\n",
       "    <tr>\n",
       "      <th>3</th>\n",
       "      <td>Data Engineer</td>\n",
       "      <td>4</td>\n",
       "    </tr>\n",
       "    <tr>\n",
       "      <th>0</th>\n",
       "      <td>Data Science</td>\n",
       "      <td>2</td>\n",
       "    </tr>\n",
       "    <tr>\n",
       "      <th>1</th>\n",
       "      <td>Machine Learning</td>\n",
       "      <td>3</td>\n",
       "    </tr>\n",
       "    <tr>\n",
       "      <th>2</th>\n",
       "      <td>Big Data</td>\n",
       "      <td>6</td>\n",
       "    </tr>\n",
       "  </tbody>\n",
       "</table>\n",
       "</div>"
      ],
      "text/plain": [
       "        course_name  duration\n",
       "3     Data Engineer         4\n",
       "0      Data Science         2\n",
       "1  Machine Learning         3\n",
       "2          Big Data         6"
      ]
     },
     "execution_count": 7,
     "metadata": {},
     "output_type": "execute_result"
    }
   ],
   "source": [
    "new_df"
   ]
  },
  {
   "cell_type": "code",
   "execution_count": 8,
   "id": "2610193b-e46a-486e-9d25-333fe3f7b8bd",
   "metadata": {},
   "outputs": [
    {
     "data": {
      "text/plain": [
       "course_name    Big Data\n",
       "duration              6\n",
       "Name: 2, dtype: object"
      ]
     },
     "execution_count": 8,
     "metadata": {},
     "output_type": "execute_result"
    }
   ],
   "source": [
    "new_df.loc[2]"
   ]
  },
  {
   "cell_type": "code",
   "execution_count": 9,
   "id": "5626057e-614c-47d7-9e78-3660d50fcfce",
   "metadata": {},
   "outputs": [
    {
     "data": {
      "text/plain": [
       "course_name    Machine Learning\n",
       "duration                      3\n",
       "Name: 1, dtype: object"
      ]
     },
     "execution_count": 9,
     "metadata": {},
     "output_type": "execute_result"
    }
   ],
   "source": [
    "new_df.iloc[2]"
   ]
  },
  {
   "cell_type": "code",
   "execution_count": 10,
   "id": "85b143c7-72ce-4494-a21e-78a63aa69868",
   "metadata": {},
   "outputs": [],
   "source": [
    "# new_df.loc[2] is giving the output for row which is having index marked as 2 but new_df.iloc[2] is giving giving the output \n",
    "# for row which is having actual index as per series is 2, which means iloc function gets affected by reindexing while loc doesn't with \n",
    "# respect to original dataframe."
   ]
  },
  {
   "cell_type": "code",
   "execution_count": 11,
   "id": "ea656bab-1a95-422f-bb94-524209051e68",
   "metadata": {},
   "outputs": [],
   "source": [
    "columns = ['column_1', 'column_2', 'column_3', 'column_4', 'column_5', 'column_6']\n",
    "indices = [1,2,3,4,5,6]"
   ]
  },
  {
   "cell_type": "code",
   "execution_count": 12,
   "id": "fc099ead-3683-4921-bf80-3d484bde4ac6",
   "metadata": {},
   "outputs": [],
   "source": [
    "#Creating a dataframe:\n",
    "\n",
    "df1 = pd.DataFrame(np.random.rand(6,6), columns = columns, index = indices)"
   ]
  },
  {
   "cell_type": "code",
   "execution_count": 13,
   "id": "2103894c-98ad-45fb-9957-a79801b457b8",
   "metadata": {},
   "outputs": [
    {
     "data": {
      "text/html": [
       "<div>\n",
       "<style scoped>\n",
       "    .dataframe tbody tr th:only-of-type {\n",
       "        vertical-align: middle;\n",
       "    }\n",
       "\n",
       "    .dataframe tbody tr th {\n",
       "        vertical-align: top;\n",
       "    }\n",
       "\n",
       "    .dataframe thead th {\n",
       "        text-align: right;\n",
       "    }\n",
       "</style>\n",
       "<table border=\"1\" class=\"dataframe\">\n",
       "  <thead>\n",
       "    <tr style=\"text-align: right;\">\n",
       "      <th></th>\n",
       "      <th>column_1</th>\n",
       "      <th>column_2</th>\n",
       "      <th>column_3</th>\n",
       "      <th>column_4</th>\n",
       "      <th>column_5</th>\n",
       "      <th>column_6</th>\n",
       "    </tr>\n",
       "  </thead>\n",
       "  <tbody>\n",
       "    <tr>\n",
       "      <th>1</th>\n",
       "      <td>0.852773</td>\n",
       "      <td>0.288173</td>\n",
       "      <td>0.415126</td>\n",
       "      <td>0.781087</td>\n",
       "      <td>0.889921</td>\n",
       "      <td>0.246147</td>\n",
       "    </tr>\n",
       "    <tr>\n",
       "      <th>2</th>\n",
       "      <td>0.727172</td>\n",
       "      <td>0.738266</td>\n",
       "      <td>0.228770</td>\n",
       "      <td>0.859182</td>\n",
       "      <td>0.005938</td>\n",
       "      <td>0.664100</td>\n",
       "    </tr>\n",
       "    <tr>\n",
       "      <th>3</th>\n",
       "      <td>0.346691</td>\n",
       "      <td>0.075314</td>\n",
       "      <td>0.222613</td>\n",
       "      <td>0.479822</td>\n",
       "      <td>0.020198</td>\n",
       "      <td>0.932544</td>\n",
       "    </tr>\n",
       "    <tr>\n",
       "      <th>4</th>\n",
       "      <td>0.339136</td>\n",
       "      <td>0.936749</td>\n",
       "      <td>0.930939</td>\n",
       "      <td>0.690177</td>\n",
       "      <td>0.383812</td>\n",
       "      <td>0.091783</td>\n",
       "    </tr>\n",
       "    <tr>\n",
       "      <th>5</th>\n",
       "      <td>0.631094</td>\n",
       "      <td>0.538228</td>\n",
       "      <td>0.856975</td>\n",
       "      <td>0.101315</td>\n",
       "      <td>0.969994</td>\n",
       "      <td>0.622223</td>\n",
       "    </tr>\n",
       "    <tr>\n",
       "      <th>6</th>\n",
       "      <td>0.511814</td>\n",
       "      <td>0.408314</td>\n",
       "      <td>0.867051</td>\n",
       "      <td>0.217659</td>\n",
       "      <td>0.283901</td>\n",
       "      <td>0.059670</td>\n",
       "    </tr>\n",
       "  </tbody>\n",
       "</table>\n",
       "</div>"
      ],
      "text/plain": [
       "   column_1  column_2  column_3  column_4  column_5  column_6\n",
       "1  0.852773  0.288173  0.415126  0.781087  0.889921  0.246147\n",
       "2  0.727172  0.738266  0.228770  0.859182  0.005938  0.664100\n",
       "3  0.346691  0.075314  0.222613  0.479822  0.020198  0.932544\n",
       "4  0.339136  0.936749  0.930939  0.690177  0.383812  0.091783\n",
       "5  0.631094  0.538228  0.856975  0.101315  0.969994  0.622223\n",
       "6  0.511814  0.408314  0.867051  0.217659  0.283901  0.059670"
      ]
     },
     "execution_count": 13,
     "metadata": {},
     "output_type": "execute_result"
    }
   ],
   "source": [
    "df1"
   ]
  },
  {
   "cell_type": "code",
   "execution_count": 14,
   "id": "bd30357d-849b-42a7-be1a-70e3bb16b0e7",
   "metadata": {},
   "outputs": [
    {
     "data": {
      "text/plain": [
       "0.5681132878076792"
      ]
     },
     "execution_count": 14,
     "metadata": {},
     "output_type": "execute_result"
    }
   ],
   "source": [
    "#Q4. Write a code to find the following statistical measurements for the above dataframe df1:\n",
    "df1[\"column_1\"].mean()"
   ]
  },
  {
   "cell_type": "code",
   "execution_count": 15,
   "id": "44c63183-be97-4274-8b3e-34329284c77c",
   "metadata": {},
   "outputs": [
    {
     "name": "stdout",
     "output_type": "stream",
     "text": [
      "The mean for column_1 is 0.5681132878076792.\n",
      "\n",
      "The mean for column_2 is 0.49750722957570287.\n",
      "\n",
      "The mean for column_3 is 0.5869123335691255.\n",
      "\n",
      "The mean for column_4 is 0.5215403874179525.\n",
      "\n",
      "The mean for column_5 is 0.42562751755621536.\n",
      "\n",
      "The mean for column_6 is 0.43607790644967026.\n",
      "\n"
     ]
    }
   ],
   "source": [
    "#(i) mean of each and every column present in the dataframe.\n",
    "\n",
    "for i in df1.columns:\n",
    "    print(f\"The mean for {i} is {df1[i].mean()}.\\n\")"
   ]
  },
  {
   "cell_type": "code",
   "execution_count": 16,
   "id": "c0e3c0a4-156f-4204-b1de-1342b764b9ce",
   "metadata": {},
   "outputs": [
    {
     "name": "stdout",
     "output_type": "stream",
     "text": [
      "The standard deviation for column_2 is 0.31067019891998215.\n"
     ]
    }
   ],
   "source": [
    "#(ii) standard deviation of column, ‘column_2’\n",
    "\n",
    "print(f\"The standard deviation for column_2 is {df1['column_2'].std()}.\")"
   ]
  },
  {
   "cell_type": "code",
   "execution_count": 17,
   "id": "bd67296d-d98a-495d-a0a5-7b516e19f3be",
   "metadata": {},
   "outputs": [],
   "source": [
    "'''Q5. Replace the data present in the second row of column, ‘column_2’ by a string variable then find the\n",
    "mean of column, column_2.\n",
    "If you are getting errors in executing it then explain why.\n",
    "[Hint: To replace the data use df1.loc[] and equate this to string data of your choice.]\n",
    "'''\n",
    "\n",
    "df1.loc[2,'column_2'] = \"rushiraj\"\n"
   ]
  },
  {
   "cell_type": "code",
   "execution_count": 18,
   "id": "3d5e413d-3684-4b18-aae6-078028bb33c1",
   "metadata": {},
   "outputs": [
    {
     "data": {
      "text/html": [
       "<div>\n",
       "<style scoped>\n",
       "    .dataframe tbody tr th:only-of-type {\n",
       "        vertical-align: middle;\n",
       "    }\n",
       "\n",
       "    .dataframe tbody tr th {\n",
       "        vertical-align: top;\n",
       "    }\n",
       "\n",
       "    .dataframe thead th {\n",
       "        text-align: right;\n",
       "    }\n",
       "</style>\n",
       "<table border=\"1\" class=\"dataframe\">\n",
       "  <thead>\n",
       "    <tr style=\"text-align: right;\">\n",
       "      <th></th>\n",
       "      <th>column_1</th>\n",
       "      <th>column_2</th>\n",
       "      <th>column_3</th>\n",
       "      <th>column_4</th>\n",
       "      <th>column_5</th>\n",
       "      <th>column_6</th>\n",
       "    </tr>\n",
       "  </thead>\n",
       "  <tbody>\n",
       "    <tr>\n",
       "      <th>1</th>\n",
       "      <td>0.852773</td>\n",
       "      <td>0.288173</td>\n",
       "      <td>0.415126</td>\n",
       "      <td>0.781087</td>\n",
       "      <td>0.889921</td>\n",
       "      <td>0.246147</td>\n",
       "    </tr>\n",
       "    <tr>\n",
       "      <th>2</th>\n",
       "      <td>0.727172</td>\n",
       "      <td>rushiraj</td>\n",
       "      <td>0.228770</td>\n",
       "      <td>0.859182</td>\n",
       "      <td>0.005938</td>\n",
       "      <td>0.664100</td>\n",
       "    </tr>\n",
       "    <tr>\n",
       "      <th>3</th>\n",
       "      <td>0.346691</td>\n",
       "      <td>0.075314</td>\n",
       "      <td>0.222613</td>\n",
       "      <td>0.479822</td>\n",
       "      <td>0.020198</td>\n",
       "      <td>0.932544</td>\n",
       "    </tr>\n",
       "    <tr>\n",
       "      <th>4</th>\n",
       "      <td>0.339136</td>\n",
       "      <td>0.936749</td>\n",
       "      <td>0.930939</td>\n",
       "      <td>0.690177</td>\n",
       "      <td>0.383812</td>\n",
       "      <td>0.091783</td>\n",
       "    </tr>\n",
       "    <tr>\n",
       "      <th>5</th>\n",
       "      <td>0.631094</td>\n",
       "      <td>0.538228</td>\n",
       "      <td>0.856975</td>\n",
       "      <td>0.101315</td>\n",
       "      <td>0.969994</td>\n",
       "      <td>0.622223</td>\n",
       "    </tr>\n",
       "    <tr>\n",
       "      <th>6</th>\n",
       "      <td>0.511814</td>\n",
       "      <td>0.408314</td>\n",
       "      <td>0.867051</td>\n",
       "      <td>0.217659</td>\n",
       "      <td>0.283901</td>\n",
       "      <td>0.059670</td>\n",
       "    </tr>\n",
       "  </tbody>\n",
       "</table>\n",
       "</div>"
      ],
      "text/plain": [
       "   column_1  column_2  column_3  column_4  column_5  column_6\n",
       "1  0.852773  0.288173  0.415126  0.781087  0.889921  0.246147\n",
       "2  0.727172  rushiraj  0.228770  0.859182  0.005938  0.664100\n",
       "3  0.346691  0.075314  0.222613  0.479822  0.020198  0.932544\n",
       "4  0.339136  0.936749  0.930939  0.690177  0.383812  0.091783\n",
       "5  0.631094  0.538228  0.856975  0.101315  0.969994  0.622223\n",
       "6  0.511814  0.408314  0.867051  0.217659  0.283901  0.059670"
      ]
     },
     "execution_count": 18,
     "metadata": {},
     "output_type": "execute_result"
    }
   ],
   "source": [
    "df1"
   ]
  },
  {
   "cell_type": "markdown",
   "id": "5812c2ea-3466-4a75-a610-f58a07aaa19c",
   "metadata": {},
   "source": [
    "# Explaination\n",
    "\n",
    " During executing df1[\"column_2\"].mean() i am getting a error which says (TypeError: unsupported operand type(s) for +: 'float' \n",
    "\n",
    "and 'str') because mean() function can be applied only on numerals/numbers but within column_2 in modified dataframe we have included \n",
    "\n",
    "a foreign value to be precise a string value which is giving an error during mean calculation."
   ]
  },
  {
   "cell_type": "code",
   "execution_count": 19,
   "id": "23d2ba7e-f3bc-4c11-ac7e-e8867dba7044",
   "metadata": {},
   "outputs": [
    {
     "data": {
      "text/plain": [
       "'Q6. What do you understand about the windows function in pandas and list the types of windows functions?\\n\\nAns - A window function executes a calculation across a related set of table rows to the current row. It is also called SQL analytic\\n    function. It uses values from one or different rows to return a value for each row. \\n    \\n    Types of windows functions are as follows:-\\n    \\n    1. Rolling window: Generic fixed or variable sliding window over the values.\\n    \\n    2. Weighted window: Weighted, non-rectangular window supplied by the scipy.signal library.\\n    \\n    3. Expanding window: Accumulating window over the values.\\n    \\n    4. Exponentially Weighted window: Accumulating and exponentially weighted window over the values.\\n    \\n'"
      ]
     },
     "execution_count": 19,
     "metadata": {},
     "output_type": "execute_result"
    }
   ],
   "source": [
    "'''Q6. What do you understand about the windows function in pandas and list the types of windows functions?\n",
    "\n",
    "Ans - A window function executes a calculation across a related set of table rows to the current row. It is also called SQL analytic\n",
    "    function. It uses values from one or different rows to return a value for each row. \n",
    "    \n",
    "    Types of windows functions are as follows:-\n",
    "    \n",
    "    1. Rolling window: Generic fixed or variable sliding window over the values.\n",
    "    \n",
    "    2. Weighted window: Weighted, non-rectangular window supplied by the scipy.signal library.\n",
    "    \n",
    "    3. Expanding window: Accumulating window over the values.\n",
    "    \n",
    "    4. Exponentially Weighted window: Accumulating and exponentially weighted window over the values.\n",
    "    \n",
    "'''"
   ]
  },
  {
   "cell_type": "code",
   "execution_count": 20,
   "id": "e08a3e79-ed90-41a9-91c4-52c84e0af50c",
   "metadata": {},
   "outputs": [],
   "source": [
    "from datetime import datetime\n",
    "\n",
    "'''Q7. Write a code to print only the current month and year at the time of answering this question.\n",
    "[Hint: Use pandas.datetime function]'''\n",
    "\n",
    "currentMonth = datetime.now().month\n",
    "currentYear = datetime.now().year"
   ]
  },
  {
   "cell_type": "code",
   "execution_count": 21,
   "id": "21b5ac7f-d502-4eeb-9834-4aa7f2be642a",
   "metadata": {},
   "outputs": [
    {
     "data": {
      "text/plain": [
       "3"
      ]
     },
     "execution_count": 21,
     "metadata": {},
     "output_type": "execute_result"
    }
   ],
   "source": [
    "currentMonth"
   ]
  },
  {
   "cell_type": "code",
   "execution_count": 22,
   "id": "32909ed5-c76c-4fce-9d55-88767758729e",
   "metadata": {},
   "outputs": [
    {
     "data": {
      "text/plain": [
       "2023"
      ]
     },
     "execution_count": 22,
     "metadata": {},
     "output_type": "execute_result"
    }
   ],
   "source": [
    "currentYear"
   ]
  },
  {
   "cell_type": "code",
   "execution_count": 39,
   "id": "40514b60-6075-4041-a04f-5af6da0649ce",
   "metadata": {
    "tags": []
   },
   "outputs": [
    {
     "name": "stdin",
     "output_type": "stream",
     "text": [
      "Enter a date (in the format YYYY-MM-DD ) : '2022-06-20'\n",
      "Enter another date (in the format YYYY-MM-DD ) : '2023-03-20'\n"
     ]
    },
    {
     "name": "stdout",
     "output_type": "stream",
     "text": [
      "\n",
      "The difference betwwen your input dates is 273 days 00:00:00.\n"
     ]
    }
   ],
   "source": [
    "'''Q8. Write a Python program that takes in two dates as input (in the format YYYY-MM-DD) and\n",
    "calculates the difference between them in days, hours, and minutes using Pandas time delta. The\n",
    "program should prompt the user to enter the dates and display the result.\n",
    "'''\n",
    "\n",
    "date1 = str(input(\"Enter a date (in the format YYYY-MM-DD ) :\"))\n",
    "date2 = str(input(\"Enter another date (in the format YYYY-MM-DD ) :\"))\n",
    "past_date = pd.to_datetime(date1)\n",
    "future_date = pd.to_datetime(date2)\n",
    "time_difference = pd.Timedelta(future_date - past_date)\n",
    "\n",
    "print(\"\\n\"f\"The difference between your input dates is {time_difference}.\")"
   ]
  },
  {
   "cell_type": "code",
   "execution_count": null,
   "id": "994b1dc7-a854-473b-be32-f9f36b9ca2c2",
   "metadata": {},
   "outputs": [],
   "source": []
  },
  {
   "cell_type": "code",
   "execution_count": null,
   "id": "8d090c29-b20d-4afb-848d-db45e56efa84",
   "metadata": {},
   "outputs": [],
   "source": []
  },
  {
   "cell_type": "code",
   "execution_count": null,
   "id": "13a06e51-e70e-46d5-b434-80c60437fbff",
   "metadata": {},
   "outputs": [],
   "source": []
  },
  {
   "cell_type": "code",
   "execution_count": null,
   "id": "e5806352-2f18-4be9-b4ec-8ce20f61199a",
   "metadata": {},
   "outputs": [],
   "source": []
  },
  {
   "cell_type": "code",
   "execution_count": 40,
   "id": "d36b9926-fe07-4c6e-be91-b2a6aeee9e98",
   "metadata": {},
   "outputs": [],
   "source": [
    "#practice and trial code"
   ]
  },
  {
   "cell_type": "code",
   "execution_count": 24,
   "id": "9687e5f1-22e9-4b01-8aa7-c486cf8824f2",
   "metadata": {},
   "outputs": [],
   "source": [
    "def past_future(date1, date2):\n",
    "    past_date = pd.to_datetime(date1)\n",
    "    future_date = pd.to_datetime(date2)\n",
    "    time_difference = pd.Timedelta(future_date - past_date)\n",
    "    return time_difference"
   ]
  },
  {
   "cell_type": "code",
   "execution_count": 25,
   "id": "031a8efe-88cb-42e8-8891-d0c6f6585082",
   "metadata": {},
   "outputs": [
    {
     "data": {
      "text/plain": [
       "Timedelta('365 days 00:00:00')"
      ]
     },
     "execution_count": 25,
     "metadata": {},
     "output_type": "execute_result"
    }
   ],
   "source": [
    "past_future('2022-06-20', '2022-06-20')"
   ]
  },
  {
   "cell_type": "code",
   "execution_count": 26,
   "id": "e257ed66-e3a2-44ea-a05f-4978792b243a",
   "metadata": {},
   "outputs": [
    {
     "data": {
      "text/plain": [
       "Timedelta('3 days 00:00:00')"
      ]
     },
     "execution_count": 26,
     "metadata": {},
     "output_type": "execute_result"
    }
   ],
   "source": [
    "past_future(date1,date2)"
   ]
  },
  {
   "cell_type": "code",
   "execution_count": 34,
   "id": "50f7c2f3-e587-44fe-b4e8-6ae2a417aa8f",
   "metadata": {},
   "outputs": [
    {
     "data": {
      "text/plain": [
       "Timedelta('365 days 00:00:00')"
      ]
     },
     "execution_count": 34,
     "metadata": {},
     "output_type": "execute_result"
    }
   ],
   "source": [
    "past_future()"
   ]
  },
  {
   "cell_type": "code",
   "execution_count": 35,
   "id": "ec0365ec-294e-4ca7-8203-79577bc95a4a",
   "metadata": {},
   "outputs": [
    {
     "data": {
      "text/plain": [
       "Timedelta('365 days 00:00:00')"
      ]
     },
     "execution_count": 35,
     "metadata": {},
     "output_type": "execute_result"
    }
   ],
   "source": [
    "past_future()"
   ]
  },
  {
   "cell_type": "code",
   "execution_count": null,
   "id": "be15125e-2360-4410-b158-70574bf6fcff",
   "metadata": {},
   "outputs": [],
   "source": [
    "pd.to_datetime"
   ]
  }
 ],
 "metadata": {
  "kernelspec": {
   "display_name": "Python 3 (ipykernel)",
   "language": "python",
   "name": "python3"
  },
  "language_info": {
   "codemirror_mode": {
    "name": "ipython",
    "version": 3
   },
   "file_extension": ".py",
   "mimetype": "text/x-python",
   "name": "python",
   "nbconvert_exporter": "python",
   "pygments_lexer": "ipython3",
   "version": "3.8.16"
  }
 },
 "nbformat": 4,
 "nbformat_minor": 5
}
