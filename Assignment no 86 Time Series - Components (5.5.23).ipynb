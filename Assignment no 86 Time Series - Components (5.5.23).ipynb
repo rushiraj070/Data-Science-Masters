{
 "cells": [
  {
   "cell_type": "markdown",
   "id": "8503059d-6f61-4ea3-bdb3-0b90a8cc910f",
   "metadata": {},
   "source": [
    "# Assignment no 86 Time Series - Components (5.5.23)"
   ]
  },
  {
   "cell_type": "code",
   "execution_count": null,
   "id": "933f1fb3-0c38-4092-82b7-c063f870f990",
   "metadata": {},
   "outputs": [],
   "source": []
  },
  {
   "cell_type": "markdown",
   "id": "37121635",
   "metadata": {},
   "source": [
    "### Q1. What is meant by time-dependent seasonal components?"
   ]
  },
  {
   "cell_type": "markdown",
   "id": "595c6b85",
   "metadata": {},
   "source": [
    "Ans: Time-dependent seasonal components refer to patterns in time series data that repeat at regular intervals but whose intensity or nature can change over time. These components can vary due to external factors such as economic conditions, market trends, or climate changes."
   ]
  },
  {
   "cell_type": "code",
   "execution_count": null,
   "id": "f382af5a-7099-4d9c-ab93-33c82fa5de4c",
   "metadata": {},
   "outputs": [],
   "source": []
  },
  {
   "cell_type": "markdown",
   "id": "e33ea16f",
   "metadata": {},
   "source": [
    "### Q2. How can time-dependent seasonal components be identified in time series data?"
   ]
  },
  {
   "cell_type": "markdown",
   "id": "be372c43",
   "metadata": {},
   "source": [
    "Ans: Time-dependent seasonal components can be identified using:\n",
    "- **Decomposition Techniques:** Decomposing the series into trend, seasonal, and residual components.\n",
    "- **Fourier Analysis:** Transforming the time series data to the frequency domain to identify periodic components.\n",
    "- **Seasonal Subseries Plots:** Visualizing the data for each season separately to identify changing patterns."
   ]
  },
  {
   "cell_type": "code",
   "execution_count": null,
   "id": "1bb640d3-4a26-40bb-8284-3bf931ec73ce",
   "metadata": {},
   "outputs": [],
   "source": []
  },
  {
   "cell_type": "markdown",
   "id": "fedca5cd",
   "metadata": {},
   "source": [
    "### Q3. What are the factors that can influence time-dependent seasonal components?"
   ]
  },
  {
   "cell_type": "markdown",
   "id": "f54ea754",
   "metadata": {},
   "source": [
    "Ans: Factors influencing time-dependent seasonal components include:\n",
    "- **Economic Conditions:** Changes in economic growth, inflation, and employment rates.\n",
    "- **Market Trends:** Shifts in consumer preferences, technological advancements.\n",
    "- **Climate and Weather:** Seasonal changes, unusual weather events.\n",
    "- **Social and Cultural Events:** Holidays, festivals, and other significant events."
   ]
  },
  {
   "cell_type": "code",
   "execution_count": null,
   "id": "6967a781-a244-4b0d-9576-d4a3c4b9277c",
   "metadata": {},
   "outputs": [],
   "source": []
  },
  {
   "cell_type": "markdown",
   "id": "373a8358",
   "metadata": {},
   "source": [
    "### Q4. How are autoregression models used in time series analysis and forecasting?"
   ]
  },
  {
   "attachments": {
    "7c7ad922-098c-4ba7-b14a-ba638331ef03.png": {
     "image/png": "[encoded data removed]"
    }
   },
   "cell_type": "markdown",
   "id": "cbe666a8",
   "metadata": {},
   "source": [
    "Ans: Autoregression (AR) models are used to predict future values based on past values. They assume that the current value of the series is a linear combination of its previous values. The model is defined as:\n",
    "\n",
    "   ![Screenshot 2024-07-21 172048.png](attachment:7c7ad922-098c-4ba7-b14a-ba638331ef03.png)\n",
    "\n",
    "Where \\(X_t\\) is the value at time \\(t\\), \\(c\\) is a constant, \\(\\phi_i\\) are the coefficients, \\(p\\) is the order of the model, and \\(\\epsilon_t\\) is the error term."
   ]
  },
  {
   "cell_type": "code",
   "execution_count": null,
   "id": "3f428548-603c-4637-8e72-65621146fd0c",
   "metadata": {},
   "outputs": [],
   "source": []
  },
  {
   "cell_type": "markdown",
   "id": "b7e0cc41",
   "metadata": {},
   "source": [
    "### Q5. How do you use autoregression models to make predictions for future time points?"
   ]
  },
  {
   "cell_type": "markdown",
   "id": "1e993e3d",
   "metadata": {},
   "source": [
    "Ans: To make predictions using autoregression models:\n",
    "- **Fit the Model:** Estimate the parameters (coefficients) using historical data.\n",
    "- **Predict Future Values:** Use the fitted model to calculate future values based on past observed values. For example, for an AR(1) model, the prediction for the next time point is\n",
    "\\(\\hat{X}_{t+1} = c + \\phi_1 X_t\\)."
   ]
  },
  {
   "cell_type": "code",
   "execution_count": null,
   "id": "2a4da08f-036d-410f-85f8-10babdd18574",
   "metadata": {},
   "outputs": [],
   "source": []
  },
  {
   "cell_type": "markdown",
   "id": "bffaf1c2",
   "metadata": {},
   "source": [
    "### Q6. What is a moving average (MA) model and how does it differ from other time series models?"
   ]
  },
  {
   "attachments": {
    "31e6a347-1c4b-4451-a50c-759a651bf44d.png": {
     "image/png": "[encoded data removed]"
    }
   },
   "cell_type": "markdown",
   "id": "f39f5ea1",
   "metadata": {},
   "source": [
    "Ans: A Moving Average (MA) model is a time series model that uses past forecast errors in a regression-like model to predict future values. It is defined as:\n",
    "  \n",
    "  ![Screenshot 2024-07-21 172114.png](attachment:31e6a347-1c4b-4451-a50c-759a651bf44d.png)\n",
    "\n",
    "Where \\(X_t\\) is the value at time \\(t\\), \\(\\mu\\) is the mean, \\(\theta_i\\) are the coefficients, \\(q\\) is the order of the model, and \\(\\epsilon_t\\) is the error term. The main difference from other models like AR is that MA uses past forecast errors rather than past values of the series."
   ]
  },
  {
   "cell_type": "code",
   "execution_count": null,
   "id": "db8ae649-e7ed-4ad8-9f8c-0442f2549ae5",
   "metadata": {},
   "outputs": [],
   "source": []
  },
  {
   "cell_type": "markdown",
   "id": "0fe045a0",
   "metadata": {},
   "source": [
    "### Q7. What is a mixed ARMA model and how does it differ from an AR or MA model?"
   ]
  },
  {
   "cell_type": "markdown",
   "id": "1358c0e9",
   "metadata": {},
   "source": [
    "Ans: A mixed ARMA (AutoRegressive Moving Average) model combines both AR and MA models. It is defined as:\n",
    "   \\[ X_t = c + \\sum_{i=1}^{p} \\phi_i X_{t-i} + \\sum_{j=1}^{q} \theta_j \\epsilon_{t-j} + \\epsilon_t \\]\n",
    "Where \\(X_t\\) is the value at time \\(t\\), \\(c\\) is a constant, \\(\\phi_i\\) are the AR coefficients, \\(\theta_j\\) are the MA coefficients, \\(p\\) is the order of the AR part, \\(q\\) is the order of the MA part, and \\(\\epsilon_t\\) is the error term. The ARMA model can capture more complex time series patterns by incorporating both autoregressive and moving average components."
   ]
  },
  {
   "cell_type": "code",
   "execution_count": null,
   "id": "8319f817-38ec-431a-b507-eba45e94198d",
   "metadata": {},
   "outputs": [],
   "source": []
  }
 ],
 "metadata": {
  "kernelspec": {
   "display_name": "Python 3 (ipykernel)",
   "language": "python",
   "name": "python3"
  },
  "language_info": {
   "codemirror_mode": {
    "name": "ipython",
    "version": 3
   },
   "file_extension": ".py",
   "mimetype": "text/x-python",
   "name": "python",
   "nbconvert_exporter": "python",
   "pygments_lexer": "ipython3",
   "version": "3.10.8"
  }
 },
 "nbformat": 4,
 "nbformat_minor": 5
}
