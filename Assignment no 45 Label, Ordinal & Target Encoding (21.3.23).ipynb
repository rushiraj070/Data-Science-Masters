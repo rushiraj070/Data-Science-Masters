{
 "cells": [
  {
   "cell_type": "markdown",
   "id": "d4adcf72-cfb5-4b61-94e9-94e622f59b95",
   "metadata": {},
   "source": [
    "## Assignment no 45 Label, Ordinal & Target Encoding (21.3.23)"
   ]
  },
  {
   "cell_type": "code",
   "execution_count": null,
   "id": "7071dff8-2a72-45af-8464-7e106da15419",
   "metadata": {},
   "outputs": [],
   "source": [
    "Q1. What is the difference between Ordinal Encoding and Label Encoding? Provide an example of when you\n",
    "might choose one over the other.\n",
    "\n",
    "Ans - Label encoding and ordinal encoding are two techniques used to encode categorical data as numerical data with a little\n",
    "    difference as mentioned in definitions below - \n",
    "\n",
    "Ordinal Encoding\n",
    "    It is used to encode categorical data that have an intrinsic order or ranking. In this technique, each category is \n",
    "    assigned a numerical value based on its position in the order.\n",
    "\n",
    "Label Encoding\n",
    "    Label encoding involves assigning a unique numerical label to each category in the variable. The labels are usually \n",
    "    assigned in alphabetical order or based on the frequency of the categories.\n",
    "\n",
    "    eg. When we have to encode the position of empolyee within company where the rank or order matters then we will use the\n",
    "        Ordinal type Encoding \n",
    "        on the other hand,\n",
    "        If there are various types of fruits in dataset and we have to encode them, then we will use Label encoding.\n"
   ]
  },
  {
   "cell_type": "code",
   "execution_count": null,
   "id": "2114b731-58b6-4df1-8e71-92ed25adb41e",
   "metadata": {},
   "outputs": [],
   "source": [
    "Q2. Explain how Target Guided Ordinal Encoding works and provide an example of when you might use it in\n",
    "a machine learning project.\n",
    "\n",
    "Ans - Target Guided Ordinal Encoding\n",
    "        In Target Guided Ordinal Encoding, we replace each category in the categorical variable with a numerical value based\n",
    "    on the mean or median of the target variable for that category. \n",
    "        This creates a monotonic relationship between the categorical variable and the target variable, which can improve \n",
    "    the predictive power of our model."
   ]
  },
  {
   "cell_type": "code",
   "execution_count": 1,
   "id": "d6782e39-f3b8-416b-9e03-5eefc4f1b50b",
   "metadata": {},
   "outputs": [],
   "source": [
    "import pandas as pd"
   ]
  },
  {
   "cell_type": "code",
   "execution_count": 2,
   "id": "9d649199-eac6-4e5b-ae6a-3500724a1711",
   "metadata": {},
   "outputs": [],
   "source": [
    "df_bikeavg = pd.DataFrame({'bike':['passion','dio','gixxer','splendor','passion','splendor','gixxer','splendor','passion'],\n",
    "                          'average':[65,55,45,70,62,72,50,75,67]})"
   ]
  },
  {
   "cell_type": "code",
   "execution_count": 3,
   "id": "ec4d6cfc-bc6e-4ef8-a92c-afdb5c15a805",
   "metadata": {},
   "outputs": [
    {
     "data": {
      "text/html": [
       "<div>\n",
       "<style scoped>\n",
       "    .dataframe tbody tr th:only-of-type {\n",
       "        vertical-align: middle;\n",
       "    }\n",
       "\n",
       "    .dataframe tbody tr th {\n",
       "        vertical-align: top;\n",
       "    }\n",
       "\n",
       "    .dataframe thead th {\n",
       "        text-align: right;\n",
       "    }\n",
       "</style>\n",
       "<table border=\"1\" class=\"dataframe\">\n",
       "  <thead>\n",
       "    <tr style=\"text-align: right;\">\n",
       "      <th></th>\n",
       "      <th>bike</th>\n",
       "      <th>average</th>\n",
       "    </tr>\n",
       "  </thead>\n",
       "  <tbody>\n",
       "    <tr>\n",
       "      <th>0</th>\n",
       "      <td>passion</td>\n",
       "      <td>65</td>\n",
       "    </tr>\n",
       "    <tr>\n",
       "      <th>1</th>\n",
       "      <td>dio</td>\n",
       "      <td>55</td>\n",
       "    </tr>\n",
       "    <tr>\n",
       "      <th>2</th>\n",
       "      <td>gixxer</td>\n",
       "      <td>45</td>\n",
       "    </tr>\n",
       "    <tr>\n",
       "      <th>3</th>\n",
       "      <td>splendor</td>\n",
       "      <td>70</td>\n",
       "    </tr>\n",
       "    <tr>\n",
       "      <th>4</th>\n",
       "      <td>passion</td>\n",
       "      <td>62</td>\n",
       "    </tr>\n",
       "    <tr>\n",
       "      <th>5</th>\n",
       "      <td>splendor</td>\n",
       "      <td>72</td>\n",
       "    </tr>\n",
       "    <tr>\n",
       "      <th>6</th>\n",
       "      <td>gixxer</td>\n",
       "      <td>50</td>\n",
       "    </tr>\n",
       "    <tr>\n",
       "      <th>7</th>\n",
       "      <td>splendor</td>\n",
       "      <td>75</td>\n",
       "    </tr>\n",
       "    <tr>\n",
       "      <th>8</th>\n",
       "      <td>passion</td>\n",
       "      <td>67</td>\n",
       "    </tr>\n",
       "  </tbody>\n",
       "</table>\n",
       "</div>"
      ],
      "text/plain": [
       "       bike  average\n",
       "0   passion       65\n",
       "1       dio       55\n",
       "2    gixxer       45\n",
       "3  splendor       70\n",
       "4   passion       62\n",
       "5  splendor       72\n",
       "6    gixxer       50\n",
       "7  splendor       75\n",
       "8   passion       67"
      ]
     },
     "execution_count": 3,
     "metadata": {},
     "output_type": "execute_result"
    }
   ],
   "source": [
    "df_bikeavg"
   ]
  },
  {
   "cell_type": "code",
   "execution_count": 4,
   "id": "4c7a989f-a45e-4134-a7ce-6b11994f6613",
   "metadata": {},
   "outputs": [
    {
     "data": {
      "text/plain": [
       "bike\n",
       "dio         55.000000\n",
       "gixxer      47.500000\n",
       "passion     64.666667\n",
       "splendor    72.333333\n",
       "Name: average, dtype: float64"
      ]
     },
     "execution_count": 4,
     "metadata": {},
     "output_type": "execute_result"
    }
   ],
   "source": [
    "df_bikeavg.groupby('bike')['average'].mean()"
   ]
  },
  {
   "cell_type": "code",
   "execution_count": 5,
   "id": "98f55e78-797c-4eea-864a-f749fc726e73",
   "metadata": {},
   "outputs": [
    {
     "data": {
      "text/plain": [
       "{'dio': 55.0,\n",
       " 'gixxer': 47.5,\n",
       " 'passion': 64.66666666666667,\n",
       " 'splendor': 72.33333333333333}"
      ]
     },
     "execution_count": 5,
     "metadata": {},
     "output_type": "execute_result"
    }
   ],
   "source": [
    "df_bikeavg.groupby('bike')['average'].mean().to_dict()"
   ]
  },
  {
   "cell_type": "code",
   "execution_count": 6,
   "id": "e2c1e643-87b6-4e50-a12c-101763ad85b4",
   "metadata": {},
   "outputs": [
    {
     "data": {
      "text/plain": [
       "{'dio': 55.0,\n",
       " 'gixxer': 47.5,\n",
       " 'passion': 64.66666666666667,\n",
       " 'splendor': 72.33333333333333}"
      ]
     },
     "execution_count": 6,
     "metadata": {},
     "output_type": "execute_result"
    }
   ],
   "source": [
    "# finding mean of average to relate with target variable\n",
    "\n",
    "mean_average = df_bikeavg.groupby('bike')['average'].mean().to_dict()\n",
    "mean_average"
   ]
  },
  {
   "cell_type": "code",
   "execution_count": 7,
   "id": "2b13ccf5-c706-427d-8b10-5627fdcc9188",
   "metadata": {},
   "outputs": [],
   "source": [
    "df_bikeavg['bike_encoded'] = df_bikeavg['bike'].map(mean_average)"
   ]
  },
  {
   "cell_type": "code",
   "execution_count": 8,
   "id": "079f954d-b8b9-40ca-9c4c-a0da97385d8b",
   "metadata": {},
   "outputs": [
    {
     "data": {
      "text/html": [
       "<div>\n",
       "<style scoped>\n",
       "    .dataframe tbody tr th:only-of-type {\n",
       "        vertical-align: middle;\n",
       "    }\n",
       "\n",
       "    .dataframe tbody tr th {\n",
       "        vertical-align: top;\n",
       "    }\n",
       "\n",
       "    .dataframe thead th {\n",
       "        text-align: right;\n",
       "    }\n",
       "</style>\n",
       "<table border=\"1\" class=\"dataframe\">\n",
       "  <thead>\n",
       "    <tr style=\"text-align: right;\">\n",
       "      <th></th>\n",
       "      <th>bike</th>\n",
       "      <th>average</th>\n",
       "      <th>bike_encoded</th>\n",
       "    </tr>\n",
       "  </thead>\n",
       "  <tbody>\n",
       "    <tr>\n",
       "      <th>0</th>\n",
       "      <td>passion</td>\n",
       "      <td>65</td>\n",
       "      <td>64.666667</td>\n",
       "    </tr>\n",
       "    <tr>\n",
       "      <th>1</th>\n",
       "      <td>dio</td>\n",
       "      <td>55</td>\n",
       "      <td>55.000000</td>\n",
       "    </tr>\n",
       "    <tr>\n",
       "      <th>2</th>\n",
       "      <td>gixxer</td>\n",
       "      <td>45</td>\n",
       "      <td>47.500000</td>\n",
       "    </tr>\n",
       "    <tr>\n",
       "      <th>3</th>\n",
       "      <td>splendor</td>\n",
       "      <td>70</td>\n",
       "      <td>72.333333</td>\n",
       "    </tr>\n",
       "    <tr>\n",
       "      <th>4</th>\n",
       "      <td>passion</td>\n",
       "      <td>62</td>\n",
       "      <td>64.666667</td>\n",
       "    </tr>\n",
       "    <tr>\n",
       "      <th>5</th>\n",
       "      <td>splendor</td>\n",
       "      <td>72</td>\n",
       "      <td>72.333333</td>\n",
       "    </tr>\n",
       "    <tr>\n",
       "      <th>6</th>\n",
       "      <td>gixxer</td>\n",
       "      <td>50</td>\n",
       "      <td>47.500000</td>\n",
       "    </tr>\n",
       "    <tr>\n",
       "      <th>7</th>\n",
       "      <td>splendor</td>\n",
       "      <td>75</td>\n",
       "      <td>72.333333</td>\n",
       "    </tr>\n",
       "    <tr>\n",
       "      <th>8</th>\n",
       "      <td>passion</td>\n",
       "      <td>67</td>\n",
       "      <td>64.666667</td>\n",
       "    </tr>\n",
       "  </tbody>\n",
       "</table>\n",
       "</div>"
      ],
      "text/plain": [
       "       bike  average  bike_encoded\n",
       "0   passion       65     64.666667\n",
       "1       dio       55     55.000000\n",
       "2    gixxer       45     47.500000\n",
       "3  splendor       70     72.333333\n",
       "4   passion       62     64.666667\n",
       "5  splendor       72     72.333333\n",
       "6    gixxer       50     47.500000\n",
       "7  splendor       75     72.333333\n",
       "8   passion       67     64.666667"
      ]
     },
     "execution_count": 8,
     "metadata": {},
     "output_type": "execute_result"
    }
   ],
   "source": [
    "df_bikeavg"
   ]
  },
  {
   "attachments": {
    "5710e949-2119-4faf-a5b1-7170df532094.png": {
     "image/png": "[encoded data removed]"
    }
   },
   "cell_type": "markdown",
   "id": "0957145a-eb19-4cb3-896a-4d8aef410962",
   "metadata": {},
   "source": [
    "Q3. Define covariance and explain why it is important in statistical analysis. How is covariance calculated?\n",
    "\n",
    "Ans - \n",
    "- Covariance is a measure of the extent to which two random variables are linearly related. Specifically, it measures\n",
    "    the degree to which the values of one variable change in relation to the values of another variable. If two variables       have a positive covariance, it means that when one variable increases, the other variable tends to increase as well. If     they have a negative covariance, it means that when one variable increases, the other variable tends to decrease. If the     covariance is zero, it means that the variables are not linearly related.\n",
    "    \n",
    "- Covariance is important in statistical analysis because it is a measure of the strength and direction of the \n",
    "    relationship between two variables. This relationship can provide important insights into the underlying nature of the \n",
    "    data and can inform decisions about modeling and prediction. For example, in finance, covariance is used to measure the \n",
    "    degree to which the returns on two different stocks are related, which can help investors diversify their portfolios.\n",
    "    \n",
    "- Covariance is calculated as the sum of the product of the deviations of each variable from its mean, divided by the \n",
    "    sample size minus one. The formula for the covariance between two variables X and Y with sample size n is:\n",
    "        ![covariance-1.png](attachment:5710e949-2119-4faf-a5b1-7170df532094.png)\n",
    "\n",
    "        where X_i and Y_i are the values of the variables at the ith observation, X_mean and Y_mean are the means of the \n",
    "    variables, and the summation is taken over all n observations."
   ]
  },
  {
   "cell_type": "code",
   "execution_count": null,
   "id": "61504518-12b3-49c6-8f18-70c7d4fb5c9d",
   "metadata": {},
   "outputs": [],
   "source": [
    "Q4. For a dataset with the following categorical variables: Color (red, green, blue), Size (small, medium,\n",
    "large), and Material (wood, metal, plastic), perform label encoding using Python's scikit-learn library.\n",
    "Show your code and explain the output."
   ]
  },
  {
   "cell_type": "code",
   "execution_count": 10,
   "id": "0e388537-aedb-42a0-97d8-1d937f2a4989",
   "metadata": {},
   "outputs": [],
   "source": [
    "import pandas as pd\n",
    "from sklearn.preprocessing import LabelEncoder"
   ]
  },
  {
   "cell_type": "code",
   "execution_count": 12,
   "id": "321182f8-5d3c-4418-8496-70ab8b407d91",
   "metadata": {},
   "outputs": [
    {
     "data": {
      "text/html": [
       "<div>\n",
       "<style scoped>\n",
       "    .dataframe tbody tr th:only-of-type {\n",
       "        vertical-align: middle;\n",
       "    }\n",
       "\n",
       "    .dataframe tbody tr th {\n",
       "        vertical-align: top;\n",
       "    }\n",
       "\n",
       "    .dataframe thead th {\n",
       "        text-align: right;\n",
       "    }\n",
       "</style>\n",
       "<table border=\"1\" class=\"dataframe\">\n",
       "  <thead>\n",
       "    <tr style=\"text-align: right;\">\n",
       "      <th></th>\n",
       "      <th>Color</th>\n",
       "      <th>Size</th>\n",
       "      <th>Material</th>\n",
       "    </tr>\n",
       "  </thead>\n",
       "  <tbody>\n",
       "    <tr>\n",
       "      <th>0</th>\n",
       "      <td>red</td>\n",
       "      <td>small</td>\n",
       "      <td>wood</td>\n",
       "    </tr>\n",
       "    <tr>\n",
       "      <th>1</th>\n",
       "      <td>green</td>\n",
       "      <td>medium</td>\n",
       "      <td>metal</td>\n",
       "    </tr>\n",
       "    <tr>\n",
       "      <th>2</th>\n",
       "      <td>blue</td>\n",
       "      <td>large</td>\n",
       "      <td>plastic</td>\n",
       "    </tr>\n",
       "  </tbody>\n",
       "</table>\n",
       "</div>"
      ],
      "text/plain": [
       "   Color    Size Material\n",
       "0    red   small     wood\n",
       "1  green  medium    metal\n",
       "2   blue   large  plastic"
      ]
     },
     "execution_count": 12,
     "metadata": {},
     "output_type": "execute_result"
    }
   ],
   "source": [
    "df = pd.DataFrame({'Color' : ['red', 'green', 'blue'], 'Size' : ['small', 'medium','large'],\n",
    "                   'Material' : ['wood', 'metal', 'plastic']})\n",
    "df"
   ]
  },
  {
   "cell_type": "code",
   "execution_count": 13,
   "id": "3c694599-1c9d-4f4c-9d48-a548ac62be75",
   "metadata": {},
   "outputs": [],
   "source": [
    "encoder = LabelEncoder()"
   ]
  },
  {
   "cell_type": "code",
   "execution_count": 15,
   "id": "67e5c828-bc40-40e8-8926-c9376f5ce38d",
   "metadata": {},
   "outputs": [
    {
     "data": {
      "text/plain": [
       "array([2, 1, 0])"
      ]
     },
     "execution_count": 15,
     "metadata": {},
     "output_type": "execute_result"
    }
   ],
   "source": [
    "color_encoded = encoder.fit_transform(df['Color'])\n",
    "color_encoded"
   ]
  },
  {
   "cell_type": "code",
   "execution_count": 16,
   "id": "3b171395-97b5-4e86-ae4a-ce8ac5a8a2ca",
   "metadata": {},
   "outputs": [
    {
     "data": {
      "text/plain": [
       "array([2, 1, 0])"
      ]
     },
     "execution_count": 16,
     "metadata": {},
     "output_type": "execute_result"
    }
   ],
   "source": [
    "size_encoded = encoder.fit_transform(df['Size'])\n",
    "size_encoded"
   ]
  },
  {
   "cell_type": "code",
   "execution_count": 17,
   "id": "70ec5c37-c8d3-490a-b2a3-1d3badd57d22",
   "metadata": {},
   "outputs": [
    {
     "data": {
      "text/plain": [
       "array([2, 0, 1])"
      ]
     },
     "execution_count": 17,
     "metadata": {},
     "output_type": "execute_result"
    }
   ],
   "source": [
    "material_encoded = encoder.fit_transform(df['Material'])\n",
    "material_encoded"
   ]
  },
  {
   "cell_type": "code",
   "execution_count": 18,
   "id": "fdde60fa-6daf-466a-ae11-a523deca9290",
   "metadata": {},
   "outputs": [
    {
     "data": {
      "text/html": [
       "<div>\n",
       "<style scoped>\n",
       "    .dataframe tbody tr th:only-of-type {\n",
       "        vertical-align: middle;\n",
       "    }\n",
       "\n",
       "    .dataframe tbody tr th {\n",
       "        vertical-align: top;\n",
       "    }\n",
       "\n",
       "    .dataframe thead th {\n",
       "        text-align: right;\n",
       "    }\n",
       "</style>\n",
       "<table border=\"1\" class=\"dataframe\">\n",
       "  <thead>\n",
       "    <tr style=\"text-align: right;\">\n",
       "      <th></th>\n",
       "      <th>Color_Enc</th>\n",
       "      <th>Size_Enc</th>\n",
       "      <th>Material_Enc</th>\n",
       "    </tr>\n",
       "  </thead>\n",
       "  <tbody>\n",
       "    <tr>\n",
       "      <th>0</th>\n",
       "      <td>2</td>\n",
       "      <td>2</td>\n",
       "      <td>2</td>\n",
       "    </tr>\n",
       "    <tr>\n",
       "      <th>1</th>\n",
       "      <td>1</td>\n",
       "      <td>1</td>\n",
       "      <td>0</td>\n",
       "    </tr>\n",
       "    <tr>\n",
       "      <th>2</th>\n",
       "      <td>0</td>\n",
       "      <td>0</td>\n",
       "      <td>1</td>\n",
       "    </tr>\n",
       "  </tbody>\n",
       "</table>\n",
       "</div>"
      ],
      "text/plain": [
       "   Color_Enc  Size_Enc  Material_Enc\n",
       "0          2         2             2\n",
       "1          1         1             0\n",
       "2          0         0             1"
      ]
     },
     "execution_count": 18,
     "metadata": {},
     "output_type": "execute_result"
    }
   ],
   "source": [
    "df_encoded = pd.DataFrame({'Color_Enc': list(color_encoded),'Size_Enc': list(size_encoded),\n",
    "                           'Material_Enc': list(material_encoded)})\n",
    "df_encoded"
   ]
  },
  {
   "cell_type": "code",
   "execution_count": 21,
   "id": "ee8ee3ac-8fba-4536-89af-04b510738a40",
   "metadata": {},
   "outputs": [
    {
     "data": {
      "text/html": [
       "<div>\n",
       "<style scoped>\n",
       "    .dataframe tbody tr th:only-of-type {\n",
       "        vertical-align: middle;\n",
       "    }\n",
       "\n",
       "    .dataframe tbody tr th {\n",
       "        vertical-align: top;\n",
       "    }\n",
       "\n",
       "    .dataframe thead th {\n",
       "        text-align: right;\n",
       "    }\n",
       "</style>\n",
       "<table border=\"1\" class=\"dataframe\">\n",
       "  <thead>\n",
       "    <tr style=\"text-align: right;\">\n",
       "      <th></th>\n",
       "      <th>Color</th>\n",
       "      <th>Size</th>\n",
       "      <th>Material</th>\n",
       "      <th>Color_Enc</th>\n",
       "      <th>Size_Enc</th>\n",
       "      <th>Material_Enc</th>\n",
       "    </tr>\n",
       "  </thead>\n",
       "  <tbody>\n",
       "    <tr>\n",
       "      <th>0</th>\n",
       "      <td>red</td>\n",
       "      <td>small</td>\n",
       "      <td>wood</td>\n",
       "      <td>2</td>\n",
       "      <td>2</td>\n",
       "      <td>2</td>\n",
       "    </tr>\n",
       "    <tr>\n",
       "      <th>1</th>\n",
       "      <td>green</td>\n",
       "      <td>medium</td>\n",
       "      <td>metal</td>\n",
       "      <td>1</td>\n",
       "      <td>1</td>\n",
       "      <td>0</td>\n",
       "    </tr>\n",
       "    <tr>\n",
       "      <th>2</th>\n",
       "      <td>blue</td>\n",
       "      <td>large</td>\n",
       "      <td>plastic</td>\n",
       "      <td>0</td>\n",
       "      <td>0</td>\n",
       "      <td>1</td>\n",
       "    </tr>\n",
       "  </tbody>\n",
       "</table>\n",
       "</div>"
      ],
      "text/plain": [
       "   Color    Size Material  Color_Enc  Size_Enc  Material_Enc\n",
       "0    red   small     wood          2         2             2\n",
       "1  green  medium    metal          1         1             0\n",
       "2   blue   large  plastic          0         0             1"
      ]
     },
     "execution_count": 21,
     "metadata": {},
     "output_type": "execute_result"
    }
   ],
   "source": [
    "final_df = pd.concat([df, df_encoded], axis = 1)\n",
    "final_df"
   ]
  },
  {
   "cell_type": "code",
   "execution_count": null,
   "id": "a6280cb7-09da-4e0f-81ce-84aa59a44105",
   "metadata": {},
   "outputs": [],
   "source": [
    "Q5. Calculate the covariance matrix for the following variables in a dataset: Age, Income, and Education\n",
    "level. Interpret the results."
   ]
  },
  {
   "cell_type": "code",
   "execution_count": 23,
   "id": "02cc27b4-45b4-4ad2-a36b-6860e958d3a4",
   "metadata": {},
   "outputs": [],
   "source": [
    "import pandas as pd"
   ]
  },
  {
   "cell_type": "code",
   "execution_count": 28,
   "id": "ad14359e-35aa-4d38-9b1c-b42c30df365a",
   "metadata": {},
   "outputs": [
    {
     "data": {
      "text/html": [
       "<div>\n",
       "<style scoped>\n",
       "    .dataframe tbody tr th:only-of-type {\n",
       "        vertical-align: middle;\n",
       "    }\n",
       "\n",
       "    .dataframe tbody tr th {\n",
       "        vertical-align: top;\n",
       "    }\n",
       "\n",
       "    .dataframe thead th {\n",
       "        text-align: right;\n",
       "    }\n",
       "</style>\n",
       "<table border=\"1\" class=\"dataframe\">\n",
       "  <thead>\n",
       "    <tr style=\"text-align: right;\">\n",
       "      <th></th>\n",
       "      <th>Age</th>\n",
       "      <th>Income</th>\n",
       "      <th>Education</th>\n",
       "    </tr>\n",
       "  </thead>\n",
       "  <tbody>\n",
       "    <tr>\n",
       "      <th>0</th>\n",
       "      <td>30</td>\n",
       "      <td>50000</td>\n",
       "      <td>diploma</td>\n",
       "    </tr>\n",
       "    <tr>\n",
       "      <th>1</th>\n",
       "      <td>36</td>\n",
       "      <td>55000</td>\n",
       "      <td>graduate</td>\n",
       "    </tr>\n",
       "    <tr>\n",
       "      <th>2</th>\n",
       "      <td>38</td>\n",
       "      <td>60000</td>\n",
       "      <td>masters</td>\n",
       "    </tr>\n",
       "    <tr>\n",
       "      <th>3</th>\n",
       "      <td>32</td>\n",
       "      <td>70000</td>\n",
       "      <td>phd</td>\n",
       "    </tr>\n",
       "  </tbody>\n",
       "</table>\n",
       "</div>"
      ],
      "text/plain": [
       "   Age  Income Education\n",
       "0   30   50000   diploma\n",
       "1   36   55000  graduate\n",
       "2   38   60000   masters\n",
       "3   32   70000       phd"
      ]
     },
     "execution_count": 28,
     "metadata": {},
     "output_type": "execute_result"
    }
   ],
   "source": [
    "#creating dataframe\n",
    "df = pd.DataFrame({'Age':[30,36,38,32], 'Income':[50000, 55000, 60000, 70000],\n",
    "                 'Education':['diploma','graduate','masters','phd']})\n",
    "df"
   ]
  },
  {
   "cell_type": "code",
   "execution_count": 31,
   "id": "9efe19f2-bd7d-4a1b-8aa3-49a9be876735",
   "metadata": {},
   "outputs": [
    {
     "name": "stderr",
     "output_type": "stream",
     "text": [
      "/tmp/ipykernel_92/2098098332.py:1: FutureWarning: The default value of numeric_only in DataFrame.cov is deprecated. In a future version, it will default to False. Select only valid columns or specify the value of numeric_only to silence this warning.\n",
      "  df_matrix = df.cov()\n"
     ]
    },
    {
     "data": {
      "text/html": [
       "<div>\n",
       "<style scoped>\n",
       "    .dataframe tbody tr th:only-of-type {\n",
       "        vertical-align: middle;\n",
       "    }\n",
       "\n",
       "    .dataframe tbody tr th {\n",
       "        vertical-align: top;\n",
       "    }\n",
       "\n",
       "    .dataframe thead th {\n",
       "        text-align: right;\n",
       "    }\n",
       "</style>\n",
       "<table border=\"1\" class=\"dataframe\">\n",
       "  <thead>\n",
       "    <tr style=\"text-align: right;\">\n",
       "      <th></th>\n",
       "      <th>Age</th>\n",
       "      <th>Income</th>\n",
       "    </tr>\n",
       "  </thead>\n",
       "  <tbody>\n",
       "    <tr>\n",
       "      <th>Age</th>\n",
       "      <td>13.333333</td>\n",
       "      <td>3.333333e+03</td>\n",
       "    </tr>\n",
       "    <tr>\n",
       "      <th>Income</th>\n",
       "      <td>3333.333333</td>\n",
       "      <td>7.291667e+07</td>\n",
       "    </tr>\n",
       "  </tbody>\n",
       "</table>\n",
       "</div>"
      ],
      "text/plain": [
       "                Age        Income\n",
       "Age       13.333333  3.333333e+03\n",
       "Income  3333.333333  7.291667e+07"
      ]
     },
     "execution_count": 31,
     "metadata": {},
     "output_type": "execute_result"
    }
   ],
   "source": [
    "df_matrix = df.cov()\n",
    "df_matrix"
   ]
  },
  {
   "cell_type": "code",
   "execution_count": 32,
   "id": "656e61d8-e121-4307-8bba-2efe4b17100d",
   "metadata": {},
   "outputs": [],
   "source": [
    "# importing ordinal encoder\n",
    "\n",
    "from sklearn.preprocessing import OrdinalEncoder"
   ]
  },
  {
   "cell_type": "code",
   "execution_count": 33,
   "id": "20977863-2039-46f4-b392-e652384f4c2c",
   "metadata": {},
   "outputs": [],
   "source": [
    "# creating instance\n",
    "\n",
    "ord_encoder = OrdinalEncoder(categories = [['diploma','graduate','masters','phd']])"
   ]
  },
  {
   "cell_type": "code",
   "execution_count": 37,
   "id": "af7b4c63-3d1f-4742-b7b6-615c0197bdab",
   "metadata": {},
   "outputs": [],
   "source": [
    "# fitting and transforming data\n",
    "\n",
    "ord_encoded = ord_encoder.fit_transform(df[['Education']])"
   ]
  },
  {
   "cell_type": "code",
   "execution_count": 38,
   "id": "3269ac58-e620-4242-9c76-bfd836d54774",
   "metadata": {},
   "outputs": [],
   "source": [
    "df_ord_encoded = pd.DataFrame(ord_encoded)"
   ]
  },
  {
   "cell_type": "code",
   "execution_count": 39,
   "id": "c56d1d51-e262-411e-9f0f-d4654bb98257",
   "metadata": {},
   "outputs": [],
   "source": [
    "df_ord_encoded.columns = ['Ordinal Encoded Education']"
   ]
  },
  {
   "cell_type": "code",
   "execution_count": 40,
   "id": "e4f55787-0f79-4867-ac2e-e34223956a13",
   "metadata": {},
   "outputs": [
    {
     "data": {
      "text/html": [
       "<div>\n",
       "<style scoped>\n",
       "    .dataframe tbody tr th:only-of-type {\n",
       "        vertical-align: middle;\n",
       "    }\n",
       "\n",
       "    .dataframe tbody tr th {\n",
       "        vertical-align: top;\n",
       "    }\n",
       "\n",
       "    .dataframe thead th {\n",
       "        text-align: right;\n",
       "    }\n",
       "</style>\n",
       "<table border=\"1\" class=\"dataframe\">\n",
       "  <thead>\n",
       "    <tr style=\"text-align: right;\">\n",
       "      <th></th>\n",
       "      <th>Ordinal Encoded Education</th>\n",
       "    </tr>\n",
       "  </thead>\n",
       "  <tbody>\n",
       "    <tr>\n",
       "      <th>0</th>\n",
       "      <td>0.0</td>\n",
       "    </tr>\n",
       "    <tr>\n",
       "      <th>1</th>\n",
       "      <td>1.0</td>\n",
       "    </tr>\n",
       "    <tr>\n",
       "      <th>2</th>\n",
       "      <td>2.0</td>\n",
       "    </tr>\n",
       "    <tr>\n",
       "      <th>3</th>\n",
       "      <td>3.0</td>\n",
       "    </tr>\n",
       "  </tbody>\n",
       "</table>\n",
       "</div>"
      ],
      "text/plain": [
       "   Ordinal Encoded Education\n",
       "0                        0.0\n",
       "1                        1.0\n",
       "2                        2.0\n",
       "3                        3.0"
      ]
     },
     "execution_count": 40,
     "metadata": {},
     "output_type": "execute_result"
    }
   ],
   "source": [
    "df_ord_encoded"
   ]
  },
  {
   "cell_type": "code",
   "execution_count": 41,
   "id": "a9644264-ade6-448a-a5a1-1874038e357d",
   "metadata": {},
   "outputs": [],
   "source": [
    "final_df = pd.concat([df, df_ord_encoded], axis=1)"
   ]
  },
  {
   "cell_type": "code",
   "execution_count": 42,
   "id": "0df14945-47b1-4bcb-a513-841764881356",
   "metadata": {},
   "outputs": [
    {
     "data": {
      "text/html": [
       "<div>\n",
       "<style scoped>\n",
       "    .dataframe tbody tr th:only-of-type {\n",
       "        vertical-align: middle;\n",
       "    }\n",
       "\n",
       "    .dataframe tbody tr th {\n",
       "        vertical-align: top;\n",
       "    }\n",
       "\n",
       "    .dataframe thead th {\n",
       "        text-align: right;\n",
       "    }\n",
       "</style>\n",
       "<table border=\"1\" class=\"dataframe\">\n",
       "  <thead>\n",
       "    <tr style=\"text-align: right;\">\n",
       "      <th></th>\n",
       "      <th>Age</th>\n",
       "      <th>Income</th>\n",
       "      <th>Education</th>\n",
       "      <th>Ordinal Encoded Education</th>\n",
       "    </tr>\n",
       "  </thead>\n",
       "  <tbody>\n",
       "    <tr>\n",
       "      <th>0</th>\n",
       "      <td>30</td>\n",
       "      <td>50000</td>\n",
       "      <td>diploma</td>\n",
       "      <td>0.0</td>\n",
       "    </tr>\n",
       "    <tr>\n",
       "      <th>1</th>\n",
       "      <td>36</td>\n",
       "      <td>55000</td>\n",
       "      <td>graduate</td>\n",
       "      <td>1.0</td>\n",
       "    </tr>\n",
       "    <tr>\n",
       "      <th>2</th>\n",
       "      <td>38</td>\n",
       "      <td>60000</td>\n",
       "      <td>masters</td>\n",
       "      <td>2.0</td>\n",
       "    </tr>\n",
       "    <tr>\n",
       "      <th>3</th>\n",
       "      <td>32</td>\n",
       "      <td>70000</td>\n",
       "      <td>phd</td>\n",
       "      <td>3.0</td>\n",
       "    </tr>\n",
       "  </tbody>\n",
       "</table>\n",
       "</div>"
      ],
      "text/plain": [
       "   Age  Income Education  Ordinal Encoded Education\n",
       "0   30   50000   diploma                        0.0\n",
       "1   36   55000  graduate                        1.0\n",
       "2   38   60000   masters                        2.0\n",
       "3   32   70000       phd                        3.0"
      ]
     },
     "execution_count": 42,
     "metadata": {},
     "output_type": "execute_result"
    }
   ],
   "source": [
    "final_df"
   ]
  },
  {
   "cell_type": "code",
   "execution_count": 45,
   "id": "31769e87-e894-474a-8cb8-a44e9029c396",
   "metadata": {},
   "outputs": [
    {
     "name": "stderr",
     "output_type": "stream",
     "text": [
      "/tmp/ipykernel_92/2790656087.py:1: FutureWarning: The default value of numeric_only in DataFrame.cov is deprecated. In a future version, it will default to False. Select only valid columns or specify the value of numeric_only to silence this warning.\n",
      "  final_df.cov()\n"
     ]
    },
    {
     "data": {
      "text/html": [
       "<div>\n",
       "<style scoped>\n",
       "    .dataframe tbody tr th:only-of-type {\n",
       "        vertical-align: middle;\n",
       "    }\n",
       "\n",
       "    .dataframe tbody tr th {\n",
       "        vertical-align: top;\n",
       "    }\n",
       "\n",
       "    .dataframe thead th {\n",
       "        text-align: right;\n",
       "    }\n",
       "</style>\n",
       "<table border=\"1\" class=\"dataframe\">\n",
       "  <thead>\n",
       "    <tr style=\"text-align: right;\">\n",
       "      <th></th>\n",
       "      <th>Age</th>\n",
       "      <th>Income</th>\n",
       "      <th>Ordinal Encoded Education</th>\n",
       "    </tr>\n",
       "  </thead>\n",
       "  <tbody>\n",
       "    <tr>\n",
       "      <th>Age</th>\n",
       "      <td>13.333333</td>\n",
       "      <td>3.333333e+03</td>\n",
       "      <td>1.333333</td>\n",
       "    </tr>\n",
       "    <tr>\n",
       "      <th>Income</th>\n",
       "      <td>3333.333333</td>\n",
       "      <td>7.291667e+07</td>\n",
       "      <td>10833.333333</td>\n",
       "    </tr>\n",
       "    <tr>\n",
       "      <th>Ordinal Encoded Education</th>\n",
       "      <td>1.333333</td>\n",
       "      <td>1.083333e+04</td>\n",
       "      <td>1.666667</td>\n",
       "    </tr>\n",
       "  </tbody>\n",
       "</table>\n",
       "</div>"
      ],
      "text/plain": [
       "                                   Age        Income  \\\n",
       "Age                          13.333333  3.333333e+03   \n",
       "Income                     3333.333333  7.291667e+07   \n",
       "Ordinal Encoded Education     1.333333  1.083333e+04   \n",
       "\n",
       "                           Ordinal Encoded Education  \n",
       "Age                                         1.333333  \n",
       "Income                                  10833.333333  \n",
       "Ordinal Encoded Education                   1.666667  "
      ]
     },
     "execution_count": 45,
     "metadata": {},
     "output_type": "execute_result"
    }
   ],
   "source": [
    "final_df.cov()"
   ]
  },
  {
   "cell_type": "code",
   "execution_count": null,
   "id": "aa92ff50-4ad6-448a-8425-0afbc5b627da",
   "metadata": {},
   "outputs": [],
   "source": [
    "Interpretation of the results:\n",
    "    The covariance between age and income is 3.33, indicating that there is a positive relationship between these two \n",
    "    variables. This means that as age increases, income tends to increase as well. The covariance between age and education \n",
    "    level is 1.33, indicating a weak positive relationship. This means that as age increases, education level tends to \n",
    "    increase slightly. The covariance between income and education level is 10833.33, indicating a weak positive relationship\n",
    "    . This means that as income increases, education level tends to increase slightly."
   ]
  },
  {
   "cell_type": "code",
   "execution_count": null,
   "id": "e78861d3-8046-4ce7-a151-52ff5efaabf4",
   "metadata": {},
   "outputs": [],
   "source": [
    "Q6. You are working on a machine learning project with a dataset containing several categorical\n",
    "variables, including \"Gender\" (Male/Female), \"Education Level\" (High School/Bachelor's/Master's/PhD),\n",
    "and \"Employment Status\" (Unemployed/Part-Time/Full-Time). Which encoding method would you use for\n",
    "each variable, and why?\n",
    "\n",
    "Ans - \n",
    "\n",
    "    For the \"Gender\" variable, I would use Label Encoding, as there are only two categories, Male and Female, and there is \n",
    "    no order or rank between the categories.\n",
    "\n",
    "    For the \"Education Level\" variable, I would use Ordinal Encoding, as rank or order matters between the categories, with \n",
    "    a higher education level being \"better\" than a lower education level. I would assign an ordinal value to each category \n",
    "    based on its level of education, with High School being the lowest and PhD being the highest.\n",
    "\n",
    "    For the \"Employment Status\" variable, I would use One-Hot Encoding, as there are three categories, and there is no \n",
    "    inherent order or hierarchy between the categories. One-Hot Encoding creates a binary variable for each category, \n",
    "    with a value of 1 if the observation belongs to that category, and a value of 0 otherwise. This approach ensures that \n",
    "    there is no implied ranking or order between the categories."
   ]
  },
  {
   "cell_type": "code",
   "execution_count": null,
   "id": "1a6fb5d1-3820-4c6c-8b39-6e2537e5953c",
   "metadata": {},
   "outputs": [],
   "source": [
    "Q7. You are analyzing a dataset with two continuous variables, \"Temperature\" and \"Humidity\", and two\n",
    "categorical variables, \"Weather Condition\" (Sunny/Cloudy/Rainy) and \"Wind Direction\" (North/South/\n",
    "East/West). Calculate the covariance between each pair of variables and interpret the results."
   ]
  },
  {
   "cell_type": "code",
   "execution_count": 12,
   "id": "2f5a0da5-699d-4847-b75f-3a41ebbe0627",
   "metadata": {},
   "outputs": [
    {
     "data": {
      "text/html": [
       "<div>\n",
       "<style scoped>\n",
       "    .dataframe tbody tr th:only-of-type {\n",
       "        vertical-align: middle;\n",
       "    }\n",
       "\n",
       "    .dataframe tbody tr th {\n",
       "        vertical-align: top;\n",
       "    }\n",
       "\n",
       "    .dataframe thead th {\n",
       "        text-align: right;\n",
       "    }\n",
       "</style>\n",
       "<table border=\"1\" class=\"dataframe\">\n",
       "  <thead>\n",
       "    <tr style=\"text-align: right;\">\n",
       "      <th></th>\n",
       "      <th>Temperature</th>\n",
       "      <th>Humidity</th>\n",
       "      <th>Weather Condition</th>\n",
       "      <th>Wind Direction</th>\n",
       "    </tr>\n",
       "  </thead>\n",
       "  <tbody>\n",
       "    <tr>\n",
       "      <th>0</th>\n",
       "      <td>40</td>\n",
       "      <td>60</td>\n",
       "      <td>Sunny</td>\n",
       "      <td>North</td>\n",
       "    </tr>\n",
       "    <tr>\n",
       "      <th>1</th>\n",
       "      <td>22</td>\n",
       "      <td>85</td>\n",
       "      <td>Cloudy</td>\n",
       "      <td>South</td>\n",
       "    </tr>\n",
       "    <tr>\n",
       "      <th>2</th>\n",
       "      <td>25</td>\n",
       "      <td>40</td>\n",
       "      <td>Rainy</td>\n",
       "      <td>East</td>\n",
       "    </tr>\n",
       "    <tr>\n",
       "      <th>3</th>\n",
       "      <td>45</td>\n",
       "      <td>56</td>\n",
       "      <td>Sunny</td>\n",
       "      <td>South</td>\n",
       "    </tr>\n",
       "    <tr>\n",
       "      <th>4</th>\n",
       "      <td>36</td>\n",
       "      <td>22</td>\n",
       "      <td>Cloudy</td>\n",
       "      <td>West</td>\n",
       "    </tr>\n",
       "  </tbody>\n",
       "</table>\n",
       "</div>"
      ],
      "text/plain": [
       "   Temperature  Humidity Weather Condition Wind Direction\n",
       "0           40        60             Sunny          North\n",
       "1           22        85            Cloudy          South\n",
       "2           25        40             Rainy           East\n",
       "3           45        56             Sunny          South\n",
       "4           36        22            Cloudy           West"
      ]
     },
     "execution_count": 12,
     "metadata": {},
     "output_type": "execute_result"
    }
   ],
   "source": [
    "import pandas as pd\n",
    "\n",
    "df = pd.DataFrame({\n",
    "    'Temperature': [40,22,25,45,36],\n",
    "    'Humidity': [60,85,40,56,22],\n",
    "    'Weather Condition': ['Sunny', 'Cloudy', 'Rainy','Sunny', 'Cloudy'],\n",
    "    'Wind Direction': ['North', 'South', 'East','South', 'West']\n",
    "})\n",
    "\n",
    "df.head()"
   ]
  },
  {
   "cell_type": "code",
   "execution_count": null,
   "id": "ff3f6fee-672b-4ec1-8bc3-5c4596b637f0",
   "metadata": {},
   "outputs": [],
   "source": []
  },
  {
   "cell_type": "code",
   "execution_count": 13,
   "id": "f83e77c2-9715-433f-9f5b-10e604925cd2",
   "metadata": {},
   "outputs": [
    {
     "data": {
      "text/html": [
       "<div>\n",
       "<style scoped>\n",
       "    .dataframe tbody tr th:only-of-type {\n",
       "        vertical-align: middle;\n",
       "    }\n",
       "\n",
       "    .dataframe tbody tr th {\n",
       "        vertical-align: top;\n",
       "    }\n",
       "\n",
       "    .dataframe thead th {\n",
       "        text-align: right;\n",
       "    }\n",
       "</style>\n",
       "<table border=\"1\" class=\"dataframe\">\n",
       "  <thead>\n",
       "    <tr style=\"text-align: right;\">\n",
       "      <th></th>\n",
       "      <th>Temperature</th>\n",
       "      <th>Humidity</th>\n",
       "      <th>Weather Cond Encoded</th>\n",
       "      <th>Wind Dir Encoded</th>\n",
       "    </tr>\n",
       "  </thead>\n",
       "  <tbody>\n",
       "    <tr>\n",
       "      <th>0</th>\n",
       "      <td>40</td>\n",
       "      <td>60</td>\n",
       "      <td>2</td>\n",
       "      <td>1</td>\n",
       "    </tr>\n",
       "    <tr>\n",
       "      <th>1</th>\n",
       "      <td>22</td>\n",
       "      <td>85</td>\n",
       "      <td>0</td>\n",
       "      <td>2</td>\n",
       "    </tr>\n",
       "    <tr>\n",
       "      <th>2</th>\n",
       "      <td>25</td>\n",
       "      <td>40</td>\n",
       "      <td>1</td>\n",
       "      <td>0</td>\n",
       "    </tr>\n",
       "    <tr>\n",
       "      <th>3</th>\n",
       "      <td>45</td>\n",
       "      <td>56</td>\n",
       "      <td>2</td>\n",
       "      <td>2</td>\n",
       "    </tr>\n",
       "    <tr>\n",
       "      <th>4</th>\n",
       "      <td>36</td>\n",
       "      <td>22</td>\n",
       "      <td>0</td>\n",
       "      <td>3</td>\n",
       "    </tr>\n",
       "  </tbody>\n",
       "</table>\n",
       "</div>"
      ],
      "text/plain": [
       "   Temperature  Humidity  Weather Cond Encoded  Wind Dir Encoded\n",
       "0           40        60                     2                 1\n",
       "1           22        85                     0                 2\n",
       "2           25        40                     1                 0\n",
       "3           45        56                     2                 2\n",
       "4           36        22                     0                 3"
      ]
     },
     "execution_count": 13,
     "metadata": {},
     "output_type": "execute_result"
    }
   ],
   "source": [
    "from sklearn.preprocessing import LabelEncoder\n",
    "encoder = LabelEncoder()\n",
    "\n",
    "weather_encoded = encoder.fit_transform(df['Weather Condition'])\n",
    "wind_encoded = encoder.fit_transform(df['Wind Direction'])\n",
    "\n",
    "list(weather_encoded)\n",
    "\n",
    "df_encoded = pd.DataFrame({\n",
    "    'Weather Cond Encoded': list(weather_encoded),\n",
    "    'Wind Dir Encoded': list(wind_encoded)\n",
    "})\n",
    "\n",
    "df_new = pd.concat([df, df_encoded], axis=1)\n",
    "df_new = df_new.drop('Weather Condition', axis=1)\n",
    "df_new = df_new.drop('Wind Direction', axis=1)\n",
    "\n",
    "df_new"
   ]
  },
  {
   "cell_type": "code",
   "execution_count": 14,
   "id": "5a0c3519-e6f5-4489-b3a5-7491ace7d289",
   "metadata": {},
   "outputs": [
    {
     "name": "stdout",
     "output_type": "stream",
     "text": [
      "Covariance between Temperature and Humidity: -63.700000\n",
      "Covariance between Weather Condition and Wind Direction: -0.500000\n"
     ]
    }
   ],
   "source": [
    "#covariance between Temperature and Humidity\n",
    "cov_1 = df_new['Temperature'].cov(df_new['Humidity'])\n",
    "\n",
    "#covariance between Weather Condition and Wind Direction\n",
    "cov_2 = df_new['Weather Cond Encoded'].cov(df_new['Wind Dir Encoded'])\n",
    "\n",
    "print(f\"Covariance between Temperature and Humidity: {cov_1:1f}\")\n",
    "print(f\"Covariance between Weather Condition and Wind Direction: {cov_2:1f}\")"
   ]
  },
  {
   "cell_type": "markdown",
   "id": "8d49357b-5941-45d1-b91d-222a370afec5",
   "metadata": {},
   "source": [
    "In the given results, we have:\n",
    "\n",
    "Covariance between Temperature and Humidity: -63.7 The negative value indicates that as temperature increases, humidity tends to decrease and vice versa. This may suggest an inverse relationship between temperature and humidity. For example, on a hot day, humidity is likely to be low.\n",
    "\n",
    "Covariance between Weather Condition and Wind Direction: -0.5 Again, the negative value indicates an inverse relationship, but the small magnitude suggests that the two variables are not strongly related. This covariance result may indicate that changes in wind direction do not have a significant impact on weather conditions or vice versa."
   ]
  },
  {
   "cell_type": "code",
   "execution_count": null,
   "id": "c9bc8d6a-582c-499d-9280-5c722a63899d",
   "metadata": {},
   "outputs": [],
   "source": []
  }
 ],
 "metadata": {
  "kernelspec": {
   "display_name": "Python 3 (ipykernel)",
   "language": "python",
   "name": "python3"
  },
  "language_info": {
   "codemirror_mode": {
    "name": "ipython",
    "version": 3
   },
   "file_extension": ".py",
   "mimetype": "text/x-python",
   "name": "python",
   "nbconvert_exporter": "python",
   "pygments_lexer": "ipython3",
   "version": "3.10.8"
  }
 },
 "nbformat": 4,
 "nbformat_minor": 5
}
