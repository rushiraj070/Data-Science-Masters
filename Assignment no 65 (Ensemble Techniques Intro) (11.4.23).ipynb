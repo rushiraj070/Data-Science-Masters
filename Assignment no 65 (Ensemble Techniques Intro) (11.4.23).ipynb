{
 "cells": [
  {
   "cell_type": "markdown",
   "id": "70a67ed7-a098-45d2-b76c-02290cdda893",
   "metadata": {},
   "source": [
    "# Assignment no 65 (Ensemble Techniques Intro) (11.4.23)"
   ]
  },
  {
   "cell_type": "markdown",
   "id": "fa9cda9d-c29f-46c8-b3b6-188b463292b7",
   "metadata": {
    "tags": []
   },
   "source": [
    "#### Q1. What is an ensemble technique in machine learning?\n",
    "\n",
    "**Ans** - An ensemble technique in machine learning is a method that combines multiple models to improve their overall performance. \n",
    "\n",
    "There are three main classes of ensemble learning methods: \n",
    "\n",
    "**1. bagging**\n",
    "\n",
    "**2. stacking**\n",
    "\n",
    "**3. boosting**. \n",
    "    \n",
    "The main principle of ensemble methods is to combine weak and strong learners to form strong and versatile learners. Ensemble methods can be used for both classification and regression problems."
   ]
  },
  {
   "cell_type": "raw",
   "id": "d95bcf6c-3502-4131-999e-73b72c67b551",
   "metadata": {},
   "source": [
    "Source: Conversation with Bing, 19/7/2023\n",
    "(1) Using Ensemble Methods to Boost Model Accuracy. https://www.linkedin.com/pulse/using-ensemble-methods-boost-model-accuracy-rajat-chaudhary.\n",
    "(2) A Gentle Introduction to Ensemble Learning Algorithms. https://machinelearningmastery.com/tour-of-ensemble-learning-algorithms/.\n",
    "(3) Basic Ensemble Techniques in Machine Learning - Analytics Vidhya. https://www.analyticsvidhya.com/blog/2021/03/basic-ensemble-technique-in-machine-learning/.\n",
    "(4) Ensemble Techniques | Learn 2 Major Types of Ensembles Techniques - EDUCBA. https://www.educba.com/ensemble-techniques/.\n",
    "(5) Ensemble Learning Methods in Machine Learning - Medium. https://medium.com/analytics-vidhya/ensemble-learning-methods-in-machine-learning-5d2f849192f8.\n",
    "(6) Ensemble Learning | Ensemble Techniques - Analytics Vidhya. https://www.analyticsvidhya.com/blog/2018/06/comprehensive-guide-for-ensemble-models/."
   ]
  },
  {
   "cell_type": "markdown",
   "id": "f80c054c-4571-4e2c-bf23-bb836c1cf662",
   "metadata": {},
   "source": [
    "#### Q2. Why are ensemble techniques used in machine learning?\n",
    "\n",
    "**Ans -** Ensemble techniques are used in machine learning to:\n",
    "1. Improve the overall performance of models by combining multiple models. \n",
    "2. They are popular and the go-to technique when the best performance on a predictive modeling project is the most important outcome. \n",
    "3. Ensembles offer two specific benefits on a predictive modeling project: reducing the spread in the average skill of a predictive model and improving the average prediction performance over any contributing member in the ensemble. \n",
    "4. The mechanism for improved performance with ensembles is often the reduction in the variance component of prediction errors made by the contributing models."
   ]
  },
  {
   "cell_type": "raw",
   "id": "76e464d2-9583-4662-9c40-fb5fb6b63b2b",
   "metadata": {},
   "source": [
    "Source: Conversation with Bing, 19/7/2023\n",
    "(1) Using Ensemble Methods to Boost Model Accuracy. https://www.linkedin.com/pulse/using-ensemble-methods-boost-model-accuracy-rajat-chaudhary.\n",
    "(2) Why Use Ensemble Learning? - MachineLearningMastery.com. https://machinelearningmastery.com/why-use-ensemble-learning/.\n",
    "(3) Basic Ensemble Techniques in Machine Learning - Analytics Vidhya. https://www.analyticsvidhya.com/blog/2021/03/basic-ensemble-technique-in-machine-learning/.\n",
    "(4) Ensemble Learning Methods in Machine Learning - Medium. https://medium.com/analytics-vidhya/ensemble-learning-methods-in-machine-learning-5d2f849192f8.\n",
    "(5) Ensemble Methods in Machine Learning | Toptal®. https://www.toptal.com/machine-learning/ensemble-methods-machine-learning.\n",
    "(6) Ensemble Learning | Ensemble Techniques - Analytics Vidhya. https://www.analyticsvidhya.com/blog/2018/06/comprehensive-guide-for-ensemble-models/."
   ]
  },
  {
   "cell_type": "markdown",
   "id": "984b4eba-6a47-484c-a35a-1202fb59be83",
   "metadata": {},
   "source": [
    "#### Q3. What is bagging?\n",
    "\n",
    "**Ans-** Bagging, also known as **Bootstrap aggregating**, is an ensemble learning technique that helps to:\n",
    "- Improve the performance and accuracy of machine learning algorithms*. \n",
    "- It is used to deal with bias-variance trade-offs and reduces the variance of a prediction model. \n",
    "- Bagging avoids overfitting of data and is used for both regression and classification models, specifically for decision tree algorithms."
   ]
  },
  {
   "cell_type": "raw",
   "id": "b017a30c-75dc-479d-ab7f-ebb6e28a127f",
   "metadata": {},
   "source": [
    "Source: Conversation with Bing, 20/7/2023\n",
    "(1) What is Bagging in Machine Learning And How to Perform Bagging. https://www.simplilearn.com/tutorials/machine-learning-tutorial/bagging-in-machine-learning.\n",
    "(2) Ensemble Methods in Machine Learning: Bagging Versus Boosting. https://www.pluralsight.com/guides/ensemble-methods:-bagging-versus-boosting.\n",
    "(3) Bagging vs Boosting - Javatpoint. https://www.javatpoint.com/bagging-vs-boosting."
   ]
  },
  {
   "cell_type": "markdown",
   "id": "0aee3f96-c3b2-4de1-aa53-77b1b48ca739",
   "metadata": {
    "tags": []
   },
   "source": [
    "#### Q4. What is boosting?\n",
    "\n",
    "**Ans-** Boosting is an **ensemble learning technique** that combines a set of weak learners into a strong learner to minimize training errors. In boosting, a random sample of data is selected, fitted with a model and then trained sequentially—that is, each model tries to compensate for the weaknesses of its predecessor. With each iteration, the weak rules from each individual classifier are combined to form one, strong prediction rule."
   ]
  },
  {
   "cell_type": "raw",
   "id": "179eb90c-d70a-4356-8ae8-3b64b1def6bc",
   "metadata": {},
   "source": [
    "Source: Conversation with Bing, 20/7/2023\n",
    "(1) What is Boosting? | IBM. https://www.ibm.com/topics/boosting.\n",
    "(2) Boosting in Machine Learning | Boosting and AdaBoost. https://www.geeksforgeeks.org/boosting-in-machine-learning-boosting-and-adaboost/.\n",
    "(3) Boosting (machine learning) - Wikipedia. https://en.wikipedia.org/wiki/Boosting_%28machine_learning%29.\n",
    "(4) A Beginners Guide To Boosting Machine Learning Algorithms - Edureka. https://www.edureka.co/blog/boosting-machine-learning/.\n",
    "(5) Boosting in Machine Learning - Medium. https://medium.com/nerd-for-tech/boosting-in-machine-learning-438312f8f4e1."
   ]
  },
  {
   "cell_type": "markdown",
   "id": "3403d628-196e-4fcf-9ca8-ee34ec2d835f",
   "metadata": {},
   "source": [
    "#### Q5. What are the benefits of using ensemble techniques?\n",
    "\n",
    "**Ans-** Ensemble techniques have two main advantages: \n",
    "1. **Performance**: An ensemble can make better predictions and achieve better performance than any single contributing model.\n",
    "2. **Robustness**: An ensemble reduces the spread or dispersion of the predictions and model performance. Ensemble methods are ideal for regression and classification, where they reduce bias and variance to boost the accuracy of models."
   ]
  },
  {
   "cell_type": "raw",
   "id": "018b3984-d393-4299-aa60-22804a4ffb98",
   "metadata": {},
   "source": [
    "Source: Conversation with Bing, 20/7/2023\n",
    "(1) Why Use Ensemble Learning? - MachineLearningMastery.com. https://machinelearningmastery.com/why-use-ensemble-learning/.\n",
    "(2) What are some of the main benefits of ensemble learning?. https://www.techopedia.com/what-are-some-of-the-main-benefits-of-ensemble-learning/7/33904.\n",
    "(3) Ensemble Models: What Are They and When Should You Use Them?. https://builtin.com/machine-learning/ensemble-model."
   ]
  },
  {
   "cell_type": "markdown",
   "id": "92da6582-4256-4a77-b71b-c1d1c33c348f",
   "metadata": {
    "tags": []
   },
   "source": [
    "#### Q6. Are ensemble techniques always better than individual models?\n",
    "\n",
    "**Ans-** \n",
    "- Ensemble techniques can often make better predictions and achieve better performance than any single contributing model, and they reduce the spread or dispersion of the predictions and model performance. Ensembles can create lower variance and lower bias, and create a deeper understanding of the data. \n",
    "- Ensembles are an efficient way to improve model accuracy and help to address complex challenges in machine learning such as class imbalance, concept drift, and the curse of dimensionality. However, there is no absolute guarantee that an ensemble model will always perform better than an individual model."
   ]
  },
  {
   "cell_type": "raw",
   "id": "8f0339bd-f30c-4088-b4a9-bf6d3215ffef",
   "metadata": {},
   "source": [
    "Source: Conversation with Bing, 20/7/2023\n",
    "(1) Why Use Ensemble Learning? - MachineLearningMastery.com. https://machinelearningmastery.com/why-use-ensemble-learning/.\n",
    "(2) How do ensemble methods outperform all their constituents?. https://stats.stackexchange.com/questions/255230/how-do-ensemble-methods-outperform-all-their-constituents.\n",
    "(3) Ensemble Models: What Are They and When Should You Use Them?. https://builtin.com/machine-learning/ensemble-model.\n",
    "(4) Are ensemble classifiers always better than single classifiers?. https://blogs.sas.com/content/sgf/2017/03/10/are-ensemble-classifiers-always-better-than-single-classifiers/."
   ]
  },
  {
   "cell_type": "markdown",
   "id": "f43a2a3f-5c96-4277-bcc0-fd926a85f56f",
   "metadata": {},
   "source": [
    "#### Q7. How is the confidence interval calculated using bootstrap?\n",
    "\n",
    "**Ans-** Bootstrap confidence interval (CI) is a method of inference about a population using sample data. It involves drawing samples with replacement from sample data and calculating the statistic of interest for each sample. The bootstrap CI is obtained by ordering the bootstrap estimates and taking the endpoints of the interval that covers the desired percentage of the estimates. Bootstrap CI can be used for statistics that have no closed-form or complicated solutions."
   ]
  },
  {
   "cell_type": "raw",
   "id": "0797bd34-ae7f-4fe5-86d1-51e09069ff54",
   "metadata": {},
   "source": [
    "Source: Conversation with Bing, 20/7/2023\n",
    "(1) Bootstrap Confidence Interval with R Programming - GeeksforGeeks. https://www.geeksforgeeks.org/bootstrap-confidence-interval-with-r-programming/.\n",
    "(2) Bootstrapping (statistics) - Wikipedia. https://en.wikipedia.org/wiki/Bootstrapping_%28statistics%29.\n",
    "(3) Lecture 24 Bootstrap confidence intervals - University of Wisconsin .... https://pages.stat.wisc.edu/~shao/stat710/stat710-24.pdf.\n",
    "(4) How to Calculate Bootstrap Confidence Intervals For Machine Learning .... https://machinelearningmastery.com/calculate-bootstrap-confidence-intervals-machine-learning-results-python/.\n",
    "(5) 2.9: Confidence intervals and bootstrapping - Statistics LibreTexts. https://stats.libretexts.org/Bookshelves/Advanced_Statistics/Intermediate_Statistics_with_R_%28Greenwood%29/02%3A_%28R%29e-Introduction_to_statistics/2.09%3A_Confidence_intervals_and_bootstrapping."
   ]
  },
  {
   "cell_type": "markdown",
   "id": "f42ac4ac-1511-4127-9e22-6fa434a2a4ae",
   "metadata": {},
   "source": [
    "#### Q8. How does bootstrap work and What are the steps involved in bootstrap?\n",
    "\n",
    "**Ans-** Bootstrap is a statistical method for estimating the sampling distribution of a statistic by resampling the original data with replacement. The basic idea behind bootstrap is to use the data of a sample study at hand as a “surrogate population”, for the purpose of approximating the sampling distribution of a statistic; i.e. to resample (with replacement) from the sample data, compute the statistic of interest on each resampled data set, and use these bootstrap estimates to estimate the sampling distribution of the statistic.\n",
    "\n",
    "Here are the steps involved in bootstrap:\n",
    "1. Choose a number of bootstrap samples to perform.\n",
    "2. Choose a sample size.\n",
    "3. For each bootstrap sample:\n",
    "    - Randomly select observations from the original data with replacement.\n",
    "    - Calculate the statistic of interest for the bootstrap sample.\n",
    "4. Calculate the mean of the calculated sample statistics.\n",
    "5. Use the bootstrap distribution to calculate confidence intervals or to estimate bias and standard errors."
   ]
  },
  {
   "cell_type": "markdown",
   "id": "8599b1e5-03c7-4f3f-9b20-bf5d9f8c7f39",
   "metadata": {},
   "source": [
    "#### Q9. A researcher wants to estimate the mean height of a population of trees. They measure the height of a sample of 50 trees and obtain a mean height of 15 meters and a standard deviation of 2 meters. Use bootstrap to estimate the 95% confidence interval for the population mean height.\n",
    "\n",
    "**Ans-** To estimate the 95% confidence interval for the population mean height using bootstrap, the researcher would need to perform the following steps:\n",
    "\n",
    "1. Choose a number of bootstrap samples to perform, say 1000.\n",
    "2. Choose a sample size equal to the size of the original sample, i.e. 50.\n",
    "3. For each bootstrap sample:\n",
    "    - Randomly select 50 observations from the original data with replacement.\n",
    "    - Calculate the mean height for the bootstrap sample.\n",
    "4. Order the calculated sample means and find the 2.5th and 97.5th percentiles. These percentiles serve as the endpoints of the 95% confidence interval for the population mean height."
   ]
  },
  {
   "cell_type": "markdown",
   "id": "b5647696-4f7a-4310-b5f5-263782718947",
   "metadata": {},
   "source": []
  },
  {
   "cell_type": "markdown",
   "id": "460ef9d6-5489-436c-bc14-01a80a82d785",
   "metadata": {},
   "source": []
  }
 ],
 "metadata": {
  "kernelspec": {
   "display_name": "Python 3 (ipykernel)",
   "language": "python",
   "name": "python3"
  },
  "language_info": {
   "codemirror_mode": {
    "name": "ipython",
    "version": 3
   },
   "file_extension": ".py",
   "mimetype": "text/x-python",
   "name": "python",
   "nbconvert_exporter": "python",
   "pygments_lexer": "ipython3",
   "version": "3.10.8"
  }
 },
 "nbformat": 4,
 "nbformat_minor": 5
}
